{
 "cells": [
  {
   "cell_type": "code",
   "execution_count": null,
   "metadata": {},
   "outputs": [],
   "source": [
    "timeline = "
   ]
  },
  {
   "cell_type": "markdown",
   "metadata": {},
   "source": [
    "### duffing master"
   ]
  },
  {
   "cell_type": "code",
   "execution_count": null,
   "metadata": {},
   "outputs": [],
   "source": []
  },
  {
   "cell_type": "code",
   "execution_count": null,
   "metadata": {},
   "outputs": [],
   "source": []
  },
  {
   "cell_type": "code",
   "execution_count": null,
   "metadata": {},
   "outputs": [],
   "source": []
  },
  {
   "cell_type": "code",
   "execution_count": null,
   "metadata": {},
   "outputs": [],
   "source": [
    "def slaveEvolution(master,zeta):\n",
    "    def slaving(slave,t):\n",
    "        stateA = master.loc[int(t/delTime-1)]\n",
    "        A = stateA[['x','y','z']].to_numpy()\n",
    "        dA = stateA[['dX','dY','dZ']].to_numpy()\n",
    "        dSlave =  dA + zeta(A,slave,t) + epsilon*chi(A,slave,t)\n",
    "        return dSlave\n",
    "    slave0 = zeros((3))\n",
    "    timeline = master['t'].to_numpy()\n",
    "    slave = odeint(slaving, slave0, timeline, rtol=1.49012e-6, atol=1.49012e-6)\n",
    "    slave = pandas.DataFrame(slave,columns=['x','y','z'])\n",
    "    return slave"
   ]
  },
  {
   "cell_type": "code",
   "execution_count": null,
   "metadata": {},
   "outputs": [],
   "source": [
    "slave_zeta = slaveEvolution(master,zetaInvar)\n",
    "slave_null = slaveEvolution(master,zetaNull)\n",
    "D = a0+a1*sin(w*master['t'])\n",
    "slave_truth = master[['x','y','z']] - expand_dims(D,axis=1)"
   ]
  },
  {
   "cell_type": "code",
   "execution_count": null,
   "metadata": {},
   "outputs": [],
   "source": [
    "master_trace = go.Scatter3d(name='master',x=master['x'],y=master['y'],z=master['z'],mode='lines')\n",
    "slave_zeta_trace = go.Scatter3d(name='slave_zeta',x=slave_zeta['x'],y=slave_zeta['y'],z=slave_zeta['z'],mode='lines')\n",
    "slave_null_trace = go.Scatter3d(name='slave_null',x=slave_null['x'],y=slave_null['y'],z=slave_null['z'],mode='lines')\n",
    "slave_truth_trace = go.Scatter3d(name='true',x=slave_truth['x'],y=slave_truth['y'],z=slave_truth['z'],mode='lines')\n",
    "py.iplot([master_trace,slave_zeta_trace,slave_null_trace,slave_truth_trace])"
   ]
  },
  {
   "cell_type": "code",
   "execution_count": null,
   "metadata": {},
   "outputs": [],
   "source": [
    "error_zeta = simulation.syncError(slave_truth[['x','y','z']].to_numpy(),slave_zeta[['x','y','z']].shift(0).to_numpy())\n",
    "error_null = simulation.syncError(slave_truth[['x','y','z']].to_numpy(),slave_null[['x','y','z']].shift(0).to_numpy())"
   ]
  },
  {
   "cell_type": "code",
   "execution_count": null,
   "metadata": {},
   "outputs": [],
   "source": [
    "print('error zeta:',dropna(error_zeta.sum(axis=1)).mean())\n",
    "print('error null:',dropna(error_null.sum(axis=1)).mean())"
   ]
  }
 ],
 "metadata": {
  "kernelspec": {
   "display_name": "Python 3",
   "language": "python",
   "name": "python3"
  },
  "language_info": {
   "codemirror_mode": {
    "name": "ipython",
    "version": 3
   },
   "file_extension": ".py",
   "mimetype": "text/x-python",
   "name": "python",
   "nbconvert_exporter": "python",
   "pygments_lexer": "ipython3",
   "version": "3.8.2"
  }
 },
 "nbformat": 4,
 "nbformat_minor": 4
}
