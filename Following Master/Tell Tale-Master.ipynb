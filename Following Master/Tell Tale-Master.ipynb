{
 "cells": [
  {
   "cell_type": "code",
   "execution_count": 1,
   "metadata": {},
   "outputs": [
    {
     "data": {
      "text/html": [
       "        <script type=\"text/javascript\">\n",
       "        window.PlotlyConfig = {MathJaxConfig: 'local'};\n",
       "        if (window.MathJax) {MathJax.Hub.Config({SVG: {font: \"STIX-Web\"}});}\n",
       "        if (typeof require !== 'undefined') {\n",
       "        require.undef(\"plotly\");\n",
       "        requirejs.config({\n",
       "            paths: {\n",
       "                'plotly': ['https://cdn.plot.ly/plotly-latest.min']\n",
       "            }\n",
       "        });\n",
       "        require(['plotly'], function(Plotly) {\n",
       "            window._Plotly = Plotly;\n",
       "        });\n",
       "        }\n",
       "        </script>\n",
       "        "
      ]
     },
     "metadata": {},
     "output_type": "display_data"
    }
   ],
   "source": [
    "import sys,importlib\n",
    "sys.path.append('../')\n",
    "import simulation\n",
    "from simulation import dropna\n",
    "from scipy.integrate import odeint\n",
    "from numpy import *\n",
    "import plotly.offline as py\n",
    "import plotly.graph_objs as go\n",
    "import pandas"
   ]
  },
  {
   "cell_type": "code",
   "execution_count": 2,
   "metadata": {},
   "outputs": [],
   "source": [
    "delTime = .001\n",
    "time = 40\n",
    "Timeline = arange(0.0,time,delTime)\n",
    "a0,a1 = 1.5,.2\n",
    "w = 1.3"
   ]
  },
  {
   "cell_type": "markdown",
   "metadata": {},
   "source": [
    "### duffing master"
   ]
  },
  {
   "cell_type": "code",
   "execution_count": 3,
   "metadata": {},
   "outputs": [],
   "source": [
    "alpha = 1\n",
    "delta = .25\n",
    "gamma = .3\n",
    "beta = -1\n",
    "omega = 1\n",
    "def dufffingOscillator(state,t):\n",
    "    x,y = state[0],state[1]\n",
    "    xdot = y\n",
    "    ydot = -alpha*(x**3) - beta* x - delta*y + gamma*cos(omega*t)\n",
    "    return asarray((xdot,ydot))"
   ]
  },
  {
   "cell_type": "code",
   "execution_count": 4,
   "metadata": {},
   "outputs": [],
   "source": [
    "dMaster = odeint(dufffingOscillator, [0,0], Timeline, rtol=1.49012e-6, atol=1.49012e-6)\n",
    "dMaster = pandas.DataFrame(dMaster,columns=['x','y'])\n",
    "dMaster['t'] = Timeline"
   ]
  },
  {
   "cell_type": "code",
   "execution_count": 5,
   "metadata": {},
   "outputs": [],
   "source": [
    "deltaTimeline = dMaster['t'].diff().fillna(delTime).shift(-1)\n",
    "dMaster['dX'] = dMaster['x'].diff().shift(-1)/deltaTimeline\n",
    "dMaster['dY'] = dMaster['y'].diff().shift(-1)/deltaTimeline\n",
    "dMaster = dMaster.fillna(method='ffill')"
   ]
  },
  {
   "cell_type": "markdown",
   "metadata": {},
   "source": [
    "## synchronisation coupling"
   ]
  },
  {
   "cell_type": "code",
   "execution_count": 6,
   "metadata": {},
   "outputs": [],
   "source": [
    "a0,a1,w = 3.5,2.5,1*pi\n",
    "epsilon = 1.5\n",
    "\n",
    "def zetaInvar(stateA,stateB,t):\n",
    "    return -asarray([w*a1*cos(w*t)]*len(stateA))\n",
    "def chi(stateA,stateB,t):\n",
    "    return stateA-stateB-a0-a1*sin(w*t)\n",
    "def zetaNull(stateA,stateB,t):\n",
    "    return asarray([0,0],dtype=float)"
   ]
  },
  {
   "cell_type": "markdown",
   "metadata": {},
   "source": [
    "### resampling"
   ]
  },
  {
   "cell_type": "code",
   "execution_count": 7,
   "metadata": {},
   "outputs": [],
   "source": [
    "deltaTime = .001\n",
    "master = dMaster.iloc[arange(0,len(dMaster),int(deltaTime/delTime))]"
   ]
  },
  {
   "cell_type": "code",
   "execution_count": 8,
   "metadata": {},
   "outputs": [],
   "source": [
    "timeline = master['t']"
   ]
  },
  {
   "cell_type": "markdown",
   "metadata": {},
   "source": [
    "## slave evolution"
   ]
  },
  {
   "cell_type": "code",
   "execution_count": 9,
   "metadata": {},
   "outputs": [],
   "source": [
    "funcX = lambda x,y,t : 0\n",
    "funcY = lambda x,y,t : -alpha*(x**2)"
   ]
  },
  {
   "cell_type": "code",
   "execution_count": null,
   "metadata": {},
   "outputs": [],
   "source": [
    "master.loc[:,'gX'] = master['dX'] - master.apply(lambda state:funcY(state['x'],state['y'],state['t']),axis=1)\n",
    "master.loc[:,'gY'] = master['dY'] - master.apply(lambda state:funcY(state['x'],state['y'],state['t']),axis=1)"
   ]
  },
  {
   "cell_type": "code",
   "execution_count": null,
   "metadata": {},
   "outputs": [],
   "source": [
    "def slaveEvolution(master,zeta):\n",
    "    def slaving(slave,t):\n",
    "        time_index = int(t/deltaTime)\n",
    "        stateA = master.iloc[time_index]\n",
    "        A = stateA[['x','y']].to_numpy()\n",
    "        gA = stateA[['gX','gY']].to_numpy()\n",
    "        \n",
    "        fA = [funcX(A[0],A[1],t),funcY(A[0],A[1],t)]\n",
    "        dA = gA + array(fA)\n",
    "        dSlave =  dA + zeta(A,slave,t) + epsilon*chi(A,slave,t)\n",
    "        return dSlave\n",
    "    slave0 = zeros((2))\n",
    "    timeline = master['t'].to_numpy()\n",
    "    slave = odeint(slaving, slave0, timeline, rtol=1.49012e-6, atol=1.49012e-6)\n",
    "    slave = pandas.DataFrame(slave,columns=['x','y'])\n",
    "    return slave"
   ]
  },
  {
   "cell_type": "code",
   "execution_count": null,
   "metadata": {},
   "outputs": [],
   "source": [
    "slave_zeta = slaveEvolution(master,zetaInvar)\n",
    "slave_null = slaveEvolution(master,zetaNull)\n",
    "D = a0+a1*sin(w*master['t'])\n",
    "slave_truth = master[['x','y']] - expand_dims(D,axis=1)"
   ]
  },
  {
   "cell_type": "code",
   "execution_count": null,
   "metadata": {},
   "outputs": [],
   "source": [
    "master_trace = go.Scatter(name='master',x=master['x'],y=master['y'],mode='lines')\n",
    "slave_zeta_trace = go.Scatter(name='slave_zeta',x=slave_zeta['x'],y=slave_zeta['y'],mode='lines')\n",
    "slave_null_trace = go.Scatter(name='slave_null',x=slave_null['x'],y=slave_null['y'],mode='lines')\n",
    "slave_truth_trace = go.Scatter(name='true',x=slave_truth['x'],y=slave_truth['y'],mode='lines')\n",
    "py.iplot([master_trace,slave_zeta_trace,slave_null_trace,slave_truth_trace])"
   ]
  },
  {
   "cell_type": "code",
   "execution_count": null,
   "metadata": {},
   "outputs": [],
   "source": [
    "error_zeta = simulation.syncError(slave_truth[['x','y']].to_numpy(),slave_zeta[['x','y']].shift(0).to_numpy())\n",
    "error_null = simulation.syncError(slave_truth[['x','y']].to_numpy(),slave_null[['x','y']].shift(0).to_numpy())"
   ]
  },
  {
   "cell_type": "code",
   "execution_count": null,
   "metadata": {},
   "outputs": [],
   "source": [
    "print('error zeta:',dropna(error_zeta.sum(axis=1)).mean())\n",
    "print('error null:',dropna(error_null.sum(axis=1)).mean())"
   ]
  },
  {
   "cell_type": "markdown",
   "metadata": {},
   "source": [
    "-------------------"
   ]
  }
 ],
 "metadata": {
  "kernelspec": {
   "display_name": "Python 3",
   "language": "python",
   "name": "python3"
  },
  "language_info": {
   "codemirror_mode": {
    "name": "ipython",
    "version": 3
   },
   "file_extension": ".py",
   "mimetype": "text/x-python",
   "name": "python",
   "nbconvert_exporter": "python",
   "pygments_lexer": "ipython3",
   "version": "3.8.2"
  }
 },
 "nbformat": 4,
 "nbformat_minor": 4
}
