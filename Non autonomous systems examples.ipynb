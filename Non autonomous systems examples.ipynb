{
 "cells": [
  {
   "cell_type": "markdown",
   "metadata": {},
   "source": [
    "**Examples from biology:**\n",
    "\n",
    "* taken from: https://www.springer.com/gp/book/9783319030791\n",
    "\n",
    "    1. Bacterial growth\n",
    "    2. Epidemiology\n",
    "    3. Tumour drug treatment\n",
    "    4. Pharmacodynamics\n",
    "\n",
    "\n",
    "* elsewhere:\n",
    "\n",
    "    * Bonhoeffer-van der Pol: theoretical model of the nerve membrane\n",
    "    https://www.ncbi.nlm.nih.gov/pmc/articles/PMC1366333/pdf/biophysj00662-0010.pdf\n",
    "\n",
    "\n",
    "\n"
   ]
  },
  {
   "cell_type": "markdown",
   "metadata": {},
   "source": [
    "**1. Bacterial growth**\n",
    "\n",
    "references:\n",
    "   * https://www.sciencedirect.com/science/article/abs/pii/S0740002083710051\n",
    "\n"
   ]
  },
  {
   "cell_type": "markdown",
   "metadata": {},
   "source": [
    "### SEIR\n",
    "**2. Epidemiology**\n",
    "\n",
    "references: \n",
    "   * https://pubmed.ncbi.nlm.nih.gov/10924938/\n",
    "   * https://www.jstor.org/stable/pdf/119275.pdf?seq=1\n",
    "   * https://www.tandfonline.com/doi/full/10.1080/17513750601174216\n",
    "   * https://www.sciencedirect.com/science/article/pii/S0025556499000309\n"
   ]
  },
  {
   "cell_type": "markdown",
   "metadata": {},
   "source": [
    "**3. Tumour drug treatment**\n",
    "\n",
    "references:\n",
    "   * https://www.sciencedirect.com/science/article/pii/S0092824088800612\n",
    "   * https://cancerres.aacrjournals.org/content/59/19/4770.full-text.pdf\n",
    "   * https://www.sciencedirect.com/science/article/pii/S0895717700003162\n",
    "    "
   ]
  },
  {
   "cell_type": "markdown",
   "metadata": {},
   "source": [
    "**4. Pharmacodynamics**\n",
    "\n",
    "references:\n",
    "   * https://www.tandfonline.com/doi/abs/10.1080/10273660601122773?scroll=top&needAccess=true&journalCode=gthm20 #\n",
    "   * http://www.aimsciences.org/article/doi/10.3934/dcdsb.2007.8.127 #\n",
    "   \n",
    "couldn't access full articles\n"
   ]
  },
  {
   "cell_type": "markdown",
   "metadata": {},
   "source": [
    "**Non-autonomous chaotic systems**\n",
    "\n",
    "* Duffing oscillator\n",
    "\n",
    "#### PC duffing\n",
    "* Circuits that are periodically forced\n",
    "\n",
    "   * https://ieeexplore.ieee.org/abstract/document/246166?casa_token=jBd7cRjEF2IAAAAA:_GQMcIX7mIlF3ZmW63zLLAqOo454_GIjQ4tcMkEUg5kxdaqvBh3KRs9raSSl5R7GfeLFneMvNsQM\n",
    "   \n",
    "* Periodically forced Lorenz system\n",
    "https://journals.aps.org/pre/pdf/10.1103/PhysRevE.52.3558\n",
    "\n",
    "#### Harmonic Spring Pendulum\n",
    "* Harmonically excited spring-pendulum system\n",
    "https://link.springer.com/content/pdf/10.1023/A:1008256920441.pdf\n",
    "\n",
    "\n",
    "\n"
   ]
  },
  {
   "cell_type": "code",
   "execution_count": null,
   "metadata": {},
   "outputs": [],
   "source": []
  }
 ],
 "metadata": {
  "kernelspec": {
   "display_name": "Python 3",
   "language": "python",
   "name": "python3"
  },
  "language_info": {
   "codemirror_mode": {
    "name": "ipython",
    "version": 3
   },
   "file_extension": ".py",
   "mimetype": "text/x-python",
   "name": "python",
   "nbconvert_exporter": "python",
   "pygments_lexer": "ipython3",
   "version": "3.8.2"
  }
 },
 "nbformat": 4,
 "nbformat_minor": 4
}
