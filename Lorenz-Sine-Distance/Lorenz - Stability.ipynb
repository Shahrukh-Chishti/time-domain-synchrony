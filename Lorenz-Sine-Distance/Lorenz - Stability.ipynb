{
 "metadata": {
  "language_info": {
   "codemirror_mode": {
    "name": "ipython",
    "version": 3
   },
   "file_extension": ".py",
   "mimetype": "text/x-python",
   "name": "python",
   "nbconvert_exporter": "python",
   "pygments_lexer": "ipython3",
   "version": "3.8.3-final"
  },
  "orig_nbformat": 2,
  "kernelspec": {
   "name": "python_defaultSpec_1598504683130",
   "display_name": "Python 3.8.3 64-bit ('base': conda)"
  }
 },
 "nbformat": 4,
 "nbformat_minor": 2,
 "cells": [
  {
   "cell_type": "code",
   "execution_count": 2,
   "metadata": {},
   "outputs": [],
   "source": [
    "import sys,importlib\n",
    "sys.path.append('../')\n",
    "import simulation\n",
    "from numpy import *\n",
    "from sympy import *\n",
    "import plotly.offline as py\n",
    "import plotly.graph_objs as go\n",
    "%matplotlib inline\n",
    "init_printing()"
   ]
  },
  {
   "cell_type": "code",
   "execution_count": 3,
   "metadata": {},
   "outputs": [],
   "source": [
    "Variables=symbols(\"x1 y1 z1 x2 y2 z2\")\n",
    "x1,y1,z1,x2,y2,z2 = Variables\n",
    "Time=symbols(\"t\")\n",
    "t=Time\n",
    "Parameters = symbols(\"sigma beta rho  w a0 a1 omega\")\n",
    "sigma,beta,rho,w,a0,a1,omega = Parameters"
   ]
  },
  {
   "cell_type": "markdown",
   "metadata": {},
   "source": [
    "### Lorenz System"
   ]
  },
  {
   "cell_type": "code",
   "execution_count": 4,
   "metadata": {},
   "outputs": [
    {
     "output_type": "execute_result",
     "data": {
      "text/plain": "⎡  σ⋅(-x₁ + y₁)  ⎤\n⎢                ⎥\n⎢x₁⋅(ρ - z₁) - y₁⎥\n⎢                ⎥\n⎢ -β⋅z₁ + x₁⋅y₁  ⎥\n⎢                ⎥\n⎢  σ⋅(-x₂ + y₂)  ⎥\n⎢                ⎥\n⎢x₂⋅(ρ - z₂) - y₂⎥\n⎢                ⎥\n⎣ -β⋅z₂ + x₂⋅y₂  ⎦",
      "text/latex": "$\\displaystyle \\left[\\begin{matrix}\\sigma \\left(- x_{1} + y_{1}\\right)\\\\x_{1} \\left(\\rho - z_{1}\\right) - y_{1}\\\\- \\beta z_{1} + x_{1} y_{1}\\\\\\sigma \\left(- x_{2} + y_{2}\\right)\\\\x_{2} \\left(\\rho - z_{2}\\right) - y_{2}\\\\- \\beta z_{2} + x_{2} y_{2}\\end{matrix}\\right]$"
     },
     "metadata": {},
     "execution_count": 4
    }
   ],
   "source": [
    "F=Matrix([sigma*(y1-x1),x1*(rho-z1)-y1,x1*y1-beta*z1,\n",
    "          sigma*(y2-x2),x2*(rho-z2)-y2,x2*y2-beta*z2])\n",
    "F"
   ]
  },
  {
   "cell_type": "code",
   "execution_count": 5,
   "metadata": {},
   "outputs": [
    {
     "output_type": "execute_result",
     "data": {
      "text/plain": "⎡0⎤\n⎢ ⎥\n⎢0⎥\n⎢ ⎥\n⎢0⎥\n⎢ ⎥\n⎢0⎥\n⎢ ⎥\n⎢0⎥\n⎢ ⎥\n⎣0⎦",
      "text/latex": "$\\displaystyle \\left[\\begin{matrix}0\\\\0\\\\0\\\\0\\\\0\\\\0\\end{matrix}\\right]$"
     },
     "metadata": {},
     "execution_count": 5
    }
   ],
   "source": [
    "zeta=Matrix([0,0,0,\n",
    "             0,0,0])\n",
    "\n",
    "zeta"
   ]
  },
  {
   "cell_type": "markdown",
   "metadata": {},
   "source": [
    "### Synchrony"
   ]
  },
  {
   "cell_type": "code",
   "execution_count": 6,
   "metadata": {},
   "outputs": [
    {
     "output_type": "execute_result",
     "data": {
      "text/plain": "⎡-a₀ - a₁⋅sin(t⋅w) - x₁ + x₂⎤\n⎢                           ⎥\n⎢         -y₁ + y₂          ⎥\n⎢                           ⎥\n⎣         -z₁ + z₂          ⎦",
      "text/latex": "$\\displaystyle \\left[\\begin{matrix}- a_{0} - a_{1} \\sin{\\left(t w \\right)} - x_{1} + x_{2}\\\\- y_{1} + y_{2}\\\\- z_{1} + z_{2}\\end{matrix}\\right]$"
     },
     "metadata": {},
     "execution_count": 6
    }
   ],
   "source": [
    "phi=Matrix([(x2-x1-(a0 + a1*sin(w*t))), y2-y1, z2-z1])\n",
    "phi"
   ]
  },
  {
   "cell_type": "code",
   "execution_count": 7,
   "metadata": {},
   "outputs": [
    {
     "output_type": "execute_result",
     "data": {
      "text/plain": "⎡-1  0   0   1  0  0⎤\n⎢                   ⎥\n⎢0   -1  0   0  1  0⎥\n⎢                   ⎥\n⎣0   0   -1  0  0  1⎦",
      "text/latex": "$\\displaystyle \\left[\\begin{matrix}-1 & 0 & 0 & 1 & 0 & 0\\\\0 & -1 & 0 & 0 & 1 & 0\\\\0 & 0 & -1 & 0 & 0 & 1\\end{matrix}\\right]$"
     },
     "metadata": {},
     "execution_count": 7
    }
   ],
   "source": [
    "N=simulation.VectorDivergence(phi,Variables)\n",
    "N"
   ]
  },
  {
   "cell_type": "code",
   "execution_count": 8,
   "metadata": {},
   "outputs": [],
   "source": [
    "on_manifold = [(x2,x1+(a0 + a1*sin(w*t))),(y2,y1),(z2,z1)]\n"
   ]
  },
  {
   "cell_type": "markdown",
   "metadata": {},
   "source": [
    "### Invariance"
   ]
  },
  {
   "cell_type": "code",
   "execution_count": 9,
   "metadata": {},
   "outputs": [
    {
     "output_type": "execute_result",
     "data": {
      "text/plain": "⎡    -σ⋅(-x₁ + y₁) + σ⋅(-x₂ + y₂)    ⎤\n⎢                                    ⎥\n⎢-x₁⋅(ρ - z₁) + x₂⋅(ρ - z₂) + y₁ - y₂⎥\n⎢                                    ⎥\n⎣    β⋅z₁ - β⋅z₂ - x₁⋅y₁ + x₂⋅y₂     ⎦",
      "text/latex": "$\\displaystyle \\left[\\begin{matrix}- \\sigma \\left(- x_{1} + y_{1}\\right) + \\sigma \\left(- x_{2} + y_{2}\\right)\\\\- x_{1} \\left(\\rho - z_{1}\\right) + x_{2} \\left(\\rho - z_{2}\\right) + y_{1} - y_{2}\\\\\\beta z_{1} - \\beta z_{2} - x_{1} y_{1} + x_{2} y_{2}\\end{matrix}\\right]$"
     },
     "metadata": {},
     "execution_count": 9
    }
   ],
   "source": [
    "NF=N*(F+zeta)\n",
    "NF"
   ]
  },
  {
   "cell_type": "code",
   "execution_count": 10,
   "metadata": {},
   "outputs": [
    {
     "output_type": "execute_result",
     "data": {
      "text/plain": "⎡-a₁⋅w⋅cos(t⋅w)⎤\n⎢              ⎥\n⎢      0       ⎥\n⎢              ⎥\n⎣      0       ⎦",
      "text/latex": "$\\displaystyle \\left[\\begin{matrix}- a_{1} w \\cos{\\left(t w \\right)}\\\\0\\\\0\\end{matrix}\\right]$"
     },
     "metadata": {},
     "execution_count": 10
    }
   ],
   "source": [
    "dPhi=diff(phi,Time)\n",
    "dPhi"
   ]
  },
  {
   "cell_type": "code",
   "execution_count": 11,
   "metadata": {},
   "outputs": [
    {
     "output_type": "execute_result",
     "data": {
      "text/plain": "⎡-a₁⋅w⋅cos(t⋅w) + σ⋅(x₁ - y₁) - σ⋅(x₂ - y₂)⎤\n⎢                                          ⎥\n⎢   -x₁⋅(ρ - z₁) + x₂⋅(ρ - z₂) + y₁ - y₂   ⎥\n⎢                                          ⎥\n⎣       β⋅z₁ - β⋅z₂ - x₁⋅y₁ + x₂⋅y₂        ⎦",
      "text/latex": "$\\displaystyle \\left[\\begin{matrix}- a_{1} w \\cos{\\left(t w \\right)} + \\sigma \\left(x_{1} - y_{1}\\right) - \\sigma \\left(x_{2} - y_{2}\\right)\\\\- x_{1} \\left(\\rho - z_{1}\\right) + x_{2} \\left(\\rho - z_{2}\\right) + y_{1} - y_{2}\\\\\\beta z_{1} - \\beta z_{2} - x_{1} y_{1} + x_{2} y_{2}\\end{matrix}\\right]$"
     },
     "metadata": {},
     "execution_count": 11
    }
   ],
   "source": [
    "eqn=(NF+dPhi)\n",
    "simplify(eqn)"
   ]
  },
  {
   "cell_type": "code",
   "execution_count": 12,
   "metadata": {},
   "outputs": [
    {
     "output_type": "execute_result",
     "data": {
      "text/plain": "⎡                    0                    ⎤\n⎢                                         ⎥\n⎢                    0                    ⎥\n⎢                                         ⎥\n⎢                    0                    ⎥\n⎢                                         ⎥\n⎢a₁⋅w⋅cos(t⋅w) - σ⋅(x₁ - y₁) + σ⋅(x₂ - y₂)⎥\n⎢                                         ⎥\n⎢   x₁⋅(ρ - z₁) - x₂⋅(ρ - z₂) - y₁ + y₂   ⎥\n⎢                                         ⎥\n⎣      -β⋅z₁ + β⋅z₂ + x₁⋅y₁ - x₂⋅y₂       ⎦",
      "text/latex": "$\\displaystyle \\left[\\begin{matrix}0\\\\0\\\\0\\\\a_{1} w \\cos{\\left(t w \\right)} - \\sigma \\left(x_{1} - y_{1}\\right) + \\sigma \\left(x_{2} - y_{2}\\right)\\\\x_{1} \\left(\\rho - z_{1}\\right) - x_{2} \\left(\\rho - z_{2}\\right) - y_{1} + y_{2}\\\\- \\beta z_{1} + \\beta z_{2} + x_{1} y_{1} - x_{2} y_{2}\\end{matrix}\\right]$"
     },
     "metadata": {},
     "execution_count": 12
    }
   ],
   "source": [
    "zeta[3]=-(eqn)[0]\n",
    "zeta[4]=-(eqn)[1]\n",
    "zeta[5]=-(eqn)[2]\n",
    "simplify(zeta)"
   ]
  },
  {
   "cell_type": "code",
   "execution_count": 13,
   "metadata": {},
   "outputs": [
    {
     "output_type": "execute_result",
     "data": {
      "text/plain": "⎡                              0                               ⎤\n⎢                                                              ⎥\n⎢                              0                               ⎥\n⎢                                                              ⎥\n⎢                              0                               ⎥\n⎢                                                              ⎥\n⎢a₁⋅w⋅cos(t⋅w) + σ⋅(-x₁ + y₁) - σ⋅(-a₀ - a₁⋅sin(t⋅w) - x₁ + y₁)⎥\n⎢                                                              ⎥\n⎢        x₁⋅(ρ - z₁) - (ρ - z₁)⋅(a₀ + a₁⋅sin(t⋅w) + x₁)        ⎥\n⎢                                                              ⎥\n⎣              x₁⋅y₁ - y₁⋅(a₀ + a₁⋅sin(t⋅w) + x₁)              ⎦",
      "text/latex": "$\\displaystyle \\left[\\begin{matrix}0\\\\0\\\\0\\\\a_{1} w \\cos{\\left(t w \\right)} + \\sigma \\left(- x_{1} + y_{1}\\right) - \\sigma \\left(- a_{0} - a_{1} \\sin{\\left(t w \\right)} - x_{1} + y_{1}\\right)\\\\x_{1} \\left(\\rho - z_{1}\\right) - \\left(\\rho - z_{1}\\right) \\left(a_{0} + a_{1} \\sin{\\left(t w \\right)} + x_{1}\\right)\\\\x_{1} y_{1} - y_{1} \\left(a_{0} + a_{1} \\sin{\\left(t w \\right)} + x_{1}\\right)\\end{matrix}\\right]$"
     },
     "metadata": {},
     "execution_count": 13
    }
   ],
   "source": [
    "zeta=zeta.subs(on_manifold)\n",
    "#zeta = simplify(zeta)\n",
    "zeta"
   ]
  },
  {
   "cell_type": "code",
   "execution_count": 14,
   "metadata": {},
   "outputs": [
    {
     "output_type": "execute_result",
     "data": {
      "text/plain": "⎡                                 0                                  ⎤\n⎢                                                                    ⎥\n⎢(-ρ + z₁)⋅(a₀ + a₁⋅sin(t⋅w) + x₁) + (ρ - z₁)⋅(a₀ + a₁⋅sin(t⋅w) + x₁)⎥\n⎢                                                                    ⎥\n⎣                                 0                                  ⎦",
      "text/latex": "$\\displaystyle \\left[\\begin{matrix}0\\\\\\left(- \\rho + z_{1}\\right) \\left(a_{0} + a_{1} \\sin{\\left(t w \\right)} + x_{1}\\right) + \\left(\\rho - z_{1}\\right) \\left(a_{0} + a_{1} \\sin{\\left(t w \\right)} + x_{1}\\right)\\\\0\\end{matrix}\\right]$"
     },
     "metadata": {},
     "execution_count": 14
    }
   ],
   "source": [
    "NF=N*(F+zeta)\n",
    "simplify(NF)\n",
    "simplify(NF+dPhi).subs(on_manifold)"
   ]
  },
  {
   "cell_type": "code",
   "execution_count": 15,
   "metadata": {},
   "outputs": [
    {
     "output_type": "execute_result",
     "data": {
      "text/plain": "⎡a₁⋅w⋅cos(t⋅w) + σ⋅(-x₁ + y₁) - σ⋅(-a₀ - a₁⋅sin(t⋅w) - x₁ + y₁)⎤\n⎢                                                              ⎥\n⎢        x₁⋅(ρ - z₁) - (ρ - z₁)⋅(a₀ + a₁⋅sin(t⋅w) + x₁)        ⎥\n⎢                                                              ⎥\n⎣              x₁⋅y₁ - y₁⋅(a₀ + a₁⋅sin(t⋅w) + x₁)              ⎦",
      "text/latex": "$\\displaystyle \\left[\\begin{matrix}a_{1} w \\cos{\\left(t w \\right)} + \\sigma \\left(- x_{1} + y_{1}\\right) - \\sigma \\left(- a_{0} - a_{1} \\sin{\\left(t w \\right)} - x_{1} + y_{1}\\right)\\\\x_{1} \\left(\\rho - z_{1}\\right) - \\left(\\rho - z_{1}\\right) \\left(a_{0} + a_{1} \\sin{\\left(t w \\right)} + x_{1}\\right)\\\\x_{1} y_{1} - y_{1} \\left(a_{0} + a_{1} \\sin{\\left(t w \\right)} + x_{1}\\right)\\end{matrix}\\right]$"
     },
     "metadata": {},
     "execution_count": 15
    }
   ],
   "source": [
    "NZ=N*zeta\n",
    "NZ"
   ]
  },
  {
   "cell_type": "markdown",
   "metadata": {},
   "source": [
    "### Stability"
   ]
  },
  {
   "cell_type": "code",
   "execution_count": 445,
   "metadata": {},
   "outputs": [
    {
     "output_type": "execute_result",
     "data": {
      "text/plain": "⎡                   0                   ⎤\n⎢                                       ⎥\n⎢                   0                   ⎥\n⎢                                       ⎥\n⎢                   0                   ⎥\n⎢                                       ⎥\n⎢             -σ⋅(-y₁ + y₂)             ⎥\n⎢                                       ⎥\n⎢(-ρ + z₁)⋅(-a₀ - a₁⋅sin(t⋅w) - x₁ + x₂)⎥\n⎢                                       ⎥\n⎣             β⋅(-z₁ + z₂)              ⎦",
      "text/latex": "$\\displaystyle \\left[\\begin{matrix}0\\\\0\\\\0\\\\- \\sigma \\left(- y_{1} + y_{2}\\right)\\\\\\left(- \\rho + z_{1}\\right) \\left(- a_{0} - a_{1} \\sin{\\left(t w \\right)} - x_{1} + x_{2}\\right)\\\\\\beta \\left(- z_{1} + z_{2}\\right)\\end{matrix}\\right]$"
     },
     "metadata": {},
     "execution_count": 445
    }
   ],
   "source": [
    "chi=Matrix([0,0,0,\n",
    "            #-sigma*(y2-y1),-(rho-z1)*(x2-x1-(a0+a1*sin(w*t))),beta*(z2-z1)])\n",
    "            -sigma*(y2-y1),-(rho-z1)*((x2-x1-(a0+a1*sin(w*t)))),beta*(z2-z1)])\n",
    "\n",
    "\n",
    "chi"
   ]
  },
  {
   "cell_type": "code",
   "execution_count": 446,
   "metadata": {},
   "outputs": [
    {
     "output_type": "execute_result",
     "data": {
      "text/plain": "⎡0          0                 0          0  0  0⎤\n⎢                                               ⎥\n⎢0          0                 0          0  0  0⎥\n⎢                                               ⎥\n⎢0          0                 0          0  0  0⎥\n⎢                                               ⎥\n⎢0          0                 0          0  0  0⎥\n⎢                                               ⎥\n⎢0          0          a₀ + a₁⋅sin(t⋅w)  0  0  0⎥\n⎢                                               ⎥\n⎣0  -a₀ - a₁⋅sin(t⋅w)         0          0  0  0⎦",
      "text/latex": "$\\displaystyle \\left[\\begin{matrix}0 & 0 & 0 & 0 & 0 & 0\\\\0 & 0 & 0 & 0 & 0 & 0\\\\0 & 0 & 0 & 0 & 0 & 0\\\\0 & 0 & 0 & 0 & 0 & 0\\\\0 & 0 & a_{0} + a_{1} \\sin{\\left(t w \\right)} & 0 & 0 & 0\\\\0 & - a_{0} - a_{1} \\sin{\\left(t w \\right)} & 0 & 0 & 0 & 0\\end{matrix}\\right]$"
     },
     "metadata": {},
     "execution_count": 446
    }
   ],
   "source": [
    "del_zeta=simulation.VectorDivergence(zeta,Variables)\n",
    "del_zeta"
   ]
  },
  {
   "cell_type": "code",
   "execution_count": 447,
   "metadata": {},
   "outputs": [
    {
     "output_type": "execute_result",
     "data": {
      "text/plain": "⎡  0     0               0                  0     0   0⎤\n⎢                                                      ⎥\n⎢  0     0               0                  0     0   0⎥\n⎢                                                      ⎥\n⎢  0     0               0                  0     0   0⎥\n⎢                                                      ⎥\n⎢  0     σ               0                  0     -σ  0⎥\n⎢                                                      ⎥\n⎢ρ - z₁  0  -a₀ - a₁⋅sin(t⋅w) - x₁ + x₂  -ρ + z₁  0   0⎥\n⎢                                                      ⎥\n⎣  0     0              -β                  0     0   β⎦",
      "text/latex": "$\\displaystyle \\left[\\begin{matrix}0 & 0 & 0 & 0 & 0 & 0\\\\0 & 0 & 0 & 0 & 0 & 0\\\\0 & 0 & 0 & 0 & 0 & 0\\\\0 & \\sigma & 0 & 0 & - \\sigma & 0\\\\\\rho - z_{1} & 0 & - a_{0} - a_{1} \\sin{\\left(t w \\right)} - x_{1} + x_{2} & - \\rho + z_{1} & 0 & 0\\\\0 & 0 & - \\beta & 0 & 0 & \\beta\\end{matrix}\\right]$"
     },
     "metadata": {},
     "execution_count": 447
    }
   ],
   "source": [
    "del_chi=simulation.VectorDivergence(chi,Variables)\n",
    "del_chi"
   ]
  },
  {
   "cell_type": "code",
   "execution_count": 448,
   "metadata": {},
   "outputs": [
    {
     "output_type": "execute_result",
     "data": {
      "text/plain": "⎡  -σ    σ    0     0     0    0 ⎤\n⎢                                ⎥\n⎢ρ - z₁  -1  -x₁    0     0    0 ⎥\n⎢                                ⎥\n⎢  y₁    x₁  -β     0     0    0 ⎥\n⎢                                ⎥\n⎢  0     0    0     -σ    σ    0 ⎥\n⎢                                ⎥\n⎢  0     0    0   ρ - z₂  -1  -x₂⎥\n⎢                                ⎥\n⎣  0     0    0     y₂    x₂  -β ⎦",
      "text/latex": "$\\displaystyle \\left[\\begin{matrix}- \\sigma & \\sigma & 0 & 0 & 0 & 0\\\\\\rho - z_{1} & -1 & - x_{1} & 0 & 0 & 0\\\\y_{1} & x_{1} & - \\beta & 0 & 0 & 0\\\\0 & 0 & 0 & - \\sigma & \\sigma & 0\\\\0 & 0 & 0 & \\rho - z_{2} & -1 & - x_{2}\\\\0 & 0 & 0 & y_{2} & x_{2} & - \\beta\\end{matrix}\\right]$"
     },
     "metadata": {},
     "execution_count": 448
    }
   ],
   "source": [
    "del_F=simulation.VectorDivergence(F,Variables)\n",
    "del_F"
   ]
  },
  {
   "cell_type": "code",
   "execution_count": 449,
   "metadata": {},
   "outputs": [
    {
     "output_type": "execute_result",
     "data": {
      "text/plain": "⎡  -σ            σ             0         0     0    0 ⎤\n⎢                                                     ⎥\n⎢ρ - z₁         -1            -x₁        0     0    0 ⎥\n⎢                                                     ⎥\n⎢  y₁           x₁             -β        0     0    0 ⎥\n⎢                                                     ⎥\n⎢  0             σ             0        -σ     0    0 ⎥\n⎢                                                     ⎥\n⎢ρ - z₁          0          -x₁ + x₂  z₁ - z₂  -1  -x₂⎥\n⎢                                                     ⎥\n⎣  0     -a₀ - a₁⋅sin(t⋅w)     -β       y₂     x₂   0 ⎦",
      "text/latex": "$\\displaystyle \\left[\\begin{matrix}- \\sigma & \\sigma & 0 & 0 & 0 & 0\\\\\\rho - z_{1} & -1 & - x_{1} & 0 & 0 & 0\\\\y_{1} & x_{1} & - \\beta & 0 & 0 & 0\\\\0 & \\sigma & 0 & - \\sigma & 0 & 0\\\\\\rho - z_{1} & 0 & - x_{1} + x_{2} & z_{1} - z_{2} & -1 & - x_{2}\\\\0 & - a_{0} - a_{1} \\sin{\\left(t w \\right)} & - \\beta & y_{2} & x_{2} & 0\\end{matrix}\\right]$"
     },
     "metadata": {},
     "execution_count": 449
    }
   ],
   "source": [
    "(del_F+del_zeta+del_chi)"
   ]
  },
  {
   "cell_type": "code",
   "execution_count": 450,
   "metadata": {},
   "outputs": [
    {
     "output_type": "execute_result",
     "data": {
      "text/plain": "⎡ σ             0             0     -σ     0    0 ⎤\n⎢                                                 ⎥\n⎢ 0             1             x₂  z₁ - z₂  -1  -x₂⎥\n⎢                                                 ⎥\n⎣-y₁  -a₀ - a₁⋅sin(t⋅w) - x₁  0     y₂     x₂   0 ⎦",
      "text/latex": "$\\displaystyle \\left[\\begin{matrix}\\sigma & 0 & 0 & - \\sigma & 0 & 0\\\\0 & 1 & x_{2} & z_{1} - z_{2} & -1 & - x_{2}\\\\- y_{1} & - a_{0} - a_{1} \\sin{\\left(t w \\right)} - x_{1} & 0 & y_{2} & x_{2} & 0\\end{matrix}\\right]$"
     },
     "metadata": {},
     "execution_count": 450
    }
   ],
   "source": [
    "N*(del_F+del_zeta+del_chi)"
   ]
  },
  {
   "cell_type": "code",
   "execution_count": 451,
   "metadata": {},
   "outputs": [
    {
     "output_type": "execute_result",
     "data": {
      "text/plain": "⎡0  0  0⎤\n⎢       ⎥\n⎢0  0  0⎥\n⎢       ⎥\n⎣0  0  0⎦",
      "text/latex": "$\\displaystyle \\left[\\begin{matrix}0 & 0 & 0\\\\0 & 0 & 0\\\\0 & 0 & 0\\end{matrix}\\right]$"
     },
     "metadata": {},
     "execution_count": 451
    }
   ],
   "source": [
    "diff(N,t)*N.transpose()"
   ]
  },
  {
   "cell_type": "code",
   "execution_count": 452,
   "metadata": {},
   "outputs": [
    {
     "output_type": "execute_result",
     "data": {
      "text/plain": "⎡-2⋅σ               0                            0              ⎤\n⎢                                                               ⎥\n⎢ 0                -2               -2⋅a₀ - 2⋅a₁⋅sin(t⋅w) - 2⋅x₁⎥\n⎢                                                               ⎥\n⎣2⋅y₁  2⋅a₀ + 2⋅a₁⋅sin(t⋅w) + 2⋅x₁               0              ⎦",
      "text/latex": "$\\displaystyle \\left[\\begin{matrix}- 2 \\sigma & 0 & 0\\\\0 & -2 & - 2 a_{0} - 2 a_{1} \\sin{\\left(t w \\right)} - 2 x_{1}\\\\2 y_{1} & 2 a_{0} + 2 a_{1} \\sin{\\left(t w \\right)} + 2 x_{1} & 0\\end{matrix}\\right]$"
     },
     "metadata": {},
     "execution_count": 452
    }
   ],
   "source": [
    "Jac = N*(del_F+del_zeta+del_chi)*N.transpose() + diff(N,t)*N.transpose()\n",
    "Jac = simplify(Jac)\n",
    "Jac=Jac.subs(on_manifold)\n",
    "Jac"
   ]
  },
  {
   "cell_type": "code",
   "execution_count": 453,
   "metadata": {},
   "outputs": [
    {
     "output_type": "execute_result",
     "data": {
      "text/plain": "⎧              _______________________________________________________________\n⎨             ╱       2                                    2    2             \n⎩-2⋅σ: 1, - ╲╱  - 4⋅a₀  - 8⋅a₀⋅a₁⋅sin(t⋅w) - 8⋅a₀⋅x₁ - 4⋅a₁ ⋅sin (t⋅w) - 8⋅a₁⋅\n\n________________________            __________________________________________\n                  2                ╱       2                                  \nx₁⋅sin(t⋅w) - 4⋅x₁  + 1  - 1: 1, ╲╱  - 4⋅a₀  - 8⋅a₀⋅a₁⋅sin(t⋅w) - 8⋅a₀⋅x₁ - 4⋅\n\n_____________________________________________       ⎫\n  2    2                               2            ⎬\na₁ ⋅sin (t⋅w) - 8⋅a₁⋅x₁⋅sin(t⋅w) - 4⋅x₁  + 1  - 1: 1⎭",
      "image/png": "[encoded data removed]",
      "text/latex": "$\\displaystyle \\left\\{ - 2 \\sigma : 1, \\  - \\sqrt{- 4 a_{0}^{2} - 8 a_{0} a_{1} \\sin{\\left(t w \\right)} - 8 a_{0} x_{1} - 4 a_{1}^{2} \\sin^{2}{\\left(t w \\right)} - 8 a_{1} x_{1} \\sin{\\left(t w \\right)} - 4 x_{1}^{2} + 1} - 1 : 1, \\  \\sqrt{- 4 a_{0}^{2} - 8 a_{0} a_{1} \\sin{\\left(t w \\right)} - 8 a_{0} x_{1} - 4 a_{1}^{2} \\sin^{2}{\\left(t w \\right)} - 8 a_{1} x_{1} \\sin{\\left(t w \\right)} - 4 x_{1}^{2} + 1} - 1 : 1\\right\\}$"
     },
     "metadata": {},
     "execution_count": 453
    }
   ],
   "source": [
    "Jac.eigenvals()"
   ]
  },
  {
   "cell_type": "code",
   "execution_count": 132,
   "metadata": {},
   "outputs": [
    {
     "output_type": "execute_result",
     "data": {
      "text/plain": "53.777777777777786",
      "image/png": "[encoded data removed]",
      "text/latex": "$\\displaystyle 53.777777777777786$"
     },
     "metadata": {},
     "execution_count": 132
    }
   ],
   "source": [
    "beta=8/3\n",
    "sigma = 10\n",
    "(sigma-beta)**2"
   ]
  },
  {
   "cell_type": "code",
   "execution_count": null,
   "metadata": {},
   "outputs": [],
   "source": []
  }
 ]
}