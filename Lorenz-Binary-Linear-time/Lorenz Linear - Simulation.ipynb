{
 "cells": [
  {
   "cell_type": "code",
   "execution_count": 1,
   "metadata": {},
   "outputs": [
    {
     "data": {
      "text/html": [
       "        <script type=\"text/javascript\">\n",
       "        window.PlotlyConfig = {MathJaxConfig: 'local'};\n",
       "        if (window.MathJax) {MathJax.Hub.Config({SVG: {font: \"STIX-Web\"}});}\n",
       "        if (typeof require !== 'undefined') {\n",
       "        require.undef(\"plotly\");\n",
       "        requirejs.config({\n",
       "            paths: {\n",
       "                'plotly': ['https://cdn.plot.ly/plotly-latest.min']\n",
       "            }\n",
       "        });\n",
       "        require(['plotly'], function(Plotly) {\n",
       "            window._Plotly = Plotly;\n",
       "        });\n",
       "        }\n",
       "        </script>\n",
       "        "
      ]
     },
     "metadata": {},
     "output_type": "display_data"
    }
   ],
   "source": [
    "import sys,importlib\n",
    "sys.path.append('../')\n",
    "import simulation\n",
    "from numpy import *\n",
    "from sympy import *\n",
    "import plotly.offline as py\n",
    "import plotly.graph_objs as go\n",
    "%matplotlib inline\n",
    "init_printing()"
   ]
  },
  {
   "cell_type": "code",
   "execution_count": 2,
   "metadata": {},
   "outputs": [],
   "source": [
    "Variables=symbols(\"x1 y1 z1 x2 y2 z2\")\n",
    "x1,y1,z1,x2,y2,z2=Variables\n",
    "Time=symbols(\"t\")\n",
    "t=Time\n",
    "Parameters=symbols(\"sigma beta rho a b c eps\")\n",
    "sigma,beta,rho,a,b,c,eps=Parameters"
   ]
  },
  {
   "cell_type": "markdown",
   "metadata": {},
   "source": [
    "### Lorenz system"
   ]
  },
  {
   "cell_type": "code",
   "execution_count": 3,
   "metadata": {},
   "outputs": [
    {
     "data": {
      "text/latex": [
       "$\\displaystyle \\left[\\begin{matrix}\\sigma \\left(- x_{1} + y_{1}\\right)\\\\x_{1} \\left(\\rho - z_{1}\\right) - y_{1}\\\\- \\beta z_{1} + x_{1} y_{1}\\\\\\sigma \\left(- x_{2} + y_{2}\\right)\\\\x_{2} \\left(\\rho - z_{2}\\right) - y_{2}\\\\- \\beta z_{2} + x_{2} y_{2}\\end{matrix}\\right]$"
      ],
      "text/plain": [
       "⎡  σ⋅(-x₁ + y₁)  ⎤\n",
       "⎢                ⎥\n",
       "⎢x₁⋅(ρ - z₁) - y₁⎥\n",
       "⎢                ⎥\n",
       "⎢ -β⋅z₁ + x₁⋅y₁  ⎥\n",
       "⎢                ⎥\n",
       "⎢  σ⋅(-x₂ + y₂)  ⎥\n",
       "⎢                ⎥\n",
       "⎢x₂⋅(ρ - z₂) - y₂⎥\n",
       "⎢                ⎥\n",
       "⎣ -β⋅z₂ + x₂⋅y₂  ⎦"
      ]
     },
     "execution_count": 3,
     "metadata": {},
     "output_type": "execute_result"
    }
   ],
   "source": [
    "F=Matrix([sigma*(y1-x1),x1*(rho-z1)-y1,x1*y1-beta*z1,\n",
    "          sigma*(y2-x2),x2*(rho-z2)-y2,x2*y2-beta*z2])\n",
    "F"
   ]
  },
  {
   "cell_type": "code",
   "execution_count": 4,
   "metadata": {},
   "outputs": [
    {
     "data": {
      "text/latex": [
       "$\\displaystyle \\left[\\begin{matrix}0\\\\0\\\\0\\\\0\\\\0\\\\0\\end{matrix}\\right]$"
      ],
      "text/plain": [
       "⎡0⎤\n",
       "⎢ ⎥\n",
       "⎢0⎥\n",
       "⎢ ⎥\n",
       "⎢0⎥\n",
       "⎢ ⎥\n",
       "⎢0⎥\n",
       "⎢ ⎥\n",
       "⎢0⎥\n",
       "⎢ ⎥\n",
       "⎣0⎦"
      ]
     },
     "execution_count": 4,
     "metadata": {},
     "output_type": "execute_result"
    }
   ],
   "source": [
    "zeta=Matrix([0,0,0,\n",
    "             0,0,0])\n",
    "#zeta=eps*zeta\n",
    "zeta"
   ]
  },
  {
   "cell_type": "markdown",
   "metadata": {},
   "source": [
    "### Synchrony"
   ]
  },
  {
   "cell_type": "code",
   "execution_count": 5,
   "metadata": {
    "scrolled": true
   },
   "outputs": [
    {
     "data": {
      "text/latex": [
       "$\\displaystyle \\left[\\begin{matrix}- a t x_{1} + x_{2}\\\\- b t y_{1} + y_{2}\\\\- c t z_{1} + z_{2}\\end{matrix}\\right]$"
      ],
      "text/plain": [
       "⎡-a⋅t⋅x₁ + x₂⎤\n",
       "⎢            ⎥\n",
       "⎢-b⋅t⋅y₁ + y₂⎥\n",
       "⎢            ⎥\n",
       "⎣-c⋅t⋅z₁ + z₂⎦"
      ]
     },
     "execution_count": 5,
     "metadata": {},
     "output_type": "execute_result"
    }
   ],
   "source": [
    "phi=Matrix([(x2-a*t*x1),(y2-b*t*y1),(z2-c*t*z1)])\n",
    "phi"
   ]
  },
  {
   "cell_type": "code",
   "execution_count": 6,
   "metadata": {
    "scrolled": true
   },
   "outputs": [
    {
     "data": {
      "text/latex": [
       "$\\displaystyle \\left[\\begin{matrix}- a t & 0 & 0 & 1 & 0 & 0\\\\0 & - b t & 0 & 0 & 1 & 0\\\\0 & 0 & - c t & 0 & 0 & 1\\end{matrix}\\right]$"
      ],
      "text/plain": [
       "⎡-a⋅t   0     0    1  0  0⎤\n",
       "⎢                         ⎥\n",
       "⎢ 0    -b⋅t   0    0  1  0⎥\n",
       "⎢                         ⎥\n",
       "⎣ 0     0    -c⋅t  0  0  1⎦"
      ]
     },
     "execution_count": 6,
     "metadata": {},
     "output_type": "execute_result"
    }
   ],
   "source": [
    "N=simulation.VectorDivergence(phi,Variables)\n",
    "N"
   ]
  },
  {
   "cell_type": "code",
   "execution_count": 7,
   "metadata": {},
   "outputs": [],
   "source": [
    "on_manifold = [(x2,a*t*x1),(y2,b*t*y1),(z2,c*t*z1)]"
   ]
  },
  {
   "cell_type": "markdown",
   "metadata": {},
   "source": [
    "## Invariance"
   ]
  },
  {
   "cell_type": "code",
   "execution_count": 8,
   "metadata": {},
   "outputs": [
    {
     "data": {
      "text/latex": [
       "$\\displaystyle \\left[\\begin{matrix}- a \\sigma t \\left(- x_{1} + y_{1}\\right) + \\sigma \\left(- x_{2} + y_{2}\\right)\\\\- b t \\left(x_{1} \\left(\\rho - z_{1}\\right) - y_{1}\\right) + x_{2} \\left(\\rho - z_{2}\\right) - y_{2}\\\\- \\beta z_{2} - c t \\left(- \\beta z_{1} + x_{1} y_{1}\\right) + x_{2} y_{2}\\end{matrix}\\right]$"
      ],
      "text/plain": [
       "⎡     -a⋅σ⋅t⋅(-x₁ + y₁) + σ⋅(-x₂ + y₂)     ⎤\n",
       "⎢                                          ⎥\n",
       "⎢-b⋅t⋅(x₁⋅(ρ - z₁) - y₁) + x₂⋅(ρ - z₂) - y₂⎥\n",
       "⎢                                          ⎥\n",
       "⎣   -β⋅z₂ - c⋅t⋅(-β⋅z₁ + x₁⋅y₁) + x₂⋅y₂    ⎦"
      ]
     },
     "execution_count": 8,
     "metadata": {},
     "output_type": "execute_result"
    }
   ],
   "source": [
    "# NF=(N*(F+zeta)).subs([(x2,x1*(a0+a1*sin(w*t))),(y2,y1*(a0+a1*sin(w*t))),(z2,z1*(a0+a1*sin(w*t)))])\n",
    "# simplify(NF)\n",
    "NF=N*(F+zeta)\n",
    "NF\n",
    "#simplify(NF)"
   ]
  },
  {
   "cell_type": "code",
   "execution_count": 9,
   "metadata": {},
   "outputs": [
    {
     "data": {
      "text/latex": [
       "$\\displaystyle \\left[\\begin{matrix}- a x_{1}\\\\- b y_{1}\\\\- c z_{1}\\end{matrix}\\right]$"
      ],
      "text/plain": [
       "⎡-a⋅x₁⎤\n",
       "⎢     ⎥\n",
       "⎢-b⋅y₁⎥\n",
       "⎢     ⎥\n",
       "⎣-c⋅z₁⎦"
      ]
     },
     "execution_count": 9,
     "metadata": {},
     "output_type": "execute_result"
    }
   ],
   "source": [
    "dPhi=diff(phi,Time)\n",
    "dPhi"
   ]
  },
  {
   "cell_type": "code",
   "execution_count": 10,
   "metadata": {
    "scrolled": true
   },
   "outputs": [
    {
     "data": {
      "text/latex": [
       "$\\displaystyle \\left[\\begin{matrix}a \\sigma t \\left(x_{1} - y_{1}\\right) - a x_{1} - \\sigma \\left(x_{2} - y_{2}\\right)\\\\- b t \\left(x_{1} \\left(\\rho - z_{1}\\right) - y_{1}\\right) - b y_{1} + x_{2} \\left(\\rho - z_{2}\\right) - y_{2}\\\\- \\beta z_{2} + c t \\left(\\beta z_{1} - x_{1} y_{1}\\right) - c z_{1} + x_{2} y_{2}\\end{matrix}\\right]$"
      ],
      "text/plain": [
       "⎡      a⋅σ⋅t⋅(x₁ - y₁) - a⋅x₁ - σ⋅(x₂ - y₂)       ⎤\n",
       "⎢                                                 ⎥\n",
       "⎢-b⋅t⋅(x₁⋅(ρ - z₁) - y₁) - b⋅y₁ + x₂⋅(ρ - z₂) - y₂⎥\n",
       "⎢                                                 ⎥\n",
       "⎣    -β⋅z₂ + c⋅t⋅(β⋅z₁ - x₁⋅y₁) - c⋅z₁ + x₂⋅y₂    ⎦"
      ]
     },
     "execution_count": 10,
     "metadata": {},
     "output_type": "execute_result"
    }
   ],
   "source": [
    "eqn=(NF+dPhi)\n",
    "simplify(eqn)"
   ]
  },
  {
   "cell_type": "code",
   "execution_count": 11,
   "metadata": {},
   "outputs": [
    {
     "data": {
      "text/latex": [
       "$\\displaystyle \\left[\\begin{matrix}0\\\\0\\\\0\\\\- a \\sigma t \\left(x_{1} - y_{1}\\right) + a x_{1} + \\sigma \\left(x_{2} - y_{2}\\right)\\\\b t \\left(x_{1} \\left(\\rho - z_{1}\\right) - y_{1}\\right) + b y_{1} - x_{2} \\left(\\rho - z_{2}\\right) + y_{2}\\\\\\beta z_{2} - c t \\left(\\beta z_{1} - x_{1} y_{1}\\right) + c z_{1} - x_{2} y_{2}\\end{matrix}\\right]$"
      ],
      "text/plain": [
       "⎡                       0                        ⎤\n",
       "⎢                                                ⎥\n",
       "⎢                       0                        ⎥\n",
       "⎢                                                ⎥\n",
       "⎢                       0                        ⎥\n",
       "⎢                                                ⎥\n",
       "⎢     -a⋅σ⋅t⋅(x₁ - y₁) + a⋅x₁ + σ⋅(x₂ - y₂)      ⎥\n",
       "⎢                                                ⎥\n",
       "⎢b⋅t⋅(x₁⋅(ρ - z₁) - y₁) + b⋅y₁ - x₂⋅(ρ - z₂) + y₂⎥\n",
       "⎢                                                ⎥\n",
       "⎣    β⋅z₂ - c⋅t⋅(β⋅z₁ - x₁⋅y₁) + c⋅z₁ - x₂⋅y₂    ⎦"
      ]
     },
     "execution_count": 11,
     "metadata": {},
     "output_type": "execute_result"
    }
   ],
   "source": [
    "zeta[3]=-(eqn)[0]\n",
    "zeta[4]=-(eqn)[1]\n",
    "zeta[5]=-(eqn)[2]\n",
    "simplify(zeta)"
   ]
  },
  {
   "cell_type": "code",
   "execution_count": 12,
   "metadata": {},
   "outputs": [],
   "source": [
    "#zeta = zeta.subs(on_manifold)"
   ]
  },
  {
   "cell_type": "code",
   "execution_count": 13,
   "metadata": {},
   "outputs": [
    {
     "data": {
      "text/latex": [
       "$\\displaystyle \\left[\\begin{matrix}0\\\\0\\\\0\\end{matrix}\\right]$"
      ],
      "text/plain": [
       "⎡0⎤\n",
       "⎢ ⎥\n",
       "⎢0⎥\n",
       "⎢ ⎥\n",
       "⎣0⎦"
      ]
     },
     "execution_count": 13,
     "metadata": {},
     "output_type": "execute_result"
    }
   ],
   "source": [
    "NF=N*(F+zeta)#.subs([(x2,x1*(a0+a1*sin(w*t))),(y2,y1*(a0+a1*sin(w*t))),(z2,z1*(a0+a1*sin(w*t)))])\n",
    "simplify(NF)\n",
    "simplify((NF+dPhi).subs(on_manifold))"
   ]
  },
  {
   "cell_type": "markdown",
   "metadata": {},
   "source": [
    "### Stability"
   ]
  },
  {
   "cell_type": "code",
   "execution_count": 14,
   "metadata": {},
   "outputs": [
    {
     "data": {
      "text/latex": [
       "$\\displaystyle \\left[\\begin{matrix}0\\\\0\\\\0\\\\a t x_{1} - x_{2}\\\\b t y_{1} - y_{2}\\\\c t z_{1} - z_{2}\\end{matrix}\\right]$"
      ],
      "text/plain": [
       "⎡     0     ⎤\n",
       "⎢           ⎥\n",
       "⎢     0     ⎥\n",
       "⎢           ⎥\n",
       "⎢     0     ⎥\n",
       "⎢           ⎥\n",
       "⎢a⋅t⋅x₁ - x₂⎥\n",
       "⎢           ⎥\n",
       "⎢b⋅t⋅y₁ - y₂⎥\n",
       "⎢           ⎥\n",
       "⎣c⋅t⋅z₁ - z₂⎦"
      ]
     },
     "execution_count": 14,
     "metadata": {},
     "output_type": "execute_result"
    }
   ],
   "source": [
    "chi=Matrix([0,0,0,\n",
    "            -(x2-a*t*x1),-(y2-b*t*y1),-(z2-c*t*z1)])\n",
    "chi"
   ]
  },
  {
   "cell_type": "code",
   "execution_count": 15,
   "metadata": {},
   "outputs": [
    {
     "data": {
      "text/latex": [
       "$\\displaystyle \\left[\\begin{matrix}0 & 0 & 0 & 0 & 0 & 0\\\\0 & 0 & 0 & 0 & 0 & 0\\\\0 & 0 & 0 & 0 & 0 & 0\\\\- a \\sigma t + a & a \\sigma t & 0 & \\sigma & - \\sigma & 0\\\\b t \\left(\\rho - z_{1}\\right) & - b t + b & - b t x_{1} & - \\rho + z_{2} & 1 & x_{2}\\\\c t y_{1} & c t x_{1} & - \\beta c t + c & - y_{2} & - x_{2} & \\beta\\end{matrix}\\right]$"
      ],
      "text/plain": [
       "⎡     0           0          0          0      0   0 ⎤\n",
       "⎢                                                    ⎥\n",
       "⎢     0           0          0          0      0   0 ⎥\n",
       "⎢                                                    ⎥\n",
       "⎢     0           0          0          0      0   0 ⎥\n",
       "⎢                                                    ⎥\n",
       "⎢ -a⋅σ⋅t + a    a⋅σ⋅t        0          σ     -σ   0 ⎥\n",
       "⎢                                                    ⎥\n",
       "⎢b⋅t⋅(ρ - z₁)  -b⋅t + b   -b⋅t⋅x₁    -ρ + z₂   1   x₂⎥\n",
       "⎢                                                    ⎥\n",
       "⎣   c⋅t⋅y₁      c⋅t⋅x₁   -β⋅c⋅t + c    -y₂    -x₂  β ⎦"
      ]
     },
     "execution_count": 15,
     "metadata": {},
     "output_type": "execute_result"
    }
   ],
   "source": [
    "del_zeta=simulation.VectorDivergence(zeta,Variables)\n",
    "del_zeta"
   ]
  },
  {
   "cell_type": "code",
   "execution_count": 16,
   "metadata": {},
   "outputs": [
    {
     "data": {
      "text/latex": [
       "$\\displaystyle \\left[\\begin{matrix}0 & 0 & 0 & 0 & 0 & 0\\\\0 & 0 & 0 & 0 & 0 & 0\\\\0 & 0 & 0 & 0 & 0 & 0\\\\a t & 0 & 0 & -1 & 0 & 0\\\\0 & b t & 0 & 0 & -1 & 0\\\\0 & 0 & c t & 0 & 0 & -1\\end{matrix}\\right]$"
      ],
      "text/plain": [
       "⎡ 0    0    0   0   0   0 ⎤\n",
       "⎢                         ⎥\n",
       "⎢ 0    0    0   0   0   0 ⎥\n",
       "⎢                         ⎥\n",
       "⎢ 0    0    0   0   0   0 ⎥\n",
       "⎢                         ⎥\n",
       "⎢a⋅t   0    0   -1  0   0 ⎥\n",
       "⎢                         ⎥\n",
       "⎢ 0   b⋅t   0   0   -1  0 ⎥\n",
       "⎢                         ⎥\n",
       "⎣ 0    0   c⋅t  0   0   -1⎦"
      ]
     },
     "execution_count": 16,
     "metadata": {},
     "output_type": "execute_result"
    }
   ],
   "source": [
    "del_chi=simulation.VectorDivergence(chi,Variables)\n",
    "del_chi"
   ]
  },
  {
   "cell_type": "code",
   "execution_count": 17,
   "metadata": {},
   "outputs": [
    {
     "data": {
      "text/latex": [
       "$\\displaystyle \\left[\\begin{matrix}- \\sigma & \\sigma & 0 & 0 & 0 & 0\\\\\\rho - z_{1} & -1 & - x_{1} & 0 & 0 & 0\\\\y_{1} & x_{1} & - \\beta & 0 & 0 & 0\\\\0 & 0 & 0 & - \\sigma & \\sigma & 0\\\\0 & 0 & 0 & \\rho - z_{2} & -1 & - x_{2}\\\\0 & 0 & 0 & y_{2} & x_{2} & - \\beta\\end{matrix}\\right]$"
      ],
      "text/plain": [
       "⎡  -σ    σ    0     0     0    0 ⎤\n",
       "⎢                                ⎥\n",
       "⎢ρ - z₁  -1  -x₁    0     0    0 ⎥\n",
       "⎢                                ⎥\n",
       "⎢  y₁    x₁  -β     0     0    0 ⎥\n",
       "⎢                                ⎥\n",
       "⎢  0     0    0     -σ    σ    0 ⎥\n",
       "⎢                                ⎥\n",
       "⎢  0     0    0   ρ - z₂  -1  -x₂⎥\n",
       "⎢                                ⎥\n",
       "⎣  0     0    0     y₂    x₂  -β ⎦"
      ]
     },
     "execution_count": 17,
     "metadata": {},
     "output_type": "execute_result"
    }
   ],
   "source": [
    "del_F=simulation.VectorDivergence(F,Variables)\n",
    "del_F"
   ]
  },
  {
   "cell_type": "code",
   "execution_count": 18,
   "metadata": {
    "scrolled": true
   },
   "outputs": [
    {
     "data": {
      "text/latex": [
       "$\\displaystyle \\left[\\begin{matrix}- \\sigma & \\sigma & 0 & 0 & 0 & 0\\\\\\rho - z_{1} & -1 & - x_{1} & 0 & 0 & 0\\\\y_{1} & x_{1} & - \\beta & 0 & 0 & 0\\\\- a \\sigma t + a t + a & a \\sigma t & 0 & -1 & 0 & 0\\\\b t \\left(\\rho - z_{1}\\right) & b & - b t x_{1} & 0 & -1 & 0\\\\c t y_{1} & c t x_{1} & - \\beta c t + c t + c & 0 & 0 & -1\\end{matrix}\\right]$"
      ],
      "text/plain": [
       "⎡       -σ           σ            0          0   0   0 ⎤\n",
       "⎢                                                      ⎥\n",
       "⎢     ρ - z₁         -1          -x₁         0   0   0 ⎥\n",
       "⎢                                                      ⎥\n",
       "⎢       y₁           x₁           -β         0   0   0 ⎥\n",
       "⎢                                                      ⎥\n",
       "⎢-a⋅σ⋅t + a⋅t + a  a⋅σ⋅t          0          -1  0   0 ⎥\n",
       "⎢                                                      ⎥\n",
       "⎢  b⋅t⋅(ρ - z₁)      b         -b⋅t⋅x₁       0   -1  0 ⎥\n",
       "⎢                                                      ⎥\n",
       "⎣     c⋅t⋅y₁       c⋅t⋅x₁  -β⋅c⋅t + c⋅t + c  0   0   -1⎦"
      ]
     },
     "execution_count": 18,
     "metadata": {},
     "output_type": "execute_result"
    }
   ],
   "source": [
    "(del_F+del_zeta+del_chi)"
   ]
  },
  {
   "cell_type": "code",
   "execution_count": 19,
   "metadata": {},
   "outputs": [
    {
     "data": {
      "text/latex": [
       "$\\displaystyle \\left[\\begin{matrix}a^{2} t & 0 & 0\\\\0 & b^{2} t & 0\\\\0 & 0 & c^{2} t\\end{matrix}\\right]$"
      ],
      "text/plain": [
       "⎡ 2              ⎤\n",
       "⎢a ⋅t   0     0  ⎥\n",
       "⎢                ⎥\n",
       "⎢       2        ⎥\n",
       "⎢ 0    b ⋅t   0  ⎥\n",
       "⎢                ⎥\n",
       "⎢             2  ⎥\n",
       "⎣ 0     0    c ⋅t⎦"
      ]
     },
     "execution_count": 19,
     "metadata": {},
     "output_type": "execute_result"
    }
   ],
   "source": [
    "diff(N,t)*N.transpose()"
   ]
  },
  {
   "cell_type": "code",
   "execution_count": 20,
   "metadata": {},
   "outputs": [
    {
     "data": {
      "text/latex": [
       "$\\displaystyle \\left[\\begin{matrix}- a^{2} t^{2} - 1 & 0 & 0\\\\0 & - b^{2} t^{2} - 1 & 0\\\\0 & 0 & - c^{2} t^{2} - 1\\end{matrix}\\right]$"
      ],
      "text/plain": [
       "⎡   2  2                              ⎤\n",
       "⎢- a ⋅t  - 1       0            0     ⎥\n",
       "⎢                                     ⎥\n",
       "⎢                2  2                 ⎥\n",
       "⎢     0       - b ⋅t  - 1       0     ⎥\n",
       "⎢                                     ⎥\n",
       "⎢                             2  2    ⎥\n",
       "⎣     0            0       - c ⋅t  - 1⎦"
      ]
     },
     "execution_count": 20,
     "metadata": {},
     "output_type": "execute_result"
    }
   ],
   "source": [
    "Jac = N*(del_F+del_zeta+del_chi)*N.transpose() + diff(N,t)*N.transpose()\n",
    "Jac = simplify(Jac)\n",
    "Jac.subs(on_manifold)"
   ]
  },
  {
   "cell_type": "code",
   "execution_count": 22,
   "metadata": {},
   "outputs": [
    {
     "data": {
      "image/png": "[encoded data removed]",
      "text/latex": [
       "$\\displaystyle \\left\\{ - a^{2} t^{2} - 1 : 1, \\  - b^{2} t^{2} - 1 : 1, \\  - c^{2} t^{2} - 1 : 1\\right\\}$"
      ],
      "text/plain": [
       "⎧   2  2            2  2            2  2       ⎫\n",
       "⎨- a ⋅t  - 1: 1, - b ⋅t  - 1: 1, - c ⋅t  - 1: 1⎬\n",
       "⎩                                              ⎭"
      ]
     },
     "execution_count": 22,
     "metadata": {},
     "output_type": "execute_result"
    }
   ],
   "source": [
    "Jac.eigenvals()"
   ]
  },
  {
   "cell_type": "markdown",
   "metadata": {},
   "source": [
    "### coupling"
   ]
  },
  {
   "cell_type": "code",
   "execution_count": 23,
   "metadata": {},
   "outputs": [
    {
     "data": {
      "text/latex": [
       "$\\displaystyle \\left[\\begin{matrix}0\\\\0\\\\0\\\\a t x_{1} - x_{2}\\\\b t y_{1} - y_{2}\\\\c t z_{1} - z_{2}\\end{matrix}\\right]$"
      ],
      "text/plain": [
       "⎡     0     ⎤\n",
       "⎢           ⎥\n",
       "⎢     0     ⎥\n",
       "⎢           ⎥\n",
       "⎢     0     ⎥\n",
       "⎢           ⎥\n",
       "⎢a⋅t⋅x₁ - x₂⎥\n",
       "⎢           ⎥\n",
       "⎢b⋅t⋅y₁ - y₂⎥\n",
       "⎢           ⎥\n",
       "⎣c⋅t⋅z₁ - z₂⎦"
      ]
     },
     "execution_count": 23,
     "metadata": {},
     "output_type": "execute_result"
    }
   ],
   "source": [
    "chi"
   ]
  },
  {
   "cell_type": "code",
   "execution_count": 24,
   "metadata": {},
   "outputs": [
    {
     "data": {
      "text/latex": [
       "$\\displaystyle \\left[\\begin{matrix}0\\\\0\\\\0\\\\a \\sigma t \\left(- x_{1} + y_{1}\\right) + a x_{1} - \\sigma \\left(- x_{2} + y_{2}\\right)\\\\b t \\left(x_{1} \\left(\\rho - z_{1}\\right) - y_{1}\\right) + b y_{1} - x_{2} \\left(\\rho - z_{2}\\right) + y_{2}\\\\\\beta z_{2} + c t \\left(- \\beta z_{1} + x_{1} y_{1}\\right) + c z_{1} - x_{2} y_{2}\\end{matrix}\\right]$"
      ],
      "text/plain": [
       "⎡                       0                        ⎤\n",
       "⎢                                                ⎥\n",
       "⎢                       0                        ⎥\n",
       "⎢                                                ⎥\n",
       "⎢                       0                        ⎥\n",
       "⎢                                                ⎥\n",
       "⎢     a⋅σ⋅t⋅(-x₁ + y₁) + a⋅x₁ - σ⋅(-x₂ + y₂)     ⎥\n",
       "⎢                                                ⎥\n",
       "⎢b⋅t⋅(x₁⋅(ρ - z₁) - y₁) + b⋅y₁ - x₂⋅(ρ - z₂) + y₂⎥\n",
       "⎢                                                ⎥\n",
       "⎣   β⋅z₂ + c⋅t⋅(-β⋅z₁ + x₁⋅y₁) + c⋅z₁ - x₂⋅y₂    ⎦"
      ]
     },
     "execution_count": 24,
     "metadata": {},
     "output_type": "execute_result"
    }
   ],
   "source": [
    "zeta"
   ]
  },
  {
   "cell_type": "code",
   "execution_count": 25,
   "metadata": {},
   "outputs": [
    {
     "data": {
      "text/latex": [
       "$\\displaystyle \\left[\\begin{matrix}0\\\\0\\\\0\\\\- a \\sigma t \\left(x_{1} - y_{1}\\right) + a t x_{1} + a x_{1} + \\sigma \\left(x_{2} - y_{2}\\right) - x_{2}\\\\b t y_{1} + b t \\left(x_{1} \\left(\\rho - z_{1}\\right) - y_{1}\\right) + b y_{1} - x_{2} \\left(\\rho - z_{2}\\right)\\\\\\beta z_{2} + c t z_{1} - c t \\left(\\beta z_{1} - x_{1} y_{1}\\right) + c z_{1} - x_{2} y_{2} - z_{2}\\end{matrix}\\right]$"
      ],
      "text/plain": [
       "⎡                          0                           ⎤\n",
       "⎢                                                      ⎥\n",
       "⎢                          0                           ⎥\n",
       "⎢                                                      ⎥\n",
       "⎢                          0                           ⎥\n",
       "⎢                                                      ⎥\n",
       "⎢ -a⋅σ⋅t⋅(x₁ - y₁) + a⋅t⋅x₁ + a⋅x₁ + σ⋅(x₂ - y₂) - x₂  ⎥\n",
       "⎢                                                      ⎥\n",
       "⎢ b⋅t⋅y₁ + b⋅t⋅(x₁⋅(ρ - z₁) - y₁) + b⋅y₁ - x₂⋅(ρ - z₂) ⎥\n",
       "⎢                                                      ⎥\n",
       "⎣β⋅z₂ + c⋅t⋅z₁ - c⋅t⋅(β⋅z₁ - x₁⋅y₁) + c⋅z₁ - x₂⋅y₂ - z₂⎦"
      ]
     },
     "execution_count": 25,
     "metadata": {},
     "output_type": "execute_result"
    }
   ],
   "source": [
    "simplify((chi+zeta))#.subs([(x2,a*t*x1),(y2,b*t*y1),(z2,c*t*z1)])))"
   ]
  },
  {
   "cell_type": "markdown",
   "metadata": {},
   "source": [
    "### conclusion"
   ]
  },
  {
   "cell_type": "markdown",
   "metadata": {},
   "source": [
    "* Lorenz system dont go along nwith temporal synchronisation\n",
    "    - either annihilate original system\n",
    "    - or deal with incomputable eigenvalue"
   ]
  }
 ],
 "metadata": {
  "kernelspec": {
   "display_name": "Python 3",
   "language": "python",
   "name": "python3"
  },
  "language_info": {
   "codemirror_mode": {
    "name": "ipython",
    "version": 3
   },
   "file_extension": ".py",
   "mimetype": "text/x-python",
   "name": "python",
   "nbconvert_exporter": "python",
   "pygments_lexer": "ipython3",
   "version": "3.8.2"
  }
 },
 "nbformat": 4,
 "nbformat_minor": 2
}
