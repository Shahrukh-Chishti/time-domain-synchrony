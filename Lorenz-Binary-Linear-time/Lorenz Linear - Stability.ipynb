{
 "cells": [
  {
   "cell_type": "code",
   "execution_count": 117,
   "metadata": {},
   "outputs": [],
   "source": [
    "from sympy import *\n",
    "import numpy as np\n",
    "from sympy.plotting import plot3d,plot\n",
    "from sympy import init_printing\n",
    "#import plotly.plotly as py\n",
    "import plotly.graph_objs as go\n",
    "import matplotlib.pyplot as plt\n",
    "%matplotlib inline\n",
    "init_printing()"
   ]
  },
  {
   "cell_type": "code",
   "execution_count": 118,
   "metadata": {},
   "outputs": [],
   "source": [
    "Variables=symbols(\"x1 y1 z1 x2 y2 z2\")\n",
    "x1,y1,z1,x2,y2,z2=Variables\n",
    "Time=symbols(\"t\")\n",
    "t=Time\n",
    "Parameters=symbols(\"sigma beta rho a b c eps\")\n",
    "sigma,beta,rho,a,b,c,eps=Parameters"
   ]
  },
  {
   "cell_type": "code",
   "execution_count": 119,
   "metadata": {},
   "outputs": [],
   "source": [
    "def VectorDivergence(vector,variables):\n",
    "    D = []\n",
    "    for vec in vector:\n",
    "        row = []\n",
    "        for var in variables:\n",
    "            row.append(diff(vec,var))\n",
    "        D.append(row)\n",
    "    return Matrix(D)"
   ]
  },
  {
   "cell_type": "markdown",
   "metadata": {},
   "source": [
    "### Lorenz system"
   ]
  },
  {
   "cell_type": "code",
   "execution_count": 175,
   "metadata": {},
   "outputs": [
    {
     "output_type": "execute_result",
     "data": {
      "text/plain": "⎡  σ⋅(-x₁ + y₁)  ⎤\n⎢                ⎥\n⎢x₁⋅(ρ - z₁) - y₁⎥\n⎢                ⎥\n⎢ -β⋅z₁ + x₁⋅y₁  ⎥\n⎢                ⎥\n⎢  σ⋅(-x₂ + y₂)  ⎥\n⎢                ⎥\n⎢x₂⋅(ρ - z₂) - y₂⎥\n⎢                ⎥\n⎣ -β⋅z₂ + x₂⋅y₂  ⎦",
      "text/latex": "$\\displaystyle \\left[\\begin{matrix}\\sigma \\left(- x_{1} + y_{1}\\right)\\\\x_{1} \\left(\\rho - z_{1}\\right) - y_{1}\\\\- \\beta z_{1} + x_{1} y_{1}\\\\\\sigma \\left(- x_{2} + y_{2}\\right)\\\\x_{2} \\left(\\rho - z_{2}\\right) - y_{2}\\\\- \\beta z_{2} + x_{2} y_{2}\\end{matrix}\\right]$"
     },
     "metadata": {},
     "execution_count": 175
    }
   ],
   "source": [
    "F=Matrix([sigma*(y1-x1),x1*(rho-z1)-y1,x1*y1-beta*z1,\n",
    "          sigma*(y2-x2),x2*(rho-z2)-y2,x2*y2-beta*z2])\n",
    "F"
   ]
  },
  {
   "cell_type": "code",
   "execution_count": 176,
   "metadata": {},
   "outputs": [
    {
     "output_type": "execute_result",
     "data": {
      "text/plain": "⎡0⎤\n⎢ ⎥\n⎢0⎥\n⎢ ⎥\n⎢0⎥\n⎢ ⎥\n⎢0⎥\n⎢ ⎥\n⎢0⎥\n⎢ ⎥\n⎣0⎦",
      "text/latex": "$\\displaystyle \\left[\\begin{matrix}0\\\\0\\\\0\\\\0\\\\0\\\\0\\end{matrix}\\right]$"
     },
     "metadata": {},
     "execution_count": 176
    }
   ],
   "source": [
    "zeta=Matrix([0,0,0,\n",
    "             0,0,0])\n",
    "#zeta=eps*zeta\n",
    "zeta"
   ]
  },
  {
   "cell_type": "markdown",
   "metadata": {},
   "source": [
    "### Synchrony"
   ]
  },
  {
   "cell_type": "code",
   "execution_count": 177,
   "metadata": {
    "scrolled": true
   },
   "outputs": [
    {
     "output_type": "execute_result",
     "data": {
      "text/plain": "⎡-a⋅t⋅x₁ + x₂⎤\n⎢            ⎥\n⎢-b⋅t⋅y₁ + y₂⎥\n⎢            ⎥\n⎣-c⋅t⋅z₁ + z₂⎦",
      "text/latex": "$\\displaystyle \\left[\\begin{matrix}- a t x_{1} + x_{2}\\\\- b t y_{1} + y_{2}\\\\- c t z_{1} + z_{2}\\end{matrix}\\right]$"
     },
     "metadata": {},
     "execution_count": 177
    }
   ],
   "source": [
    "phi=Matrix([(x2-a*t*x1),(y2-b*t*y1),(z2-c*t*z1)])\n",
    "phi"
   ]
  },
  {
   "cell_type": "code",
   "execution_count": 178,
   "metadata": {
    "scrolled": true
   },
   "outputs": [
    {
     "output_type": "execute_result",
     "data": {
      "text/plain": "⎡-a⋅t   0     0    1  0  0⎤\n⎢                         ⎥\n⎢ 0    -b⋅t   0    0  1  0⎥\n⎢                         ⎥\n⎣ 0     0    -c⋅t  0  0  1⎦",
      "text/latex": "$\\displaystyle \\left[\\begin{matrix}- a t & 0 & 0 & 1 & 0 & 0\\\\0 & - b t & 0 & 0 & 1 & 0\\\\0 & 0 & - c t & 0 & 0 & 1\\end{matrix}\\right]$"
     },
     "metadata": {},
     "execution_count": 178
    }
   ],
   "source": [
    "N=VectorDivergence(phi,Variables)\n",
    "N"
   ]
  },
  {
   "cell_type": "code",
   "execution_count": 179,
   "metadata": {},
   "outputs": [],
   "source": [
    "on_manifold = [(x2,a*t*x1),(y2,b*t*y1),(z2,c*t*z1)]"
   ]
  },
  {
   "cell_type": "markdown",
   "metadata": {},
   "source": [
    "## Invariance"
   ]
  },
  {
   "cell_type": "code",
   "execution_count": 180,
   "metadata": {},
   "outputs": [
    {
     "output_type": "execute_result",
     "data": {
      "text/plain": "⎡     -a⋅σ⋅t⋅(-x₁ + y₁) + σ⋅(-x₂ + y₂)     ⎤\n⎢                                          ⎥\n⎢-b⋅t⋅(x₁⋅(ρ - z₁) - y₁) + x₂⋅(ρ - z₂) - y₂⎥\n⎢                                          ⎥\n⎣   -β⋅z₂ - c⋅t⋅(-β⋅z₁ + x₁⋅y₁) + x₂⋅y₂    ⎦",
      "text/latex": "$\\displaystyle \\left[\\begin{matrix}- a \\sigma t \\left(- x_{1} + y_{1}\\right) + \\sigma \\left(- x_{2} + y_{2}\\right)\\\\- b t \\left(x_{1} \\left(\\rho - z_{1}\\right) - y_{1}\\right) + x_{2} \\left(\\rho - z_{2}\\right) - y_{2}\\\\- \\beta z_{2} - c t \\left(- \\beta z_{1} + x_{1} y_{1}\\right) + x_{2} y_{2}\\end{matrix}\\right]$"
     },
     "metadata": {},
     "execution_count": 180
    }
   ],
   "source": [
    "# NF=(N*(F+zeta)).subs([(x2,x1*(a0+a1*sin(w*t))),(y2,y1*(a0+a1*sin(w*t))),(z2,z1*(a0+a1*sin(w*t)))])\n",
    "# simplify(NF)\n",
    "NF=N*(F+zeta)\n",
    "NF\n",
    "#simplify(NF)"
   ]
  },
  {
   "cell_type": "code",
   "execution_count": 181,
   "metadata": {},
   "outputs": [
    {
     "output_type": "execute_result",
     "data": {
      "text/plain": "⎡-a⋅x₁⎤\n⎢     ⎥\n⎢-b⋅y₁⎥\n⎢     ⎥\n⎣-c⋅z₁⎦",
      "text/latex": "$\\displaystyle \\left[\\begin{matrix}- a x_{1}\\\\- b y_{1}\\\\- c z_{1}\\end{matrix}\\right]$"
     },
     "metadata": {},
     "execution_count": 181
    }
   ],
   "source": [
    "dPhi=diff(phi,Time)\n",
    "dPhi"
   ]
  },
  {
   "cell_type": "code",
   "execution_count": 182,
   "metadata": {
    "scrolled": true
   },
   "outputs": [
    {
     "output_type": "execute_result",
     "data": {
      "text/plain": "⎡      a⋅σ⋅t⋅(x₁ - y₁) - a⋅x₁ - σ⋅(x₂ - y₂)       ⎤\n⎢                                                 ⎥\n⎢-b⋅t⋅(x₁⋅(ρ - z₁) - y₁) - b⋅y₁ + x₂⋅(ρ - z₂) - y₂⎥\n⎢                                                 ⎥\n⎣    -β⋅z₂ + c⋅t⋅(β⋅z₁ - x₁⋅y₁) - c⋅z₁ + x₂⋅y₂    ⎦",
      "text/latex": "$\\displaystyle \\left[\\begin{matrix}a \\sigma t \\left(x_{1} - y_{1}\\right) - a x_{1} - \\sigma \\left(x_{2} - y_{2}\\right)\\\\- b t \\left(x_{1} \\left(\\rho - z_{1}\\right) - y_{1}\\right) - b y_{1} + x_{2} \\left(\\rho - z_{2}\\right) - y_{2}\\\\- \\beta z_{2} + c t \\left(\\beta z_{1} - x_{1} y_{1}\\right) - c z_{1} + x_{2} y_{2}\\end{matrix}\\right]$"
     },
     "metadata": {},
     "execution_count": 182
    }
   ],
   "source": [
    "eqn=(NF+dPhi)\n",
    "simplify(eqn)"
   ]
  },
  {
   "cell_type": "code",
   "execution_count": 183,
   "metadata": {},
   "outputs": [
    {
     "output_type": "execute_result",
     "data": {
      "text/plain": "⎡                       0                        ⎤\n⎢                                                ⎥\n⎢                       0                        ⎥\n⎢                                                ⎥\n⎢                       0                        ⎥\n⎢                                                ⎥\n⎢     -a⋅σ⋅t⋅(x₁ - y₁) + a⋅x₁ + σ⋅(x₂ - y₂)      ⎥\n⎢                                                ⎥\n⎢b⋅t⋅(x₁⋅(ρ - z₁) - y₁) + b⋅y₁ - x₂⋅(ρ - z₂) + y₂⎥\n⎢                                                ⎥\n⎣    β⋅z₂ - c⋅t⋅(β⋅z₁ - x₁⋅y₁) + c⋅z₁ - x₂⋅y₂    ⎦",
      "text/latex": "$\\displaystyle \\left[\\begin{matrix}0\\\\0\\\\0\\\\- a \\sigma t \\left(x_{1} - y_{1}\\right) + a x_{1} + \\sigma \\left(x_{2} - y_{2}\\right)\\\\b t \\left(x_{1} \\left(\\rho - z_{1}\\right) - y_{1}\\right) + b y_{1} - x_{2} \\left(\\rho - z_{2}\\right) + y_{2}\\\\\\beta z_{2} - c t \\left(\\beta z_{1} - x_{1} y_{1}\\right) + c z_{1} - x_{2} y_{2}\\end{matrix}\\right]$"
     },
     "metadata": {},
     "execution_count": 183
    }
   ],
   "source": [
    "zeta[3]=-(eqn)[0]\n",
    "zeta[4]=-(eqn)[1]\n",
    "zeta[5]=-(eqn)[2]\n",
    "simplify(zeta)\n"
   ]
  },
  {
   "cell_type": "code",
   "execution_count": 237,
   "metadata": {},
   "outputs": [
    {
     "output_type": "execute_result",
     "data": {
      "text/plain": "⎡                              0                               ⎤\n⎢                                                              ⎥\n⎢                              0                               ⎥\n⎢                                                              ⎥\n⎢                              0                               ⎥\n⎢                                                              ⎥\n⎢        -a⋅σ⋅t⋅(x₁ - y₁) + a⋅x₁ + σ⋅(a⋅t⋅x₁ - b⋅t⋅y₁)         ⎥\n⎢                                                              ⎥\n⎢-a⋅t⋅x₁⋅(-c⋅t⋅z₁ + ρ) + b⋅t⋅y₁ + b⋅t⋅(x₁⋅(ρ - z₁) - y₁) + b⋅y₁⎥\n⎢                                                              ⎥\n⎢           2                                                  ⎥\n⎣    - a⋅b⋅t ⋅x₁⋅y₁ + β⋅c⋅t⋅z₁ - c⋅t⋅(β⋅z₁ - x₁⋅y₁) + c⋅z₁     ⎦",
      "text/latex": "$\\displaystyle \\left[\\begin{matrix}0\\\\0\\\\0\\\\- a \\sigma t \\left(x_{1} - y_{1}\\right) + a x_{1} + \\sigma \\left(a t x_{1} - b t y_{1}\\right)\\\\- a t x_{1} \\left(- c t z_{1} + \\rho\\right) + b t y_{1} + b t \\left(x_{1} \\left(\\rho - z_{1}\\right) - y_{1}\\right) + b y_{1}\\\\- a b t^{2} x_{1} y_{1} + \\beta c t z_{1} - c t \\left(\\beta z_{1} - x_{1} y_{1}\\right) + c z_{1}\\end{matrix}\\right]$"
     },
     "metadata": {},
     "execution_count": 237
    }
   ],
   "source": [
    "zeta=zeta.subs(on_manifold)\n",
    "zeta"
   ]
  },
  {
   "cell_type": "code",
   "execution_count": 239,
   "metadata": {},
   "outputs": [
    {
     "output_type": "execute_result",
     "data": {
      "text/plain": "⎡0⎤\n⎢ ⎥\n⎢0⎥\n⎢ ⎥\n⎣0⎦",
      "text/latex": "$\\displaystyle \\left[\\begin{matrix}0\\\\0\\\\0\\end{matrix}\\right]$"
     },
     "metadata": {},
     "execution_count": 239
    }
   ],
   "source": [
    "NF=N*(F+zeta)#.subs([(x2,x1*(a0+a1*sin(w*t))),(y2,y1*(a0+a1*sin(w*t))),(z2,z1*(a0+a1*sin(w*t)))])\n",
    "simplify(NF)\n",
    "simplify((NF+dPhi).subs(on_manifold))"
   ]
  },
  {
   "cell_type": "markdown",
   "metadata": {},
   "source": [
    "### Stability"
   ]
  },
  {
   "cell_type": "code",
   "execution_count": 249,
   "metadata": {},
   "outputs": [
    {
     "output_type": "execute_result",
     "data": {
      "text/plain": "⎡       0       ⎤\n⎢               ⎥\n⎢       0       ⎥\n⎢               ⎥\n⎢       0       ⎥\n⎢               ⎥\n⎢t⋅(a⋅t⋅x₁ - x₂)⎥\n⎢               ⎥\n⎢t⋅(b⋅t⋅y₁ - y₂)⎥\n⎢               ⎥\n⎣t⋅(c⋅t⋅z₁ - z₂)⎦",
      "text/latex": "$\\displaystyle \\left[\\begin{matrix}0\\\\0\\\\0\\\\t \\left(a t x_{1} - x_{2}\\right)\\\\t \\left(b t y_{1} - y_{2}\\right)\\\\t \\left(c t z_{1} - z_{2}\\right)\\end{matrix}\\right]$"
     },
     "metadata": {},
     "execution_count": 249
    }
   ],
   "source": [
    "chi=Matrix([0,0,0,\n",
    "            #0,0,0])\n",
    "             - (x2 - a*t*x1)*t,-(y2-b*t*y1)*t,- (z2 - c*t*z1)*t])\n",
    "chi"
   ]
  },
  {
   "cell_type": "code",
   "execution_count": 250,
   "metadata": {},
   "outputs": [
    {
     "output_type": "execute_result",
     "data": {
      "text/plain": "⎡                0                           0                    0           \n⎢                                                                             \n⎢                0                           0                    0           \n⎢                                                                             \n⎢                0                           0                    0           \n⎢                                                                             \n⎢                a                     a⋅σ⋅t - b⋅σ⋅t              0           \n⎢                                                                             \n⎢                                                              2              \n⎢-a⋅t⋅(-c⋅t⋅z₁ + ρ) + b⋅t⋅(ρ - z₁)           b            a⋅c⋅t ⋅x₁ - b⋅t⋅x₁  \n⎢                                                                             \n⎢             2                            2                                  \n⎣      - a⋅b⋅t ⋅y₁ + c⋅t⋅y₁         - a⋅b⋅t ⋅x₁ + c⋅t⋅x₁          c           \n\n0  0  0⎤\n       ⎥\n0  0  0⎥\n       ⎥\n0  0  0⎥\n       ⎥\n0  0  0⎥\n       ⎥\n       ⎥\n0  0  0⎥\n       ⎥\n       ⎥\n0  0  0⎦",
      "text/latex": "$\\displaystyle \\left[\\begin{matrix}0 & 0 & 0 & 0 & 0 & 0\\\\0 & 0 & 0 & 0 & 0 & 0\\\\0 & 0 & 0 & 0 & 0 & 0\\\\a & a \\sigma t - b \\sigma t & 0 & 0 & 0 & 0\\\\- a t \\left(- c t z_{1} + \\rho\\right) + b t \\left(\\rho - z_{1}\\right) & b & a c t^{2} x_{1} - b t x_{1} & 0 & 0 & 0\\\\- a b t^{2} y_{1} + c t y_{1} & - a b t^{2} x_{1} + c t x_{1} & c & 0 & 0 & 0\\end{matrix}\\right]$"
     },
     "metadata": {},
     "execution_count": 250
    }
   ],
   "source": [
    "del_zeta=VectorDivergence(zeta,Variables)\n",
    "del_zeta"
   ]
  },
  {
   "cell_type": "code",
   "execution_count": 251,
   "metadata": {},
   "outputs": [
    {
     "output_type": "execute_result",
     "data": {
      "text/plain": "⎡ 0     0     0    0   0   0 ⎤\n⎢                            ⎥\n⎢ 0     0     0    0   0   0 ⎥\n⎢                            ⎥\n⎢ 0     0     0    0   0   0 ⎥\n⎢                            ⎥\n⎢   2                        ⎥\n⎢a⋅t    0     0    -t  0   0 ⎥\n⎢                            ⎥\n⎢         2                  ⎥\n⎢ 0    b⋅t    0    0   -t  0 ⎥\n⎢                            ⎥\n⎢               2            ⎥\n⎣ 0     0    c⋅t   0   0   -t⎦",
      "text/latex": "$\\displaystyle \\left[\\begin{matrix}0 & 0 & 0 & 0 & 0 & 0\\\\0 & 0 & 0 & 0 & 0 & 0\\\\0 & 0 & 0 & 0 & 0 & 0\\\\a t^{2} & 0 & 0 & - t & 0 & 0\\\\0 & b t^{2} & 0 & 0 & - t & 0\\\\0 & 0 & c t^{2} & 0 & 0 & - t\\end{matrix}\\right]$"
     },
     "metadata": {},
     "execution_count": 251
    }
   ],
   "source": [
    "del_chi=VectorDivergence(chi,Variables)\n",
    "del_chi"
   ]
  },
  {
   "cell_type": "code",
   "execution_count": 252,
   "metadata": {},
   "outputs": [
    {
     "output_type": "execute_result",
     "data": {
      "text/plain": "⎡  -σ    σ    0     0     0    0 ⎤\n⎢                                ⎥\n⎢ρ - z₁  -1  -x₁    0     0    0 ⎥\n⎢                                ⎥\n⎢  y₁    x₁  -β     0     0    0 ⎥\n⎢                                ⎥\n⎢  0     0    0     -σ    σ    0 ⎥\n⎢                                ⎥\n⎢  0     0    0   ρ - z₂  -1  -x₂⎥\n⎢                                ⎥\n⎣  0     0    0     y₂    x₂  -β ⎦",
      "text/latex": "$\\displaystyle \\left[\\begin{matrix}- \\sigma & \\sigma & 0 & 0 & 0 & 0\\\\\\rho - z_{1} & -1 & - x_{1} & 0 & 0 & 0\\\\y_{1} & x_{1} & - \\beta & 0 & 0 & 0\\\\0 & 0 & 0 & - \\sigma & \\sigma & 0\\\\0 & 0 & 0 & \\rho - z_{2} & -1 & - x_{2}\\\\0 & 0 & 0 & y_{2} & x_{2} & - \\beta\\end{matrix}\\right]$"
     },
     "metadata": {},
     "execution_count": 252
    }
   ],
   "source": [
    "del_F=VectorDivergence(F,Variables)\n",
    "del_F"
   ]
  },
  {
   "cell_type": "code",
   "execution_count": 253,
   "metadata": {
    "scrolled": true
   },
   "outputs": [
    {
     "output_type": "execute_result",
     "data": {
      "text/plain": "⎡               -σ                           σ                    0           \n⎢                                                                             \n⎢             ρ - z₁                         -1                  -x₁          \n⎢                                                                             \n⎢               y₁                           x₁                   -β          \n⎢                                                                             \n⎢               2                                                             \n⎢            a⋅t  + a                  a⋅σ⋅t - b⋅σ⋅t              0           \n⎢                                                                             \n⎢                                            2                 2              \n⎢-a⋅t⋅(-c⋅t⋅z₁ + ρ) + b⋅t⋅(ρ - z₁)        b⋅t  + b        a⋅c⋅t ⋅x₁ - b⋅t⋅x₁  \n⎢                                                                             \n⎢             2                            2                      2           \n⎣      - a⋅b⋅t ⋅y₁ + c⋅t⋅y₁         - a⋅b⋅t ⋅x₁ + c⋅t⋅x₁       c⋅t  + c       \n\n  0       0       0   ⎤\n                      ⎥\n  0       0       0   ⎥\n                      ⎥\n  0       0       0   ⎥\n                      ⎥\n                      ⎥\n-σ - t    σ       0   ⎥\n                      ⎥\n                      ⎥\nρ - z₂  -t - 1   -x₂  ⎥\n                      ⎥\n                      ⎥\n  y₂      x₂    -β - t⎦",
      "text/latex": "$\\displaystyle \\left[\\begin{matrix}- \\sigma & \\sigma & 0 & 0 & 0 & 0\\\\\\rho - z_{1} & -1 & - x_{1} & 0 & 0 & 0\\\\y_{1} & x_{1} & - \\beta & 0 & 0 & 0\\\\a t^{2} + a & a \\sigma t - b \\sigma t & 0 & - \\sigma - t & \\sigma & 0\\\\- a t \\left(- c t z_{1} + \\rho\\right) + b t \\left(\\rho - z_{1}\\right) & b t^{2} + b & a c t^{2} x_{1} - b t x_{1} & \\rho - z_{2} & - t - 1 & - x_{2}\\\\- a b t^{2} y_{1} + c t y_{1} & - a b t^{2} x_{1} + c t x_{1} & c t^{2} + c & y_{2} & x_{2} & - \\beta - t\\end{matrix}\\right]$"
     },
     "metadata": {},
     "execution_count": 253
    }
   ],
   "source": [
    "(del_F+del_zeta+del_chi)"
   ]
  },
  {
   "cell_type": "code",
   "execution_count": 254,
   "metadata": {},
   "outputs": [
    {
     "output_type": "execute_result",
     "data": {
      "text/plain": "⎡ 2              ⎤\n⎢a ⋅t   0     0  ⎥\n⎢                ⎥\n⎢       2        ⎥\n⎢ 0    b ⋅t   0  ⎥\n⎢                ⎥\n⎢             2  ⎥\n⎣ 0     0    c ⋅t⎦",
      "text/latex": "$\\displaystyle \\left[\\begin{matrix}a^{2} t & 0 & 0\\\\0 & b^{2} t & 0\\\\0 & 0 & c^{2} t\\end{matrix}\\right]$"
     },
     "metadata": {},
     "execution_count": 254
    }
   ],
   "source": [
    "diff(N,t)*N.transpose()"
   ]
  },
  {
   "cell_type": "code",
   "execution_count": 255,
   "metadata": {},
   "outputs": [
    {
     "output_type": "execute_result",
     "data": {
      "text/plain": "⎡   2   ⎛       2    ⎞                   ⎛ 2  2    ⎞                          \n⎢- a ⋅t⋅⎝σ⋅t + t  + 1⎠ - σ - t         σ⋅⎝b ⋅t  + 1⎠                      0   \n⎢                                                                             \n⎢ 2  2                             2   ⎛ 2        ⎞                    2  3   \n⎢a ⋅t ⋅(-c⋅t⋅z₁ + ρ) + ρ - z₂   - b ⋅t⋅⎝t  + t + 1⎠ - t - 1       - a⋅c ⋅t ⋅x₁\n⎢                                                                             \n⎢        2    3                          2  3                      2   ⎛      \n⎣       a ⋅b⋅t ⋅y₁ + y₂               a⋅b ⋅t ⋅x₁ + x₂        -β - c ⋅t⋅⎝β⋅t + \n\n           ⎤\n           ⎥\n           ⎥\n           ⎥\n - x₂      ⎥\n           ⎥\n 2    ⎞    ⎥\nt  + 1⎠ - t⎦",
      "text/latex": "$\\displaystyle \\left[\\begin{matrix}- a^{2} t \\left(\\sigma t + t^{2} + 1\\right) - \\sigma - t & \\sigma \\left(b^{2} t^{2} + 1\\right) & 0\\\\a^{2} t^{2} \\left(- c t z_{1} + \\rho\\right) + \\rho - z_{2} & - b^{2} t \\left(t^{2} + t + 1\\right) - t - 1 & - a c^{2} t^{3} x_{1} - x_{2}\\\\a^{2} b t^{3} y_{1} + y_{2} & a b^{2} t^{3} x_{1} + x_{2} & - \\beta - c^{2} t \\left(\\beta t + t^{2} + 1\\right) - t\\end{matrix}\\right]$"
     },
     "metadata": {},
     "execution_count": 255
    }
   ],
   "source": [
    "simplify(N*(del_F+del_zeta+del_chi)*N.transpose())"
   ]
  },
  {
   "cell_type": "code",
   "execution_count": 256,
   "metadata": {},
   "outputs": [
    {
     "output_type": "execute_result",
     "data": {
      "text/plain": "⎡      2    2    2  3                     ⎛ 2  2    ⎞                         \n⎢   - a ⋅σ⋅t  - a ⋅t  - σ - t           σ⋅⎝b ⋅t  + 1⎠                   0     \n⎢                                                                             \n⎢ 2  2                                2  3    2  2                 2  3       \n⎢a ⋅t ⋅(-c⋅t⋅z₁ + ρ) - c⋅t⋅z₁ + ρ  - b ⋅t  - b ⋅t  - t - 1    - a⋅c ⋅t ⋅x₁ - a\n⎢                                                                             \n⎢       2    3                          2  3                     2  2        2\n⎣      a ⋅b⋅t ⋅y₁ + b⋅t⋅y₁           a⋅b ⋅t ⋅x₁ + a⋅t⋅x₁    - β⋅c ⋅t  - β - c \n\n       ⎤\n       ⎥\n       ⎥\n       ⎥\n⋅t⋅x₁  ⎥\n       ⎥\n  3    ⎥\n⋅t  - t⎦",
      "text/latex": "$\\displaystyle \\left[\\begin{matrix}- a^{2} \\sigma t^{2} - a^{2} t^{3} - \\sigma - t & \\sigma \\left(b^{2} t^{2} + 1\\right) & 0\\\\a^{2} t^{2} \\left(- c t z_{1} + \\rho\\right) - c t z_{1} + \\rho & - b^{2} t^{3} - b^{2} t^{2} - t - 1 & - a c^{2} t^{3} x_{1} - a t x_{1}\\\\a^{2} b t^{3} y_{1} + b t y_{1} & a b^{2} t^{3} x_{1} + a t x_{1} & - \\beta c^{2} t^{2} - \\beta - c^{2} t^{3} - t\\end{matrix}\\right]$"
     },
     "metadata": {},
     "execution_count": 256
    }
   ],
   "source": [
    "Jac = N*(del_F+del_zeta+del_chi)*N.transpose() + diff(N,t)*N.transpose()\n",
    "Jac = simplify(Jac)\n",
    "Jac.subs([(x2,a*t*x1),(y2,b*t*y1),(z2,c*t*z1)])"
   ]
  },
  {
   "cell_type": "code",
   "execution_count": 257,
   "metadata": {},
   "outputs": [
    {
     "output_type": "execute_result",
     "data": {
      "text/plain": "**3 - 3*a*b**2*t**3*x1*x2 - 3*a*c**2*t**3*x1*x2 - 3*b**2*beta*c**2*t**5 - 3*b**2*beta*c**2*t**4 - 3*b**2*beta*t**3 - 3*b**2*beta*t**2 - 3*b**2*c**2*t**6 - 3*b**2*c**2*t**5 + 3*b**2*rho*sigma*t**2 - 3*b**2*sigma*t**3 - 3*b**2*sigma*t**2*z2 - 3*b**2*sigma*t**2 - 6*b**2*t**4 - 6*b**2*t**3 - 3*beta*c**2*sigma*t**2 - 6*beta*c**2*t**3 - 3*beta*c**2*t**2 - 3*beta*sigma - 6*beta*t - 3*beta - 3*c**2*sigma*t**3 - 6*c**2*t**4 - 3*c**2*t**3 + 3*rho*sigma - 6*sigma*t - 3*sigma*z2 - 3*sigma - 9*t**2 - 6*t - 3*x2**2 + (a**2*sigma*t**2 + a**2*t**3 + b**2*t**3 + b**2*t**2 + beta*c**2*t**2 + beta + c**2*t**3 + sigma + 3*t + 1)**2)/(3*(-1/2 - sqrt(3)*I/2)*(27*a**4*b**2*c**2*sigma*t**8*x1**2/2 + 27*a**4*b**2*c**2*t**9*x1**2/2 + 27*a**3*b**3*c**2*sigma*t**8*x1*y1/2 + 27*a**3*b**2*sigma*t**5*x1*x2/2 + 27*a**3*b**2*t**6*x1*x2/2 + 27*a**3*b*c**2*sigma*t**6*x1*y1/2 + 27*a**3*c**2*sigma*t**5*x1*x2/2 + 27*a**3*c**2*t**6*x1*x2/2 + 27*a**2*b**3*sigma*t**5*x2*y1/2 + 27*a**2*b**2*beta*c**3*sigma*t**7*z1/2 - 27*a**2*b**2*beta*c**2*rho*sigma*t**6/2 + 27*a**2*b**2*beta*c**2*sigma*t**7/2 + 27*a**2*b**2*beta*c**2*sigma*t**6/2 + 27*a**2*b**2*beta*c**2*t**8/2 + 27*a**2*b**2*beta*c**2*t**7/2 + 27*a**2*b**2*beta*c*sigma*t**5*z1/2 - 27*a**2*b**2*beta*rho*sigma*t**4/2 + 27*a**2*b**2*beta*sigma*t**5/2 + 27*a**2*b**2*beta*sigma*t**4/2 + 27*a**2*b**2*beta*t**6/2 + 27*a**2*b**2*beta*t**5/2 + 27*a**2*b**2*c**3*sigma*t**8*z1/2 - 27*a**2*b**2*c**2*rho*sigma*t**7/2 + 27*a**2*b**2*c**2*sigma*t**8/2 + 27*a**2*b**2*c**2*sigma*t**7/2 + 27*a**2*b**2*c**2*sigma*t**6*x1**2/2 + 27*a**2*b**2*c**2*t**9/2 + 27*a**2*b**2*c**2*t**8/2 + 27*a**2*b**2*c**2*t**7*x1**2/2 + 27*a**2*b**2*c*sigma*t**6*z1/2 - 27*a**2*b**2*rho*sigma*t**5/2 + 27*a**2*b**2*sigma*t**6/2 + 27*a**2*b**2*sigma*t**5/2 + 27*a**2*b**2*t**7/2 + 27*a**2*b**2*t**6/2 + 27*a**2*b*sigma*t**3*x2*y1/2 + 27*a**2*beta*c**3*sigma*t**5*z1/2 - 27*a**2*beta*c**2*rho*sigma*t**4/2 + 27*a**2*beta*c**2*sigma*t**5/2 + 27*a**2*beta*c**2*sigma*t**4/2 + 27*a**2*beta*c**2*t**6/2 + 27*a**2*beta*c**2*t**5/2 + 27*a**2*beta*c*sigma*t**3*z1/2 - 27*a**2*beta*rho*sigma*t**2/2 + 27*a**2*beta*sigma*t**3/2 + 27*a**2*beta*sigma*t**2/2 + 27*a**2*beta*t**4/2 + 27*a**2*beta*t**3/2 + 27*a**2*c**3*sigma*t**6*z1/2 - 27*a**2*c**2*rho*sigma*t**5/2 + 27*a**2*c**2*sigma*t**6/2 + 27*a**2*c**2*sigma*t**5/2 + 27*a**2*c**2*t**7/2 + 27*a**2*c**2*t**6/2 + 27*a**2*c*sigma*t**4*z1/2 - 27*a**2*rho*sigma*t**3/2 + 27*a**2*sigma*t**4/2 + 27*a**2*sigma*t**3/2 + 27*a**2*sigma*t**2*x2**2/2 + 27*a**2*t**5/2 + 27*a**2*t**4/2 + 27*a**2*t**3*x2**2/2 + 27*a*b**2*c**2*sigma*t**5*x1*y2/2 + 27*a*b**2*sigma*t**3*x1*x2/2 + 27*a*b**2*t**4*x1*x2/2 + 27*a*c**2*sigma*t**3*x1*x2/2 + 27*a*c**2*sigma*t**3*x1*y2/2 + 27*a*c**2*t**4*x1*x2/2 - 27*b**2*beta*c**2*rho*sigma*t**4/2 + 27*b**2*beta*c**2*sigma*t**5/2 + 27*b**2*beta*c**2*sigma*t**4*z2/2 + 27*b**2*beta*c**2*sigma*t**4/2 + 27*b**2*beta*c**2*t**6/2 + 27*b**2*beta*c**2*t**5/2 - 27*b**2*beta*rho*sigma*t**2/2 + 27*b**2*beta*sigma*t**3/2 + 27*b**2*beta*sigma*t**2*z2/2 + 27*b**2*beta*sigma*t**2/2 + 27*b**2*beta*t**4/2 + 27*b**2*beta*t**3/2 - 27*b**2*c**2*rho*sigma*t**5/2 + 27*b**2*c**2*sigma*t**6/2 + 27*b**2*c**2*sigma*t**5*z2/2 + 27*b**2*c**2*sigma*t**5/2 + 27*b**2*c**2*t**7/2 + 27*b**2*c**2*t**6/2 - 27*b**2*rho*sigma*t**3/2 + 27*b**2*sigma*t**4/2 + 27*b**2*sigma*t**3*z2/2 + 27*b**2*sigma*t**3/2 + 27*b**2*sigma*t**2*x2*y2/2 + 27*b**2*t**5/2 + 27*b**2*t**4/2 - 27*beta*c**2*rho*sigma*t**2/2 + 27*beta*c**2*sigma*t**3/2 + 27*beta*c**2*sigma*t**2*z2/2 + 27*beta*c**2*sigma*t**2/2 + 27*beta*c**2*t**4/2 + 27*beta*c**2*t**3/2 - 27*beta*rho*sigma/2 + 27*beta*sigma*t/2 + 27*beta*sigma*z2/2 + 27*beta*sigma/2 + 27*beta*t**2/2 + 27*beta*t/2 - 27*c**2*rho*sigma*t**3/2 + 27*c**2*sigma*t**4/2 + 27*c**2*sigma*t**3*z2/2 + 27*c**2*sigma*t**3/2 + 27*c**2*t**5/2 + 27*c**2*t**4/2 - 27*rho*sigma*t/2 + 27*sigma*t**2/2 + 27*sigma*t*z2/2 + 27*sigma*t/2 + 27*sigma*x2**2/2 + 27*sigma*x2*y2/2 + 27*t**3/2 + 27*t**2/2 + 27*t*x2**2/2 + sqrt(-4*(-3*a**2*b**2*c**2*t**6*x1**2 - 3*a**2*b**2*c*sigma*t**5*z1 + 3*a**2*b**2*rho*sigma*t**4 - 3*a**2*b**2*sigma*t**5 - 3*a**2*b**2*sigma*t**4 - 3*a**2*b**2*t**6 - 3*a**2*b**2*t**5 - 3*a**2*beta*c**2*sigma*t**4 - 3*a**2*beta*c**2*t**5 - 3*a**2*beta*sigma*t**2 - 3*a**2*beta*t**3 - 3*a**2*c**2*sigma*t**5 - 3*a**2*c**2*t**6 - 3*a**2*c*sigma*t**3*z1 + 3*a**2*rho*sigma*t**2 - 6*a**2*sigma*t**3 - 3*a**2*sigma*t**2 - 6*a**2*t**4 - 3*a**2*t**3 - 3*a*b**2*t**3*x1*x2 - 3*a*c**2*t**3*x1*x2 - 3*b**2*beta*c**2*t**5 - 3*b**2*beta*c**2*t**4 - 3*b**2*beta*t**3 - 3*b**2*beta*t**2 - 3*b**2*c**2*t**6 - 3*b**2*c**2*t**5 + 3*b**2*rho*sigma*t**2 - 3*b**2*sigma*t**3 - 3*b**2*sigma*t**2*z2 - 3*b**2*sigma*t**2 - 6*b**2*t**4 - 6*b**2*t**3 - 3*beta*c**2*sigma*t**2 - 6*beta*c**2*t**3 - 3*beta*c**2*t**2 - 3*beta*sigma - 6*beta*t - 3*beta - 3*c**2*sigma*t**3 - 6*c**2*t**4 - 3*c**2*t**3 + 3*rho*sigma - 6*sigma*t - 3*sigma*z2 - 3*sigma - 9*t**2 - 6*t - 3*x2**2 + (a**2*sigma*t**2 + a**2*t**3 + b**2*t**3 + b**2*t**2 + beta*c**2*t**2 + beta + c**2*t**3 + sigma + 3*t + 1)**2)**3 + (27*a**4*b**2*c**2*sigma*t**8*x1**2 + 27*a**4*b**2*c**2*t**9*x1**2 + 27*a**3*b**3*c**2*sigma*t**8*x1*y1 + 27*a**3*b**2*sigma*t**5*x1*x2 + 27*a**3*b**2*t**6*x1*x2 + 27*a**3*b*c**2*sigma*t**6*x1*y1 + 27*a**3*c**2*sigma*t**5*x1*x2 + 27*a**3*c**2*t**6*x1*x2 + 27*a**2*b**3*sigma*t**5*x2*y1 + 27*a**2*b**2*beta*c**3*sigma*t**7*z1 - 27*a**2*b**2*beta*c**2*rho*sigma*t**6 + 27*a**2*b**2*beta*c**2*sigma*t**7 + 27*a**2*b**2*beta*c**2*sigma*t**6 + 27*a**2*b**2*beta*c**2*t**8 + 27*a**2*b**2*beta*c**2*t**7 + 27*a**2*b**2*beta*c*sigma*t**5*z1 - 27*a**2*b**2*beta*rho*sigma*t**4 + 27*a**2*b**2*beta*sigma*t**5 + 27*a**2*b**2*beta*sigma*t**4 + 27*a**2*b**2*beta*t**6 + 27*a**2*b**2*beta*t**5 + 27*a**2*b**2*c**3*sigma*t**8*z1 - 27*a**2*b**2*c**2*rho*sigma*t**7 + 27*a**2*b**2*c**2*sigma*t**8 + 27*a**2*b**2*c**2*sigma*t**7 + 27*a**2*b**2*c**2*sigma*t**6*x1**2 + 27*a**2*b**2*c**2*t**9 + 27*a**2*b**2*c**2*t**8 + 27*a**2*b**2*c**2*t**7*x1**2 + 27*a**2*b**2*c*sigma*t**6*z1 - 27*a**2*b**2*rho*sigma*t**5 + 27*a**2*b**2*sigma*t**6 + 27*a**2*b**2*sigma*t**5 + 27*a**2*b**2*t**7 + 27*a**2*b**2*t**6 + 27*a**2*b*sigma*t**3*x2*y1 + 27*a**2*beta*c**3*sigma*t**5*z1 - 27*a**2*beta*c**2*rho*sigma*t**4 + 27*a**2*beta*c**2*sigma*t**5 + 27*a**2*beta*c**2*sigma*t**4 + 27*a**2*beta*c**2*t**6 + 27*a**2*beta*c**2*t**5 + 27*a**2*beta*c*sigma*t**3*z1 - 27*a**2*beta*rho*sigma*t**2 + 27*a**2*beta*sigma*t**3 + 27*a**2*beta*sigma*t**2 + 27*a**2*beta*t**4 + 27*a**2*beta*t**3 + 27*a**2*c**3*sigma*t**6*z1 - 27*a**2*c**2*rho*sigma*t**5 + 27*a**2*c**2*sigma*t**6 + 27*a**2*c**2*sigma*t**5 + 27*a**2*c**2*t**7 + 27*a**2*c**2*t**6 + 27*a**2*c*sigma*t**4*z1 - 27*a**2*rho*sigma*t**3 + 27*a**2*sigma*t**4 + 27*a**2*sigma*t**3 + 27*a**2*sigma*t**2*x2**2 + 27*a**2*t**5 + 27*a**2*t**4 + 27*a**2*t**3*x2**2 + 27*a*b**2*c**2*sigma*t**5*x1*y2 + 27*a*b**2*sigma*t**3*x1*x2 + 27*a*b**2*t**4*x1*x2 + 27*a*c**2*sigma*t**3*x1*x2 + 27*a*c**2*sigma*t**3*x1*y2 + 27*a*c**2*t**4*x1*x2 - 27*b**2*beta*c**2*rho*sigma*t**4 + 27*b**2*beta*c**2*sigma*t**5 + 27*b**2*beta*c**2*sigma*t**4*z2 + 27*b**2*beta*c**2*sigma*t**4 + 27*b**2*beta*c**2*t**6 + 27*b**2*beta*c**2*t**5 - 27*b**2*beta*rho*sigma*t**2 + 27*b**2*beta*sigma*t**3 + 27*b**2*beta*sigma*t**2*z2 + 27*b**2*beta*sigma*t**2 + 27*b**2*beta*t**4 + 27*b**2*beta*t**3 - 27*b**2*c**2*rho*sigma*t**5 + 27*b**2*c**2*sigma*t**6 + 27*b**2*c**2*sigma*t**5*z2 + 27*b**2*c**2*sigma*t**5 + 27*b**2*c**2*t**7 + 27*b**2*c**2*t**6 - 27*b**2*rho*sigma*t**3 + 27*b**2*sigma*t**4 + 27*b**2*sigma*t**3*z2 + 27*b**2*sigma*t**3 + 27*b**2*sigma*t**2*x2*y2 + 27*b**2*t**5 + 27*b**2*t**4 - 27*beta*c**2*rho*sigma*t**2 + 27*beta*c**2*sigma*t**3 + 27*beta*c**2*sigma*t**2*z2 + 27*beta*c**2*sigma*t**2 + 27*beta*c**2*t**4 + 27*beta*c**2*t**3 - 27*beta*rho*sigma + 27*beta*sigma*t + 27*beta*sigma*z2 + 27*beta*sigma + 27*beta*t**2 + 27*beta*t - 27*c**2*rho*sigma*t**3 + 27*c**2*sigma*t**4 + 27*c**2*sigma*t**3*z2 + 27*c**2*sigma*t**3 + 27*c**2*t**5 + 27*c**2*t**4 - 27*rho*sigma*t + 27*sigma*t**2 + 27*sigma*t*z2 + 27*sigma*t + 27*sigma*x2**2 + 27*sigma*x2*y2 + 27*t**3 + 27*t**2 + 27*t*x2**2 + 2*(a**2*sigma*t**2 + a**2*t**3 + b**2*t**3 + b**2*t**2 + beta*c**2*t**2 + beta + c**2*t**3 + sigma + 3*t + 1)**3 - (9*a**2*sigma*t**2 + 9*a**2*t**3 + 9*b**2*t**3 + 9*b**2*t**2 + 9*beta*c**2*t**2 + 9*beta + 9*c**2*t**3 + 9*sigma + 27*t + 9)*(a**2*b**2*c**2*t**6*x1**2 + a**2*b**2*c*sigma*t**5*z1 - a**2*b**2*rho*sigma*t**4 + a**2*b**2*sigma*t**5 + a**2*b**2*sigma*t**4 + a**2*b**2*t**6 + a**2*b**2*t**5 + a**2*beta*c**2*sigma*t**4 + a**2*beta*c**2*t**5 + a**2*beta*sigma*t**2 + a**2*beta*t**3 + a**2*c**2*sigma*t**5 + a**2*c**2*t**6 + a**2*c*sigma*t**3*z1 - a**2*rho*sigma*t**2 + 2*a**2*sigma*t**3 + a**2*sigma*t**2 + 2*a**2*t**4 + a**2*t**3 + a*b**2*t**3*x1*x2 + a*c**2*t**3*x1*x2 + b**2*beta*c**2*t**5 + b**2*beta*c**2*t**4 + b**2*beta*t**3 + b**2*beta*t**2 + b**2*c**2*t**6 + b**2*c**2*t**5 - b**2*rho*sigma*t**2 + b**2*sigma*t**3 + b**2*sigma*t**2*z2 + b**2*sigma*t**2 + 2*b**2*t**4 + 2*b**2*t**3 + beta*c**2*sigma*t**2 + 2*beta*c**2*t**3 + beta*c**2*t**2 + beta*sigma + 2*beta*t + beta + c**2*sigma*t**3 + 2*c**2*t**4 + c**2*t**3 - rho*sigma + 2*sigma*t + sigma*z2 + sigma + 3*t**2 + 2*t + x2**2))**2)/2 + (a**2*sigma*t**2 + a**2*t**3 + b**2*t**3 + b**2*t**2 + beta*c**2*t**2 + beta + c**2*t**3 + sigma + 3*t + 1)**3 - (9*a**2*sigma*t**2 + 9*a**2*t**3 + 9*b**2*t**3 + 9*b**2*t**2 + 9*beta*c**2*t**2 + 9*beta + 9*c**2*t**3 + 9*sigma + 27*t + 9)*(a**2*b**2*c**2*t**6*x1**2 + a**2*b**2*c*sigma*t**5*z1 - a**2*b**2*rho*sigma*t**4 + a**2*b**2*sigma*t**5 + a**2*b**2*sigma*t**4 + a**2*b**2*t**6 + a**2*b**2*t**5 + a**2*beta*c**2*sigma*t**4 + a**2*beta*c**2*t**5 + a**2*beta*sigma*t**2 + a**2*beta*t**3 + a**2*c**2*sigma*t**5 + a**2*c**2*t**6 + a**2*c*sigma*t**3*z1 - a**2*rho*sigma*t**2 + 2*a**2*sigma*t**3 + a**2*sigma*t**2 + 2*a**2*t**4 + a**2*t**3 + a*b**2*t**3*x1*x2 + a*c**2*t**3*x1*x2 + b**2*beta*c**2*t**5 + b**2*beta*c**2*t**4 + b**2*beta*t**3 + b**2*beta*t**2 + b**2*c**2*t**6 + b**2*c**2*t**5 - b**2*rho*sigma*t**2 + b**2*sigma*t**3 + b**2*sigma*t**2*z2 + b**2*sigma*t**2 + 2*b**2*t**4 + 2*b**2*t**3 + beta*c**2*sigma*t**2 + 2*beta*c**2*t**3 + beta*c**2*t**2 + beta*sigma + 2*beta*t + beta + c**2*sigma*t**3 + 2*c**2*t**4 + c**2*t**3 - rho*sigma + 2*sigma*t + sigma*z2 + sigma + 3*t**2 + 2*t + x2**2)/2)**(1/3)) - (-1/2 - sqrt(3)*I/2)*(27*a**4*b**2*c**2*sigma*t**8*x1**2/2 + 27*a**4*b**2*c**2*t**9*x1**2/2 + 27*a**3*b**3*c**2*sigma*t**8*x1*y1/2 + 27*a**3*b**2*sigma*t**5*x1*x2/2 + 27*a**3*b**2*t**6*x1*x2/2 + 27*a**3*b*c**2*sigma*t**6*x1*y1/2 + 27*a**3*c**2*sigma*t**5*x1*x2/2 + 27*a**3*c**2*t**6*x1*x2/2 + 27*a**2*b**3*sigma*t**5*x2*y1/2 + 27*a**2*b**2*beta*c**3*sigma*t**7*z1/2 - 27*a**2*b**2*beta*c**2*rho*sigma*t**6/2 + 27*a**2*b**2*beta*c**2*sigma*t**7/2 + 27*a**2*b**2*beta*c**2*sigma*t**6/2 + 27*a**2*b**2*beta*c**2*t**8/2 + 27*a**2*b**2*beta*c**2*t**7/2 + 27*a**2*b**2*beta*c*sigma*t**5*z1/2 - 27*a**2*b**2*beta*rho*sigma*t**4/2 + 27*a**2*b**2*beta*sigma*t**5/2 + 27*a**2*b**2*beta*sigma*t**4/2 + 27*a**2*b**2*beta*t**6/2 + 27*a**2*b**2*beta*t**5/2 + 27*a**2*b**2*c**3*sigma*t**8*z1/2 - 27*a**2*b**2*c**2*rho*sigma*t**7/2 + 27*a**2*b**2*c**2*sigma*t**8/2 + 27*a**2*b**2*c**2*sigma*t**7/2 + 27*a**2*b**2*c**2*sigma*t**6*x1**2/2 + 27*a**2*b**2*c**2*t**9/2 + 27*a**2*b**2*c**2*t**8/2 + 27*a**2*b**2*c**2*t**7*x1**2/2 + 27*a**2*b**2*c*sigma*t**6*z1/2 - 27*a**2*b**2*rho*sigma*t**5/2 + 27*a**2*b**2*sigma*t**6/2 + 27*a**2*b**2*sigma*t**5/2 + 27*a**2*b**2*t**7/2 + 27*a**2*b**2*t**6/2 + 27*a**2*b*sigma*t**3*x2*y1/2 + 27*a**2*beta*c**3*sigma*t**5*z1/2 - 27*a**2*beta*c**2*rho*sigma*t**4/2 + 27*a**2*beta*c**2*sigma*t**5/2 + 27*a**2*beta*c**2*sigma*t**4/2 + 27*a**2*beta*c**2*t**6/2 + 27*a**2*beta*c**2*t**5/2 + 27*a**2*beta*c*sigma*t**3*z1/2 - 27*a**2*beta*rho*sigma*t**2/2 + 27*a**2*beta*sigma*t**3/2 + 27*a**2*beta*sigma*t**2/2 + 27*a**2*beta*t**4/2 + 27*a**2*beta*t**3/2 + 27*a**2*c**3*sigma*t**6*z1/2 - 27*a**2*c**2*rho*sigma*t**5/2 + 27*a**2*c**2*sigma*t**6/2 + 27*a**2*c**2*sigma*t**5/2 + 27*a**2*c**2*t**7/2 + 27*a**2*c**2*t**6/2 + 27*a**2*c*sigma*t**4*z1/2 - 27*a**2*rho*sigma*t**3/2 + 27*a**2*sigma*t**4/2 + 27*a**2*sigma*t**3/2 + 27*a**2*sigma*t**2*x2**2/2 + 27*a**2*t**5/2 + 27*a**2*t**4/2 + 27*a**2*t**3*x2**2/2 + 27*a*b**2*c**2*sigma*t**5*x1*y2/2 + 27*a*b**2*sigma*t**3*x1*x2/2 + 27*a*b**2*t**4*x1*x2/2 + 27*a*c**2*sigma*t**3*x1*x2/2 + 27*a*c**2*sigma*t**3*x1*y2/2 + 27*a*c**2*t**4*x1*x2/2 - 27*b**2*beta*c**2*rho*sigma*t**4/2 + 27*b**2*beta*c**2*sigma*t**5/2 + 27*b**2*beta*c**2*sigma*t**4*z2/2 + 27*b**2*beta*c**2*sigma*t**4/2 + 27*b**2*beta*c**2*t**6/2 + 27*b**2*beta*c**2*t**5/2 - 27*b**2*beta*rho*sigma*t**2/2 + 27*b**2*beta*sigma*t**3/2 + 27*b**2*beta*sigma*t**2*z2/2 + 27*b**2*beta*sigma*t**2/2 + 27*b**2*beta*t**4/2 + 27*b**2*beta*t**3/2 - 27*b**2*c**2*rho*sigma*t**5/2 + 27*b**2*c**2*sigma*t**6/2 + 27*b**2*c**2*sigma*t**5*z2/2 + 27*b**2*c**2*sigma*t**5/2 + 27*b**2*c**2*t**7/2 + 27*b**2*c**2*t**6/2 - 27*b**2*rho*sigma*t**3/2 + 27*b**2*sigma*t**4/2 + 27*b**2*sigma*t**3*z2/2 + 27*b**2*sigma*t**3/2 + 27*b**2*sigma*t**2*x2*y2/2 + 27*b**2*t**5/2 + 27*b**2*t**4/2 - 27*beta*c**2*rho*sigma*t**2/2 + 27*beta*c**2*sigma*t**3/2 + 27*beta*c**2*sigma*t**2*z2/2 + 27*beta*c**2*sigma*t**2/2 + 27*beta*c**2*t**4/2 + 27*beta*c**2*t**3/2 - 27*beta*rho*sigma/2 + 27*beta*sigma*t/2 + 27*beta*sigma*z2/2 + 27*beta*sigma/2 + 27*beta*t**2/2 + 27*beta*t/2 - 27*c**2*rho*sigma*t**3/2 + 27*c**2*sigma*t**4/2 + 27*c**2*sigma*t**3*z2/2 + 27*c**2*sigma*t**3/2 + 27*c**2*t**5/2 + 27*c**2*t**4/2 - 27*rho*sigma*t/2 + 27*sigma*t**2/2 + 27*sigma*t*z2/2 + 27*sigma*t/2 + 27*sigma*x2**2/2 + 27*sigma*x2*y2/2 + 27*t**3/2 + 27*t**2/2 + 27*t*x2**2/2 + sqrt(-4*(-3*a**2*b**2*c**2*t**6*x1**2 - 3*a**2*b**2*c*sigma*t**5*z1 + 3*a**2*b**2*rho*sigma*t**4 - 3*a**2*b**2*sigma*t**5 - 3*a**2*b**2*sigma*t**4 - 3*a**2*b**2*t**6 - 3*a**2*b**2*t**5 - 3*a**2*beta*c**2*sigma*t**4 - 3*a**2*beta*c**2*t**5 - 3*a**2*beta*sigma*t**2 - 3*a**2*beta*t**3 - 3*a**2*c**2*sigma*t**5 - 3*a**2*c**2*t**6 - 3*a**2*c*sigma*t**3*z1 + 3*a**2*rho*sigma*t**2 - 6*a**2*sigma*t**3 - 3*a**2*sigma*t**2 - 6*a**2*t**4 - 3*a**2*t**3 - 3*a*b**2*t**3*x1*x2 - 3*a*c**2*t**3*x1*x2 - 3*b**2*beta*c**2*t**5 - 3*b**2*beta*c**2*t**4 - 3*b**2*beta*t**3 - 3*b**2*beta*t**2 - 3*b**2*c**2*t**6 - 3*b**2*c**2*t**5 + 3*b**2*rho*sigma*t**2 - 3*b**2*sigma*t**3 - 3*b**2*sigma*t**2*z2 - 3*b**2*sigma*t**2 - 6*b**2*t**4 - 6*b**2*t**3 - 3*beta*c**2*sigma*t**2 - 6*beta*c**2*t**3 - 3*beta*c**2*t**2 - 3*beta*sigma - 6*beta*t - 3*beta - 3*c**2*sigma*t**3 - 6*c**2*t**4 - 3*c**2*t**3 + 3*rho*sigma - 6*sigma*t - 3*sigma*z2 - 3*sigma - 9*t**2 - 6*t - 3*x2**2 + (a**2*sigma*t**2 + a**2*t**3 + b**2*t**3 + b**2*t**2 + beta*c**2*t**2 + beta + c**2*t**3 + sigma + 3*t + 1)**2)**3 + (27*a**4*b**2*c**2*sigma*t**8*x1**2 + 27*a**4*b**2*c**2*t**9*x1**2 + 27*a**3*b**3*c**2*sigma*t**8*x1*y1 + 27*a**3*b**2*sigma*t**5*x1*x2 + 27*a**3*b**2*t**6*x1*x2 + 27*a**3*b*c**2*sigma*t**6*x1*y1 + 27*a**3*c**2*sigma*t**5*x1*x2 + 27*a**3*c**2*t**6*x1*x2 + 27*a**2*b**3*sigma*t**5*x2*y1 + 27*a**2*b**2*beta*c**3*sigma*t**7*z1 - 27*a**2*b**2*beta*c**2*rho*sigma*t**6 + 27*a**2*b**2*beta*c**2*sigma*t**7 + 27*a**2*b**2*beta*c**2*sigma*t**6 + 27*a**2*b**2*beta*c**2*t**8 + 27*a**2*b**2*beta*c**2*t**7 + 27*a**2*b**2*beta*c*sigma*t**5*z1 - 27*a**2*b**2*beta*rho*sigma*t**4 + 27*a**2*b**2*beta*sigma*t**5 + 27*a**2*b**2*beta*sigma*t**4 + 27*a**2*b**2*beta*t**6 + 27*a**2*b**2*beta*t**5 + 27*a**2*b**2*c**3*sigma*t**8*z1 - 27*a**2*b**2*c**2*rho*sigma*t**7 + 27*a**2*b**2*c**2*sigma*t**8 + 27*a**2*b**2*c**2*sigma*t**7 + 27*a**2*b**2*c**2*sigma*t**6*x1**2 + 27*a**2*b**2*c**2*t**9 + 27*a**2*b**2*c**2*t**8 + 27*a**2*b**2*c**2*t**7*x1**2 + 27*a**2*b**2*c*sigma*t**6*z1 - 27*a**2*b**2*rho*sigma*t**5 + 27*a**2*b**2*sigma*t**6 + 27*a**2*b**2*sigma*t**5 + 27*a**2*b**2*t**7 + 27*a**2*b**2*t**6 + 27*a**2*b*sigma*t**3*x2*y1 + 27*a**2*beta*c**3*sigma*t**5*z1 - 27*a**2*beta*c**2*rho*sigma*t**4 + 27*a**2*beta*c**2*sigma*t**5 + 27*a**2*beta*c**2*sigma*t**4 + 27*a**2*beta*c**2*t**6 + 27*a**2*beta*c**2*t**5 + 27*a**2*beta*c*sigma*t**3*z1 - 27*a**2*beta*rho*sigma*t**2 + 27*a**2*beta*sigma*t**3 + 27*a**2*beta*sigma*t**2 + 27*a**2*beta*t**4 + 27*a**2*beta*t**3 + 27*a**2*c**3*sigma*t**6*z1 - 27*a**2*c**2*rho*sigma*t**5 + 27*a**2*c**2*sigma*t**6 + 27*a**2*c**2*sigma*t**5 + 27*a**2*c**2*t**7 + 27*a**2*c**2*t**6 + 27*a**2*c*sigma*t**4*z1 - 27*a**2*rho*sigma*t**3 + 27*a**2*sigma*t**4 + 27*a**2*sigma*t**3 + 27*a**2*sigma*t**2*x2**2 + 27*a**2*t**5 + 27*a**2*t**4 + 27*a**2*t**3*x2**2 + 27*a*b**2*c**2*sigma*t**5*x1*y2 + 27*a*b**2*sigma*t**3*x1*x2 + 27*a*b**2*t**4*x1*x2 + 27*a*c**2*sigma*t**3*x1*x2 + 27*a*c**2*sigma*t**3*x1*y2 + 27*a*c**2*t**4*x1*x2 - 27*b**2*beta*c**2*rho*sigma*t**4 + 27*b**2*beta*c**2*sigma*t**5 + 27*b**2*beta*c**2*sigma*t**4*z2 + 27*b**2*beta*c**2*sigma*t**4 + 27*b**2*beta*c**2*t**6 + 27*b**2*beta*c**2*t**5 - 27*b**2*beta*rho*sigma*t**2 + 27*b**2*beta*sigma*t**3 + 27*b**2*beta*sigma*t**2*z2 + 27*b**2*beta*sigma*t**2 + 27*b**2*beta*t**4 + 27*b**2*beta*t**3 - 27*b**2*c**2*rho*sigma*t**5 + 27*b**2*c**2*sigma*t**6 + 27*b**2*c**2*sigma*t**5*z2 + 27*b**2*c**2*sigma*t**5 + 27*b**2*c**2*t**7 + 27*b**2*c**2*t**6 - 27*b**2*rho*sigma*t**3 + 27*b**2*sigma*t**4 + 27*b**2*sigma*t**3*z2 + 27*b**2*sigma*t**3 + 27*b**2*sigma*t**2*x2*y2 + 27*b**2*t**5 + 27*b**2*t**4 - 27*beta*c**2*rho*sigma*t**2 + 27*beta*c**2*sigma*t**3 + 27*beta*c**2*sigma*t**2*z2 + 27*beta*c**2*sigma*t**2 + 27*beta*c**2*t**4 + 27*beta*c**2*t**3 - 27*beta*rho*sigma + 27*beta*sigma*t + 27*beta*sigma*z2 + 27*beta*sigma + 27*beta*t**2 + 27*beta*t - 27*c**2*rho*sigma*t**3 + 27*c**2*sigma*t**4 + 27*c**2*sigma*t**3*z2 + 27*c**2*sigma*t**3 + 27*c**2*t**5 + 27*c**2*t**4 - 27*rho*sigma*t + 27*sigma*t**2 + 27*sigma*t*z2 + 27*sigma*t + 27*sigma*x2**2 + 27*sigma*x2*y2 + 27*t**3 + 27*t**2 + 27*t*x2**2 + 2*(a**2*sigma*t**2 + a**2*t**3 + b**2*t**3 + b**2*t**2 + beta*c**2*t**2 + beta + c**2*t**3 + sigma + 3*t + 1)**3 - (9*a**2*sigma*t**2 + 9*a**2*t**3 + 9*b**2*t**3 + 9*b**2*t**2 + 9*beta*c**2*t**2 + 9*beta + 9*c**2*t**3 + 9*sigma + 27*t + 9)*(a**2*b**2*c**2*t**6*x1**2 + a**2*b**2*c*sigma*t**5*z1 - a**2*b**2*rho*sigma*t**4 + a**2*b**2*sigma*t**5 + a**2*b**2*sigma*t**4 + a**2*b**2*t**6 + a**2*b**2*t**5 + a**2*beta*c**2*sigma*t**4 + a**2*beta*c**2*t**5 + a**2*beta*sigma*t**2 + a**2*beta*t**3 + a**2*c**2*sigma*t**5 + a**2*c**2*t**6 + a**2*c*sigma*t**3*z1 - a**2*rho*sigma*t**2 + 2*a**2*sigma*t**3 + a**2*sigma*t**2 + 2*a**2*t**4 + a**2*t**3 + a*b**2*t**3*x1*x2 + a*c**2*t**3*x1*x2 + b**2*beta*c**2*t**5 + b**2*beta*c**2*t**4 + b**2*beta*t**3 + b**2*beta*t**2 + b**2*c**2*t**6 + b**2*c**2*t**5 - b**2*rho*sigma*t**2 + b**2*sigma*t**3 + b**2*sigma*t**2*z2 + b**2*sigma*t**2 + 2*b**2*t**4 + 2*b**2*t**3 + beta*c**2*sigma*t**2 + 2*beta*c**2*t**3 + beta*c**2*t**2 + beta*sigma + 2*beta*t + beta + c**2*sigma*t**3 + 2*c**2*t**4 + c**2*t**3 - rho*sigma + 2*sigma*t + sigma*z2 + sigma + 3*t**2 + 2*t + x2**2))**2)/2 + (a**2*sigma*t**2 + a**2*t**3 + b**2*t**3 + b**2*t**2 + beta*c**2*t**2 + beta + c**2*t**3 + sigma + 3*t + 1)**3 - (9*a**2*sigma*t**2 + 9*a**2*t**3 + 9*b**2*t**3 + 9*b**2*t**2 + 9*beta*c**2*t**2 + 9*beta + 9*c**2*t**3 + 9*sigma + 27*t + 9)*(a**2*b**2*c**2*t**6*x1**2 + a**2*b**2*c*sigma*t**5*z1 - a**2*b**2*rho*sigma*t**4 + a**2*b**2*sigma*t**5 + a**2*b**2*sigma*t**4 + a**2*b**2*t**6 + a**2*b**2*t**5 + a**2*beta*c**2*sigma*t**4 + a**2*beta*c**2*t**5 + a**2*beta*sigma*t**2 + a**2*beta*t**3 + a**2*c**2*sigma*t**5 + a**2*c**2*t**6 + a**2*c*sigma*t**3*z1 - a**2*rho*sigma*t**2 + 2*a**2*sigma*t**3 + a**2*sigma*t**2 + 2*a**2*t**4 + a**2*t**3 + a*b**2*t**3*x1*x2 + a*c**2*t**3*x1*x2 + b**2*beta*c**2*t**5 + b**2*beta*c**2*t**4 + b**2*beta*t**3 + b**2*beta*t**2 + b**2*c**2*t**6 + b**2*c**2*t**5 - b**2*rho*sigma*t**2 + b**2*sigma*t**3 + b**2*sigma*t**2*z2 + b**2*sigma*t**2 + 2*b**2*t**4 + 2*b**2*t**3 + beta*c**2*sigma*t**2 + 2*beta*c**2*t**3 + beta*c**2*t**2 + beta*sigma + 2*beta*t + beta + c**2*sigma*t**3 + 2*c**2*t**4 + c**2*t**3 - rho*sigma + 2*sigma*t + sigma*z2 + sigma + 3*t**2 + 2*t + x2**2)/2)**(1/3)/3 - 1/3])"
     },
     "metadata": {},
     "execution_count": 257
    }
   ],
   "source": [
    "Jac.eigenvals().keys()"
   ]
  },
  {
   "cell_type": "markdown",
   "metadata": {},
   "source": [
    "### coupling"
   ]
  },
  {
   "cell_type": "code",
   "execution_count": 89,
   "metadata": {},
   "outputs": [
    {
     "output_type": "execute_result",
     "data": {
      "text/plain": "⎡     0     ⎤\n⎢           ⎥\n⎢     0     ⎥\n⎢           ⎥\n⎢     0     ⎥\n⎢           ⎥\n⎢a⋅t⋅x₁ - x₂⎥\n⎢           ⎥\n⎢b⋅t⋅y₁ - y₂⎥\n⎢           ⎥\n⎣c⋅t⋅z₁ - z₂⎦",
      "text/latex": "$\\displaystyle \\left[\\begin{matrix}0\\\\0\\\\0\\\\a t x_{1} - x_{2}\\\\b t y_{1} - y_{2}\\\\c t z_{1} - z_{2}\\end{matrix}\\right]$"
     },
     "metadata": {},
     "execution_count": 89
    }
   ],
   "source": [
    "chi"
   ]
  },
  {
   "cell_type": "code",
   "execution_count": 90,
   "metadata": {},
   "outputs": [
    {
     "output_type": "execute_result",
     "data": {
      "text/plain": "⎡                       0                        ⎤\n⎢                                                ⎥\n⎢                       0                        ⎥\n⎢                                                ⎥\n⎢                       0                        ⎥\n⎢                                                ⎥\n⎢     a⋅σ⋅t⋅(-x₁ + y₁) + a⋅x₁ - σ⋅(-x₂ + y₂)     ⎥\n⎢                                                ⎥\n⎢b⋅t⋅(x₁⋅(ρ - z₁) - y₁) + b⋅y₁ - x₂⋅(ρ - z₂) + y₂⎥\n⎢                                                ⎥\n⎣   β⋅z₂ + c⋅t⋅(-β⋅z₁ + x₁⋅y₁) + c⋅z₁ - x₂⋅y₂    ⎦",
      "text/latex": "$\\displaystyle \\left[\\begin{matrix}0\\\\0\\\\0\\\\a \\sigma t \\left(- x_{1} + y_{1}\\right) + a x_{1} - \\sigma \\left(- x_{2} + y_{2}\\right)\\\\b t \\left(x_{1} \\left(\\rho - z_{1}\\right) - y_{1}\\right) + b y_{1} - x_{2} \\left(\\rho - z_{2}\\right) + y_{2}\\\\\\beta z_{2} + c t \\left(- \\beta z_{1} + x_{1} y_{1}\\right) + c z_{1} - x_{2} y_{2}\\end{matrix}\\right]$"
     },
     "metadata": {},
     "execution_count": 90
    }
   ],
   "source": [
    "zeta"
   ]
  },
  {
   "cell_type": "code",
   "execution_count": 91,
   "metadata": {},
   "outputs": [
    {
     "output_type": "execute_result",
     "data": {
      "text/plain": "⎡                          0                           ⎤\n⎢                                                      ⎥\n⎢                          0                           ⎥\n⎢                                                      ⎥\n⎢                          0                           ⎥\n⎢                                                      ⎥\n⎢ -a⋅σ⋅t⋅(x₁ - y₁) + a⋅t⋅x₁ + a⋅x₁ + σ⋅(x₂ - y₂) - x₂  ⎥\n⎢                                                      ⎥\n⎢ b⋅t⋅y₁ + b⋅t⋅(x₁⋅(ρ - z₁) - y₁) + b⋅y₁ - x₂⋅(ρ - z₂) ⎥\n⎢                                                      ⎥\n⎣β⋅z₂ + c⋅t⋅z₁ - c⋅t⋅(β⋅z₁ - x₁⋅y₁) + c⋅z₁ - x₂⋅y₂ - z₂⎦",
      "text/latex": "$\\displaystyle \\left[\\begin{matrix}0\\\\0\\\\0\\\\- a \\sigma t \\left(x_{1} - y_{1}\\right) + a t x_{1} + a x_{1} + \\sigma \\left(x_{2} - y_{2}\\right) - x_{2}\\\\b t y_{1} + b t \\left(x_{1} \\left(\\rho - z_{1}\\right) - y_{1}\\right) + b y_{1} - x_{2} \\left(\\rho - z_{2}\\right)\\\\\\beta z_{2} + c t z_{1} - c t \\left(\\beta z_{1} - x_{1} y_{1}\\right) + c z_{1} - x_{2} y_{2} - z_{2}\\end{matrix}\\right]$"
     },
     "metadata": {},
     "execution_count": 91
    }
   ],
   "source": [
    "simplify((chi+zeta))"
   ]
  },
  {
   "cell_type": "code",
   "execution_count": 45,
   "metadata": {},
   "outputs": [
    {
     "output_type": "execute_result",
     "data": {
      "text/plain": "⎡                             0                              ⎤\n⎢                                                            ⎥\n⎢                             0                              ⎥\n⎢                                                            ⎥\n⎢                             0                              ⎥\n⎢                                                            ⎥\n⎢                 a⋅σ⋅t⋅y₁ + a⋅x₁ - b⋅σ⋅t⋅y₁                 ⎥\n⎢                                                            ⎥\n⎢a⋅t⋅x₁⋅(c⋅t⋅z₁ - ρ) + b⋅t⋅y₁ + b⋅t⋅(x₁⋅(ρ - z₁) - y₁) + b⋅y₁⎥\n⎢                                                            ⎥\n⎢                    2                                       ⎥\n⎣             - a⋅b⋅t ⋅x₁⋅y₁ + c⋅t⋅x₁⋅y₁ + c⋅z₁              ⎦",
      "text/latex": "$\\displaystyle \\left[\\begin{matrix}0\\\\0\\\\0\\\\a \\sigma t y_{1} + a x_{1} - b \\sigma t y_{1}\\\\a t x_{1} \\left(c t z_{1} - \\rho\\right) + b t y_{1} + b t \\left(x_{1} \\left(\\rho - z_{1}\\right) - y_{1}\\right) + b y_{1}\\\\- a b t^{2} x_{1} y_{1} + c t x_{1} y_{1} + c z_{1}\\end{matrix}\\right]$"
     },
     "metadata": {},
     "execution_count": 45
    }
   ],
   "source": [
    "#simplify((chi+zeta).subs(on_manifold))#.subs([(x2,a*t*x1),(y2,b*t*y1),(z2,c*t*z1)])))"
   ]
  },
  {
   "cell_type": "markdown",
   "metadata": {},
   "source": [
    "### conclusion"
   ]
  },
  {
   "cell_type": "markdown",
   "metadata": {},
   "source": [
    "* Lorenz system dont go along nwith temporal synchronisation\n",
    "    - either annihilate original system\n",
    "    - or deal with incomputable eigenvalue"
   ]
  }
 ],
 "metadata": {
  "kernelspec": {
   "display_name": "Python 3",
   "language": "python",
   "name": "python3"
  },
  "language_info": {
   "codemirror_mode": {
    "name": "ipython",
    "version": 3
   },
   "file_extension": ".py",
   "mimetype": "text/x-python",
   "name": "python",
   "nbconvert_exporter": "python",
   "pygments_lexer": "ipython3",
   "version": "3.8.3-final"
  }
 },
 "nbformat": 4,
 "nbformat_minor": 2
}