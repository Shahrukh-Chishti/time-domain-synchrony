{
 "cells": [
  {
   "cell_type": "code",
   "execution_count": 1,
   "metadata": {},
   "outputs": [
    {
     "data": {
      "text/html": [
       "        <script type=\"text/javascript\">\n",
       "        window.PlotlyConfig = {MathJaxConfig: 'local'};\n",
       "        if (window.MathJax) {MathJax.Hub.Config({SVG: {font: \"STIX-Web\"}});}\n",
       "        if (typeof require !== 'undefined') {\n",
       "        require.undef(\"plotly\");\n",
       "        requirejs.config({\n",
       "            paths: {\n",
       "                'plotly': ['https://cdn.plot.ly/plotly-latest.min']\n",
       "            }\n",
       "        });\n",
       "        require(['plotly'], function(Plotly) {\n",
       "            window._Plotly = Plotly;\n",
       "        });\n",
       "        }\n",
       "        </script>\n",
       "        "
      ]
     },
     "metadata": {},
     "output_type": "display_data"
    }
   ],
   "source": [
    "import sys,importlib\n",
    "sys.path.append('../')\n",
    "import simulation\n",
    "from numpy import *\n",
    "from sympy import *\n",
    "import plotly.offline as py\n",
    "import plotly.graph_objs as go\n",
    "%matplotlib inline\n",
    "init_printing()"
   ]
  },
  {
   "cell_type": "code",
   "execution_count": 2,
   "metadata": {},
   "outputs": [],
   "source": [
    "Variables=symbols(\"x1 y1 x2 y2\")\n",
    "x1,y1,x2,y2 = Variables\n",
    "Time=symbols(\"t\")\n",
    "t=Time\n",
    "Parameters = symbols(\"alpha beta gamma delta w a0 a1 omega\")\n",
    "alpha,beta,gamma,delta,w,a0,a1,omega = Parameters"
   ]
  },
  {
   "cell_type": "markdown",
   "metadata": {},
   "source": [
    "### Duffing system"
   ]
  },
  {
   "cell_type": "code",
   "execution_count": 27,
   "metadata": {},
   "outputs": [
    {
     "data": {
      "text/latex": [
       "$\\displaystyle \\left[\\begin{matrix}y_{1}\\\\- \\alpha x_{1}^{3} - \\beta x_{1} - \\delta y_{1} + \\gamma \\cos{\\left(\\omega t \\right)}\\\\y_{2}\\\\- \\alpha x_{2}^{3} - \\beta x_{2} - \\delta y_{2} + \\gamma \\cos{\\left(\\omega t \\right)}\\end{matrix}\\right]$"
      ],
      "text/plain": [
       "⎡                y₁                ⎤\n",
       "⎢                                  ⎥\n",
       "⎢      3                           ⎥\n",
       "⎢- α⋅x₁  - β⋅x₁ - δ⋅y₁ + γ⋅cos(ω⋅t)⎥\n",
       "⎢                                  ⎥\n",
       "⎢                y₂                ⎥\n",
       "⎢                                  ⎥\n",
       "⎢      3                           ⎥\n",
       "⎣- α⋅x₂  - β⋅x₂ - δ⋅y₂ + γ⋅cos(ω⋅t)⎦"
      ]
     },
     "execution_count": 27,
     "metadata": {},
     "output_type": "execute_result"
    }
   ],
   "source": [
    "F=Matrix([y1, gamma*cos(omega*t) - delta*y1 - beta*x1 - alpha*x1**3,\n",
    "          y2, gamma*cos(omega*t) - delta*y2 - beta*x2 - alpha*x2**3])\n",
    "F"
   ]
  },
  {
   "cell_type": "code",
   "execution_count": 28,
   "metadata": {},
   "outputs": [
    {
     "data": {
      "text/latex": [
       "$\\displaystyle \\left[\\begin{matrix}0\\\\0\\\\0\\\\0\\end{matrix}\\right]$"
      ],
      "text/plain": [
       "⎡0⎤\n",
       "⎢ ⎥\n",
       "⎢0⎥\n",
       "⎢ ⎥\n",
       "⎢0⎥\n",
       "⎢ ⎥\n",
       "⎣0⎦"
      ]
     },
     "execution_count": 28,
     "metadata": {},
     "output_type": "execute_result"
    }
   ],
   "source": [
    "zeta=Matrix([0,0,\n",
    "             0,0])\n",
    "#zeta=eps*zeta\n",
    "zeta"
   ]
  },
  {
   "cell_type": "markdown",
   "metadata": {},
   "source": [
    "### Synchrony"
   ]
  },
  {
   "cell_type": "code",
   "execution_count": 29,
   "metadata": {
    "scrolled": true
   },
   "outputs": [
    {
     "data": {
      "text/latex": [
       "$\\displaystyle \\left[\\begin{matrix}- a_{0} - a_{1} \\sin{\\left(t w \\right)} - x_{1} + x_{2}\\\\- a_{0} - a_{1} \\sin{\\left(t w \\right)} - y_{1} + y_{2}\\end{matrix}\\right]$"
      ],
      "text/plain": [
       "⎡-a₀ - a₁⋅sin(t⋅w) - x₁ + x₂⎤\n",
       "⎢                           ⎥\n",
       "⎣-a₀ - a₁⋅sin(t⋅w) - y₁ + y₂⎦"
      ]
     },
     "execution_count": 29,
     "metadata": {},
     "output_type": "execute_result"
    }
   ],
   "source": [
    "phi=Matrix([(x2-x1-(a0+a1*sin(w*t))),y2-y1-(a0+a1*sin(w*t))])\n",
    "phi"
   ]
  },
  {
   "cell_type": "code",
   "execution_count": 30,
   "metadata": {
    "scrolled": true
   },
   "outputs": [
    {
     "data": {
      "text/latex": [
       "$\\displaystyle \\left[\\begin{matrix}-1 & 0 & 1 & 0\\\\0 & -1 & 0 & 1\\end{matrix}\\right]$"
      ],
      "text/plain": [
       "⎡-1  0   1  0⎤\n",
       "⎢            ⎥\n",
       "⎣0   -1  0  1⎦"
      ]
     },
     "execution_count": 30,
     "metadata": {},
     "output_type": "execute_result"
    }
   ],
   "source": [
    "N=simulation.VectorDivergence(phi,Variables)\n",
    "N"
   ]
  },
  {
   "cell_type": "code",
   "execution_count": 31,
   "metadata": {},
   "outputs": [],
   "source": [
    "on_manifold = [(x2,x1+(a0+a1*sin(w*t))),(y2,y1+(a0+a1*sin(w*t)))]"
   ]
  },
  {
   "cell_type": "markdown",
   "metadata": {},
   "source": [
    "## Invariance"
   ]
  },
  {
   "cell_type": "code",
   "execution_count": 32,
   "metadata": {},
   "outputs": [
    {
     "data": {
      "text/latex": [
       "$\\displaystyle \\left[\\begin{matrix}- y_{1} + y_{2}\\\\\\alpha x_{1}^{3} - \\alpha x_{2}^{3} + \\beta x_{1} - \\beta x_{2} + \\delta y_{1} - \\delta y_{2}\\end{matrix}\\right]$"
      ],
      "text/plain": [
       "⎡                -y₁ + y₂                 ⎤\n",
       "⎢                                         ⎥\n",
       "⎢    3       3                            ⎥\n",
       "⎣α⋅x₁  - α⋅x₂  + β⋅x₁ - β⋅x₂ + δ⋅y₁ - δ⋅y₂⎦"
      ]
     },
     "execution_count": 32,
     "metadata": {},
     "output_type": "execute_result"
    }
   ],
   "source": [
    "# NF=(N*(F+zeta)).subs([(x2,x1*(a0+a1*sin(w*t))),(y2,y1*(a0+a1*sin(w*t))),(z2,z1*(a0+a1*sin(w*t)))])\n",
    "# simplify(NF)\n",
    "NF=N*(F+zeta)\n",
    "NF\n",
    "#simplify(NF)"
   ]
  },
  {
   "cell_type": "code",
   "execution_count": 33,
   "metadata": {},
   "outputs": [
    {
     "data": {
      "text/latex": [
       "$\\displaystyle \\left[\\begin{matrix}- a_{1} w \\cos{\\left(t w \\right)}\\\\- a_{1} w \\cos{\\left(t w \\right)}\\end{matrix}\\right]$"
      ],
      "text/plain": [
       "⎡-a₁⋅w⋅cos(t⋅w)⎤\n",
       "⎢              ⎥\n",
       "⎣-a₁⋅w⋅cos(t⋅w)⎦"
      ]
     },
     "execution_count": 33,
     "metadata": {},
     "output_type": "execute_result"
    }
   ],
   "source": [
    "dPhi=diff(phi,Time)\n",
    "dPhi"
   ]
  },
  {
   "cell_type": "code",
   "execution_count": 34,
   "metadata": {},
   "outputs": [
    {
     "data": {
      "text/latex": [
       "$\\displaystyle \\left[\\begin{matrix}- a_{1} w \\cos{\\left(t w \\right)} - y_{1} + y_{2}\\\\- a_{1} w \\cos{\\left(t w \\right)} + \\alpha x_{1}^{3} - \\alpha x_{2}^{3} + \\beta x_{1} - \\beta x_{2} + \\delta y_{1} - \\delta y_{2}\\end{matrix}\\right]$"
      ],
      "text/plain": [
       "⎡                 -a₁⋅w⋅cos(t⋅w) - y₁ + y₂                 ⎤\n",
       "⎢                                                          ⎥\n",
       "⎢                     3       3                            ⎥\n",
       "⎣-a₁⋅w⋅cos(t⋅w) + α⋅x₁  - α⋅x₂  + β⋅x₁ - β⋅x₂ + δ⋅y₁ - δ⋅y₂⎦"
      ]
     },
     "execution_count": 34,
     "metadata": {},
     "output_type": "execute_result"
    }
   ],
   "source": [
    "eqn=(NF+dPhi)#.subs([(x2,x1*(a0+a1*sin(w*t))),(y2,y1*(a0+a1*sin(w*t))),(z2,z1*(a0+a1*sin(w*t)))])\n",
    "simplify(eqn)"
   ]
  },
  {
   "cell_type": "code",
   "execution_count": 35,
   "metadata": {},
   "outputs": [
    {
     "data": {
      "text/latex": [
       "$\\displaystyle \\left[\\begin{matrix}0\\\\0\\\\a_{1} w \\cos{\\left(t w \\right)} + y_{1} - y_{2}\\\\a_{1} w \\cos{\\left(t w \\right)} - \\alpha x_{1}^{3} + \\alpha x_{2}^{3} - \\beta x_{1} + \\beta x_{2} - \\delta y_{1} + \\delta y_{2}\\end{matrix}\\right]$"
      ],
      "text/plain": [
       "⎡                            0                            ⎤\n",
       "⎢                                                         ⎥\n",
       "⎢                            0                            ⎥\n",
       "⎢                                                         ⎥\n",
       "⎢                 a₁⋅w⋅cos(t⋅w) + y₁ - y₂                 ⎥\n",
       "⎢                                                         ⎥\n",
       "⎢                    3       3                            ⎥\n",
       "⎣a₁⋅w⋅cos(t⋅w) - α⋅x₁  + α⋅x₂  - β⋅x₁ + β⋅x₂ - δ⋅y₁ + δ⋅y₂⎦"
      ]
     },
     "execution_count": 35,
     "metadata": {},
     "output_type": "execute_result"
    }
   ],
   "source": [
    "# This is working only because of the nature of the N matrix - be careful\n",
    "zeta[2]=-(eqn)[0]\n",
    "zeta[3]=-(eqn)[1]\n",
    "\n",
    "simplify(zeta)"
   ]
  },
  {
   "cell_type": "code",
   "execution_count": 36,
   "metadata": {},
   "outputs": [
    {
     "data": {
      "text/latex": [
       "$\\displaystyle \\left[\\begin{matrix}0\\\\0\\\\- a_{0} + a_{1} w \\cos{\\left(t w \\right)} - a_{1} \\sin{\\left(t w \\right)}\\\\a_{1} w \\cos{\\left(t w \\right)} - \\alpha x_{1}^{3} + \\alpha \\left(a_{0} + a_{1} \\sin{\\left(t w \\right)} + x_{1}\\right)^{3} - \\beta x_{1} + \\beta \\left(a_{0} + a_{1} \\sin{\\left(t w \\right)} + x_{1}\\right) - \\delta y_{1} + \\delta \\left(a_{0} + a_{1} \\sin{\\left(t w \\right)} + y_{1}\\right)\\end{matrix}\\right]$"
      ],
      "text/plain": [
       "⎡                                                           0                 \n",
       "⎢                                                                             \n",
       "⎢                                                           0                 \n",
       "⎢                                                                             \n",
       "⎢                                           -a₀ + a₁⋅w⋅cos(t⋅w) - a₁⋅sin(t⋅w) \n",
       "⎢                                                                             \n",
       "⎢                    3                            3                           \n",
       "⎣a₁⋅w⋅cos(t⋅w) - α⋅x₁  + α⋅(a₀ + a₁⋅sin(t⋅w) + x₁)  - β⋅x₁ + β⋅(a₀ + a₁⋅sin(t⋅\n",
       "\n",
       "                                           ⎤\n",
       "                                           ⎥\n",
       "                                           ⎥\n",
       "                                           ⎥\n",
       "                                           ⎥\n",
       "                                           ⎥\n",
       "                                           ⎥\n",
       "w) + x₁) - δ⋅y₁ + δ⋅(a₀ + a₁⋅sin(t⋅w) + y₁)⎦"
      ]
     },
     "execution_count": 36,
     "metadata": {},
     "output_type": "execute_result"
    }
   ],
   "source": [
    "zeta=zeta.subs(on_manifold)\n",
    "zeta"
   ]
  },
  {
   "cell_type": "code",
   "execution_count": 37,
   "metadata": {},
   "outputs": [
    {
     "data": {
      "text/latex": [
       "$\\displaystyle \\left[\\begin{matrix}0\\\\0\\end{matrix}\\right]$"
      ],
      "text/plain": [
       "⎡0⎤\n",
       "⎢ ⎥\n",
       "⎣0⎦"
      ]
     },
     "execution_count": 37,
     "metadata": {},
     "output_type": "execute_result"
    }
   ],
   "source": [
    "NF=N*(F+zeta)#.subs([(x2,x1*(a0+a1*sin(w*t))),(y2,y1*(a0+a1*sin(w*t))),(z2,z1*(a0+a1*sin(w*t)))])\n",
    "simplify(NF)\n",
    "simplify(NF+dPhi).subs(on_manifold)"
   ]
  },
  {
   "cell_type": "code",
   "execution_count": 38,
   "metadata": {},
   "outputs": [
    {
     "data": {
      "text/latex": [
       "$\\displaystyle \\left[\\begin{matrix}- a_{0} + a_{1} w \\cos{\\left(t w \\right)} - a_{1} \\sin{\\left(t w \\right)}\\\\a_{1} w \\cos{\\left(t w \\right)} - \\alpha x_{1}^{3} + \\alpha \\left(a_{0} + a_{1} \\sin{\\left(t w \\right)} + x_{1}\\right)^{3} - \\beta x_{1} + \\beta \\left(a_{0} + a_{1} \\sin{\\left(t w \\right)} + x_{1}\\right) - \\delta y_{1} + \\delta \\left(a_{0} + a_{1} \\sin{\\left(t w \\right)} + y_{1}\\right)\\end{matrix}\\right]$"
      ],
      "text/plain": [
       "⎡                                           -a₀ + a₁⋅w⋅cos(t⋅w) - a₁⋅sin(t⋅w) \n",
       "⎢                                                                             \n",
       "⎢                    3                            3                           \n",
       "⎣a₁⋅w⋅cos(t⋅w) - α⋅x₁  + α⋅(a₀ + a₁⋅sin(t⋅w) + x₁)  - β⋅x₁ + β⋅(a₀ + a₁⋅sin(t⋅\n",
       "\n",
       "                                           ⎤\n",
       "                                           ⎥\n",
       "                                           ⎥\n",
       "w) + x₁) - δ⋅y₁ + δ⋅(a₀ + a₁⋅sin(t⋅w) + y₁)⎦"
      ]
     },
     "execution_count": 38,
     "metadata": {},
     "output_type": "execute_result"
    }
   ],
   "source": [
    "NZ=N*zeta\n",
    "NZ"
   ]
  },
  {
   "cell_type": "markdown",
   "metadata": {},
   "source": [
    "## Stability"
   ]
  },
  {
   "cell_type": "code",
   "execution_count": 51,
   "metadata": {
    "scrolled": true
   },
   "outputs": [
    {
     "data": {
      "text/latex": [
       "$\\displaystyle \\left[\\begin{matrix}0\\\\0\\\\a_{0} + a_{1} \\sin{\\left(t w \\right)} + x_{1} - x_{2}\\\\a_{0} + a_{1} \\sin{\\left(t w \\right)} + y_{1} - y_{2}\\end{matrix}\\right]$"
      ],
      "text/plain": [
       "⎡            0             ⎤\n",
       "⎢                          ⎥\n",
       "⎢            0             ⎥\n",
       "⎢                          ⎥\n",
       "⎢a₀ + a₁⋅sin(t⋅w) + x₁ - x₂⎥\n",
       "⎢                          ⎥\n",
       "⎣a₀ + a₁⋅sin(t⋅w) + y₁ - y₂⎦"
      ]
     },
     "execution_count": 51,
     "metadata": {},
     "output_type": "execute_result"
    }
   ],
   "source": [
    "chi=Matrix([0,0,\n",
    "           -(x2-x1-(a0+a1*sin(w*t))),-(y2-y1-(a0+a1*sin(w*t)))])\n",
    "\n",
    "#chi=(epsilon1*sin(b*t)+epsilon2)*chi \n",
    "#chi=epsilon*chi\n",
    "#epsilon=1\n",
    "chi"
   ]
  },
  {
   "cell_type": "code",
   "execution_count": 40,
   "metadata": {},
   "outputs": [
    {
     "data": {
      "text/latex": [
       "$\\displaystyle \\left[\\begin{matrix}0 & 0 & 0 & 0\\\\0 & 0 & 0 & 0\\\\0 & 0 & 0 & 0\\\\- 3 \\alpha x_{1}^{2} + 3 \\alpha \\left(a_{0} + a_{1} \\sin{\\left(t w \\right)} + x_{1}\\right)^{2} & 0 & 0 & 0\\end{matrix}\\right]$"
      ],
      "text/plain": [
       "⎡                   0                      0  0  0⎤\n",
       "⎢                                                 ⎥\n",
       "⎢                   0                      0  0  0⎥\n",
       "⎢                                                 ⎥\n",
       "⎢                   0                      0  0  0⎥\n",
       "⎢                                                 ⎥\n",
       "⎢        2                              2         ⎥\n",
       "⎣- 3⋅α⋅x₁  + 3⋅α⋅(a₀ + a₁⋅sin(t⋅w) + x₁)   0  0  0⎦"
      ]
     },
     "execution_count": 40,
     "metadata": {},
     "output_type": "execute_result"
    }
   ],
   "source": [
    "del_zeta=simulation.VectorDivergence(zeta,Variables)\n",
    "del_zeta"
   ]
  },
  {
   "cell_type": "code",
   "execution_count": 41,
   "metadata": {},
   "outputs": [
    {
     "data": {
      "text/latex": [
       "$\\displaystyle \\left[\\begin{matrix}0 & 0 & 0 & 0\\\\0 & 0 & 0 & 0\\\\1 & 0 & -1 & 0\\\\0 & 1 & 0 & -1\\end{matrix}\\right]$"
      ],
      "text/plain": [
       "⎡0  0  0   0 ⎤\n",
       "⎢            ⎥\n",
       "⎢0  0  0   0 ⎥\n",
       "⎢            ⎥\n",
       "⎢1  0  -1  0 ⎥\n",
       "⎢            ⎥\n",
       "⎣0  1  0   -1⎦"
      ]
     },
     "execution_count": 41,
     "metadata": {},
     "output_type": "execute_result"
    }
   ],
   "source": [
    "del_chi=simulation.VectorDivergence(chi,Variables)\n",
    "del_chi"
   ]
  },
  {
   "cell_type": "code",
   "execution_count": 42,
   "metadata": {},
   "outputs": [
    {
     "data": {
      "text/latex": [
       "$\\displaystyle \\left[\\begin{matrix}0 & 1 & 0 & 0\\\\- 3 \\alpha x_{1}^{2} - \\beta & - \\delta & 0 & 0\\\\0 & 0 & 0 & 1\\\\0 & 0 & - 3 \\alpha x_{2}^{2} - \\beta & - \\delta\\end{matrix}\\right]$"
      ],
      "text/plain": [
       "⎡      0        1         0        0 ⎤\n",
       "⎢                                    ⎥\n",
       "⎢        2                           ⎥\n",
       "⎢- 3⋅α⋅x₁  - β  -δ        0        0 ⎥\n",
       "⎢                                    ⎥\n",
       "⎢      0        0         0        1 ⎥\n",
       "⎢                                    ⎥\n",
       "⎢                           2        ⎥\n",
       "⎣      0        0   - 3⋅α⋅x₂  - β  -δ⎦"
      ]
     },
     "execution_count": 42,
     "metadata": {},
     "output_type": "execute_result"
    }
   ],
   "source": [
    "del_F=simulation.VectorDivergence(F,Variables)\n",
    "del_F"
   ]
  },
  {
   "cell_type": "code",
   "execution_count": 43,
   "metadata": {
    "scrolled": true
   },
   "outputs": [
    {
     "data": {
      "text/latex": [
       "$\\displaystyle \\left[\\begin{matrix}0 & 1 & 0 & 0\\\\- 3 \\alpha x_{1}^{2} - \\beta & - \\delta & 0 & 0\\\\1 & 0 & -1 & 1\\\\- 3 \\alpha x_{1}^{2} + 3 \\alpha \\left(a_{0} + a_{1} \\sin{\\left(t w \\right)} + x_{1}\\right)^{2} & 1 & - 3 \\alpha x_{2}^{2} - \\beta & - \\delta - 1\\end{matrix}\\right]$"
      ],
      "text/plain": [
       "⎡                   0                      1         0          0   ⎤\n",
       "⎢                                                                   ⎥\n",
       "⎢                     2                                             ⎥\n",
       "⎢             - 3⋅α⋅x₁  - β                -δ        0          0   ⎥\n",
       "⎢                                                                   ⎥\n",
       "⎢                   1                      0        -1          1   ⎥\n",
       "⎢                                                                   ⎥\n",
       "⎢        2                              2              2            ⎥\n",
       "⎣- 3⋅α⋅x₁  + 3⋅α⋅(a₀ + a₁⋅sin(t⋅w) + x₁)   1   - 3⋅α⋅x₂  - β  -δ - 1⎦"
      ]
     },
     "execution_count": 43,
     "metadata": {},
     "output_type": "execute_result"
    }
   ],
   "source": [
    "(del_F+del_zeta+del_chi)"
   ]
  },
  {
   "cell_type": "code",
   "execution_count": 44,
   "metadata": {},
   "outputs": [
    {
     "data": {
      "text/latex": [
       "$\\displaystyle \\left[\\begin{matrix}0 & 0\\\\0 & 0\\end{matrix}\\right]$"
      ],
      "text/plain": [
       "⎡0  0⎤\n",
       "⎢    ⎥\n",
       "⎣0  0⎦"
      ]
     },
     "execution_count": 44,
     "metadata": {},
     "output_type": "execute_result"
    }
   ],
   "source": [
    "diff(N,t)*N.transpose()"
   ]
  },
  {
   "cell_type": "code",
   "execution_count": 45,
   "metadata": {},
   "outputs": [
    {
     "data": {
      "text/latex": [
       "$\\displaystyle \\left[\\begin{matrix}-2 & 2\\\\- 6 \\alpha \\left(a_{0} + a_{1} \\sin{\\left(t w \\right)} + x_{1}\\right)^{2} - 2 \\beta & - 2 \\delta - 2\\end{matrix}\\right]$"
      ],
      "text/plain": [
       "⎡                 -2                      2    ⎤\n",
       "⎢                                              ⎥\n",
       "⎢                             2                ⎥\n",
       "⎣- 6⋅α⋅(a₀ + a₁⋅sin(t⋅w) + x₁)  - 2⋅β  -2⋅δ - 2⎦"
      ]
     },
     "execution_count": 45,
     "metadata": {},
     "output_type": "execute_result"
    }
   ],
   "source": [
    "Jac = N*(del_F+del_zeta+del_chi)*N.transpose() + diff(N,t)*N.transpose()\n",
    "Jac = simplify(Jac)\n",
    "Jac.subs(on_manifold)"
   ]
  },
  {
   "cell_type": "code",
   "execution_count": 46,
   "metadata": {},
   "outputs": [
    {
     "data": {
      "image/png": "[encoded data removed]",
      "text/latex": [
       "$\\displaystyle \\left\\{ - \\delta - \\sqrt{- 6 a_{0}^{2} \\alpha - 12 a_{0} a_{1} \\alpha \\sin{\\left(t w \\right)} - 12 a_{0} \\alpha x_{1} - 6 a_{1}^{2} \\alpha \\sin^{2}{\\left(t w \\right)} - 12 a_{1} \\alpha x_{1} \\sin{\\left(t w \\right)} - 6 \\alpha x_{1}^{2} - 6 \\alpha x_{2}^{2} - 4 \\beta + \\delta^{2}} - 2 : 1, \\  - \\delta + \\sqrt{- 6 a_{0}^{2} \\alpha - 12 a_{0} a_{1} \\alpha \\sin{\\left(t w \\right)} - 12 a_{0} \\alpha x_{1} - 6 a_{1}^{2} \\alpha \\sin^{2}{\\left(t w \\right)} - 12 a_{1} \\alpha x_{1} \\sin{\\left(t w \\right)} - 6 \\alpha x_{1}^{2} - 6 \\alpha x_{2}^{2} - 4 \\beta + \\delta^{2}} - 2 : 1\\right\\}$"
      ],
      "text/plain": [
       "⎧        _____________________________________________________________________\n",
       "⎨       ╱       2                                            2      2         \n",
       "⎩-δ - ╲╱  - 6⋅a₀ ⋅α - 12⋅a₀⋅a₁⋅α⋅sin(t⋅w) - 12⋅a₀⋅α⋅x₁ - 6⋅a₁ ⋅α⋅sin (t⋅w) - 1\n",
       "\n",
       "__________________________________________________                 ___________\n",
       "                           2         2          2                 ╱       2   \n",
       "2⋅a₁⋅α⋅x₁⋅sin(t⋅w) - 6⋅α⋅x₁  - 6⋅α⋅x₂  - 4⋅β + δ   - 2: 1, -δ + ╲╱  - 6⋅a₀ ⋅α \n",
       "\n",
       "______________________________________________________________________________\n",
       "                                         2      2                             \n",
       "- 12⋅a₀⋅a₁⋅α⋅sin(t⋅w) - 12⋅a₀⋅α⋅x₁ - 6⋅a₁ ⋅α⋅sin (t⋅w) - 12⋅a₁⋅α⋅x₁⋅sin(t⋅w) -\n",
       "\n",
       "______________________________       ⎫\n",
       "       2         2          2        ⎬\n",
       " 6⋅α⋅x₁  - 6⋅α⋅x₂  - 4⋅β + δ   - 2: 1⎭"
      ]
     },
     "execution_count": 46,
     "metadata": {},
     "output_type": "execute_result"
    }
   ],
   "source": [
    "Jac.eigenvals()"
   ]
  },
  {
   "cell_type": "markdown",
   "metadata": {},
   "source": [
    "### coupling"
   ]
  },
  {
   "cell_type": "code",
   "execution_count": 47,
   "metadata": {},
   "outputs": [
    {
     "data": {
      "text/latex": [
       "$\\displaystyle \\left[\\begin{matrix}0\\\\0\\\\a_{0} + a_{1} \\sin{\\left(t w \\right)} + x_{1} - x_{2}\\\\a_{0} + a_{1} \\sin{\\left(t w \\right)} + y_{1} - y_{2}\\end{matrix}\\right]$"
      ],
      "text/plain": [
       "⎡            0             ⎤\n",
       "⎢                          ⎥\n",
       "⎢            0             ⎥\n",
       "⎢                          ⎥\n",
       "⎢a₀ + a₁⋅sin(t⋅w) + x₁ - x₂⎥\n",
       "⎢                          ⎥\n",
       "⎣a₀ + a₁⋅sin(t⋅w) + y₁ - y₂⎦"
      ]
     },
     "execution_count": 47,
     "metadata": {},
     "output_type": "execute_result"
    }
   ],
   "source": [
    "chi"
   ]
  },
  {
   "cell_type": "code",
   "execution_count": 48,
   "metadata": {},
   "outputs": [
    {
     "data": {
      "text/latex": [
       "$\\displaystyle \\left[\\begin{matrix}0\\\\0\\\\- a_{0} + a_{1} w \\cos{\\left(t w \\right)} - a_{1} \\sin{\\left(t w \\right)}\\\\a_{1} w \\cos{\\left(t w \\right)} - \\alpha x_{1}^{3} + \\alpha \\left(a_{0} + a_{1} \\sin{\\left(t w \\right)} + x_{1}\\right)^{3} - \\beta x_{1} + \\beta \\left(a_{0} + a_{1} \\sin{\\left(t w \\right)} + x_{1}\\right) - \\delta y_{1} + \\delta \\left(a_{0} + a_{1} \\sin{\\left(t w \\right)} + y_{1}\\right)\\end{matrix}\\right]$"
      ],
      "text/plain": [
       "⎡                                                           0                 \n",
       "⎢                                                                             \n",
       "⎢                                                           0                 \n",
       "⎢                                                                             \n",
       "⎢                                           -a₀ + a₁⋅w⋅cos(t⋅w) - a₁⋅sin(t⋅w) \n",
       "⎢                                                                             \n",
       "⎢                    3                            3                           \n",
       "⎣a₁⋅w⋅cos(t⋅w) - α⋅x₁  + α⋅(a₀ + a₁⋅sin(t⋅w) + x₁)  - β⋅x₁ + β⋅(a₀ + a₁⋅sin(t⋅\n",
       "\n",
       "                                           ⎤\n",
       "                                           ⎥\n",
       "                                           ⎥\n",
       "                                           ⎥\n",
       "                                           ⎥\n",
       "                                           ⎥\n",
       "                                           ⎥\n",
       "w) + x₁) - δ⋅y₁ + δ⋅(a₀ + a₁⋅sin(t⋅w) + y₁)⎦"
      ]
     },
     "execution_count": 48,
     "metadata": {},
     "output_type": "execute_result"
    }
   ],
   "source": [
    "zeta"
   ]
  },
  {
   "cell_type": "code",
   "execution_count": 49,
   "metadata": {},
   "outputs": [
    {
     "data": {
      "text/latex": [
       "$\\displaystyle \\left[\\begin{matrix}0\\\\0\\\\a_{1} w \\cos{\\left(t w \\right)} + x_{1} - x_{2}\\\\a_{0} \\beta + a_{0} \\delta + a_{0} + a_{1} \\beta \\sin{\\left(t w \\right)} + a_{1} \\delta \\sin{\\left(t w \\right)} + a_{1} w \\cos{\\left(t w \\right)} + a_{1} \\sin{\\left(t w \\right)} - \\alpha x_{1}^{3} + \\alpha \\left(a_{0} + a_{1} \\sin{\\left(t w \\right)} + x_{1}\\right)^{3} + y_{1} - y_{2}\\end{matrix}\\right]$"
      ],
      "text/plain": [
       "⎡                                                              0              \n",
       "⎢                                                                             \n",
       "⎢                                                              0              \n",
       "⎢                                                                             \n",
       "⎢                                                   a₁⋅w⋅cos(t⋅w) + x₁ - x₂   \n",
       "⎢                                                                             \n",
       "⎢                                                                             \n",
       "⎣a₀⋅β + a₀⋅δ + a₀ + a₁⋅β⋅sin(t⋅w) + a₁⋅δ⋅sin(t⋅w) + a₁⋅w⋅cos(t⋅w) + a₁⋅sin(t⋅w\n",
       "\n",
       "                                                ⎤\n",
       "                                                ⎥\n",
       "                                                ⎥\n",
       "                                                ⎥\n",
       "                                                ⎥\n",
       "                                                ⎥\n",
       "        3                            3          ⎥\n",
       ") - α⋅x₁  + α⋅(a₀ + a₁⋅sin(t⋅w) + x₁)  + y₁ - y₂⎦"
      ]
     },
     "execution_count": 49,
     "metadata": {},
     "output_type": "execute_result"
    }
   ],
   "source": [
    "simplify((chi+zeta))"
   ]
  },
  {
   "cell_type": "code",
   "execution_count": 26,
   "metadata": {},
   "outputs": [
    {
     "data": {
      "text/latex": [
       "$\\displaystyle \\left[\\begin{matrix}0\\\\0\\\\a_{0} + a_{1} w \\cos{\\left(t w \\right)} + a_{1} \\sin{\\left(t w \\right)} + x_{1} - x_{2} - y_{1} \\left(a_{0} + a_{1} \\sin{\\left(t w \\right)}\\right) + y_{1}\\\\a_{0} + a_{1} w \\cos{\\left(t w \\right)} + a_{1} \\sin{\\left(t w \\right)} - \\alpha x_{1}^{3} + \\alpha \\left(a_{0} + a_{1} \\sin{\\left(t w \\right)} + x_{1}\\right)^{3} - \\beta x_{1} + \\beta \\left(a_{0} + a_{1} \\sin{\\left(t w \\right)} + x_{1}\\right) + \\delta y_{1} \\left(a_{0} + a_{1} \\sin{\\left(t w \\right)}\\right) - \\delta y_{1} + y_{1} - y_{2}\\end{matrix}\\right]$"
      ],
      "text/plain": [
       "⎡                                                                         0   \n",
       "⎢                                                                             \n",
       "⎢                                                                         0   \n",
       "⎢                                                                             \n",
       "⎢                                      a₀ + a₁⋅w⋅cos(t⋅w) + a₁⋅sin(t⋅w) + x₁ -\n",
       "⎢                                                                             \n",
       "⎢                                       3                            3        \n",
       "⎣a₀ + a₁⋅w⋅cos(t⋅w) + a₁⋅sin(t⋅w) - α⋅x₁  + α⋅(a₀ + a₁⋅sin(t⋅w) + x₁)  - β⋅x₁ \n",
       "\n",
       "                                                                      ⎤\n",
       "                                                                      ⎥\n",
       "                                                                      ⎥\n",
       "                                                                      ⎥\n",
       " x₂ - y₁⋅(a₀ + a₁⋅sin(t⋅w)) + y₁                                      ⎥\n",
       "                                                                      ⎥\n",
       "                                                                      ⎥\n",
       "+ β⋅(a₀ + a₁⋅sin(t⋅w) + x₁) + δ⋅y₁⋅(a₀ + a₁⋅sin(t⋅w)) - δ⋅y₁ + y₁ - y₂⎦"
      ]
     },
     "execution_count": 26,
     "metadata": {},
     "output_type": "execute_result"
    }
   ],
   "source": [
    "simplify((chi+zeta))#.subs(on_manifold))"
   ]
  },
  {
   "cell_type": "code",
   "execution_count": null,
   "metadata": {},
   "outputs": [],
   "source": []
  }
 ],
 "metadata": {
  "kernelspec": {
   "display_name": "Python 3",
   "language": "python",
   "name": "python3"
  },
  "language_info": {
   "codemirror_mode": {
    "name": "ipython",
    "version": 3
   },
   "file_extension": ".py",
   "mimetype": "text/x-python",
   "name": "python",
   "nbconvert_exporter": "python",
   "pygments_lexer": "ipython3",
   "version": "3.8.2"
  }
 },
 "nbformat": 4,
 "nbformat_minor": 4
}
