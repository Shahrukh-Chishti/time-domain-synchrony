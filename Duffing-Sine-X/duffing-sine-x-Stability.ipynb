{
 "metadata": {
  "language_info": {
   "codemirror_mode": {
    "name": "ipython",
    "version": 3
   },
   "file_extension": ".py",
   "mimetype": "text/x-python",
   "name": "python",
   "nbconvert_exporter": "python",
   "pygments_lexer": "ipython3",
   "version": "3.8.3-final"
  },
  "orig_nbformat": 2,
  "kernelspec": {
   "name": "python_defaultSpec_1598520436728",
   "display_name": "Python 3.8.3 64-bit ('base': conda)"
  }
 },
 "nbformat": 4,
 "nbformat_minor": 2,
 "cells": [
  {
   "cell_type": "code",
   "execution_count": 414,
   "metadata": {},
   "outputs": [],
   "source": [
    "import sys,importlib\n",
    "sys.path.append('../')\n",
    "import simulation\n",
    "from numpy import *\n",
    "from sympy import *\n",
    "import plotly.offline as py\n",
    "import plotly.graph_objs as go\n",
    "%matplotlib inline\n",
    "init_printing()"
   ]
  },
  {
   "cell_type": "code",
   "execution_count": 415,
   "metadata": {},
   "outputs": [],
   "source": [
    "Variables=symbols(\"x1 y1 x2 y2\")\n",
    "x1,y1,x2,y2 = Variables\n",
    "Time=symbols(\"t\")\n",
    "t=Time\n",
    "Parameters = symbols(\"alpha beta gamma delta w a0 a1 omega\")\n",
    "alpha,beta,gamma,delta,w,a0,a1,omega = Parameters"
   ]
  },
  {
   "cell_type": "code",
   "execution_count": 416,
   "metadata": {},
   "outputs": [
    {
     "output_type": "execute_result",
     "data": {
      "text/plain": "⎡                y₁                ⎤\n⎢                                  ⎥\n⎢      3                           ⎥\n⎢- α⋅x₁  - β⋅x₁ - δ⋅y₁ + γ⋅cos(ω⋅t)⎥\n⎢                                  ⎥\n⎢                y₂                ⎥\n⎢                                  ⎥\n⎢      3                           ⎥\n⎣- α⋅x₂  - β⋅x₂ - δ⋅y₂ + γ⋅cos(ω⋅t)⎦",
      "text/latex": "$\\displaystyle \\left[\\begin{matrix}y_{1}\\\\- \\alpha x_{1}^{3} - \\beta x_{1} - \\delta y_{1} + \\gamma \\cos{\\left(\\omega t \\right)}\\\\y_{2}\\\\- \\alpha x_{2}^{3} - \\beta x_{2} - \\delta y_{2} + \\gamma \\cos{\\left(\\omega t \\right)}\\end{matrix}\\right]$"
     },
     "metadata": {},
     "execution_count": 416
    }
   ],
   "source": [
    "F=Matrix([y1, gamma*cos(omega*t) - delta*y1 - beta*x1 - alpha*x1**3,\n",
    "          y2, gamma*cos(omega*t) - delta*y2 - beta*x2 - alpha*x2**3])\n",
    "F"
   ]
  },
  {
   "cell_type": "code",
   "execution_count": 417,
   "metadata": {},
   "outputs": [
    {
     "output_type": "execute_result",
     "data": {
      "text/plain": "⎡0⎤\n⎢ ⎥\n⎢0⎥\n⎢ ⎥\n⎢0⎥\n⎢ ⎥\n⎣0⎦",
      "text/latex": "$\\displaystyle \\left[\\begin{matrix}0\\\\0\\\\0\\\\0\\end{matrix}\\right]$"
     },
     "metadata": {},
     "execution_count": 417
    }
   ],
   "source": [
    "zeta=Matrix([0,0,\n",
    "             0,0])\n",
    "\n",
    "zeta"
   ]
  },
  {
   "cell_type": "code",
   "execution_count": 418,
   "metadata": {},
   "outputs": [
    {
     "output_type": "execute_result",
     "data": {
      "text/plain": "⎡-a₁⋅x₁⋅sin(t⋅w) + x₂⎤\n⎢                    ⎥\n⎣      -y₁ + y₂      ⎦",
      "text/latex": "$\\displaystyle \\left[\\begin{matrix}- a_{1} x_{1} \\sin{\\left(t w \\right)} + x_{2}\\\\- y_{1} + y_{2}\\end{matrix}\\right]$"
     },
     "metadata": {},
     "execution_count": 418
    }
   ],
   "source": [
    "phi=Matrix([(x2-x1*a1*sin(w*t)),y2-y1])\n",
    "phi"
   ]
  },
  {
   "cell_type": "code",
   "execution_count": 419,
   "metadata": {},
   "outputs": [
    {
     "output_type": "execute_result",
     "data": {
      "text/plain": "⎡-a₁⋅sin(t⋅w)  0   1  0⎤\n⎢                      ⎥\n⎣     0        -1  0  1⎦",
      "text/latex": "$\\displaystyle \\left[\\begin{matrix}- a_{1} \\sin{\\left(t w \\right)} & 0 & 1 & 0\\\\0 & -1 & 0 & 1\\end{matrix}\\right]$"
     },
     "metadata": {},
     "execution_count": 419
    }
   ],
   "source": [
    "N=simulation.VectorDivergence(phi,Variables)\n",
    "N"
   ]
  },
  {
   "cell_type": "code",
   "execution_count": 420,
   "metadata": {},
   "outputs": [],
   "source": [
    "on_manifold = [(x2,x1*(a1*sin(w*t))),(y2,y1)]"
   ]
  },
  {
   "cell_type": "markdown",
   "metadata": {},
   "source": [
    "### Invariance"
   ]
  },
  {
   "cell_type": "code",
   "execution_count": 421,
   "metadata": {},
   "outputs": [
    {
     "output_type": "execute_result",
     "data": {
      "text/plain": "⎡          -a₁⋅y₁⋅sin(t⋅w) + y₂           ⎤\n⎢                                         ⎥\n⎢    3       3                            ⎥\n⎣α⋅x₁  - α⋅x₂  + β⋅x₁ - β⋅x₂ + δ⋅y₁ - δ⋅y₂⎦",
      "text/latex": "$\\displaystyle \\left[\\begin{matrix}- a_{1} y_{1} \\sin{\\left(t w \\right)} + y_{2}\\\\\\alpha x_{1}^{3} - \\alpha x_{2}^{3} + \\beta x_{1} - \\beta x_{2} + \\delta y_{1} - \\delta y_{2}\\end{matrix}\\right]$"
     },
     "metadata": {},
     "execution_count": 421
    }
   ],
   "source": [
    "NF=N*(F+zeta)\n",
    "NF"
   ]
  },
  {
   "cell_type": "code",
   "execution_count": 422,
   "metadata": {},
   "outputs": [
    {
     "output_type": "execute_result",
     "data": {
      "text/plain": "⎡-a₁⋅w⋅x₁⋅cos(t⋅w)⎤\n⎢                 ⎥\n⎣        0        ⎦",
      "text/latex": "$\\displaystyle \\left[\\begin{matrix}- a_{1} w x_{1} \\cos{\\left(t w \\right)}\\\\0\\end{matrix}\\right]$"
     },
     "metadata": {},
     "execution_count": 422
    }
   ],
   "source": [
    "dPhi=diff(phi,Time)\n",
    "dPhi"
   ]
  },
  {
   "cell_type": "code",
   "execution_count": 423,
   "metadata": {},
   "outputs": [
    {
     "output_type": "execute_result",
     "data": {
      "text/plain": "⎡ -a₁⋅w⋅x₁⋅cos(t⋅w) - a₁⋅y₁⋅sin(t⋅w) + y₂ ⎤\n⎢                                         ⎥\n⎢    3       3                            ⎥\n⎣α⋅x₁  - α⋅x₂  + β⋅x₁ - β⋅x₂ + δ⋅y₁ - δ⋅y₂⎦",
      "text/latex": "$\\displaystyle \\left[\\begin{matrix}- a_{1} w x_{1} \\cos{\\left(t w \\right)} - a_{1} y_{1} \\sin{\\left(t w \\right)} + y_{2}\\\\\\alpha x_{1}^{3} - \\alpha x_{2}^{3} + \\beta x_{1} - \\beta x_{2} + \\delta y_{1} - \\delta y_{2}\\end{matrix}\\right]$"
     },
     "metadata": {},
     "execution_count": 423
    }
   ],
   "source": [
    "eqn=(NF+dPhi)\n",
    "simplify(eqn)"
   ]
  },
  {
   "cell_type": "code",
   "execution_count": 424,
   "metadata": {},
   "outputs": [
    {
     "output_type": "execute_result",
     "data": {
      "text/plain": "⎡                     0                     ⎤\n⎢                                           ⎥\n⎢                     0                     ⎥\n⎢                                           ⎥\n⎢  a₁⋅w⋅x₁⋅cos(t⋅w) + a₁⋅y₁⋅sin(t⋅w) - y₂   ⎥\n⎢                                           ⎥\n⎢      3       3                            ⎥\n⎣- α⋅x₁  + α⋅x₂  - β⋅x₁ + β⋅x₂ - δ⋅y₁ + δ⋅y₂⎦",
      "text/latex": "$\\displaystyle \\left[\\begin{matrix}0\\\\0\\\\a_{1} w x_{1} \\cos{\\left(t w \\right)} + a_{1} y_{1} \\sin{\\left(t w \\right)} - y_{2}\\\\- \\alpha x_{1}^{3} + \\alpha x_{2}^{3} - \\beta x_{1} + \\beta x_{2} - \\delta y_{1} + \\delta y_{2}\\end{matrix}\\right]$"
     },
     "metadata": {},
     "execution_count": 424
    }
   ],
   "source": [
    "zeta[2]=-(eqn)[0]\n",
    "zeta[3]=-(eqn)[1]\n",
    "\n",
    "simplify(zeta)"
   ]
  },
  {
   "cell_type": "code",
   "execution_count": 425,
   "metadata": {},
   "outputs": [
    {
     "output_type": "execute_result",
     "data": {
      "text/plain": "⎡                          0                          ⎤\n⎢                                                     ⎥\n⎢                          0                          ⎥\n⎢                                                     ⎥\n⎢       a₁⋅w⋅x₁⋅cos(t⋅w) + a₁⋅y₁⋅sin(t⋅w) - y₁        ⎥\n⎢                                                     ⎥\n⎢  3     3    3                               3       ⎥\n⎣a₁ ⋅α⋅x₁ ⋅sin (t⋅w) + a₁⋅β⋅x₁⋅sin(t⋅w) - α⋅x₁  - β⋅x₁⎦",
      "text/latex": "$\\displaystyle \\left[\\begin{matrix}0\\\\0\\\\a_{1} w x_{1} \\cos{\\left(t w \\right)} + a_{1} y_{1} \\sin{\\left(t w \\right)} - y_{1}\\\\a_{1}^{3} \\alpha x_{1}^{3} \\sin^{3}{\\left(t w \\right)} + a_{1} \\beta x_{1} \\sin{\\left(t w \\right)} - \\alpha x_{1}^{3} - \\beta x_{1}\\end{matrix}\\right]$"
     },
     "metadata": {},
     "execution_count": 425
    }
   ],
   "source": [
    "zeta=zeta.subs(on_manifold)\n",
    "zeta"
   ]
  },
  {
   "cell_type": "code",
   "execution_count": 426,
   "metadata": {},
   "outputs": [
    {
     "output_type": "execute_result",
     "data": {
      "text/plain": "⎡0⎤\n⎢ ⎥\n⎣0⎦",
      "text/latex": "$\\displaystyle \\left[\\begin{matrix}0\\\\0\\end{matrix}\\right]$"
     },
     "metadata": {},
     "execution_count": 426
    }
   ],
   "source": [
    "NF=N*(F+zeta)\n",
    "simplify(NF)\n",
    "simplify(NF+dPhi).subs(on_manifold)"
   ]
  },
  {
   "cell_type": "code",
   "execution_count": 427,
   "metadata": {},
   "outputs": [
    {
     "output_type": "execute_result",
     "data": {
      "text/plain": "⎡       a₁⋅w⋅x₁⋅cos(t⋅w) + a₁⋅y₁⋅sin(t⋅w) - y₁        ⎤\n⎢                                                     ⎥\n⎢  3     3    3                               3       ⎥\n⎣a₁ ⋅α⋅x₁ ⋅sin (t⋅w) + a₁⋅β⋅x₁⋅sin(t⋅w) - α⋅x₁  - β⋅x₁⎦",
      "text/latex": "$\\displaystyle \\left[\\begin{matrix}a_{1} w x_{1} \\cos{\\left(t w \\right)} + a_{1} y_{1} \\sin{\\left(t w \\right)} - y_{1}\\\\a_{1}^{3} \\alpha x_{1}^{3} \\sin^{3}{\\left(t w \\right)} + a_{1} \\beta x_{1} \\sin{\\left(t w \\right)} - \\alpha x_{1}^{3} - \\beta x_{1}\\end{matrix}\\right]$"
     },
     "metadata": {},
     "execution_count": 427
    }
   ],
   "source": [
    "NZ=N*zeta\n",
    "NZ"
   ]
  },
  {
   "cell_type": "markdown",
   "metadata": {},
   "source": [
    "### Stability"
   ]
  },
  {
   "cell_type": "code",
   "execution_count": 428,
   "metadata": {},
   "outputs": [
    {
     "output_type": "execute_result",
     "data": {
      "text/plain": "⎡           0            ⎤\n⎢                        ⎥\n⎢           0            ⎥\n⎢                        ⎥\n⎢                 3      ⎥\n⎢      -(-y₁ + y₂)       ⎥\n⎢                        ⎥\n⎢                       2⎥\n⎣-(-a₁⋅x₁⋅sin(t⋅w) + x₂) ⎦",
      "text/latex": "$\\displaystyle \\left[\\begin{matrix}0\\\\0\\\\- \\left(- y_{1} + y_{2}\\right)^{3}\\\\- \\left(- a_{1} x_{1} \\sin{\\left(t w \\right)} + x_{2}\\right)^{2}\\end{matrix}\\right]$"
     },
     "metadata": {},
     "execution_count": 428
    }
   ],
   "source": [
    "chi=Matrix([0,0,\n",
    "           -(y2-y1)**3,-(x2-x1*a1*sin(w*t))**2])\n",
    "chi"
   ]
  },
  {
   "cell_type": "code",
   "execution_count": 429,
   "metadata": {},
   "outputs": [
    {
     "output_type": "execute_result",
     "data": {
      "text/plain": "⎡                         0                                  0         0  0⎤\n⎢                                                                          ⎥\n⎢                         0                                  0         0  0⎥\n⎢                                                                          ⎥\n⎢                   a₁⋅w⋅cos(t⋅w)                     a₁⋅sin(t⋅w) - 1  0  0⎥\n⎢                                                                          ⎥\n⎢    3     2    3                              2                           ⎥\n⎣3⋅a₁ ⋅α⋅x₁ ⋅sin (t⋅w) + a₁⋅β⋅sin(t⋅w) - 3⋅α⋅x₁  - β         0         0  0⎦",
      "text/latex": "$\\displaystyle \\left[\\begin{matrix}0 & 0 & 0 & 0\\\\0 & 0 & 0 & 0\\\\a_{1} w \\cos{\\left(t w \\right)} & a_{1} \\sin{\\left(t w \\right)} - 1 & 0 & 0\\\\3 a_{1}^{3} \\alpha x_{1}^{2} \\sin^{3}{\\left(t w \\right)} + a_{1} \\beta \\sin{\\left(t w \\right)} - 3 \\alpha x_{1}^{2} - \\beta & 0 & 0 & 0\\end{matrix}\\right]$"
     },
     "metadata": {},
     "execution_count": 429
    }
   ],
   "source": [
    "del_zeta=simulation.VectorDivergence(zeta,Variables)\n",
    "del_zeta"
   ]
  },
  {
   "cell_type": "code",
   "execution_count": 430,
   "metadata": {},
   "outputs": [
    {
     "output_type": "execute_result",
     "data": {
      "text/plain": "⎡                 0                          0                   0            \n⎢                                                                             \n⎢                 0                          0                   0            \n⎢                                                                             \n⎢                                                  2                          \n⎢                 0                    3⋅(-y₁ + y₂)              0            \n⎢                                                                             \n⎣2⋅a₁⋅(-a₁⋅x₁⋅sin(t⋅w) + x₂)⋅sin(t⋅w)        0        2⋅a₁⋅x₁⋅sin(t⋅w) - 2⋅x₂ \n\n       0       ⎤\n               ⎥\n       0       ⎥\n               ⎥\n              2⎥\n -3⋅(-y₁ + y₂) ⎥\n               ⎥\n       0       ⎦",
      "text/latex": "$\\displaystyle \\left[\\begin{matrix}0 & 0 & 0 & 0\\\\0 & 0 & 0 & 0\\\\0 & 3 \\left(- y_{1} + y_{2}\\right)^{2} & 0 & - 3 \\left(- y_{1} + y_{2}\\right)^{2}\\\\2 a_{1} \\left(- a_{1} x_{1} \\sin{\\left(t w \\right)} + x_{2}\\right) \\sin{\\left(t w \\right)} & 0 & 2 a_{1} x_{1} \\sin{\\left(t w \\right)} - 2 x_{2} & 0\\end{matrix}\\right]$"
     },
     "metadata": {},
     "execution_count": 430
    }
   ],
   "source": [
    "del_chi=simulation.VectorDivergence(chi,Variables)\n",
    "del_chi"
   ]
  },
  {
   "cell_type": "code",
   "execution_count": 431,
   "metadata": {},
   "outputs": [
    {
     "output_type": "execute_result",
     "data": {
      "text/plain": "⎡      0        1         0        0 ⎤\n⎢                                    ⎥\n⎢        2                           ⎥\n⎢- 3⋅α⋅x₁  - β  -δ        0        0 ⎥\n⎢                                    ⎥\n⎢      0        0         0        1 ⎥\n⎢                                    ⎥\n⎢                           2        ⎥\n⎣      0        0   - 3⋅α⋅x₂  - β  -δ⎦",
      "text/latex": "$\\displaystyle \\left[\\begin{matrix}0 & 1 & 0 & 0\\\\- 3 \\alpha x_{1}^{2} - \\beta & - \\delta & 0 & 0\\\\0 & 0 & 0 & 1\\\\0 & 0 & - 3 \\alpha x_{2}^{2} - \\beta & - \\delta\\end{matrix}\\right]$"
     },
     "metadata": {},
     "execution_count": 431
    }
   ],
   "source": [
    "del_F=simulation.VectorDivergence(F,Variables)\n",
    "del_F"
   ]
  },
  {
   "cell_type": "code",
   "execution_count": 432,
   "metadata": {},
   "outputs": [
    {
     "output_type": "execute_result",
     "data": {
      "text/plain": "⎡                                            0                                \n⎢                                                                             \n⎢                                              2                              \n⎢                                      - 3⋅α⋅x₁  - β                          \n⎢                                                                             \n⎢                                                                             \n⎢                                      a₁⋅w⋅cos(t⋅w)                          \n⎢                                                                             \n⎢    3     2    3                                                             \n⎣3⋅a₁ ⋅α⋅x₁ ⋅sin (t⋅w) + a₁⋅β⋅sin(t⋅w) + 2⋅a₁⋅(-a₁⋅x₁⋅sin(t⋅w) + x₂)⋅sin(t⋅w) \n\n                              1                                   0           \n                                                                              \n                                                                              \n                             -δ                                   0           \n                                                                              \n                                         2                                    \n               a₁⋅sin(t⋅w) + 3⋅(-y₁ + y₂)  - 1                    0           \n                                                                              \n        2                                                                2    \n- 3⋅α⋅x₁  - β                 0                 2⋅a₁⋅x₁⋅sin(t⋅w) - 3⋅α⋅x₂  - β\n\n                 0        ⎤\n                          ⎥\n                          ⎥\n                 0        ⎥\n                          ⎥\n                         2⎥\n         1 - 3⋅(-y₁ + y₂) ⎥\n                          ⎥\n                          ⎥\n - 2⋅x₂         -δ        ⎦",
      "text/latex": "$\\displaystyle \\left[\\begin{matrix}0 & 1 & 0 & 0\\\\- 3 \\alpha x_{1}^{2} - \\beta & - \\delta & 0 & 0\\\\a_{1} w \\cos{\\left(t w \\right)} & a_{1} \\sin{\\left(t w \\right)} + 3 \\left(- y_{1} + y_{2}\\right)^{2} - 1 & 0 & 1 - 3 \\left(- y_{1} + y_{2}\\right)^{2}\\\\3 a_{1}^{3} \\alpha x_{1}^{2} \\sin^{3}{\\left(t w \\right)} + a_{1} \\beta \\sin{\\left(t w \\right)} + 2 a_{1} \\left(- a_{1} x_{1} \\sin{\\left(t w \\right)} + x_{2}\\right) \\sin{\\left(t w \\right)} - 3 \\alpha x_{1}^{2} - \\beta & 0 & 2 a_{1} x_{1} \\sin{\\left(t w \\right)} - 3 \\alpha x_{2}^{2} - \\beta - 2 x_{2} & - \\delta\\end{matrix}\\right]$"
     },
     "metadata": {},
     "execution_count": 432
    }
   ],
   "source": [
    "(del_F+del_zeta+del_chi)"
   ]
  },
  {
   "cell_type": "code",
   "execution_count": 433,
   "metadata": {},
   "outputs": [
    {
     "output_type": "execute_result",
     "data": {
      "text/plain": "⎡  2                       ⎤\n⎢a₁ ⋅w⋅sin(t⋅w)⋅cos(t⋅w)  0⎥\n⎢                          ⎥\n⎣           0             0⎦",
      "text/latex": "$\\displaystyle \\left[\\begin{matrix}a_{1}^{2} w \\sin{\\left(t w \\right)} \\cos{\\left(t w \\right)} & 0\\\\0 & 0\\end{matrix}\\right]$"
     },
     "metadata": {},
     "execution_count": 433
    }
   ],
   "source": [
    "diff(N,t)*N.transpose()"
   ]
  },
  {
   "cell_type": "code",
   "execution_count": 434,
   "metadata": {},
   "outputs": [
    {
     "output_type": "execute_result",
     "data": {
      "text/plain": "⎡                                   0                                      2  \n⎢                                                                             \n⎢      2     2    2          2 ⎛    2     2    2         ⎞    2               \n⎣- 3⋅a₁ ⋅α⋅x₁ ⋅sin (t⋅w) - a₁ ⋅⎝3⋅a₁ ⋅α⋅x₁ ⋅sin (t⋅w) + β⎠⋅sin (t⋅w) - β  -2⋅δ\n\n⎤\n⎥\n⎥\n⎦",
      "text/latex": "$\\displaystyle \\left[\\begin{matrix}0 & 2\\\\- 3 a_{1}^{2} \\alpha x_{1}^{2} \\sin^{2}{\\left(t w \\right)} - a_{1}^{2} \\left(3 a_{1}^{2} \\alpha x_{1}^{2} \\sin^{2}{\\left(t w \\right)} + \\beta\\right) \\sin^{2}{\\left(t w \\right)} - \\beta & - 2 \\delta\\end{matrix}\\right]$"
     },
     "metadata": {},
     "execution_count": 434
    }
   ],
   "source": [
    "Jac = N*(del_F+del_zeta+del_chi)*N.transpose() + diff(N,t)*N.transpose()\n",
    "Jac = simplify(Jac)\n",
    "Jac.subs(on_manifold)"
   ]
  },
  {
   "cell_type": "code",
   "execution_count": 435,
   "metadata": {},
   "outputs": [
    {
     "output_type": "execute_result",
     "data": {
      "text/plain": "⎧        _____________________________________________________________________\n⎨       ╱      4     2   2    4             4     2          4             4  \n⎩-δ - ╲╱  18⋅a₁ ⋅α⋅x₁ ⋅y₁ ⋅sin (t⋅w) - 36⋅a₁ ⋅α⋅x₁ ⋅y₁⋅y₂⋅sin (t⋅w) + 18⋅a₁ ⋅α\n\n______________________________________________________________________________\n   2   2    4            4     2    4             3      2    3             3 \n⋅x₁ ⋅y₂ ⋅sin (t⋅w) - 6⋅a₁ ⋅α⋅x₁ ⋅sin (t⋅w) - 12⋅a₁ ⋅x₁⋅y₁ ⋅sin (t⋅w) + 24⋅a₁ ⋅\n\n______________________________________________________________________________\n            3             3      2    3            3       3            2     \nx₁⋅y₁⋅y₂⋅sin (t⋅w) - 12⋅a₁ ⋅x₁⋅y₂ ⋅sin (t⋅w) + 4⋅a₁ ⋅x₁⋅sin (t⋅w) + 6⋅a₁ ⋅β⋅y₁\n\n______________________________________________________________________________\n2    2             2            2            2     2    2            2      2 \n ⋅sin (t⋅w) - 12⋅a₁ ⋅β⋅y₁⋅y₂⋅sin (t⋅w) + 6⋅a₁ ⋅β⋅y₂ ⋅sin (t⋅w) - 2⋅a₁ ⋅β⋅sin (\n\n______________________________________________________________________________\n            2      2    2             2             2             2      2    \nt⋅w) + 12⋅a₁ ⋅x₂⋅y₁ ⋅sin (t⋅w) - 24⋅a₁ ⋅x₂⋅y₁⋅y₂⋅sin (t⋅w) + 12⋅a₁ ⋅x₂⋅y₂ ⋅sin\n\n______________________________________________________________________________\n2            2       2                   2                                    \n (t⋅w) - 4⋅a₁ ⋅x₂⋅sin (t⋅w) - 12⋅a₁⋅x₁⋅y₁ ⋅sin(t⋅w) + 24⋅a₁⋅x₁⋅y₁⋅y₂⋅sin(t⋅w) \n\n______________________________________________________________________________\n             2                                      2   2          2          \n- 12⋅a₁⋅x₁⋅y₂ ⋅sin(t⋅w) + 4⋅a₁⋅x₁⋅sin(t⋅w) + 18⋅α⋅x₂ ⋅y₁  - 36⋅α⋅x₂ ⋅y₁⋅y₂ + 1\n\n______________________________________________________________________________\n      2   2         2         2                      2          2           2 \n8⋅α⋅x₂ ⋅y₂  - 6⋅α⋅x₂  + 6⋅β⋅y₁  - 12⋅β⋅y₁⋅y₂ + 6⋅β⋅y₂  - 2⋅β + δ  + 12⋅x₂⋅y₁  \n\n_________________________________             ________________________________\n                        2                    ╱      4     2   2    4          \n- 24⋅x₂⋅y₁⋅y₂ + 12⋅x₂⋅y₂  - 4⋅x₂ : 1, -δ + ╲╱  18⋅a₁ ⋅α⋅x₁ ⋅y₁ ⋅sin (t⋅w) - 36\n\n______________________________________________________________________________\n   4     2          4             4     2   2    4            4     2    4    \n⋅a₁ ⋅α⋅x₁ ⋅y₁⋅y₂⋅sin (t⋅w) + 18⋅a₁ ⋅α⋅x₁ ⋅y₂ ⋅sin (t⋅w) - 6⋅a₁ ⋅α⋅x₁ ⋅sin (t⋅w\n\n______________________________________________________________________________\n         3      2    3             3             3             3      2    3  \n) - 12⋅a₁ ⋅x₁⋅y₁ ⋅sin (t⋅w) + 24⋅a₁ ⋅x₁⋅y₁⋅y₂⋅sin (t⋅w) - 12⋅a₁ ⋅x₁⋅y₂ ⋅sin (t\n\n______________________________________________________________________________\n          3       3            2     2    2             2            2        \n⋅w) + 4⋅a₁ ⋅x₁⋅sin (t⋅w) + 6⋅a₁ ⋅β⋅y₁ ⋅sin (t⋅w) - 12⋅a₁ ⋅β⋅y₁⋅y₂⋅sin (t⋅w) + \n\n______________________________________________________________________________\n    2     2    2            2      2             2      2    2             2  \n6⋅a₁ ⋅β⋅y₂ ⋅sin (t⋅w) - 2⋅a₁ ⋅β⋅sin (t⋅w) + 12⋅a₁ ⋅x₂⋅y₁ ⋅sin (t⋅w) - 24⋅a₁ ⋅x\n\n______________________________________________________________________________\n           2             2      2    2            2       2                   \n₂⋅y₁⋅y₂⋅sin (t⋅w) + 12⋅a₁ ⋅x₂⋅y₂ ⋅sin (t⋅w) - 4⋅a₁ ⋅x₂⋅sin (t⋅w) - 12⋅a₁⋅x₁⋅y₁\n\n______________________________________________________________________________\n2                                                 2                           \n ⋅sin(t⋅w) + 24⋅a₁⋅x₁⋅y₁⋅y₂⋅sin(t⋅w) - 12⋅a₁⋅x₁⋅y₂ ⋅sin(t⋅w) + 4⋅a₁⋅x₁⋅sin(t⋅w\n\n______________________________________________________________________________\n           2   2          2                2   2         2         2          \n) + 18⋅α⋅x₂ ⋅y₁  - 36⋅α⋅x₂ ⋅y₁⋅y₂ + 18⋅α⋅x₂ ⋅y₂  - 6⋅α⋅x₂  + 6⋅β⋅y₁  - 12⋅β⋅y₁\n\n______________________________________________________________________   ⎫\n            2          2           2                         2           ⎬\n⋅y₂ + 6⋅β⋅y₂  - 2⋅β + δ  + 12⋅x₂⋅y₁  - 24⋅x₂⋅y₁⋅y₂ + 12⋅x₂⋅y₂  - 4⋅x₂ : 1⎭",
      "image/png": "[encoded data removed]",
      "text/latex": "$\\displaystyle \\left\\{ - \\delta - \\sqrt{18 a_{1}^{4} \\alpha x_{1}^{2} y_{1}^{2} \\sin^{4}{\\left(t w \\right)} - 36 a_{1}^{4} \\alpha x_{1}^{2} y_{1} y_{2} \\sin^{4}{\\left(t w \\right)} + 18 a_{1}^{4} \\alpha x_{1}^{2} y_{2}^{2} \\sin^{4}{\\left(t w \\right)} - 6 a_{1}^{4} \\alpha x_{1}^{2} \\sin^{4}{\\left(t w \\right)} - 12 a_{1}^{3} x_{1} y_{1}^{2} \\sin^{3}{\\left(t w \\right)} + 24 a_{1}^{3} x_{1} y_{1} y_{2} \\sin^{3}{\\left(t w \\right)} - 12 a_{1}^{3} x_{1} y_{2}^{2} \\sin^{3}{\\left(t w \\right)} + 4 a_{1}^{3} x_{1} \\sin^{3}{\\left(t w \\right)} + 6 a_{1}^{2} \\beta y_{1}^{2} \\sin^{2}{\\left(t w \\right)} - 12 a_{1}^{2} \\beta y_{1} y_{2} \\sin^{2}{\\left(t w \\right)} + 6 a_{1}^{2} \\beta y_{2}^{2} \\sin^{2}{\\left(t w \\right)} - 2 a_{1}^{2} \\beta \\sin^{2}{\\left(t w \\right)} + 12 a_{1}^{2} x_{2} y_{1}^{2} \\sin^{2}{\\left(t w \\right)} - 24 a_{1}^{2} x_{2} y_{1} y_{2} \\sin^{2}{\\left(t w \\right)} + 12 a_{1}^{2} x_{2} y_{2}^{2} \\sin^{2}{\\left(t w \\right)} - 4 a_{1}^{2} x_{2} \\sin^{2}{\\left(t w \\right)} - 12 a_{1} x_{1} y_{1}^{2} \\sin{\\left(t w \\right)} + 24 a_{1} x_{1} y_{1} y_{2} \\sin{\\left(t w \\right)} - 12 a_{1} x_{1} y_{2}^{2} \\sin{\\left(t w \\right)} + 4 a_{1} x_{1} \\sin{\\left(t w \\right)} + 18 \\alpha x_{2}^{2} y_{1}^{2} - 36 \\alpha x_{2}^{2} y_{1} y_{2} + 18 \\alpha x_{2}^{2} y_{2}^{2} - 6 \\alpha x_{2}^{2} + 6 \\beta y_{1}^{2} - 12 \\beta y_{1} y_{2} + 6 \\beta y_{2}^{2} - 2 \\beta + \\delta^{2} + 12 x_{2} y_{1}^{2} - 24 x_{2} y_{1} y_{2} + 12 x_{2} y_{2}^{2} - 4 x_{2}} : 1, \\  - \\delta + \\sqrt{18 a_{1}^{4} \\alpha x_{1}^{2} y_{1}^{2} \\sin^{4}{\\left(t w \\right)} - 36 a_{1}^{4} \\alpha x_{1}^{2} y_{1} y_{2} \\sin^{4}{\\left(t w \\right)} + 18 a_{1}^{4} \\alpha x_{1}^{2} y_{2}^{2} \\sin^{4}{\\left(t w \\right)} - 6 a_{1}^{4} \\alpha x_{1}^{2} \\sin^{4}{\\left(t w \\right)} - 12 a_{1}^{3} x_{1} y_{1}^{2} \\sin^{3}{\\left(t w \\right)} + 24 a_{1}^{3} x_{1} y_{1} y_{2} \\sin^{3}{\\left(t w \\right)} - 12 a_{1}^{3} x_{1} y_{2}^{2} \\sin^{3}{\\left(t w \\right)} + 4 a_{1}^{3} x_{1} \\sin^{3}{\\left(t w \\right)} + 6 a_{1}^{2} \\beta y_{1}^{2} \\sin^{2}{\\left(t w \\right)} - 12 a_{1}^{2} \\beta y_{1} y_{2} \\sin^{2}{\\left(t w \\right)} + 6 a_{1}^{2} \\beta y_{2}^{2} \\sin^{2}{\\left(t w \\right)} - 2 a_{1}^{2} \\beta \\sin^{2}{\\left(t w \\right)} + 12 a_{1}^{2} x_{2} y_{1}^{2} \\sin^{2}{\\left(t w \\right)} - 24 a_{1}^{2} x_{2} y_{1} y_{2} \\sin^{2}{\\left(t w \\right)} + 12 a_{1}^{2} x_{2} y_{2}^{2} \\sin^{2}{\\left(t w \\right)} - 4 a_{1}^{2} x_{2} \\sin^{2}{\\left(t w \\right)} - 12 a_{1} x_{1} y_{1}^{2} \\sin{\\left(t w \\right)} + 24 a_{1} x_{1} y_{1} y_{2} \\sin{\\left(t w \\right)} - 12 a_{1} x_{1} y_{2}^{2} \\sin{\\left(t w \\right)} + 4 a_{1} x_{1} \\sin{\\left(t w \\right)} + 18 \\alpha x_{2}^{2} y_{1}^{2} - 36 \\alpha x_{2}^{2} y_{1} y_{2} + 18 \\alpha x_{2}^{2} y_{2}^{2} - 6 \\alpha x_{2}^{2} + 6 \\beta y_{1}^{2} - 12 \\beta y_{1} y_{2} + 6 \\beta y_{2}^{2} - 2 \\beta + \\delta^{2} + 12 x_{2} y_{1}^{2} - 24 x_{2} y_{1} y_{2} + 12 x_{2} y_{2}^{2} - 4 x_{2}} : 1\\right\\}$"
     },
     "metadata": {},
     "execution_count": 435
    }
   ],
   "source": [
    "Jac.eigenvals()"
   ]
  },
  {
   "cell_type": "code",
   "execution_count": null,
   "metadata": {},
   "outputs": [],
   "source": []
  },
  {
   "cell_type": "code",
   "execution_count": null,
   "metadata": {},
   "outputs": [],
   "source": []
  },
  {
   "cell_type": "code",
   "execution_count": null,
   "metadata": {},
   "outputs": [],
   "source": []
  },
  {
   "cell_type": "code",
   "execution_count": null,
   "metadata": {},
   "outputs": [],
   "source": []
  },
  {
   "cell_type": "code",
   "execution_count": null,
   "metadata": {},
   "outputs": [],
   "source": []
  },
  {
   "cell_type": "code",
   "execution_count": null,
   "metadata": {},
   "outputs": [],
   "source": []
  },
  {
   "cell_type": "code",
   "execution_count": null,
   "metadata": {},
   "outputs": [],
   "source": []
  }
 ]
}