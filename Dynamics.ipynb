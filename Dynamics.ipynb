{
 "cells": [
  {
   "cell_type": "code",
   "execution_count": 16,
   "metadata": {},
   "outputs": [],
   "source": [
    "import numpy\n",
    "from numpy import *"
   ]
  },
  {
   "cell_type": "markdown",
   "metadata": {},
   "source": [
    "### Duffing Oscillator"
   ]
  },
  {
   "cell_type": "code",
   "execution_count": 17,
   "metadata": {},
   "outputs": [],
   "source": [
    "alpha = 1\n",
    "delta = .25\n",
    "gamma = .3\n",
    "beta = -1\n",
    "omega = 1\n",
    "def dufffingOscillator(state,t):\n",
    "    x,y = state[0],state[1]\n",
    "    xdot = y\n",
    "    ydot = -alpha*(x**3) - beta* x - delta*y + gamma*cos(omega*t)\n",
    "    return xdot,ydot"
   ]
  },
  {
   "cell_type": "markdown",
   "metadata": {},
   "source": [
    "### PC Duffing"
   ]
  },
  {
   "cell_type": "code",
   "execution_count": 18,
   "metadata": {},
   "outputs": [],
   "source": [
    "beta = 1e4\n",
    "alpha = 2\n",
    "gammaY = .2\n",
    "gammaZ = .1\n",
    "omega = 2*pi*769\n",
    "def pcDuffingOscillator(state,t):\n",
    "    x,y,z = state[0],state[1],state[2]\n",
    "    xdot = beta*(y-z)\n",
    "    ydot = beta*( -gammaY*y - x + alpha*cos(omega*t))\n",
    "    zdot = beta*(x - gammaZ*z)\n",
    "    return xdot,ydot,zdot"
   ]
  },
  {
   "cell_type": "markdown",
   "metadata": {},
   "source": [
    "### Harmonic Spring Pendulumn"
   ]
  },
  {
   "cell_type": "code",
   "execution_count": 19,
   "metadata": {},
   "outputs": [
    {
     "ename": "SyntaxError",
     "evalue": "invalid syntax (<ipython-input-19-4d966c1fb545>, line 1)",
     "output_type": "error",
     "traceback": [
      "\u001b[0;36m  File \u001b[0;32m\"<ipython-input-19-4d966c1fb545>\"\u001b[0;36m, line \u001b[0;32m1\u001b[0m\n\u001b[0;31m    f1,f2 =\u001b[0m\n\u001b[0m            ^\u001b[0m\n\u001b[0;31mSyntaxError\u001b[0m\u001b[0;31m:\u001b[0m invalid syntax\n"
     ]
    }
   ],
   "source": [
    "f1,f2 = \n",
    "omega = \n",
    "c1,c2 =\n",
    "w1,w2 = \n",
    "def harmonicSpringPendulumn(state,t):\n",
    "    x,y,phi,z = state[0],state[1],state[2],state[3]\n",
    "    xdot = y\n",
    "    ydot = f1*cos(omega*t) - [c1*y + x*(w1**2) - (1+x)*z + (w2**2)*(1-cos(phi))]\n",
    "    phidot = z\n",
    "    zdot = (f2*cos(omega*t) - [c2*z + 2*(1+x)*y*z + (w2**2)*(1+x)*sin(phi)])/((1+x)**2)\n",
    "    return xdot,ydot,phidot,zdot"
   ]
  },
  {
   "cell_type": "markdown",
   "metadata": {},
   "source": [
    "### Bacterial Growth"
   ]
  },
  {
   "cell_type": "code",
   "execution_count": 20,
   "metadata": {},
   "outputs": [
    {
     "ename": "SyntaxError",
     "evalue": "invalid syntax (<ipython-input-20-823a91803774>, line 2)",
     "output_type": "error",
     "traceback": [
      "\u001b[0;36m  File \u001b[0;32m\"<ipython-input-20-823a91803774>\"\u001b[0;36m, line \u001b[0;32m2\u001b[0m\n\u001b[0;31m    mu_max =\u001b[0m\n\u001b[0m             ^\u001b[0m\n\u001b[0;31mSyntaxError\u001b[0m\u001b[0;31m:\u001b[0m invalid syntax\n"
     ]
    }
   ],
   "source": [
    "gamma = 5\n",
    "mu_max = \n",
    "x_max = \n",
    "n = 2\n",
    "def bacterialGrowth(state,t):\n",
    "    x = state[0]\n",
    "    xdot = mu_max*(t**n)/(gamma**n + t**n)*x*(1-(x/x_max))\n",
    "    return xdot"
   ]
  },
  {
   "cell_type": "markdown",
   "metadata": {},
   "source": [
    "### Fitzhugh Nagumo"
   ]
  },
  {
   "cell_type": "code",
   "execution_count": 24,
   "metadata": {},
   "outputs": [],
   "source": [
    "\n",
    "def pulse(t):\n",
    "    return\n",
    "\n",
    "def fitzhughNagumo(state,t):\n",
    "    x,y = state\n",
    "    xdot = x - (x**3)/3 - y + pulse(t)\n",
    "    ydot = .08*(x + 0.7 - 0.8*y)\n",
    "    return xdot,ydot"
   ]
  },
  {
   "cell_type": "markdown",
   "metadata": {},
   "source": [
    "### SEIR epidemic model"
   ]
  },
  {
   "cell_type": "code",
   "execution_count": 21,
   "metadata": {},
   "outputs": [
    {
     "ename": "SyntaxError",
     "evalue": "invalid syntax (<ipython-input-21-94df9b42c966>, line 1)",
     "output_type": "error",
     "traceback": [
      "\u001b[0;36m  File \u001b[0;32m\"<ipython-input-21-94df9b42c966>\"\u001b[0;36m, line \u001b[0;32m1\u001b[0m\n\u001b[0;31m    m,a,g =\u001b[0m\n\u001b[0m            ^\u001b[0m\n\u001b[0;31mSyntaxError\u001b[0m\u001b[0;31m:\u001b[0m invalid syntax\n"
     ]
    }
   ],
   "source": [
    "m,a,g = \n",
    "epsilon = \n",
    "beta0 = \n",
    "def nonDimensionalSEIR(state,t):\n",
    "    s,e,i = state\n",
    "    beta = beta0*(1+epsilon*cos(2*pi*t))\n",
    "    sdot = m*(1-s) - s*i*beta\n",
    "    edot = beta*s*i - (m+a)*e\n",
    "    idot = a*e - (m+g)*i\n",
    "    return sdot,edot,idot"
   ]
  },
  {
   "cell_type": "markdown",
   "metadata": {},
   "source": [
    "### JRE Tumor growth"
   ]
  },
  {
   "cell_type": "code",
   "execution_count": 23,
   "metadata": {},
   "outputs": [
    {
     "ename": "NameError",
     "evalue": "name 'r1' is not defined",
     "output_type": "error",
     "traceback": [
      "\u001b[0;31m---------------------------------------------------------------------------\u001b[0m",
      "\u001b[0;31mNameError\u001b[0m                                 Traceback (most recent call last)",
      "\u001b[0;32m<ipython-input-23-16273617ffda>\u001b[0m in \u001b[0;36m<module>\u001b[0;34m\u001b[0m\n\u001b[0;32m----> 1\u001b[0;31m \u001b[0mr1\u001b[0m\u001b[0;34m,\u001b[0m\u001b[0mr2\u001b[0m\u001b[0;34m\u001b[0m\u001b[0;34m\u001b[0m\u001b[0m\n\u001b[0m\u001b[1;32m      2\u001b[0m \u001b[0mK1\u001b[0m\u001b[0;34m,\u001b[0m\u001b[0mK2\u001b[0m\u001b[0;34m\u001b[0m\u001b[0;34m\u001b[0m\u001b[0m\n\u001b[1;32m      3\u001b[0m \u001b[0mc1\u001b[0m\u001b[0;34m,\u001b[0m\u001b[0mc2\u001b[0m\u001b[0;34m\u001b[0m\u001b[0;34m\u001b[0m\u001b[0m\n\u001b[1;32m      4\u001b[0m \u001b[0mp\u001b[0m\u001b[0;34m\u001b[0m\u001b[0;34m\u001b[0m\u001b[0m\n\u001b[1;32m      5\u001b[0m \u001b[0ml0\u001b[0m\u001b[0;34m,\u001b[0m\u001b[0ml1\u001b[0m\u001b[0;34m,\u001b[0m\u001b[0ml2\u001b[0m\u001b[0;34m\u001b[0m\u001b[0;34m\u001b[0m\u001b[0m\n",
      "\u001b[0;31mNameError\u001b[0m: name 'r1' is not defined"
     ]
    }
   ],
   "source": [
    "r1,r2\n",
    "K1,K2\n",
    "c1,c2\n",
    "p\n",
    "l0,l1,l2\n",
    "def JRE(state,t):\n",
    "    x,y = state\n",
    "    p1 = (p+exp(-l0*t))*x + exp(-l1*t)*x\n",
    "    p2 = (p+exp(-l0*t))*x - exp(-l2*t)*y\n",
    "    xdot = r1*x*(1-x/K1-c1*y) - p1\n",
    "    ydot = r2*y*(1-y/K2-c2*x) + p2\n",
    "    return xdot,ydot"
   ]
  }
 ],
 "metadata": {
  "kernelspec": {
   "display_name": "Python 3",
   "language": "python",
   "name": "python3"
  },
  "language_info": {
   "codemirror_mode": {
    "name": "ipython",
    "version": 3
   },
   "file_extension": ".py",
   "mimetype": "text/x-python",
   "name": "python",
   "nbconvert_exporter": "python",
   "pygments_lexer": "ipython3",
   "version": "3.8.2"
  }
 },
 "nbformat": 4,
 "nbformat_minor": 4
}
