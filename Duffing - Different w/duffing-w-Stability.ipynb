{
 "metadata": {
  "language_info": {
   "codemirror_mode": {
    "name": "ipython",
    "version": 3
   },
   "file_extension": ".py",
   "mimetype": "text/x-python",
   "name": "python",
   "nbconvert_exporter": "python",
   "pygments_lexer": "ipython3",
   "version": "3.8.3-final"
  },
  "orig_nbformat": 2,
  "kernelspec": {
   "name": "python_defaultSpec_1598951972431",
   "display_name": "Python 3.8.3 64-bit ('base': conda)"
  }
 },
 "nbformat": 4,
 "nbformat_minor": 2,
 "cells": [
  {
   "cell_type": "code",
   "execution_count": 1,
   "metadata": {},
   "outputs": [
    {
     "output_type": "display_data",
     "data": {
      "text/html": "        <script type=\"text/javascript\">\n        window.PlotlyConfig = {MathJaxConfig: 'local'};\n        if (window.MathJax) {MathJax.Hub.Config({SVG: {font: \"STIX-Web\"}});}\n        if (typeof require !== 'undefined') {\n        require.undef(\"plotly\");\n        requirejs.config({\n            paths: {\n                'plotly': ['https://cdn.plot.ly/plotly-latest.min']\n            }\n        });\n        require(['plotly'], function(Plotly) {\n            window._Plotly = Plotly;\n        });\n        }\n        </script>\n        "
     },
     "metadata": {}
    }
   ],
   "source": [
    "import sys,importlib\n",
    "sys.path.append('../')\n",
    "import simulation\n",
    "from numpy import *\n",
    "from sympy import *\n",
    "import plotly.offline as py\n",
    "import plotly.graph_objs as go\n",
    "%matplotlib inline\n",
    "init_printing()"
   ]
  },
  {
   "cell_type": "code",
   "execution_count": 10,
   "metadata": {},
   "outputs": [],
   "source": [
    "Variables=symbols(\"x1 y1 x2 y2\")\n",
    "x1,y1,x2,y2 = Variables\n",
    "Time=symbols(\"t\")\n",
    "t=Time\n",
    "Parameters = symbols(\"a b alpha beta gamma delta w_a w_b a0 a1 omega epsilon\")\n",
    "a,b,alpha,beta,gamma,delta,w_a,w_b,a0,a1,omega,epsilon = Parameters"
   ]
  },
  {
   "cell_type": "markdown",
   "metadata": {},
   "source": [
    "### duffing system"
   ]
  },
  {
   "cell_type": "code",
   "execution_count": 11,
   "metadata": {},
   "outputs": [
    {
     "output_type": "execute_result",
     "data": {
      "text/plain": "⎡                y₁                ⎤\n⎢                                  ⎥\n⎢      3                           ⎥\n⎢- α⋅x₁  - β⋅x₁ - δ⋅y₁ + γ⋅cos(ω⋅t)⎥\n⎢                                  ⎥\n⎢                y₂                ⎥\n⎢                                  ⎥\n⎢      3                           ⎥\n⎣- α⋅x₂  - β⋅x₂ - δ⋅y₂ + γ⋅cos(ω⋅t)⎦",
      "text/latex": "$\\displaystyle \\left[\\begin{matrix}y_{1}\\\\- \\alpha x_{1}^{3} - \\beta x_{1} - \\delta y_{1} + \\gamma \\cos{\\left(\\omega t \\right)}\\\\y_{2}\\\\- \\alpha x_{2}^{3} - \\beta x_{2} - \\delta y_{2} + \\gamma \\cos{\\left(\\omega t \\right)}\\end{matrix}\\right]$"
     },
     "metadata": {},
     "execution_count": 11
    }
   ],
   "source": [
    "F=Matrix([y1, gamma*cos(omega*t) - delta*y1 - beta*x1 - alpha*x1**3,\n",
    "          y2, gamma*cos(omega*t) - delta*y2 - beta*x2 - alpha*x2**3])\n",
    "F"
   ]
  },
  {
   "cell_type": "code",
   "execution_count": 12,
   "metadata": {},
   "outputs": [
    {
     "output_type": "execute_result",
     "data": {
      "text/plain": "⎡0⎤\n⎢ ⎥\n⎢0⎥\n⎢ ⎥\n⎢0⎥\n⎢ ⎥\n⎣0⎦",
      "text/latex": "$\\displaystyle \\left[\\begin{matrix}0\\\\0\\\\0\\\\0\\end{matrix}\\right]$"
     },
     "metadata": {},
     "execution_count": 12
    }
   ],
   "source": [
    "zeta=Matrix([0,0,\n",
    "             0,0])\n",
    "zeta"
   ]
  },
  {
   "cell_type": "markdown",
   "metadata": {},
   "source": [
    "### synchrony"
   ]
  },
  {
   "cell_type": "code",
   "execution_count": 13,
   "metadata": {},
   "outputs": [
    {
     "output_type": "execute_result",
     "data": {
      "text/plain": "[-x₁⋅(a⋅sin(t⋅wₐ) + b⋅sin(t⋅w_b)) + x₂]",
      "text/latex": "$\\displaystyle \\left[\\begin{matrix}- x_{1} \\left(a \\sin{\\left(t w_{a} \\right)} + b \\sin{\\left(t w_{b} \\right)}\\right) + x_{2}\\end{matrix}\\right]$"
     },
     "metadata": {},
     "execution_count": 13
    }
   ],
   "source": [
    "phi=Matrix([(x2-x1*(a*sin(w_a*t)+b*sin(w_b*t)))])\n",
    "phi"
   ]
  },
  {
   "cell_type": "code",
   "execution_count": 14,
   "metadata": {},
   "outputs": [
    {
     "output_type": "execute_result",
     "data": {
      "text/plain": "[-a⋅sin(t⋅wₐ) - b⋅sin(t⋅w_b)  0  1  0]",
      "text/latex": "$\\displaystyle \\left[\\begin{matrix}- a \\sin{\\left(t w_{a} \\right)} - b \\sin{\\left(t w_{b} \\right)} & 0 & 1 & 0\\end{matrix}\\right]$"
     },
     "metadata": {},
     "execution_count": 14
    }
   ],
   "source": [
    "N=simulation.VectorDivergence(phi,Variables)\n",
    "N"
   ]
  },
  {
   "cell_type": "code",
   "execution_count": 15,
   "metadata": {},
   "outputs": [
    {
     "output_type": "execute_result",
     "data": {
      "text/plain": "[-a⋅wₐ⋅cos(t⋅wₐ) - b⋅w_b⋅cos(t⋅w_b)  0  0  0]",
      "text/latex": "$\\displaystyle \\left[\\begin{matrix}- a w_{a} \\cos{\\left(t w_{a} \\right)} - b w_{b} \\cos{\\left(t w_{b} \\right)} & 0 & 0 & 0\\end{matrix}\\right]$"
     },
     "metadata": {},
     "execution_count": 15
    }
   ],
   "source": [
    "Ndot = diff(N,Time)\n",
    "Ndot"
   ]
  },
  {
   "cell_type": "code",
   "execution_count": 16,
   "metadata": {},
   "outputs": [],
   "source": [
    "on_manifold = [(x2,x1*(a*sin(w_a*t)+b*sin(w_b*t)))]"
   ]
  },
  {
   "cell_type": "markdown",
   "metadata": {},
   "source": [
    "### invariance"
   ]
  },
  {
   "cell_type": "code",
   "execution_count": 17,
   "metadata": {},
   "outputs": [
    {
     "output_type": "execute_result",
     "data": {
      "text/plain": "[y₁⋅(-a⋅sin(t⋅wₐ) - b⋅sin(t⋅w_b)) + y₂]",
      "text/latex": "$\\displaystyle \\left[\\begin{matrix}y_{1} \\left(- a \\sin{\\left(t w_{a} \\right)} - b \\sin{\\left(t w_{b} \\right)}\\right) + y_{2}\\end{matrix}\\right]$"
     },
     "metadata": {},
     "execution_count": 17
    }
   ],
   "source": [
    "NF=N*(F+zeta)\n",
    "NF"
   ]
  },
  {
   "cell_type": "code",
   "execution_count": 18,
   "metadata": {},
   "outputs": [
    {
     "output_type": "execute_result",
     "data": {
      "text/plain": "[-x₁⋅(a⋅wₐ⋅cos(t⋅wₐ) + b⋅w_b⋅cos(t⋅w_b))]",
      "text/latex": "$\\displaystyle \\left[\\begin{matrix}- x_{1} \\left(a w_{a} \\cos{\\left(t w_{a} \\right)} + b w_{b} \\cos{\\left(t w_{b} \\right)}\\right)\\end{matrix}\\right]$"
     },
     "metadata": {},
     "execution_count": 18
    }
   ],
   "source": [
    "dPhi=diff(phi,Time)\n",
    "dPhi"
   ]
  },
  {
   "cell_type": "code",
   "execution_count": 19,
   "metadata": {},
   "outputs": [
    {
     "output_type": "execute_result",
     "data": {
      "text/plain": "[-x₁⋅(a⋅wₐ⋅cos(t⋅wₐ) + b⋅w_b⋅cos(t⋅w_b)) + y₁⋅(-a⋅sin(t⋅wₐ) - b⋅sin(t⋅w_b)) + \ny₂]",
      "text/latex": "$\\displaystyle \\left[\\begin{matrix}- x_{1} \\left(a w_{a} \\cos{\\left(t w_{a} \\right)} + b w_{b} \\cos{\\left(t w_{b} \\right)}\\right) + y_{1} \\left(- a \\sin{\\left(t w_{a} \\right)} - b \\sin{\\left(t w_{b} \\right)}\\right) + y_{2}\\end{matrix}\\right]$"
     },
     "metadata": {},
     "execution_count": 19
    }
   ],
   "source": [
    "eqn=(NF+dPhi)\n",
    "eqn"
   ]
  },
  {
   "cell_type": "code",
   "execution_count": 20,
   "metadata": {},
   "outputs": [],
   "source": [
    "zeta[2]=-(eqn)[0]"
   ]
  },
  {
   "cell_type": "code",
   "execution_count": 21,
   "metadata": {},
   "outputs": [
    {
     "output_type": "execute_result",
     "data": {
      "text/plain": "⎡                                      0                                      \n⎢                                                                             \n⎢                                      0                                      \n⎢                                                                             \n⎢x₁⋅(a⋅wₐ⋅cos(t⋅wₐ) + b⋅w_b⋅cos(t⋅w_b)) - y₁⋅(-a⋅sin(t⋅wₐ) - b⋅sin(t⋅w_b)) - y\n⎢                                                                             \n⎣                                      0                                      \n\n ⎤\n ⎥\n ⎥\n ⎥\n₂⎥\n ⎥\n ⎦",
      "text/latex": "$\\displaystyle \\left[\\begin{matrix}0\\\\0\\\\x_{1} \\left(a w_{a} \\cos{\\left(t w_{a} \\right)} + b w_{b} \\cos{\\left(t w_{b} \\right)}\\right) - y_{1} \\left(- a \\sin{\\left(t w_{a} \\right)} - b \\sin{\\left(t w_{b} \\right)}\\right) - y_{2}\\\\0\\end{matrix}\\right]$"
     },
     "metadata": {},
     "execution_count": 21
    }
   ],
   "source": [
    "zeta=zeta.subs(on_manifold)\n",
    "zeta"
   ]
  },
  {
   "cell_type": "code",
   "execution_count": 22,
   "metadata": {},
   "outputs": [
    {
     "output_type": "execute_result",
     "data": {
      "text/plain": "[0]",
      "text/latex": "$\\displaystyle \\left[\\begin{matrix}0\\end{matrix}\\right]$"
     },
     "metadata": {},
     "execution_count": 22
    }
   ],
   "source": [
    "NF=N*(F+zeta)\n",
    "simplify(NF)\n",
    "simplify(NF+dPhi).subs(on_manifold)"
   ]
  },
  {
   "cell_type": "code",
   "execution_count": 23,
   "metadata": {},
   "outputs": [
    {
     "output_type": "execute_result",
     "data": {
      "text/plain": "[x₁⋅(a⋅wₐ⋅cos(t⋅wₐ) + b⋅w_b⋅cos(t⋅w_b)) - y₁⋅(-a⋅sin(t⋅wₐ) - b⋅sin(t⋅w_b)) - y\n₂]",
      "text/latex": "$\\displaystyle \\left[\\begin{matrix}x_{1} \\left(a w_{a} \\cos{\\left(t w_{a} \\right)} + b w_{b} \\cos{\\left(t w_{b} \\right)}\\right) - y_{1} \\left(- a \\sin{\\left(t w_{a} \\right)} - b \\sin{\\left(t w_{b} \\right)}\\right) - y_{2}\\end{matrix}\\right]$"
     },
     "metadata": {},
     "execution_count": 23
    }
   ],
   "source": [
    "NZ=N*zeta\n",
    "NZ"
   ]
  },
  {
   "cell_type": "markdown",
   "metadata": {},
   "source": [
    "### stability"
   ]
  },
  {
   "cell_type": "code",
   "execution_count": 26,
   "metadata": {},
   "outputs": [
    {
     "output_type": "execute_result",
     "data": {
      "text/plain": "⎡                 0                  ⎤\n⎢                                    ⎥\n⎢                 0                  ⎥\n⎢                                    ⎥\n⎢x₁⋅(a⋅sin(t⋅wₐ) + b⋅sin(t⋅w_b)) - x₂⎥\n⎢                                    ⎥\n⎣                 0                  ⎦",
      "text/latex": "$\\displaystyle \\left[\\begin{matrix}0\\\\0\\\\x_{1} \\left(a \\sin{\\left(t w_{a} \\right)} + b \\sin{\\left(t w_{b} \\right)}\\right) - x_{2}\\\\0\\end{matrix}\\right]$"
     },
     "metadata": {},
     "execution_count": 26
    }
   ],
   "source": [
    "chi=Matrix([0,0,-1,0])*phi\n",
    "\n",
    "chi"
   ]
  },
  {
   "cell_type": "code",
   "execution_count": 27,
   "metadata": {},
   "outputs": [
    {
     "output_type": "execute_result",
     "data": {
      "text/plain": "⎡                              2    ⎤\n⎣- (a⋅sin(t⋅wₐ) + b⋅sin(t⋅w_b))  - 1⎦",
      "text/latex": "$\\displaystyle \\left[\\begin{matrix}- \\left(a \\sin{\\left(t w_{a} \\right)} + b \\sin{\\left(t w_{b} \\right)}\\right)^{2} - 1\\end{matrix}\\right]$"
     },
     "metadata": {},
     "execution_count": 27
    }
   ],
   "source": [
    "J=simplify((Ndot+simulation.VectorDivergence(N*(F+zeta+chi),Variables))*N.transpose())\n",
    "J"
   ]
  },
  {
   "cell_type": "code",
   "execution_count": null,
   "metadata": {},
   "outputs": [],
   "source": []
  },
  {
   "cell_type": "code",
   "execution_count": null,
   "metadata": {},
   "outputs": [],
   "source": []
  },
  {
   "cell_type": "code",
   "execution_count": null,
   "metadata": {},
   "outputs": [],
   "source": []
  }
 ]
}