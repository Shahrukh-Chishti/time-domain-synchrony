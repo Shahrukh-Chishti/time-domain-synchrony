{
 "cells": [
  {
   "cell_type": "code",
   "execution_count": 18,
   "metadata": {},
   "outputs": [],
   "source": [
    "import sys,importlib\n",
    "sys.path.append('../')\n",
    "import simulation\n",
    "from numpy import *\n",
    "from sympy import *\n",
    "import plotly.offline as py\n",
    "import plotly.graph_objs as go\n",
    "%matplotlib inline\n",
    "init_printing()"
   ]
  },
  {
   "cell_type": "code",
   "execution_count": 19,
   "metadata": {},
   "outputs": [],
   "source": [
    "Variables=symbols(\"x1 y1 x2 y2\")\n",
    "x1,y1,x2,y2 = Variables\n",
    "Time=symbols(\"t\")\n",
    "t=Time\n",
    "Parameters = symbols(\"a alpha beta gamma delta w a0 a1 omega epsilon\")\n",
    "a,alpha,beta,gamma,delta,w,a0,a1,omega,epsilon = Parameters"
   ]
  },
  {
   "cell_type": "markdown",
   "metadata": {},
   "source": [
    "### duffing system"
   ]
  },
  {
   "cell_type": "code",
   "execution_count": 20,
   "metadata": {},
   "outputs": [
    {
     "data": {
      "text/latex": [
       "$\\displaystyle \\left[\\begin{matrix}y_{1}\\\\- \\alpha x_{1}^{3} - \\beta x_{1} - \\delta y_{1} + \\gamma \\cos{\\left(\\omega t \\right)}\\\\y_{2}\\\\- \\alpha x_{2}^{3} - \\beta x_{2} - \\delta y_{2} + \\gamma \\cos{\\left(\\omega t \\right)}\\end{matrix}\\right]$"
      ],
      "text/plain": [
       "⎡                y₁                ⎤\n",
       "⎢                                  ⎥\n",
       "⎢      3                           ⎥\n",
       "⎢- α⋅x₁  - β⋅x₁ - δ⋅y₁ + γ⋅cos(ω⋅t)⎥\n",
       "⎢                                  ⎥\n",
       "⎢                y₂                ⎥\n",
       "⎢                                  ⎥\n",
       "⎢      3                           ⎥\n",
       "⎣- α⋅x₂  - β⋅x₂ - δ⋅y₂ + γ⋅cos(ω⋅t)⎦"
      ]
     },
     "execution_count": 20,
     "metadata": {},
     "output_type": "execute_result"
    }
   ],
   "source": [
    "F=Matrix([y1, gamma*cos(omega*t) - delta*y1 - beta*x1 - alpha*x1**3,\n",
    "          y2, gamma*cos(omega*t) - delta*y2 - beta*x2 - alpha*x2**3])\n",
    "F"
   ]
  },
  {
   "cell_type": "code",
   "execution_count": 21,
   "metadata": {},
   "outputs": [
    {
     "data": {
      "text/latex": [
       "$\\displaystyle \\left[\\begin{matrix}0\\\\0\\\\0\\\\0\\end{matrix}\\right]$"
      ],
      "text/plain": [
       "⎡0⎤\n",
       "⎢ ⎥\n",
       "⎢0⎥\n",
       "⎢ ⎥\n",
       "⎢0⎥\n",
       "⎢ ⎥\n",
       "⎣0⎦"
      ]
     },
     "execution_count": 21,
     "metadata": {},
     "output_type": "execute_result"
    }
   ],
   "source": [
    "zeta=Matrix([0,0,\n",
    "             0,0])\n",
    "zeta"
   ]
  },
  {
   "cell_type": "markdown",
   "metadata": {},
   "source": [
    "### synchrony"
   ]
  },
  {
   "cell_type": "code",
   "execution_count": 22,
   "metadata": {},
   "outputs": [
    {
     "data": {
      "text/latex": [
       "$\\displaystyle \\left[\\begin{matrix}- x_{1} \\sin{\\left(a + t w \\right)} + x_{2}\\end{matrix}\\right]$"
      ],
      "text/plain": [
       "[-x₁⋅sin(a + t⋅w) + x₂]"
      ]
     },
     "execution_count": 22,
     "metadata": {},
     "output_type": "execute_result"
    }
   ],
   "source": [
    "phi=Matrix([(x2-x1*(sin(w*t+a)))])\n",
    "phi"
   ]
  },
  {
   "cell_type": "code",
   "execution_count": 23,
   "metadata": {},
   "outputs": [
    {
     "data": {
      "text/latex": [
       "$\\displaystyle \\left[\\begin{matrix}- \\sin{\\left(a + t w \\right)} & 0 & 1 & 0\\end{matrix}\\right]$"
      ],
      "text/plain": [
       "[-sin(a + t⋅w)  0  1  0]"
      ]
     },
     "execution_count": 23,
     "metadata": {},
     "output_type": "execute_result"
    }
   ],
   "source": [
    "N=simulation.VectorDivergence(phi,Variables)\n",
    "N"
   ]
  },
  {
   "cell_type": "code",
   "execution_count": 24,
   "metadata": {},
   "outputs": [
    {
     "data": {
      "text/latex": [
       "$\\displaystyle \\left[\\begin{matrix}- w \\cos{\\left(a + t w \\right)} & 0 & 0 & 0\\end{matrix}\\right]$"
      ],
      "text/plain": [
       "[-w⋅cos(a + t⋅w)  0  0  0]"
      ]
     },
     "execution_count": 24,
     "metadata": {},
     "output_type": "execute_result"
    }
   ],
   "source": [
    "Ndot = diff(N,Time)\n",
    "Ndot"
   ]
  },
  {
   "cell_type": "code",
   "execution_count": 26,
   "metadata": {},
   "outputs": [],
   "source": [
    "on_manifold = [(x2,x1*(sin(w*t+a)))]"
   ]
  },
  {
   "cell_type": "markdown",
   "metadata": {},
   "source": [
    "### invariance"
   ]
  },
  {
   "cell_type": "code",
   "execution_count": 27,
   "metadata": {},
   "outputs": [
    {
     "data": {
      "text/latex": [
       "$\\displaystyle \\left[\\begin{matrix}- y_{1} \\sin{\\left(a + t w \\right)} + y_{2}\\end{matrix}\\right]$"
      ],
      "text/plain": [
       "[-y₁⋅sin(a + t⋅w) + y₂]"
      ]
     },
     "execution_count": 27,
     "metadata": {},
     "output_type": "execute_result"
    }
   ],
   "source": [
    "NF=N*(F+zeta)\n",
    "NF"
   ]
  },
  {
   "cell_type": "code",
   "execution_count": 28,
   "metadata": {},
   "outputs": [
    {
     "data": {
      "text/latex": [
       "$\\displaystyle \\left[\\begin{matrix}- w x_{1} \\cos{\\left(a + t w \\right)}\\end{matrix}\\right]$"
      ],
      "text/plain": [
       "[-w⋅x₁⋅cos(a + t⋅w)]"
      ]
     },
     "execution_count": 28,
     "metadata": {},
     "output_type": "execute_result"
    }
   ],
   "source": [
    "dPhi=diff(phi,Time)\n",
    "dPhi"
   ]
  },
  {
   "cell_type": "code",
   "execution_count": 29,
   "metadata": {},
   "outputs": [
    {
     "data": {
      "text/latex": [
       "$\\displaystyle \\left[\\begin{matrix}- w x_{1} \\cos{\\left(a + t w \\right)} - y_{1} \\sin{\\left(a + t w \\right)} + y_{2}\\end{matrix}\\right]$"
      ],
      "text/plain": [
       "[-w⋅x₁⋅cos(a + t⋅w) - y₁⋅sin(a + t⋅w) + y₂]"
      ]
     },
     "execution_count": 29,
     "metadata": {},
     "output_type": "execute_result"
    }
   ],
   "source": [
    "eqn=(NF+dPhi)\n",
    "eqn\n",
    "#simplify(eqn)"
   ]
  },
  {
   "cell_type": "code",
   "execution_count": 30,
   "metadata": {},
   "outputs": [],
   "source": [
    "zeta[2]=-(eqn)[0]\n",
    "#simplify(zeta)"
   ]
  },
  {
   "cell_type": "code",
   "execution_count": 31,
   "metadata": {},
   "outputs": [
    {
     "data": {
      "text/latex": [
       "$\\displaystyle \\left[\\begin{matrix}0\\\\0\\\\w x_{1} \\cos{\\left(a + t w \\right)} + y_{1} \\sin{\\left(a + t w \\right)} - y_{2}\\\\0\\end{matrix}\\right]$"
      ],
      "text/plain": [
       "⎡                   0                    ⎤\n",
       "⎢                                        ⎥\n",
       "⎢                   0                    ⎥\n",
       "⎢                                        ⎥\n",
       "⎢w⋅x₁⋅cos(a + t⋅w) + y₁⋅sin(a + t⋅w) - y₂⎥\n",
       "⎢                                        ⎥\n",
       "⎣                   0                    ⎦"
      ]
     },
     "execution_count": 31,
     "metadata": {},
     "output_type": "execute_result"
    }
   ],
   "source": [
    "zeta=zeta.subs(on_manifold)\n",
    "zeta"
   ]
  },
  {
   "cell_type": "code",
   "execution_count": 32,
   "metadata": {},
   "outputs": [
    {
     "data": {
      "text/latex": [
       "$\\displaystyle \\left[\\begin{matrix}0\\end{matrix}\\right]$"
      ],
      "text/plain": [
       "[0]"
      ]
     },
     "execution_count": 32,
     "metadata": {},
     "output_type": "execute_result"
    }
   ],
   "source": [
    "\n",
    "NF=N*(F+zeta)\n",
    "simplify(NF)\n",
    "simplify(NF+dPhi).subs(on_manifold)"
   ]
  },
  {
   "cell_type": "code",
   "execution_count": 33,
   "metadata": {},
   "outputs": [
    {
     "data": {
      "text/latex": [
       "$\\displaystyle \\left[\\begin{matrix}w x_{1} \\cos{\\left(a + t w \\right)} + y_{1} \\sin{\\left(a + t w \\right)} - y_{2}\\end{matrix}\\right]$"
      ],
      "text/plain": [
       "[w⋅x₁⋅cos(a + t⋅w) + y₁⋅sin(a + t⋅w) - y₂]"
      ]
     },
     "execution_count": 33,
     "metadata": {},
     "output_type": "execute_result"
    }
   ],
   "source": [
    "NZ=N*zeta\n",
    "NZ"
   ]
  },
  {
   "cell_type": "markdown",
   "metadata": {},
   "source": [
    "### stability"
   ]
  },
  {
   "cell_type": "code",
   "execution_count": 34,
   "metadata": {},
   "outputs": [
    {
     "data": {
      "text/latex": [
       "$\\displaystyle \\left[\\begin{matrix}0\\\\0\\\\\\epsilon \\left(- x_{1} \\sin{\\left(a + t w \\right)} + x_{2}\\right)\\\\0\\end{matrix}\\right]$"
      ],
      "text/plain": [
       "⎡            0            ⎤\n",
       "⎢                         ⎥\n",
       "⎢            0            ⎥\n",
       "⎢                         ⎥\n",
       "⎢ε⋅(-x₁⋅sin(a + t⋅w) + x₂)⎥\n",
       "⎢                         ⎥\n",
       "⎣            0            ⎦"
      ]
     },
     "execution_count": 34,
     "metadata": {},
     "output_type": "execute_result"
    }
   ],
   "source": [
    "chi=Matrix([0,0,epsilon,0])*phi\n",
    "chi"
   ]
  },
  {
   "cell_type": "code",
   "execution_count": 35,
   "metadata": {},
   "outputs": [
    {
     "data": {
      "text/latex": [
       "$\\displaystyle \\left[\\begin{matrix}\\epsilon \\left(\\sin^{2}{\\left(a + t w \\right)} + 1\\right)\\end{matrix}\\right]$"
      ],
      "text/plain": [
       "⎡  ⎛   2             ⎞⎤\n",
       "⎣ε⋅⎝sin (a + t⋅w) + 1⎠⎦"
      ]
     },
     "execution_count": 35,
     "metadata": {},
     "output_type": "execute_result"
    }
   ],
   "source": [
    "J=simplify((Ndot+simulation.VectorDivergence(N*(F+zeta+chi),Variables))*N.transpose())\n",
    "J"
   ]
  },
  {
   "cell_type": "markdown",
   "metadata": {},
   "source": [
    "-----------------------"
   ]
  }
 ],
 "metadata": {
  "kernelspec": {
   "display_name": "Python 3",
   "language": "python",
   "name": "python3"
  },
  "language_info": {
   "codemirror_mode": {
    "name": "ipython",
    "version": 3
   },
   "file_extension": ".py",
   "mimetype": "text/x-python",
   "name": "python",
   "nbconvert_exporter": "python",
   "pygments_lexer": "ipython3",
   "version": "3.8.2"
  }
 },
 "nbformat": 4,
 "nbformat_minor": 2
}
