{
 "metadata": {
  "language_info": {
   "codemirror_mode": {
    "name": "ipython",
    "version": 3
   },
   "file_extension": ".py",
   "mimetype": "text/x-python",
   "name": "python",
   "nbconvert_exporter": "python",
   "pygments_lexer": "ipython3",
   "version": "3.8.3-final"
  },
  "orig_nbformat": 2,
  "kernelspec": {
   "name": "python_defaultSpec_1598939862492",
   "display_name": "Python 3.8.3 64-bit ('base': conda)"
  }
 },
 "nbformat": 4,
 "nbformat_minor": 2,
 "cells": [
  {
   "cell_type": "code",
   "execution_count": 130,
   "metadata": {},
   "outputs": [],
   "source": [
    "import sys,importlib\n",
    "sys.path.append('../')\n",
    "import simulation\n",
    "from numpy import *\n",
    "from sympy import *\n",
    "import plotly.offline as py\n",
    "import plotly.graph_objs as go\n",
    "%matplotlib inline\n",
    "init_printing()"
   ]
  },
  {
   "cell_type": "code",
   "execution_count": 131,
   "metadata": {},
   "outputs": [],
   "source": [
    "Variables=symbols(\"x1 y1 x2 y2\")\n",
    "x1,y1,x2,y2 = Variables\n",
    "Time=symbols(\"t\")\n",
    "t=Time\n",
    "Parameters = symbols(\"a alpha beta gamma delta w a0 a1 omega epsilon\")\n",
    "a,alpha,beta,gamma,delta,w,a0,a1,omega,epsilon = Parameters"
   ]
  },
  {
   "cell_type": "markdown",
   "metadata": {},
   "source": [
    "### duffing system"
   ]
  },
  {
   "cell_type": "code",
   "execution_count": 132,
   "metadata": {},
   "outputs": [
    {
     "output_type": "execute_result",
     "data": {
      "text/plain": "⎡                y₁                ⎤\n⎢                                  ⎥\n⎢      3                           ⎥\n⎢- α⋅x₁  - β⋅x₁ - δ⋅y₁ + γ⋅cos(ω⋅t)⎥\n⎢                                  ⎥\n⎢                y₂                ⎥\n⎢                                  ⎥\n⎢      3                           ⎥\n⎣- α⋅x₂  - β⋅x₂ - δ⋅y₂ + γ⋅cos(ω⋅t)⎦",
      "text/latex": "$\\displaystyle \\left[\\begin{matrix}y_{1}\\\\- \\alpha x_{1}^{3} - \\beta x_{1} - \\delta y_{1} + \\gamma \\cos{\\left(\\omega t \\right)}\\\\y_{2}\\\\- \\alpha x_{2}^{3} - \\beta x_{2} - \\delta y_{2} + \\gamma \\cos{\\left(\\omega t \\right)}\\end{matrix}\\right]$"
     },
     "metadata": {},
     "execution_count": 132
    }
   ],
   "source": [
    "F=Matrix([y1, gamma*cos(omega*t) - delta*y1 - beta*x1 - alpha*x1**3,\n",
    "          y2, gamma*cos(omega*t) - delta*y2 - beta*x2 - alpha*x2**3])\n",
    "F"
   ]
  },
  {
   "cell_type": "code",
   "execution_count": 133,
   "metadata": {},
   "outputs": [
    {
     "output_type": "execute_result",
     "data": {
      "text/plain": "⎡0⎤\n⎢ ⎥\n⎢0⎥\n⎢ ⎥\n⎢0⎥\n⎢ ⎥\n⎣0⎦",
      "text/latex": "$\\displaystyle \\left[\\begin{matrix}0\\\\0\\\\0\\\\0\\end{matrix}\\right]$"
     },
     "metadata": {},
     "execution_count": 133
    }
   ],
   "source": [
    "zeta=Matrix([0,0,\n",
    "             0,0])\n",
    "zeta"
   ]
  },
  {
   "cell_type": "markdown",
   "metadata": {},
   "source": [
    "### synchrony"
   ]
  },
  {
   "cell_type": "code",
   "execution_count": 134,
   "metadata": {},
   "outputs": [
    {
     "output_type": "execute_result",
     "data": {
      "text/plain": "[-x₁⋅sin(a + t) + x₂]",
      "text/latex": "$\\displaystyle \\left[\\begin{matrix}- x_{1} \\sin{\\left(a + t \\right)} + x_{2}\\end{matrix}\\right]$"
     },
     "metadata": {},
     "execution_count": 134
    }
   ],
   "source": [
    "phi=Matrix([(x2-x1*(sin(t+a)))])\n",
    "phi"
   ]
  },
  {
   "cell_type": "code",
   "execution_count": 135,
   "metadata": {},
   "outputs": [
    {
     "output_type": "execute_result",
     "data": {
      "text/plain": "[-sin(a + t)  0  1  0]",
      "text/latex": "$\\displaystyle \\left[\\begin{matrix}- \\sin{\\left(a + t \\right)} & 0 & 1 & 0\\end{matrix}\\right]$"
     },
     "metadata": {},
     "execution_count": 135
    }
   ],
   "source": [
    "N=simulation.VectorDivergence(phi,Variables)\n",
    "N"
   ]
  },
  {
   "cell_type": "code",
   "execution_count": 136,
   "metadata": {},
   "outputs": [
    {
     "output_type": "execute_result",
     "data": {
      "text/plain": "[-cos(a + t)  0  0  0]",
      "text/latex": "$\\displaystyle \\left[\\begin{matrix}- \\cos{\\left(a + t \\right)} & 0 & 0 & 0\\end{matrix}\\right]$"
     },
     "metadata": {},
     "execution_count": 136
    }
   ],
   "source": [
    "Ndot = diff(N,Time)\n",
    "Ndot"
   ]
  },
  {
   "cell_type": "code",
   "execution_count": 137,
   "metadata": {},
   "outputs": [],
   "source": [
    "on_manifold = [(x2,x1*(sin(t+a)))]"
   ]
  },
  {
   "cell_type": "markdown",
   "metadata": {},
   "source": [
    "### invariance"
   ]
  },
  {
   "cell_type": "code",
   "execution_count": 138,
   "metadata": {},
   "outputs": [
    {
     "output_type": "execute_result",
     "data": {
      "text/plain": "[-y₁⋅sin(a + t) + y₂]",
      "text/latex": "$\\displaystyle \\left[\\begin{matrix}- y_{1} \\sin{\\left(a + t \\right)} + y_{2}\\end{matrix}\\right]$"
     },
     "metadata": {},
     "execution_count": 138
    }
   ],
   "source": [
    "NF=N*(F+zeta)\n",
    "NF"
   ]
  },
  {
   "cell_type": "code",
   "execution_count": 139,
   "metadata": {},
   "outputs": [
    {
     "output_type": "execute_result",
     "data": {
      "text/plain": "[-x₁⋅cos(a + t)]",
      "text/latex": "$\\displaystyle \\left[\\begin{matrix}- x_{1} \\cos{\\left(a + t \\right)}\\end{matrix}\\right]$"
     },
     "metadata": {},
     "execution_count": 139
    }
   ],
   "source": [
    "dPhi=diff(phi,Time)\n",
    "dPhi"
   ]
  },
  {
   "cell_type": "code",
   "execution_count": 140,
   "metadata": {},
   "outputs": [
    {
     "output_type": "execute_result",
     "data": {
      "text/plain": "[-x₁⋅cos(a + t) - y₁⋅sin(a + t) + y₂]",
      "text/latex": "$\\displaystyle \\left[\\begin{matrix}- x_{1} \\cos{\\left(a + t \\right)} - y_{1} \\sin{\\left(a + t \\right)} + y_{2}\\end{matrix}\\right]$"
     },
     "metadata": {},
     "execution_count": 140
    }
   ],
   "source": [
    "eqn=(NF+dPhi)\n",
    "eqn\n",
    "#simplify(eqn)"
   ]
  },
  {
   "cell_type": "code",
   "execution_count": 141,
   "metadata": {},
   "outputs": [],
   "source": [
    "zeta[2]=-(eqn)[0]\n",
    "#simplify(zeta)"
   ]
  },
  {
   "cell_type": "code",
   "execution_count": 142,
   "metadata": {},
   "outputs": [
    {
     "output_type": "execute_result",
     "data": {
      "text/plain": "⎡                0                 ⎤\n⎢                                  ⎥\n⎢                0                 ⎥\n⎢                                  ⎥\n⎢x₁⋅cos(a + t) + y₁⋅sin(a + t) - y₂⎥\n⎢                                  ⎥\n⎣                0                 ⎦",
      "text/latex": "$\\displaystyle \\left[\\begin{matrix}0\\\\0\\\\x_{1} \\cos{\\left(a + t \\right)} + y_{1} \\sin{\\left(a + t \\right)} - y_{2}\\\\0\\end{matrix}\\right]$"
     },
     "metadata": {},
     "execution_count": 142
    }
   ],
   "source": [
    "zeta=zeta.subs(on_manifold)\n",
    "zeta"
   ]
  },
  {
   "cell_type": "code",
   "execution_count": 143,
   "metadata": {},
   "outputs": [
    {
     "output_type": "execute_result",
     "data": {
      "text/plain": "[0]",
      "text/latex": "$\\displaystyle \\left[\\begin{matrix}0\\end{matrix}\\right]$"
     },
     "metadata": {},
     "execution_count": 143
    }
   ],
   "source": [
    "\n",
    "NF=N*(F+zeta)\n",
    "simplify(NF)\n",
    "simplify(NF+dPhi).subs(on_manifold)"
   ]
  },
  {
   "cell_type": "code",
   "execution_count": 144,
   "metadata": {},
   "outputs": [
    {
     "output_type": "execute_result",
     "data": {
      "text/plain": "[x₁⋅cos(a + t) + y₁⋅sin(a + t) - y₂]",
      "text/latex": "$\\displaystyle \\left[\\begin{matrix}x_{1} \\cos{\\left(a + t \\right)} + y_{1} \\sin{\\left(a + t \\right)} - y_{2}\\end{matrix}\\right]$"
     },
     "metadata": {},
     "execution_count": 144
    }
   ],
   "source": [
    "NZ=N*zeta\n",
    "NZ"
   ]
  },
  {
   "cell_type": "markdown",
   "metadata": {},
   "source": [
    "### stability"
   ]
  },
  {
   "cell_type": "code",
   "execution_count": 145,
   "metadata": {},
   "outputs": [
    {
     "output_type": "execute_result",
     "data": {
      "text/plain": "⎡        0         ⎤\n⎢                  ⎥\n⎢        0         ⎥\n⎢                  ⎥\n⎢x₁⋅sin(a + t) - x₂⎥\n⎢                  ⎥\n⎣        0         ⎦",
      "text/latex": "$\\displaystyle \\left[\\begin{matrix}0\\\\0\\\\x_{1} \\sin{\\left(a + t \\right)} - x_{2}\\\\0\\end{matrix}\\right]$"
     },
     "metadata": {},
     "execution_count": 145
    }
   ],
   "source": [
    "chi=Matrix([0,0,-1,0])*phi\n",
    "\n",
    "chi"
   ]
  },
  {
   "cell_type": "code",
   "execution_count": 146,
   "metadata": {},
   "outputs": [
    {
     "output_type": "execute_result",
     "data": {
      "text/plain": "⎡cos(2⋅a + 2⋅t)   3⎤\n⎢────────────── - ─⎥\n⎣      2          2⎦",
      "text/latex": "$\\displaystyle \\left[\\begin{matrix}\\frac{\\cos{\\left(2 a + 2 t \\right)}}{2} - \\frac{3}{2}\\end{matrix}\\right]$"
     },
     "metadata": {},
     "execution_count": 146
    }
   ],
   "source": [
    "J=simplify((Ndot+simulation.VectorDivergence(N*(F+zeta+chi),Variables))*N.transpose())\n",
    "J"
   ]
  },
  {
   "cell_type": "code",
   "execution_count": null,
   "metadata": {},
   "outputs": [],
   "source": []
  },
  {
   "cell_type": "code",
   "execution_count": null,
   "metadata": {},
   "outputs": [],
   "source": []
  }
 ]
}