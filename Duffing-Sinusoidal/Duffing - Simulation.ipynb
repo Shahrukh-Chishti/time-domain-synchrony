{
 "cells": [
  {
   "cell_type": "code",
   "execution_count": 5,
   "metadata": {},
   "outputs": [],
   "source": [
    "import sys\n",
    "sys.path.append('../')\n",
    "import simulation"
   ]
  },
  {
   "cell_type": "code",
   "execution_count": 6,
   "metadata": {},
   "outputs": [],
   "source": [
    "alpha = 1\n",
    "delta = .25\n",
    "gamma = .3\n",
    "beta = -1\n",
    "omega = 1\n",
    "def dufffingOscillator(state,t):\n",
    "    x,y = state[0],state[1]\n",
    "    xdot = y\n",
    "    ydot = -alpha*(x**3) - beta* x - delta*y + gamma*cos(omega*t)\n",
    "    return xdot,ydot"
   ]
  },
  {
   "cell_type": "code",
   "execution_count": null,
   "metadata": {},
   "outputs": [],
   "source": []
  }
 ],
 "metadata": {
  "kernelspec": {
   "display_name": "Python 3",
   "language": "python",
   "name": "python3"
  },
  "language_info": {
   "codemirror_mode": {
    "name": "ipython",
    "version": 3
   },
   "file_extension": ".py",
   "mimetype": "text/x-python",
   "name": "python",
   "nbconvert_exporter": "python",
   "pygments_lexer": "ipython3",
   "version": "3.8.2"
  }
 },
 "nbformat": 4,
 "nbformat_minor": 4
}
