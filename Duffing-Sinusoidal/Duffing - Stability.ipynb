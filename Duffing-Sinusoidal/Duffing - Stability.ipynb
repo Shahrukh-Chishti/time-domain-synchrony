{
 "cells": [
  {
   "cell_type": "code",
   "execution_count": 1,
   "metadata": {},
   "outputs": [
    {
     "data": {
      "text/html": [
       "        <script type=\"text/javascript\">\n",
       "        window.PlotlyConfig = {MathJaxConfig: 'local'};\n",
       "        if (window.MathJax) {MathJax.Hub.Config({SVG: {font: \"STIX-Web\"}});}\n",
       "        if (typeof require !== 'undefined') {\n",
       "        require.undef(\"plotly\");\n",
       "        requirejs.config({\n",
       "            paths: {\n",
       "                'plotly': ['https://cdn.plot.ly/plotly-latest.min']\n",
       "            }\n",
       "        });\n",
       "        require(['plotly'], function(Plotly) {\n",
       "            window._Plotly = Plotly;\n",
       "        });\n",
       "        }\n",
       "        </script>\n",
       "        "
      ]
     },
     "metadata": {},
     "output_type": "display_data"
    }
   ],
   "source": [
    "import sys,importlib\n",
    "sys.path.append('../')\n",
    "import simulation\n",
    "from numpy import *\n",
    "from sympy import *\n",
    "import plotly.offline as py\n",
    "import plotly.graph_objs as go\n",
    "%matplotlib inline\n",
    "init_printing()"
   ]
  },
  {
   "cell_type": "code",
   "execution_count": 2,
   "metadata": {},
   "outputs": [],
   "source": [
    "Variables=symbols(\"x1 y1 x2 y2\")\n",
    "x1,y1,x2,y2 = Variables\n",
    "Time=symbols(\"t\")\n",
    "t=Time\n",
    "Parameters = symbols(\"alpha beta gamma delta w a0 a1\")\n",
    "alpha,beta,gamma,delta,w,a0,a1 = Parameters"
   ]
  },
  {
   "cell_type": "markdown",
   "metadata": {},
   "source": [
    "### Duffing system"
   ]
  },
  {
   "cell_type": "code",
   "execution_count": 3,
   "metadata": {},
   "outputs": [
    {
     "data": {
      "text/latex": [
       "$\\displaystyle \\left[\\begin{matrix}y_{1}\\\\- \\alpha x_{1}^{3} - \\beta x_{1} - \\delta y_{1} + \\gamma \\cos{\\left(t w \\right)}\\\\y_{2}\\\\- \\alpha x_{2}^{3} - \\beta x_{2} - \\delta y_{2} + \\gamma \\cos{\\left(t w \\right)}\\end{matrix}\\right]$"
      ],
      "text/plain": [
       "⎡                y₁                ⎤\n",
       "⎢                                  ⎥\n",
       "⎢      3                           ⎥\n",
       "⎢- α⋅x₁  - β⋅x₁ - δ⋅y₁ + γ⋅cos(t⋅w)⎥\n",
       "⎢                                  ⎥\n",
       "⎢                y₂                ⎥\n",
       "⎢                                  ⎥\n",
       "⎢      3                           ⎥\n",
       "⎣- α⋅x₂  - β⋅x₂ - δ⋅y₂ + γ⋅cos(t⋅w)⎦"
      ]
     },
     "execution_count": 3,
     "metadata": {},
     "output_type": "execute_result"
    }
   ],
   "source": [
    "F=Matrix([y1, gamma*cos(w*t) - delta*y1 - beta*x1 - alpha*x1**3,\n",
    "          y2, gamma*cos(w*t) - delta*y2 - beta*x2 - alpha*x2**3])\n",
    "F"
   ]
  },
  {
   "cell_type": "code",
   "execution_count": 4,
   "metadata": {},
   "outputs": [
    {
     "data": {
      "text/latex": [
       "$\\displaystyle \\left[\\begin{matrix}0\\\\0\\\\0\\\\0\\end{matrix}\\right]$"
      ],
      "text/plain": [
       "⎡0⎤\n",
       "⎢ ⎥\n",
       "⎢0⎥\n",
       "⎢ ⎥\n",
       "⎢0⎥\n",
       "⎢ ⎥\n",
       "⎣0⎦"
      ]
     },
     "execution_count": 4,
     "metadata": {},
     "output_type": "execute_result"
    }
   ],
   "source": [
    "zeta=Matrix([0,0,\n",
    "             0,0])\n",
    "#zeta=eps*zeta\n",
    "zeta"
   ]
  },
  {
   "cell_type": "markdown",
   "metadata": {},
   "source": [
    "### Synchrony"
   ]
  },
  {
   "cell_type": "code",
   "execution_count": 5,
   "metadata": {
    "scrolled": true
   },
   "outputs": [
    {
     "data": {
      "text/latex": [
       "$\\displaystyle \\left[\\begin{matrix}- x_{1} \\left(a_{0} + a_{1} \\sin{\\left(t w \\right)}\\right) + x_{2}\\\\- y_{1} \\left(a_{0} + a_{1} \\sin{\\left(t w \\right)}\\right) + y_{2}\\end{matrix}\\right]$"
      ],
      "text/plain": [
       "⎡-x₁⋅(a₀ + a₁⋅sin(t⋅w)) + x₂⎤\n",
       "⎢                           ⎥\n",
       "⎣-y₁⋅(a₀ + a₁⋅sin(t⋅w)) + y₂⎦"
      ]
     },
     "execution_count": 5,
     "metadata": {},
     "output_type": "execute_result"
    }
   ],
   "source": [
    "phi=Matrix([(x2-x1*(a0+a1*sin(w*t))),y2-y1*(a0+a1*sin(w*t))])\n",
    "phi"
   ]
  },
  {
   "cell_type": "code",
   "execution_count": 6,
   "metadata": {
    "scrolled": true
   },
   "outputs": [
    {
     "data": {
      "text/latex": [
       "$\\displaystyle \\left[\\begin{matrix}- a_{0} - a_{1} \\sin{\\left(t w \\right)} & 0 & 1 & 0\\\\0 & - a_{0} - a_{1} \\sin{\\left(t w \\right)} & 0 & 1\\end{matrix}\\right]$"
      ],
      "text/plain": [
       "⎡-a₀ - a₁⋅sin(t⋅w)          0          1  0⎤\n",
       "⎢                                          ⎥\n",
       "⎣        0          -a₀ - a₁⋅sin(t⋅w)  0  1⎦"
      ]
     },
     "execution_count": 6,
     "metadata": {},
     "output_type": "execute_result"
    }
   ],
   "source": [
    "N=simulation.VectorDivergence(phi,Variables)\n",
    "N"
   ]
  },
  {
   "cell_type": "code",
   "execution_count": 7,
   "metadata": {},
   "outputs": [],
   "source": [
    "on_manifold = [(x2,x1*(a0+a1*sin(w*t))),(y2,y1*(a0+a1*sin(w*t)))]"
   ]
  },
  {
   "cell_type": "markdown",
   "metadata": {},
   "source": [
    "## Invariance"
   ]
  },
  {
   "cell_type": "code",
   "execution_count": 8,
   "metadata": {},
   "outputs": [
    {
     "data": {
      "text/latex": [
       "$\\displaystyle \\left[\\begin{matrix}y_{1} \\left(- a_{0} - a_{1} \\sin{\\left(t w \\right)}\\right) + y_{2}\\\\- \\alpha x_{2}^{3} - \\beta x_{2} - \\delta y_{2} + \\gamma \\cos{\\left(t w \\right)} + \\left(- a_{0} - a_{1} \\sin{\\left(t w \\right)}\\right) \\left(- \\alpha x_{1}^{3} - \\beta x_{1} - \\delta y_{1} + \\gamma \\cos{\\left(t w \\right)}\\right)\\end{matrix}\\right]$"
      ],
      "text/plain": [
       "⎡                                 y₁⋅(-a₀ - a₁⋅sin(t⋅w)) + y₂                 \n",
       "⎢                                                                             \n",
       "⎢      3                                                  ⎛      3            \n",
       "⎣- α⋅x₂  - β⋅x₂ - δ⋅y₂ + γ⋅cos(t⋅w) + (-a₀ - a₁⋅sin(t⋅w))⋅⎝- α⋅x₁  - β⋅x₁ - δ⋅\n",
       "\n",
       "                ⎤\n",
       "                ⎥\n",
       "               ⎞⎥\n",
       "y₁ + γ⋅cos(t⋅w)⎠⎦"
      ]
     },
     "execution_count": 8,
     "metadata": {},
     "output_type": "execute_result"
    }
   ],
   "source": [
    "# NF=(N*(F+zeta)).subs([(x2,x1*(a0+a1*sin(w*t))),(y2,y1*(a0+a1*sin(w*t))),(z2,z1*(a0+a1*sin(w*t)))])\n",
    "# simplify(NF)\n",
    "NF=N*(F+zeta)\n",
    "NF\n",
    "#simplify(NF)"
   ]
  },
  {
   "cell_type": "code",
   "execution_count": 9,
   "metadata": {},
   "outputs": [
    {
     "data": {
      "text/latex": [
       "$\\displaystyle \\left[\\begin{matrix}- a_{1} w x_{1} \\cos{\\left(t w \\right)}\\\\- a_{1} w y_{1} \\cos{\\left(t w \\right)}\\end{matrix}\\right]$"
      ],
      "text/plain": [
       "⎡-a₁⋅w⋅x₁⋅cos(t⋅w)⎤\n",
       "⎢                 ⎥\n",
       "⎣-a₁⋅w⋅y₁⋅cos(t⋅w)⎦"
      ]
     },
     "execution_count": 9,
     "metadata": {},
     "output_type": "execute_result"
    }
   ],
   "source": [
    "dPhi=diff(phi,Time)\n",
    "dPhi"
   ]
  },
  {
   "cell_type": "code",
   "execution_count": 10,
   "metadata": {},
   "outputs": [
    {
     "data": {
      "text/latex": [
       "$\\displaystyle \\left[\\begin{matrix}- a_{1} w x_{1} \\cos{\\left(t w \\right)} - y_{1} \\left(a_{0} + a_{1} \\sin{\\left(t w \\right)}\\right) + y_{2}\\\\- a_{1} w y_{1} \\cos{\\left(t w \\right)} - \\alpha x_{2}^{3} - \\beta x_{2} - \\delta y_{2} + \\gamma \\cos{\\left(t w \\right)} + \\left(a_{0} + a_{1} \\sin{\\left(t w \\right)}\\right) \\left(\\alpha x_{1}^{3} + \\beta x_{1} + \\delta y_{1} - \\gamma \\cos{\\left(t w \\right)}\\right)\\end{matrix}\\right]$"
      ],
      "text/plain": [
       "⎡                               -a₁⋅w⋅x₁⋅cos(t⋅w) - y₁⋅(a₀ + a₁⋅sin(t⋅w)) + y₂\n",
       "⎢                                                                             \n",
       "⎢                        3                                                 ⎛  \n",
       "⎣-a₁⋅w⋅y₁⋅cos(t⋅w) - α⋅x₂  - β⋅x₂ - δ⋅y₂ + γ⋅cos(t⋅w) + (a₀ + a₁⋅sin(t⋅w))⋅⎝α⋅\n",
       "\n",
       "                               ⎤\n",
       "                               ⎥\n",
       "  3                           ⎞⎥\n",
       "x₁  + β⋅x₁ + δ⋅y₁ - γ⋅cos(t⋅w)⎠⎦"
      ]
     },
     "execution_count": 10,
     "metadata": {},
     "output_type": "execute_result"
    }
   ],
   "source": [
    "eqn=(NF+dPhi)#.subs([(x2,x1*(a0+a1*sin(w*t))),(y2,y1*(a0+a1*sin(w*t))),(z2,z1*(a0+a1*sin(w*t)))])\n",
    "simplify(eqn)"
   ]
  },
  {
   "cell_type": "code",
   "execution_count": 11,
   "metadata": {},
   "outputs": [
    {
     "data": {
      "text/latex": [
       "$\\displaystyle \\left[\\begin{matrix}0\\\\0\\\\a_{1} w x_{1} \\cos{\\left(t w \\right)} + y_{1} \\left(a_{0} + a_{1} \\sin{\\left(t w \\right)}\\right) - y_{2}\\\\a_{1} w y_{1} \\cos{\\left(t w \\right)} + \\alpha x_{2}^{3} + \\beta x_{2} + \\delta y_{2} - \\gamma \\cos{\\left(t w \\right)} - \\left(a_{0} + a_{1} \\sin{\\left(t w \\right)}\\right) \\left(\\alpha x_{1}^{3} + \\beta x_{1} + \\delta y_{1} - \\gamma \\cos{\\left(t w \\right)}\\right)\\end{matrix}\\right]$"
      ],
      "text/plain": [
       "⎡                                                     0                       \n",
       "⎢                                                                             \n",
       "⎢                                                     0                       \n",
       "⎢                                                                             \n",
       "⎢                               a₁⋅w⋅x₁⋅cos(t⋅w) + y₁⋅(a₀ + a₁⋅sin(t⋅w)) - y₂ \n",
       "⎢                                                                             \n",
       "⎢                       3                                                 ⎛   \n",
       "⎣a₁⋅w⋅y₁⋅cos(t⋅w) + α⋅x₂  + β⋅x₂ + δ⋅y₂ - γ⋅cos(t⋅w) - (a₀ + a₁⋅sin(t⋅w))⋅⎝α⋅x\n",
       "\n",
       "                              ⎤\n",
       "                              ⎥\n",
       "                              ⎥\n",
       "                              ⎥\n",
       "                              ⎥\n",
       "                              ⎥\n",
       " 3                           ⎞⎥\n",
       "₁  + β⋅x₁ + δ⋅y₁ - γ⋅cos(t⋅w)⎠⎦"
      ]
     },
     "execution_count": 11,
     "metadata": {},
     "output_type": "execute_result"
    }
   ],
   "source": [
    "# This is working only because of the nature of the N matrix - be careful\n",
    "zeta[2]=-(eqn)[0]\n",
    "zeta[3]=-(eqn)[1]\n",
    "\n",
    "simplify(zeta)"
   ]
  },
  {
   "cell_type": "code",
   "execution_count": 14,
   "metadata": {},
   "outputs": [
    {
     "data": {
      "text/latex": [
       "$\\displaystyle \\left[\\begin{matrix}0\\\\0\\end{matrix}\\right]$"
      ],
      "text/plain": [
       "⎡0⎤\n",
       "⎢ ⎥\n",
       "⎣0⎦"
      ]
     },
     "execution_count": 14,
     "metadata": {},
     "output_type": "execute_result"
    }
   ],
   "source": [
    "NF=N*(F+zeta)#.subs([(x2,x1*(a0+a1*sin(w*t))),(y2,y1*(a0+a1*sin(w*t))),(z2,z1*(a0+a1*sin(w*t)))])\n",
    "simplify(NF)\n",
    "simplify(NF+dPhi).subs(on_manifold)"
   ]
  },
  {
   "cell_type": "code",
   "execution_count": 19,
   "metadata": {},
   "outputs": [
    {
     "data": {
      "text/latex": [
       "$\\displaystyle \\left[\\begin{matrix}a_{1} w x_{1} \\cos{\\left(t w \\right)} - y_{1} \\left(- a_{0} - a_{1} \\sin{\\left(t w \\right)}\\right) - y_{2}\\\\a_{1} w y_{1} \\cos{\\left(t w \\right)} + \\alpha x_{2}^{3} + \\beta x_{2} + \\delta y_{2} - \\gamma \\cos{\\left(t w \\right)} - \\left(- a_{0} - a_{1} \\sin{\\left(t w \\right)}\\right) \\left(- \\alpha x_{1}^{3} - \\beta x_{1} - \\delta y_{1} + \\gamma \\cos{\\left(t w \\right)}\\right)\\end{matrix}\\right]$"
      ],
      "text/plain": [
       "⎡                                a₁⋅w⋅x₁⋅cos(t⋅w) - y₁⋅(-a₀ - a₁⋅sin(t⋅w)) - y\n",
       "⎢                                                                             \n",
       "⎢                       3                                                  ⎛  \n",
       "⎣a₁⋅w⋅y₁⋅cos(t⋅w) + α⋅x₂  + β⋅x₂ + δ⋅y₂ - γ⋅cos(t⋅w) - (-a₀ - a₁⋅sin(t⋅w))⋅⎝- \n",
       "\n",
       "₂                                ⎤\n",
       "                                 ⎥\n",
       "    3                           ⎞⎥\n",
       "α⋅x₁  - β⋅x₁ - δ⋅y₁ + γ⋅cos(t⋅w)⎠⎦"
      ]
     },
     "execution_count": 19,
     "metadata": {},
     "output_type": "execute_result"
    }
   ],
   "source": [
    "NZ=N*zeta\n",
    "NZ"
   ]
  },
  {
   "cell_type": "markdown",
   "metadata": {},
   "source": [
    "## Stability"
   ]
  },
  {
   "cell_type": "code",
   "execution_count": 20,
   "metadata": {
    "scrolled": true
   },
   "outputs": [
    {
     "data": {
      "text/latex": [
       "$\\displaystyle \\left[\\begin{matrix}0\\\\0\\\\x_{1} \\left(a_{0} + a_{1} \\sin{\\left(t w \\right)}\\right) - x_{2}\\\\y_{1} \\left(a_{0} + a_{1} \\sin{\\left(t w \\right)}\\right) - y_{2}\\end{matrix}\\right]$"
      ],
      "text/plain": [
       "⎡            0             ⎤\n",
       "⎢                          ⎥\n",
       "⎢            0             ⎥\n",
       "⎢                          ⎥\n",
       "⎢x₁⋅(a₀ + a₁⋅sin(t⋅w)) - x₂⎥\n",
       "⎢                          ⎥\n",
       "⎣y₁⋅(a₀ + a₁⋅sin(t⋅w)) - y₂⎦"
      ]
     },
     "execution_count": 20,
     "metadata": {},
     "output_type": "execute_result"
    }
   ],
   "source": [
    "chi=Matrix([0,0,\n",
    "            -(x2-x1*(a0+a1*sin(w*t))),-(y2-y1*(a0+a1*sin(w*t)))])\n",
    "\n",
    "#chi=(epsilon1*sin(b*t)+epsilon2)*chi \n",
    "#chi=epsilon*chi\n",
    "#epsilon=1\n",
    "chi"
   ]
  },
  {
   "cell_type": "code",
   "execution_count": 21,
   "metadata": {},
   "outputs": [
    {
     "data": {
      "text/latex": [
       "$\\displaystyle \\left[\\begin{matrix}0 & 0 & 0 & 0\\\\0 & 0 & 0 & 0\\\\a_{1} w \\cos{\\left(t w \\right)} & a_{0} + a_{1} \\sin{\\left(t w \\right)} & 0 & -1\\\\\\left(a_{0} + a_{1} \\sin{\\left(t w \\right)}\\right) \\left(- 3 \\alpha x_{1}^{2} - \\beta\\right) & a_{1} w \\cos{\\left(t w \\right)} - \\delta \\left(a_{0} + a_{1} \\sin{\\left(t w \\right)}\\right) & 3 \\alpha x_{2}^{2} + \\beta & \\delta\\end{matrix}\\right]$"
      ],
      "text/plain": [
       "⎡                0                                    0                       \n",
       "⎢                                                                             \n",
       "⎢                0                                    0                       \n",
       "⎢                                                                             \n",
       "⎢          a₁⋅w⋅cos(t⋅w)                       a₀ + a₁⋅sin(t⋅w)               \n",
       "⎢                                                                             \n",
       "⎢                   ⎛        2    ⎞                                           \n",
       "⎣(a₀ + a₁⋅sin(t⋅w))⋅⎝- 3⋅α⋅x₁  - β⎠  a₁⋅w⋅cos(t⋅w) - δ⋅(a₀ + a₁⋅sin(t⋅w))  3⋅α\n",
       "\n",
       "  0       0 ⎤\n",
       "            ⎥\n",
       "  0       0 ⎥\n",
       "            ⎥\n",
       "  0       -1⎥\n",
       "            ⎥\n",
       "   2        ⎥\n",
       "⋅x₂  + β  δ ⎦"
      ]
     },
     "execution_count": 21,
     "metadata": {},
     "output_type": "execute_result"
    }
   ],
   "source": [
    "del_zeta=simulation.VectorDivergence(zeta,Variables)\n",
    "del_zeta"
   ]
  },
  {
   "cell_type": "code",
   "execution_count": 22,
   "metadata": {},
   "outputs": [
    {
     "data": {
      "text/latex": [
       "$\\displaystyle \\left[\\begin{matrix}0 & 0 & 0 & 0\\\\0 & 0 & 0 & 0\\\\a_{0} + a_{1} \\sin{\\left(t w \\right)} & 0 & -1 & 0\\\\0 & a_{0} + a_{1} \\sin{\\left(t w \\right)} & 0 & -1\\end{matrix}\\right]$"
      ],
      "text/plain": [
       "⎡       0                 0          0   0 ⎤\n",
       "⎢                                          ⎥\n",
       "⎢       0                 0          0   0 ⎥\n",
       "⎢                                          ⎥\n",
       "⎢a₀ + a₁⋅sin(t⋅w)         0          -1  0 ⎥\n",
       "⎢                                          ⎥\n",
       "⎣       0          a₀ + a₁⋅sin(t⋅w)  0   -1⎦"
      ]
     },
     "execution_count": 22,
     "metadata": {},
     "output_type": "execute_result"
    }
   ],
   "source": [
    "del_chi=simulation.VectorDivergence(chi,Variables)\n",
    "del_chi"
   ]
  },
  {
   "cell_type": "code",
   "execution_count": 23,
   "metadata": {},
   "outputs": [
    {
     "data": {
      "text/latex": [
       "$\\displaystyle \\left[\\begin{matrix}0 & 1 & 0 & 0\\\\- 3 \\alpha x_{1}^{2} - \\beta & - \\delta & 0 & 0\\\\0 & 0 & 0 & 1\\\\0 & 0 & - 3 \\alpha x_{2}^{2} - \\beta & - \\delta\\end{matrix}\\right]$"
      ],
      "text/plain": [
       "⎡      0        1         0        0 ⎤\n",
       "⎢                                    ⎥\n",
       "⎢        2                           ⎥\n",
       "⎢- 3⋅α⋅x₁  - β  -δ        0        0 ⎥\n",
       "⎢                                    ⎥\n",
       "⎢      0        0         0        1 ⎥\n",
       "⎢                                    ⎥\n",
       "⎢                           2        ⎥\n",
       "⎣      0        0   - 3⋅α⋅x₂  - β  -δ⎦"
      ]
     },
     "execution_count": 23,
     "metadata": {},
     "output_type": "execute_result"
    }
   ],
   "source": [
    "del_F=simulation.VectorDivergence(F,Variables)\n",
    "del_F"
   ]
  },
  {
   "cell_type": "code",
   "execution_count": 24,
   "metadata": {
    "scrolled": true
   },
   "outputs": [
    {
     "data": {
      "text/latex": [
       "$\\displaystyle \\left[\\begin{matrix}0 & 1 & 0 & 0\\\\- 3 \\alpha x_{1}^{2} - \\beta & - \\delta & 0 & 0\\\\a_{0} + a_{1} w \\cos{\\left(t w \\right)} + a_{1} \\sin{\\left(t w \\right)} & a_{0} + a_{1} \\sin{\\left(t w \\right)} & -1 & 0\\\\\\left(a_{0} + a_{1} \\sin{\\left(t w \\right)}\\right) \\left(- 3 \\alpha x_{1}^{2} - \\beta\\right) & a_{0} + a_{1} w \\cos{\\left(t w \\right)} + a_{1} \\sin{\\left(t w \\right)} - \\delta \\left(a_{0} + a_{1} \\sin{\\left(t w \\right)}\\right) & 0 & -1\\end{matrix}\\right]$"
      ],
      "text/plain": [
       "⎡                0                                              1             \n",
       "⎢                                                                             \n",
       "⎢                  2                                                          \n",
       "⎢          - 3⋅α⋅x₁  - β                                       -δ             \n",
       "⎢                                                                             \n",
       "⎢ a₀ + a₁⋅w⋅cos(t⋅w) + a₁⋅sin(t⋅w)                      a₀ + a₁⋅sin(t⋅w)      \n",
       "⎢                                                                             \n",
       "⎢                   ⎛        2    ⎞                                           \n",
       "⎣(a₀ + a₁⋅sin(t⋅w))⋅⎝- 3⋅α⋅x₁  - β⎠  a₀ + a₁⋅w⋅cos(t⋅w) + a₁⋅sin(t⋅w) - δ⋅(a₀ \n",
       "\n",
       "                0   0 ⎤\n",
       "                      ⎥\n",
       "                      ⎥\n",
       "                0   0 ⎥\n",
       "                      ⎥\n",
       "                -1  0 ⎥\n",
       "                      ⎥\n",
       "                      ⎥\n",
       "+ a₁⋅sin(t⋅w))  0   -1⎦"
      ]
     },
     "execution_count": 24,
     "metadata": {},
     "output_type": "execute_result"
    }
   ],
   "source": [
    "(del_F+del_zeta+del_chi)"
   ]
  },
  {
   "cell_type": "code",
   "execution_count": 25,
   "metadata": {},
   "outputs": [
    {
     "data": {
      "text/latex": [
       "$\\displaystyle \\left[\\begin{matrix}- a_{1} w \\left(- a_{0} - a_{1} \\sin{\\left(t w \\right)}\\right) \\cos{\\left(t w \\right)} & 0\\\\0 & - a_{1} w \\left(- a_{0} - a_{1} \\sin{\\left(t w \\right)}\\right) \\cos{\\left(t w \\right)}\\end{matrix}\\right]$"
      ],
      "text/plain": [
       "⎡-a₁⋅w⋅(-a₀ - a₁⋅sin(t⋅w))⋅cos(t⋅w)                  0                 ⎤\n",
       "⎢                                                                      ⎥\n",
       "⎣                0                   -a₁⋅w⋅(-a₀ - a₁⋅sin(t⋅w))⋅cos(t⋅w)⎦"
      ]
     },
     "execution_count": 25,
     "metadata": {},
     "output_type": "execute_result"
    }
   ],
   "source": [
    "diff(N,t)*N.transpose()"
   ]
  },
  {
   "cell_type": "code",
   "execution_count": 38,
   "metadata": {},
   "outputs": [
    {
     "data": {
      "text/latex": [
       "$\\displaystyle \\left[\\begin{matrix}- a_{0}^{2} - 2 a_{0} a_{1} \\sin{\\left(t w \\right)} - a_{1}^{2} \\sin^{2}{\\left(t w \\right)} - 1 & 0\\\\0 & - a_{0}^{2} - 2 a_{0} a_{1} \\sin{\\left(t w \\right)} - a_{1}^{2} \\sin^{2}{\\left(t w \\right)} - 1\\end{matrix}\\right]$"
      ],
      "text/plain": [
       "⎡    2                        2    2                                          \n",
       "⎢- a₀  - 2⋅a₀⋅a₁⋅sin(t⋅w) - a₁ ⋅sin (t⋅w) - 1                       0         \n",
       "⎢                                                                             \n",
       "⎢                                                  2                        2 \n",
       "⎣                     0                        - a₀  - 2⋅a₀⋅a₁⋅sin(t⋅w) - a₁ ⋅\n",
       "\n",
       "             ⎤\n",
       "             ⎥\n",
       "             ⎥\n",
       "   2         ⎥\n",
       "sin (t⋅w) - 1⎦"
      ]
     },
     "execution_count": 38,
     "metadata": {},
     "output_type": "execute_result"
    }
   ],
   "source": [
    "Jac = N*(del_F+del_zeta+del_chi)*N.transpose() + diff(N,t)*N.transpose()\n",
    "Jac = simplify(Jac)\n",
    "Jac.subs(on_manifold)"
   ]
  },
  {
   "cell_type": "code",
   "execution_count": 39,
   "metadata": {},
   "outputs": [
    {
     "data": {
      "image/png": "[encoded data removed]",
      "text/latex": [
       "$\\displaystyle \\left\\{ - a_{0}^{2} - 2 a_{0} a_{1} \\sin{\\left(t w \\right)} - a_{1}^{2} \\sin^{2}{\\left(t w \\right)} - 1 : 2\\right\\}$"
      ],
      "text/plain": [
       "⎧    2                        2    2            ⎫\n",
       "⎨- a₀  - 2⋅a₀⋅a₁⋅sin(t⋅w) - a₁ ⋅sin (t⋅w) - 1: 2⎬\n",
       "⎩                                               ⎭"
      ]
     },
     "execution_count": 39,
     "metadata": {},
     "output_type": "execute_result"
    }
   ],
   "source": [
    "Jac.eigenvals()"
   ]
  },
  {
   "cell_type": "markdown",
   "metadata": {},
   "source": [
    "### coupling"
   ]
  },
  {
   "cell_type": "code",
   "execution_count": 40,
   "metadata": {},
   "outputs": [
    {
     "data": {
      "text/latex": [
       "$\\displaystyle \\left[\\begin{matrix}0\\\\0\\\\x_{1} \\left(a_{0} + a_{1} \\sin{\\left(t w \\right)}\\right) - x_{2}\\\\y_{1} \\left(a_{0} + a_{1} \\sin{\\left(t w \\right)}\\right) - y_{2}\\end{matrix}\\right]$"
      ],
      "text/plain": [
       "⎡            0             ⎤\n",
       "⎢                          ⎥\n",
       "⎢            0             ⎥\n",
       "⎢                          ⎥\n",
       "⎢x₁⋅(a₀ + a₁⋅sin(t⋅w)) - x₂⎥\n",
       "⎢                          ⎥\n",
       "⎣y₁⋅(a₀ + a₁⋅sin(t⋅w)) - y₂⎦"
      ]
     },
     "execution_count": 40,
     "metadata": {},
     "output_type": "execute_result"
    }
   ],
   "source": [
    "chi"
   ]
  },
  {
   "cell_type": "code",
   "execution_count": 41,
   "metadata": {},
   "outputs": [
    {
     "data": {
      "text/latex": [
       "$\\displaystyle \\left[\\begin{matrix}0\\\\0\\\\a_{1} w x_{1} \\cos{\\left(t w \\right)} - y_{1} \\left(- a_{0} - a_{1} \\sin{\\left(t w \\right)}\\right) - y_{2}\\\\a_{1} w y_{1} \\cos{\\left(t w \\right)} + \\alpha x_{2}^{3} + \\beta x_{2} + \\delta y_{2} - \\gamma \\cos{\\left(t w \\right)} - \\left(- a_{0} - a_{1} \\sin{\\left(t w \\right)}\\right) \\left(- \\alpha x_{1}^{3} - \\beta x_{1} - \\delta y_{1} + \\gamma \\cos{\\left(t w \\right)}\\right)\\end{matrix}\\right]$"
      ],
      "text/plain": [
       "⎡                                                      0                      \n",
       "⎢                                                                             \n",
       "⎢                                                      0                      \n",
       "⎢                                                                             \n",
       "⎢                                a₁⋅w⋅x₁⋅cos(t⋅w) - y₁⋅(-a₀ - a₁⋅sin(t⋅w)) - y\n",
       "⎢                                                                             \n",
       "⎢                       3                                                  ⎛  \n",
       "⎣a₁⋅w⋅y₁⋅cos(t⋅w) + α⋅x₂  + β⋅x₂ + δ⋅y₂ - γ⋅cos(t⋅w) - (-a₀ - a₁⋅sin(t⋅w))⋅⎝- \n",
       "\n",
       "                                 ⎤\n",
       "                                 ⎥\n",
       "                                 ⎥\n",
       "                                 ⎥\n",
       "₂                                ⎥\n",
       "                                 ⎥\n",
       "    3                           ⎞⎥\n",
       "α⋅x₁  - β⋅x₁ - δ⋅y₁ + γ⋅cos(t⋅w)⎠⎦"
      ]
     },
     "execution_count": 41,
     "metadata": {},
     "output_type": "execute_result"
    }
   ],
   "source": [
    "zeta"
   ]
  },
  {
   "cell_type": "code",
   "execution_count": 42,
   "metadata": {},
   "outputs": [
    {
     "data": {
      "text/latex": [
       "$\\displaystyle \\left[\\begin{matrix}0\\\\0\\\\a_{1} w x_{1} \\cos{\\left(t w \\right)} + x_{1} \\left(a_{0} + a_{1} \\sin{\\left(t w \\right)}\\right) - x_{2} + y_{1} \\left(a_{0} + a_{1} \\sin{\\left(t w \\right)}\\right) - y_{2}\\\\a_{1} w y_{1} \\cos{\\left(t w \\right)} + \\alpha x_{2}^{3} + \\beta x_{2} + \\delta y_{2} - \\gamma \\cos{\\left(t w \\right)} + y_{1} \\left(a_{0} + a_{1} \\sin{\\left(t w \\right)}\\right) - y_{2} - \\left(a_{0} + a_{1} \\sin{\\left(t w \\right)}\\right) \\left(\\alpha x_{1}^{3} + \\beta x_{1} + \\delta y_{1} - \\gamma \\cos{\\left(t w \\right)}\\right)\\end{matrix}\\right]$"
      ],
      "text/plain": [
       "⎡                                                                   0         \n",
       "⎢                                                                             \n",
       "⎢                                                                   0         \n",
       "⎢                                                                             \n",
       "⎢                               a₁⋅w⋅x₁⋅cos(t⋅w) + x₁⋅(a₀ + a₁⋅sin(t⋅w)) - x₂ \n",
       "⎢                                                                             \n",
       "⎢                       3                                                     \n",
       "⎣a₁⋅w⋅y₁⋅cos(t⋅w) + α⋅x₂  + β⋅x₂ + δ⋅y₂ - γ⋅cos(t⋅w) + y₁⋅(a₀ + a₁⋅sin(t⋅w)) -\n",
       "\n",
       "                                                           ⎤\n",
       "                                                           ⎥\n",
       "                                                           ⎥\n",
       "                                                           ⎥\n",
       "+ y₁⋅(a₀ + a₁⋅sin(t⋅w)) - y₂                               ⎥\n",
       "                                                           ⎥\n",
       "                         ⎛    3                           ⎞⎥\n",
       " y₂ - (a₀ + a₁⋅sin(t⋅w))⋅⎝α⋅x₁  + β⋅x₁ + δ⋅y₁ - γ⋅cos(t⋅w)⎠⎦"
      ]
     },
     "execution_count": 42,
     "metadata": {},
     "output_type": "execute_result"
    }
   ],
   "source": [
    "simplify((chi+zeta))#.subs([(x2,a*t*x1),(y2,b*t*y1),(z2,c*t*z1)])))"
   ]
  },
  {
   "cell_type": "code",
   "execution_count": null,
   "metadata": {},
   "outputs": [],
   "source": []
  }
 ],
 "metadata": {
  "kernelspec": {
   "display_name": "Python 3",
   "language": "python",
   "name": "python3"
  },
  "language_info": {
   "codemirror_mode": {
    "name": "ipython",
    "version": 3
   },
   "file_extension": ".py",
   "mimetype": "text/x-python",
   "name": "python",
   "nbconvert_exporter": "python",
   "pygments_lexer": "ipython3",
   "version": "3.8.2"
  }
 },
 "nbformat": 4,
 "nbformat_minor": 4
}
