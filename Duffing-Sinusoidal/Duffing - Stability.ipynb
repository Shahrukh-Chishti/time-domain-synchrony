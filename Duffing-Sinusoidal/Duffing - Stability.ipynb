{
 "cells": [
  {
   "cell_type": "code",
   "execution_count": 1,
   "metadata": {},
   "outputs": [],
   "source": [
    "from sympy import *\n",
    "import numpy as np\n",
    "from sympy.plotting import plot3d,plot\n",
    "from sympy import init_printing\n",
    "#import plotly.plotly as py\n",
    "import plotly.graph_objs as go\n",
    "import matplotlib.pyplot as plt\n",
    "%matplotlib inline\n",
    "init_printing()"
   ]
  },
  {
   "cell_type": "code",
   "execution_count": 2,
   "metadata": {},
   "outputs": [],
   "source": [
    "Variables=symbols(\"x1 y1 x2 y2\")\n",
    "x1,y1,x2,y2 = Variables\n",
    "Time=symbols(\"t\")\n",
    "t=Time\n",
    "Parameters = symbols(\"alpha beta gamma delta w a0 a1\")\n",
    "alpha,beta,gamma,delta,w,a0,a1 = Parameters"
   ]
  },
  {
   "cell_type": "code",
   "execution_count": 3,
   "metadata": {},
   "outputs": [],
   "source": [
    "def VectorDivergence(vector,variables):\n",
    "    D = []\n",
    "    for vec in vector:\n",
    "        row = []\n",
    "        for var in variables:\n",
    "            row.append(diff(vec,var))\n",
    "        D.append(row)\n",
    "    return Matrix(D)"
   ]
  },
  {
   "cell_type": "markdown",
   "metadata": {},
   "source": [
    "### Duffing Oscillator"
   ]
  },
  {
   "cell_type": "code",
   "execution_count": 4,
   "metadata": {},
   "outputs": [
    {
     "output_type": "execute_result",
     "data": {
      "text/plain": "⎡                y₁                ⎤\n⎢                                  ⎥\n⎢      3                           ⎥\n⎢- α⋅x₁  - β⋅x₁ - δ⋅y₁ + γ⋅cos(t⋅w)⎥\n⎢                                  ⎥\n⎢                y₂                ⎥\n⎢                                  ⎥\n⎢      3                           ⎥\n⎣- α⋅x₂  - β⋅x₂ - δ⋅y₂ + γ⋅cos(t⋅w)⎦",
      "text/latex": "$\\displaystyle \\left[\\begin{matrix}y_{1}\\\\- \\alpha x_{1}^{3} - \\beta x_{1} - \\delta y_{1} + \\gamma \\cos{\\left(t w \\right)}\\\\y_{2}\\\\- \\alpha x_{2}^{3} - \\beta x_{2} - \\delta y_{2} + \\gamma \\cos{\\left(t w \\right)}\\end{matrix}\\right]$"
     },
     "metadata": {},
     "execution_count": 4
    }
   ],
   "source": [
    "F=Matrix([y1, gamma*cos(w*t) - delta*y1 - beta*x1 - alpha*x1**3,\n",
    "          y2, gamma*cos(w*t) - delta*y2 - beta*x2 - alpha*x2**3])\n",
    "F"
   ]
  },
  {
   "cell_type": "code",
   "execution_count": 13,
   "metadata": {},
   "outputs": [
    {
     "output_type": "execute_result",
     "data": {
      "text/plain": "⎡0⎤\n⎢ ⎥\n⎢0⎥\n⎢ ⎥\n⎢0⎥\n⎢ ⎥\n⎣0⎦",
      "text/latex": "$\\displaystyle \\left[\\begin{matrix}0\\\\0\\\\0\\\\0\\end{matrix}\\right]$"
     },
     "metadata": {},
     "execution_count": 13
    }
   ],
   "source": [
    "zeta=Matrix([0,0,\n",
    "             0,0])\n",
    "zeta"
   ]
  },
  {
   "cell_type": "markdown",
   "metadata": {},
   "source": [
    "### Synchrony"
   ]
  },
  {
   "cell_type": "code",
   "execution_count": 10,
   "metadata": {},
   "outputs": [
    {
     "output_type": "execute_result",
     "data": {
      "text/plain": "⎡-x₁⋅(a₀ + a₁⋅sin(t⋅w)) + x₂⎤\n⎢                           ⎥\n⎣-y₁⋅(a₀ + a₁⋅sin(t⋅w)) + y₂⎦",
      "text/latex": "$\\displaystyle \\left[\\begin{matrix}- x_{1} \\left(a_{0} + a_{1} \\sin{\\left(t w \\right)}\\right) + x_{2}\\\\- y_{1} \\left(a_{0} + a_{1} \\sin{\\left(t w \\right)}\\right) + y_{2}\\end{matrix}\\right]$"
     },
     "metadata": {},
     "execution_count": 10
    }
   ],
   "source": [
    "phi=Matrix([(x2-x1*(a0+a1*sin(w*t))),y2-y1*(a0+a1*sin(w*t))])\n",
    "phi"
   ]
  },
  {
   "cell_type": "code",
   "execution_count": 11,
   "metadata": {},
   "outputs": [
    {
     "output_type": "execute_result",
     "data": {
      "text/plain": "⎡-a₀ - a₁⋅sin(t⋅w)          0          1  0⎤\n⎢                                          ⎥\n⎣        0          -a₀ - a₁⋅sin(t⋅w)  0  1⎦",
      "text/latex": "$\\displaystyle \\left[\\begin{matrix}- a_{0} - a_{1} \\sin{\\left(t w \\right)} & 0 & 1 & 0\\\\0 & - a_{0} - a_{1} \\sin{\\left(t w \\right)} & 0 & 1\\end{matrix}\\right]$"
     },
     "metadata": {},
     "execution_count": 11
    }
   ],
   "source": [
    "N=VectorDivergence(phi,Variables)\n",
    "N"
   ]
  },
  {
   "cell_type": "code",
   "execution_count": 12,
   "metadata": {},
   "outputs": [],
   "source": [
    "on_manifold = [(x2,(a0+a1*sin(w*t))*x1),(y2,(a0+a1*sin(w*t))*y1)]"
   ]
  },
  {
   "cell_type": "markdown",
   "metadata": {},
   "source": [
    "### Invariance"
   ]
  },
  {
   "cell_type": "code",
   "execution_count": 14,
   "metadata": {},
   "outputs": [
    {
     "output_type": "execute_result",
     "data": {
      "text/plain": "⎡                                 y₁⋅(-a₀ - a₁⋅sin(t⋅w)) + y₂                 \n⎢                                                                             \n⎢      3                                                  ⎛      3            \n⎣- α⋅x₂  - β⋅x₂ - δ⋅y₂ + γ⋅cos(t⋅w) + (-a₀ - a₁⋅sin(t⋅w))⋅⎝- α⋅x₁  - β⋅x₁ - δ⋅\n\n                ⎤\n                ⎥\n               ⎞⎥\ny₁ + γ⋅cos(t⋅w)⎠⎦",
      "text/latex": "$\\displaystyle \\left[\\begin{matrix}y_{1} \\left(- a_{0} - a_{1} \\sin{\\left(t w \\right)}\\right) + y_{2}\\\\- \\alpha x_{2}^{3} - \\beta x_{2} - \\delta y_{2} + \\gamma \\cos{\\left(t w \\right)} + \\left(- a_{0} - a_{1} \\sin{\\left(t w \\right)}\\right) \\left(- \\alpha x_{1}^{3} - \\beta x_{1} - \\delta y_{1} + \\gamma \\cos{\\left(t w \\right)}\\right)\\end{matrix}\\right]$"
     },
     "metadata": {},
     "execution_count": 14
    }
   ],
   "source": [
    "\n",
    "\n",
    "NF=N*(F+zeta)\n",
    "NF\n",
    "#simplify(NF)"
   ]
  },
  {
   "cell_type": "code",
   "execution_count": 15,
   "metadata": {},
   "outputs": [
    {
     "output_type": "execute_result",
     "data": {
      "text/plain": "⎡-a₁⋅w⋅x₁⋅cos(t⋅w)⎤\n⎢                 ⎥\n⎣-a₁⋅w⋅y₁⋅cos(t⋅w)⎦",
      "text/latex": "$\\displaystyle \\left[\\begin{matrix}- a_{1} w x_{1} \\cos{\\left(t w \\right)}\\\\- a_{1} w y_{1} \\cos{\\left(t w \\right)}\\end{matrix}\\right]$"
     },
     "metadata": {},
     "execution_count": 15
    }
   ],
   "source": [
    "dPhi=diff(phi,Time)\n",
    "dPhi"
   ]
  },
  {
   "cell_type": "code",
   "execution_count": 16,
   "metadata": {},
   "outputs": [
    {
     "output_type": "execute_result",
     "data": {
      "text/plain": "⎡                               -a₁⋅w⋅x₁⋅cos(t⋅w) - y₁⋅(a₀ + a₁⋅sin(t⋅w)) + y₂\n⎢                                                                             \n⎢                        3                                                 ⎛  \n⎣-a₁⋅w⋅y₁⋅cos(t⋅w) - α⋅x₂  - β⋅x₂ - δ⋅y₂ + γ⋅cos(t⋅w) + (a₀ + a₁⋅sin(t⋅w))⋅⎝α⋅\n\n                               ⎤\n                               ⎥\n  3                           ⎞⎥\nx₁  + β⋅x₁ + δ⋅y₁ - γ⋅cos(t⋅w)⎠⎦",
      "text/latex": "$\\displaystyle \\left[\\begin{matrix}- a_{1} w x_{1} \\cos{\\left(t w \\right)} - y_{1} \\left(a_{0} + a_{1} \\sin{\\left(t w \\right)}\\right) + y_{2}\\\\- a_{1} w y_{1} \\cos{\\left(t w \\right)} - \\alpha x_{2}^{3} - \\beta x_{2} - \\delta y_{2} + \\gamma \\cos{\\left(t w \\right)} + \\left(a_{0} + a_{1} \\sin{\\left(t w \\right)}\\right) \\left(\\alpha x_{1}^{3} + \\beta x_{1} + \\delta y_{1} - \\gamma \\cos{\\left(t w \\right)}\\right)\\end{matrix}\\right]$"
     },
     "metadata": {},
     "execution_count": 16
    }
   ],
   "source": [
    "eqn=(NF+dPhi)#.subs([(x2,x1*(a0+a1*sin(w*t))),(y2,y1*(a0+a1*sin(w*t))),(z2,z1*(a0+a1*sin(w*t)))])\n",
    "simplify(eqn)"
   ]
  },
  {
   "cell_type": "code",
   "execution_count": 17,
   "metadata": {},
   "outputs": [
    {
     "output_type": "execute_result",
     "data": {
      "text/plain": "⎡                                                     0                       \n⎢                                                                             \n⎢                                                     0                       \n⎢                                                                             \n⎢                               a₁⋅w⋅x₁⋅cos(t⋅w) + y₁⋅(a₀ + a₁⋅sin(t⋅w)) - y₂ \n⎢                                                                             \n⎢                       3                                                 ⎛   \n⎣a₁⋅w⋅y₁⋅cos(t⋅w) + α⋅x₂  + β⋅x₂ + δ⋅y₂ - γ⋅cos(t⋅w) - (a₀ + a₁⋅sin(t⋅w))⋅⎝α⋅x\n\n                              ⎤\n                              ⎥\n                              ⎥\n                              ⎥\n                              ⎥\n                              ⎥\n 3                           ⎞⎥\n₁  + β⋅x₁ + δ⋅y₁ - γ⋅cos(t⋅w)⎠⎦",
      "text/latex": "$\\displaystyle \\left[\\begin{matrix}0\\\\0\\\\a_{1} w x_{1} \\cos{\\left(t w \\right)} + y_{1} \\left(a_{0} + a_{1} \\sin{\\left(t w \\right)}\\right) - y_{2}\\\\a_{1} w y_{1} \\cos{\\left(t w \\right)} + \\alpha x_{2}^{3} + \\beta x_{2} + \\delta y_{2} - \\gamma \\cos{\\left(t w \\right)} - \\left(a_{0} + a_{1} \\sin{\\left(t w \\right)}\\right) \\left(\\alpha x_{1}^{3} + \\beta x_{1} + \\delta y_{1} - \\gamma \\cos{\\left(t w \\right)}\\right)\\end{matrix}\\right]$"
     },
     "metadata": {},
     "execution_count": 17
    }
   ],
   "source": [
    "# This is working only because of the nature of the N matrix - be careful\n",
    "zeta[2]=-(eqn)[0]\n",
    "zeta[3]=-(eqn)[1]\n",
    "\n",
    "simplify(zeta)"
   ]
  },
  {
   "cell_type": "code",
   "execution_count": 18,
   "metadata": {},
   "outputs": [
    {
     "output_type": "execute_result",
     "data": {
      "text/plain": "⎡0⎤\n⎢ ⎥\n⎣0⎦",
      "text/latex": "$\\displaystyle \\left[\\begin{matrix}0\\\\0\\end{matrix}\\right]$"
     },
     "metadata": {},
     "execution_count": 18
    }
   ],
   "source": [
    "NF=N*(F+zeta)\n",
    "simplify(NF)\n",
    "simplify((NF+dPhi).subs(on_manifold))"
   ]
  },
  {
   "cell_type": "markdown",
   "metadata": {},
   "source": [
    "### Stability"
   ]
  },
  {
   "cell_type": "code",
   "execution_count": 21,
   "metadata": {
    "scrolled": true
   },
   "outputs": [
    {
     "output_type": "execute_result",
     "data": {
      "text/plain": "⎡            0             ⎤\n⎢                          ⎥\n⎢            0             ⎥\n⎢                          ⎥\n⎢x₁⋅(a₀ + a₁⋅sin(t⋅w)) - x₂⎥\n⎢                          ⎥\n⎣y₁⋅(a₀ + a₁⋅sin(t⋅w)) - y₂⎦",
      "text/latex": "$\\displaystyle \\left[\\begin{matrix}0\\\\0\\\\x_{1} \\left(a_{0} + a_{1} \\sin{\\left(t w \\right)}\\right) - x_{2}\\\\y_{1} \\left(a_{0} + a_{1} \\sin{\\left(t w \\right)}\\right) - y_{2}\\end{matrix}\\right]$"
     },
     "metadata": {},
     "execution_count": 21
    }
   ],
   "source": [
    "chi=Matrix([0,0,\n",
    "            -(x2-x1*(a0+a1*sin(w*t))),-(y2-y1*(a0+a1*sin(w*t)))])\n",
    "\n",
    "chi"
   ]
  },
  {
   "cell_type": "code",
   "execution_count": 22,
   "metadata": {},
   "outputs": [
    {
     "output_type": "execute_result",
     "data": {
      "text/plain": "⎡                0                                    0                       \n⎢                                                                             \n⎢                0                                    0                       \n⎢                                                                             \n⎢          a₁⋅w⋅cos(t⋅w)                       a₀ + a₁⋅sin(t⋅w)               \n⎢                                                                             \n⎢                   ⎛        2    ⎞                                           \n⎣(a₀ + a₁⋅sin(t⋅w))⋅⎝- 3⋅α⋅x₁  - β⎠  a₁⋅w⋅cos(t⋅w) - δ⋅(a₀ + a₁⋅sin(t⋅w))  3⋅α\n\n  0       0 ⎤\n            ⎥\n  0       0 ⎥\n            ⎥\n  0       -1⎥\n            ⎥\n   2        ⎥\n⋅x₂  + β  δ ⎦",
      "text/latex": "$\\displaystyle \\left[\\begin{matrix}0 & 0 & 0 & 0\\\\0 & 0 & 0 & 0\\\\a_{1} w \\cos{\\left(t w \\right)} & a_{0} + a_{1} \\sin{\\left(t w \\right)} & 0 & -1\\\\\\left(a_{0} + a_{1} \\sin{\\left(t w \\right)}\\right) \\left(- 3 \\alpha x_{1}^{2} - \\beta\\right) & a_{1} w \\cos{\\left(t w \\right)} - \\delta \\left(a_{0} + a_{1} \\sin{\\left(t w \\right)}\\right) & 3 \\alpha x_{2}^{2} + \\beta & \\delta\\end{matrix}\\right]$"
     },
     "metadata": {},
     "execution_count": 22
    }
   ],
   "source": [
    "del_zeta=VectorDivergence(zeta,Variables)\n",
    "del_zeta"
   ]
  },
  {
   "cell_type": "code",
   "execution_count": 23,
   "metadata": {},
   "outputs": [
    {
     "output_type": "execute_result",
     "data": {
      "text/plain": "⎡       0                 0          0   0 ⎤\n⎢                                          ⎥\n⎢       0                 0          0   0 ⎥\n⎢                                          ⎥\n⎢a₀ + a₁⋅sin(t⋅w)         0          -1  0 ⎥\n⎢                                          ⎥\n⎣       0          a₀ + a₁⋅sin(t⋅w)  0   -1⎦",
      "text/latex": "$\\displaystyle \\left[\\begin{matrix}0 & 0 & 0 & 0\\\\0 & 0 & 0 & 0\\\\a_{0} + a_{1} \\sin{\\left(t w \\right)} & 0 & -1 & 0\\\\0 & a_{0} + a_{1} \\sin{\\left(t w \\right)} & 0 & -1\\end{matrix}\\right]$"
     },
     "metadata": {},
     "execution_count": 23
    }
   ],
   "source": [
    "del_chi=VectorDivergence(chi,Variables)\n",
    "del_chi"
   ]
  },
  {
   "cell_type": "code",
   "execution_count": 24,
   "metadata": {},
   "outputs": [
    {
     "output_type": "execute_result",
     "data": {
      "text/plain": "⎡      0        1         0        0 ⎤\n⎢                                    ⎥\n⎢        2                           ⎥\n⎢- 3⋅α⋅x₁  - β  -δ        0        0 ⎥\n⎢                                    ⎥\n⎢      0        0         0        1 ⎥\n⎢                                    ⎥\n⎢                           2        ⎥\n⎣      0        0   - 3⋅α⋅x₂  - β  -δ⎦",
      "text/latex": "$\\displaystyle \\left[\\begin{matrix}0 & 1 & 0 & 0\\\\- 3 \\alpha x_{1}^{2} - \\beta & - \\delta & 0 & 0\\\\0 & 0 & 0 & 1\\\\0 & 0 & - 3 \\alpha x_{2}^{2} - \\beta & - \\delta\\end{matrix}\\right]$"
     },
     "metadata": {},
     "execution_count": 24
    }
   ],
   "source": [
    "del_F=VectorDivergence(F,Variables)\n",
    "del_F"
   ]
  },
  {
   "cell_type": "code",
   "execution_count": 25,
   "metadata": {
    "scrolled": true
   },
   "outputs": [
    {
     "output_type": "execute_result",
     "data": {
      "text/plain": "⎡                0                                              1             \n⎢                                                                             \n⎢                  2                                                          \n⎢          - 3⋅α⋅x₁  - β                                       -δ             \n⎢                                                                             \n⎢ a₀ + a₁⋅w⋅cos(t⋅w) + a₁⋅sin(t⋅w)                      a₀ + a₁⋅sin(t⋅w)      \n⎢                                                                             \n⎢                   ⎛        2    ⎞                                           \n⎣(a₀ + a₁⋅sin(t⋅w))⋅⎝- 3⋅α⋅x₁  - β⎠  a₀ + a₁⋅w⋅cos(t⋅w) + a₁⋅sin(t⋅w) - δ⋅(a₀ \n\n                0   0 ⎤\n                      ⎥\n                      ⎥\n                0   0 ⎥\n                      ⎥\n                -1  0 ⎥\n                      ⎥\n                      ⎥\n+ a₁⋅sin(t⋅w))  0   -1⎦",
      "text/latex": "$\\displaystyle \\left[\\begin{matrix}0 & 1 & 0 & 0\\\\- 3 \\alpha x_{1}^{2} - \\beta & - \\delta & 0 & 0\\\\a_{0} + a_{1} w \\cos{\\left(t w \\right)} + a_{1} \\sin{\\left(t w \\right)} & a_{0} + a_{1} \\sin{\\left(t w \\right)} & -1 & 0\\\\\\left(a_{0} + a_{1} \\sin{\\left(t w \\right)}\\right) \\left(- 3 \\alpha x_{1}^{2} - \\beta\\right) & a_{0} + a_{1} w \\cos{\\left(t w \\right)} + a_{1} \\sin{\\left(t w \\right)} - \\delta \\left(a_{0} + a_{1} \\sin{\\left(t w \\right)}\\right) & 0 & -1\\end{matrix}\\right]$"
     },
     "metadata": {},
     "execution_count": 25
    }
   ],
   "source": [
    "(del_F+del_zeta+del_chi)"
   ]
  },
  {
   "cell_type": "code",
   "execution_count": 26,
   "metadata": {},
   "outputs": [
    {
     "output_type": "execute_result",
     "data": {
      "text/plain": "⎡-a₁⋅w⋅(-a₀ - a₁⋅sin(t⋅w))⋅cos(t⋅w)                  0                 ⎤\n⎢                                                                      ⎥\n⎣                0                   -a₁⋅w⋅(-a₀ - a₁⋅sin(t⋅w))⋅cos(t⋅w)⎦",
      "text/latex": "$\\displaystyle \\left[\\begin{matrix}- a_{1} w \\left(- a_{0} - a_{1} \\sin{\\left(t w \\right)}\\right) \\cos{\\left(t w \\right)} & 0\\\\0 & - a_{1} w \\left(- a_{0} - a_{1} \\sin{\\left(t w \\right)}\\right) \\cos{\\left(t w \\right)}\\end{matrix}\\right]$"
     },
     "metadata": {},
     "execution_count": 26
    }
   ],
   "source": [
    "diff(N,t)*N.transpose()"
   ]
  },
  {
   "cell_type": "code",
   "execution_count": 27,
   "metadata": {},
   "outputs": [
    {
     "output_type": "execute_result",
     "data": {
      "text/plain": "⎡    2                        2    2                                          \n⎢- a₀  - 2⋅a₀⋅a₁⋅sin(t⋅w) - a₁ ⋅sin (t⋅w) - 1                       0         \n⎢                                                                             \n⎢                                                  2                        2 \n⎣                     0                        - a₀  - 2⋅a₀⋅a₁⋅sin(t⋅w) - a₁ ⋅\n\n             ⎤\n             ⎥\n             ⎥\n   2         ⎥\nsin (t⋅w) - 1⎦",
      "text/latex": "$\\displaystyle \\left[\\begin{matrix}- a_{0}^{2} - 2 a_{0} a_{1} \\sin{\\left(t w \\right)} - a_{1}^{2} \\sin^{2}{\\left(t w \\right)} - 1 & 0\\\\0 & - a_{0}^{2} - 2 a_{0} a_{1} \\sin{\\left(t w \\right)} - a_{1}^{2} \\sin^{2}{\\left(t w \\right)} - 1\\end{matrix}\\right]$"
     },
     "metadata": {},
     "execution_count": 27
    }
   ],
   "source": [
    "Jac = N*(del_F+del_zeta+del_chi)*N.transpose() + diff(N,t)*N.transpose()\n",
    "Jac = simplify(Jac)\n",
    "Jac.subs(on_manifold)"
   ]
  },
  {
   "cell_type": "code",
   "execution_count": 28,
   "metadata": {},
   "outputs": [
    {
     "output_type": "error",
     "ename": "AttributeError",
     "evalue": "'list' object has no attribute 'replace'",
     "traceback": [
      "\u001b[1;31m---------------------------------------------------------------------------\u001b[0m",
      "\u001b[1;31mAttributeError\u001b[0m                            Traceback (most recent call last)",
      "\u001b[1;32m<ipython-input-28-dbdff3c0cfa7>\u001b[0m in \u001b[0;36m<module>\u001b[1;34m\u001b[0m\n\u001b[1;32m----> 1\u001b[1;33m \u001b[0msimplify\u001b[0m\u001b[1;33m(\u001b[0m\u001b[0mlist\u001b[0m\u001b[1;33m(\u001b[0m\u001b[0mJac\u001b[0m\u001b[1;33m.\u001b[0m\u001b[0meigenvals\u001b[0m\u001b[1;33m(\u001b[0m\u001b[1;33m)\u001b[0m\u001b[1;33m.\u001b[0m\u001b[0mkeys\u001b[0m\u001b[1;33m(\u001b[0m\u001b[1;33m)\u001b[0m\u001b[1;33m)\u001b[0m\u001b[1;33m)\u001b[0m\u001b[1;33m\u001b[0m\u001b[1;33m\u001b[0m\u001b[0m\n\u001b[0m",
      "\u001b[1;32m~\\anaconda3\\lib\\site-packages\\sympy\\simplify\\simplify.py\u001b[0m in \u001b[0;36msimplify\u001b[1;34m(expr, ratio, measure, rational, inverse, doit, **kwargs)\u001b[0m\n\u001b[0;32m    559\u001b[0m         \u001b[1;32mreturn\u001b[0m \u001b[0m_eval_simplify\u001b[0m\u001b[1;33m(\u001b[0m\u001b[1;33m**\u001b[0m\u001b[0mkwargs\u001b[0m\u001b[1;33m)\u001b[0m\u001b[1;33m\u001b[0m\u001b[1;33m\u001b[0m\u001b[0m\n\u001b[0;32m    560\u001b[0m \u001b[1;33m\u001b[0m\u001b[0m\n\u001b[1;32m--> 561\u001b[1;33m     \u001b[0moriginal_expr\u001b[0m \u001b[1;33m=\u001b[0m \u001b[0mexpr\u001b[0m \u001b[1;33m=\u001b[0m \u001b[0mcollect_abs\u001b[0m\u001b[1;33m(\u001b[0m\u001b[0msignsimp\u001b[0m\u001b[1;33m(\u001b[0m\u001b[0mexpr\u001b[0m\u001b[1;33m)\u001b[0m\u001b[1;33m)\u001b[0m\u001b[1;33m\u001b[0m\u001b[1;33m\u001b[0m\u001b[0m\n\u001b[0m\u001b[0;32m    562\u001b[0m \u001b[1;33m\u001b[0m\u001b[0m\n\u001b[0;32m    563\u001b[0m     \u001b[1;32mif\u001b[0m \u001b[1;32mnot\u001b[0m \u001b[0misinstance\u001b[0m\u001b[1;33m(\u001b[0m\u001b[0mexpr\u001b[0m\u001b[1;33m,\u001b[0m \u001b[0mBasic\u001b[0m\u001b[1;33m)\u001b[0m \u001b[1;32mor\u001b[0m \u001b[1;32mnot\u001b[0m \u001b[0mexpr\u001b[0m\u001b[1;33m.\u001b[0m\u001b[0margs\u001b[0m\u001b[1;33m:\u001b[0m  \u001b[1;31m# XXX: temporary hack\u001b[0m\u001b[1;33m\u001b[0m\u001b[1;33m\u001b[0m\u001b[0m\n",
      "\u001b[1;32m~\\anaconda3\\lib\\site-packages\\sympy\\simplify\\radsimp.py\u001b[0m in \u001b[0;36mcollect_abs\u001b[1;34m(expr)\u001b[0m\n\u001b[0;32m    595\u001b[0m       \u001b[1;32mreturn\u001b[0m \u001b[0mMul\u001b[0m\u001b[1;33m.\u001b[0m\u001b[0m_from_args\u001b[0m\u001b[1;33m(\u001b[0m\u001b[0margs\u001b[0m\u001b[1;33m,\u001b[0m \u001b[0mis_commutative\u001b[0m\u001b[1;33m=\u001b[0m\u001b[1;32mnot\u001b[0m \u001b[0mnc\u001b[0m\u001b[1;33m)\u001b[0m\u001b[1;33m\u001b[0m\u001b[1;33m\u001b[0m\u001b[0m\n\u001b[0;32m    596\u001b[0m \u001b[1;33m\u001b[0m\u001b[0m\n\u001b[1;32m--> 597\u001b[1;33m     return expr.replace(\n\u001b[0m\u001b[0;32m    598\u001b[0m         \u001b[1;32mlambda\u001b[0m \u001b[0mx\u001b[0m\u001b[1;33m:\u001b[0m \u001b[0misinstance\u001b[0m\u001b[1;33m(\u001b[0m\u001b[0mx\u001b[0m\u001b[1;33m,\u001b[0m \u001b[0mMul\u001b[0m\u001b[1;33m)\u001b[0m\u001b[1;33m,\u001b[0m\u001b[1;33m\u001b[0m\u001b[1;33m\u001b[0m\u001b[0m\n\u001b[0;32m    599\u001b[0m         \u001b[1;32mlambda\u001b[0m \u001b[0mx\u001b[0m\u001b[1;33m:\u001b[0m \u001b[0m_abs\u001b[0m\u001b[1;33m(\u001b[0m\u001b[0mx\u001b[0m\u001b[1;33m)\u001b[0m\u001b[1;33m)\u001b[0m\u001b[1;33m.\u001b[0m\u001b[0mreplace\u001b[0m\u001b[1;33m(\u001b[0m\u001b[1;33m\u001b[0m\u001b[1;33m\u001b[0m\u001b[0m\n",
      "\u001b[1;31mAttributeError\u001b[0m: 'list' object has no attribute 'replace'"
     ]
    }
   ],
   "source": [
    "simplify(list(Jac.eigenvals().keys()))"
   ]
  }
 ],
 "metadata": {
  "kernelspec": {
   "display_name": "Python 3",
   "language": "python",
   "name": "python3"
  },
  "language_info": {
   "codemirror_mode": {
    "name": "ipython",
    "version": 3
   },
   "file_extension": ".py",
   "mimetype": "text/x-python",
   "name": "python",
   "nbconvert_exporter": "python",
   "pygments_lexer": "ipython3",
   "version": "3.8.3-final"
  }
 },
 "nbformat": 4,
 "nbformat_minor": 4
}