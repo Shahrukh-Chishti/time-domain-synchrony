{
 "cells": [
  {
   "cell_type": "code",
   "execution_count": 88,
   "metadata": {},
   "outputs": [],
   "source": [
    "import sys,importlib\n",
    "sys.path.append('../')\n",
    "import simulation\n",
    "from numpy import *\n",
    "from sympy import *\n",
    "import plotly.offline as py\n",
    "import plotly.graph_objs as go\n",
    "%matplotlib inline\n",
    "init_printing()"
   ]
  },
  {
   "cell_type": "code",
   "execution_count": 89,
   "metadata": {},
   "outputs": [],
   "source": [
    "Variables=symbols(\"x1 y1 x2 y2\")\n",
    "x1,y1,x2,y2 = Variables\n",
    "Time=symbols(\"t\")\n",
    "t=Time\n",
    "Parameters = symbols(\"alpha beta gamma delta w a0 a1 omega\")\n",
    "alpha,beta,gamma,delta,w,a0,a1,omega = Parameters"
   ]
  },
  {
   "cell_type": "markdown",
   "metadata": {},
   "source": [
    "### Duffing system"
   ]
  },
  {
   "cell_type": "code",
   "execution_count": 90,
   "metadata": {},
   "outputs": [
    {
     "output_type": "execute_result",
     "data": {
      "text/plain": "⎡                y₁                ⎤\n⎢                                  ⎥\n⎢      3                           ⎥\n⎢- α⋅x₁  - β⋅x₁ - δ⋅y₁ + γ⋅cos(ω⋅t)⎥\n⎢                                  ⎥\n⎢                y₂                ⎥\n⎢                                  ⎥\n⎢      3                           ⎥\n⎣- α⋅x₂  - β⋅x₂ - δ⋅y₂ + γ⋅cos(ω⋅t)⎦",
      "text/latex": "$\\displaystyle \\left[\\begin{matrix}y_{1}\\\\- \\alpha x_{1}^{3} - \\beta x_{1} - \\delta y_{1} + \\gamma \\cos{\\left(\\omega t \\right)}\\\\y_{2}\\\\- \\alpha x_{2}^{3} - \\beta x_{2} - \\delta y_{2} + \\gamma \\cos{\\left(\\omega t \\right)}\\end{matrix}\\right]$"
     },
     "metadata": {},
     "execution_count": 90
    }
   ],
   "source": [
    "F=Matrix([y1, gamma*cos(omega*t) - delta*y1 - beta*x1 - alpha*x1**3,\n",
    "          y2, gamma*cos(omega*t) - delta*y2 - beta*x2 - alpha*x2**3])\n",
    "F"
   ]
  },
  {
   "cell_type": "code",
   "execution_count": 91,
   "metadata": {},
   "outputs": [
    {
     "output_type": "execute_result",
     "data": {
      "text/plain": "⎡0⎤\n⎢ ⎥\n⎢0⎥\n⎢ ⎥\n⎢0⎥\n⎢ ⎥\n⎣0⎦",
      "text/latex": "$\\displaystyle \\left[\\begin{matrix}0\\\\0\\\\0\\\\0\\end{matrix}\\right]$"
     },
     "metadata": {},
     "execution_count": 91
    }
   ],
   "source": [
    "zeta=Matrix([0,0,\n",
    "             0,0])\n",
    "#zeta=eps*zeta\n",
    "zeta"
   ]
  },
  {
   "cell_type": "markdown",
   "metadata": {},
   "source": [
    "### Synchrony"
   ]
  },
  {
   "cell_type": "code",
   "execution_count": 92,
   "metadata": {
    "scrolled": true
   },
   "outputs": [
    {
     "output_type": "execute_result",
     "data": {
      "text/plain": "⎡-a₁⋅x₁⋅sin(t⋅w) + x₂⎤\n⎢                    ⎥\n⎣-a₁⋅y₁⋅sin(t⋅w) + y₂⎦",
      "text/latex": "$\\displaystyle \\left[\\begin{matrix}- a_{1} x_{1} \\sin{\\left(t w \\right)} + x_{2}\\\\- a_{1} y_{1} \\sin{\\left(t w \\right)} + y_{2}\\end{matrix}\\right]$"
     },
     "metadata": {},
     "execution_count": 92
    }
   ],
   "source": [
    "phi=Matrix([(x2-x1*(a1*sin(w*t))),y2-y1*(a1*sin(w*t))])\n",
    "phi"
   ]
  },
  {
   "cell_type": "code",
   "execution_count": 93,
   "metadata": {
    "scrolled": true
   },
   "outputs": [
    {
     "output_type": "execute_result",
     "data": {
      "text/plain": "⎡-a₁⋅sin(t⋅w)       0        1  0⎤\n⎢                                ⎥\n⎣     0        -a₁⋅sin(t⋅w)  0  1⎦",
      "text/latex": "$\\displaystyle \\left[\\begin{matrix}- a_{1} \\sin{\\left(t w \\right)} & 0 & 1 & 0\\\\0 & - a_{1} \\sin{\\left(t w \\right)} & 0 & 1\\end{matrix}\\right]$"
     },
     "metadata": {},
     "execution_count": 93
    }
   ],
   "source": [
    "N=simulation.VectorDivergence(phi,Variables)\n",
    "N"
   ]
  },
  {
   "cell_type": "code",
   "execution_count": 94,
   "metadata": {},
   "outputs": [],
   "source": [
    "on_manifold = [(x2,x1*(a1*sin(w*t))),(y2,y1*(a1*sin(w*t)))]"
   ]
  },
  {
   "cell_type": "markdown",
   "metadata": {},
   "source": [
    "## Invariance"
   ]
  },
  {
   "cell_type": "code",
   "execution_count": 95,
   "metadata": {},
   "outputs": [
    {
     "output_type": "execute_result",
     "data": {
      "text/plain": "⎡                                -a₁⋅y₁⋅sin(t⋅w) + y₂                         \n⎢                                                                             \n⎢     ⎛      3                           ⎞                3                   \n⎣- a₁⋅⎝- α⋅x₁  - β⋅x₁ - δ⋅y₁ + γ⋅cos(ω⋅t)⎠⋅sin(t⋅w) - α⋅x₂  - β⋅x₂ - δ⋅y₂ + γ⋅\n\n        ⎤\n        ⎥\n        ⎥\ncos(ω⋅t)⎦",
      "text/latex": "$\\displaystyle \\left[\\begin{matrix}- a_{1} y_{1} \\sin{\\left(t w \\right)} + y_{2}\\\\- a_{1} \\left(- \\alpha x_{1}^{3} - \\beta x_{1} - \\delta y_{1} + \\gamma \\cos{\\left(\\omega t \\right)}\\right) \\sin{\\left(t w \\right)} - \\alpha x_{2}^{3} - \\beta x_{2} - \\delta y_{2} + \\gamma \\cos{\\left(\\omega t \\right)}\\end{matrix}\\right]$"
     },
     "metadata": {},
     "execution_count": 95
    }
   ],
   "source": [
    "# NF=(N*(F+zeta)).subs([(x2,x1*(a0+a1*sin(w*t))),(y2,y1*(a0+a1*sin(w*t))),(z2,z1*(a0+a1*sin(w*t)))])\n",
    "# simplify(NF)\n",
    "NF=N*(F+zeta)\n",
    "NF\n",
    "#simplify(NF)"
   ]
  },
  {
   "cell_type": "code",
   "execution_count": 96,
   "metadata": {},
   "outputs": [
    {
     "output_type": "execute_result",
     "data": {
      "text/plain": "⎡-a₁⋅w⋅x₁⋅cos(t⋅w)⎤\n⎢                 ⎥\n⎣-a₁⋅w⋅y₁⋅cos(t⋅w)⎦",
      "text/latex": "$\\displaystyle \\left[\\begin{matrix}- a_{1} w x_{1} \\cos{\\left(t w \\right)}\\\\- a_{1} w y_{1} \\cos{\\left(t w \\right)}\\end{matrix}\\right]$"
     },
     "metadata": {},
     "execution_count": 96
    }
   ],
   "source": [
    "dPhi=diff(phi,Time)\n",
    "dPhi"
   ]
  },
  {
   "cell_type": "code",
   "execution_count": 97,
   "metadata": {},
   "outputs": [
    {
     "output_type": "execute_result",
     "data": {
      "text/plain": "⎡                               -a₁⋅w⋅x₁⋅cos(t⋅w) - a₁⋅y₁⋅sin(t⋅w) + y₂       \n⎢                                                                             \n⎢                       ⎛    3                           ⎞                3   \n⎣-a₁⋅w⋅y₁⋅cos(t⋅w) + a₁⋅⎝α⋅x₁  + β⋅x₁ + δ⋅y₁ - γ⋅cos(ω⋅t)⎠⋅sin(t⋅w) - α⋅x₂  - \n\n                        ⎤\n                        ⎥\n                        ⎥\nβ⋅x₂ - δ⋅y₂ + γ⋅cos(ω⋅t)⎦",
      "text/latex": "$\\displaystyle \\left[\\begin{matrix}- a_{1} w x_{1} \\cos{\\left(t w \\right)} - a_{1} y_{1} \\sin{\\left(t w \\right)} + y_{2}\\\\- a_{1} w y_{1} \\cos{\\left(t w \\right)} + a_{1} \\left(\\alpha x_{1}^{3} + \\beta x_{1} + \\delta y_{1} - \\gamma \\cos{\\left(\\omega t \\right)}\\right) \\sin{\\left(t w \\right)} - \\alpha x_{2}^{3} - \\beta x_{2} - \\delta y_{2} + \\gamma \\cos{\\left(\\omega t \\right)}\\end{matrix}\\right]$"
     },
     "metadata": {},
     "execution_count": 97
    }
   ],
   "source": [
    "eqn=(NF+dPhi)#.subs([(x2,x1*(a0+a1*sin(w*t))),(y2,y1*(a0+a1*sin(w*t))),(z2,z1*(a0+a1*sin(w*t)))])\n",
    "simplify(eqn)"
   ]
  },
  {
   "cell_type": "code",
   "execution_count": 98,
   "metadata": {},
   "outputs": [
    {
     "output_type": "execute_result",
     "data": {
      "text/plain": "⎡                                                 0                           \n⎢                                                                             \n⎢                                                 0                           \n⎢                                                                             \n⎢                               a₁⋅w⋅x₁⋅cos(t⋅w) + a₁⋅y₁⋅sin(t⋅w) - y₂        \n⎢                                                                             \n⎢                      ⎛    3                           ⎞                3    \n⎣a₁⋅w⋅y₁⋅cos(t⋅w) - a₁⋅⎝α⋅x₁  + β⋅x₁ + δ⋅y₁ - γ⋅cos(ω⋅t)⎠⋅sin(t⋅w) + α⋅x₂  + β\n\n                       ⎤\n                       ⎥\n                       ⎥\n                       ⎥\n                       ⎥\n                       ⎥\n                       ⎥\n⋅x₂ + δ⋅y₂ - γ⋅cos(ω⋅t)⎦",
      "text/latex": "$\\displaystyle \\left[\\begin{matrix}0\\\\0\\\\a_{1} w x_{1} \\cos{\\left(t w \\right)} + a_{1} y_{1} \\sin{\\left(t w \\right)} - y_{2}\\\\a_{1} w y_{1} \\cos{\\left(t w \\right)} - a_{1} \\left(\\alpha x_{1}^{3} + \\beta x_{1} + \\delta y_{1} - \\gamma \\cos{\\left(\\omega t \\right)}\\right) \\sin{\\left(t w \\right)} + \\alpha x_{2}^{3} + \\beta x_{2} + \\delta y_{2} - \\gamma \\cos{\\left(\\omega t \\right)}\\end{matrix}\\right]$"
     },
     "metadata": {},
     "execution_count": 98
    }
   ],
   "source": [
    "# This is working only because of the nature of the N matrix - be careful\n",
    "zeta[2]=-(eqn)[0]\n",
    "zeta[3]=-(eqn)[1]\n",
    "\n",
    "simplify(zeta)"
   ]
  },
  {
   "cell_type": "code",
   "execution_count": 99,
   "metadata": {},
   "outputs": [
    {
     "output_type": "execute_result",
     "data": {
      "text/plain": "⎡                                                                     0       \n⎢                                                                             \n⎢                                                                     0       \n⎢                                                                             \n⎢                                                              a₁⋅w⋅x₁⋅cos(t⋅w\n⎢                                                                             \n⎢  3     3    3                                                               \n⎣a₁ ⋅α⋅x₁ ⋅sin (t⋅w) + a₁⋅β⋅x₁⋅sin(t⋅w) + a₁⋅δ⋅y₁⋅sin(t⋅w) + a₁⋅w⋅y₁⋅cos(t⋅w) \n\n                                                               ⎤\n                                                               ⎥\n                                                               ⎥\n                                                               ⎥\n)                                                              ⎥\n                                                               ⎥\n     ⎛      3                           ⎞                      ⎥\n+ a₁⋅⎝- α⋅x₁  - β⋅x₁ - δ⋅y₁ + γ⋅cos(ω⋅t)⎠⋅sin(t⋅w) - γ⋅cos(ω⋅t)⎦",
      "text/latex": "$\\displaystyle \\left[\\begin{matrix}0\\\\0\\\\a_{1} w x_{1} \\cos{\\left(t w \\right)}\\\\a_{1}^{3} \\alpha x_{1}^{3} \\sin^{3}{\\left(t w \\right)} + a_{1} \\beta x_{1} \\sin{\\left(t w \\right)} + a_{1} \\delta y_{1} \\sin{\\left(t w \\right)} + a_{1} w y_{1} \\cos{\\left(t w \\right)} + a_{1} \\left(- \\alpha x_{1}^{3} - \\beta x_{1} - \\delta y_{1} + \\gamma \\cos{\\left(\\omega t \\right)}\\right) \\sin{\\left(t w \\right)} - \\gamma \\cos{\\left(\\omega t \\right)}\\end{matrix}\\right]$"
     },
     "metadata": {},
     "execution_count": 99
    }
   ],
   "source": [
    "zeta=zeta.subs(on_manifold)\n",
    "zeta"
   ]
  },
  {
   "cell_type": "code",
   "execution_count": 100,
   "metadata": {},
   "outputs": [
    {
     "output_type": "execute_result",
     "data": {
      "text/plain": "⎡0⎤\n⎢ ⎥\n⎣0⎦",
      "text/latex": "$\\displaystyle \\left[\\begin{matrix}0\\\\0\\end{matrix}\\right]$"
     },
     "metadata": {},
     "execution_count": 100
    }
   ],
   "source": [
    "NF=N*(F+zeta)#.subs([(x2,x1*(a0+a1*sin(w*t))),(y2,y1*(a0+a1*sin(w*t))),(z2,z1*(a0+a1*sin(w*t)))])\n",
    "simplify(NF)\n",
    "simplify(NF+dPhi).subs(on_manifold)"
   ]
  },
  {
   "cell_type": "code",
   "execution_count": 101,
   "metadata": {},
   "outputs": [
    {
     "output_type": "execute_result",
     "data": {
      "text/plain": "⎡                                                              a₁⋅w⋅x₁⋅cos(t⋅w\n⎢                                                                             \n⎢  3     3    3                                                               \n⎣a₁ ⋅α⋅x₁ ⋅sin (t⋅w) + a₁⋅β⋅x₁⋅sin(t⋅w) + a₁⋅δ⋅y₁⋅sin(t⋅w) + a₁⋅w⋅y₁⋅cos(t⋅w) \n\n)                                                              ⎤\n                                                               ⎥\n     ⎛      3                           ⎞                      ⎥\n+ a₁⋅⎝- α⋅x₁  - β⋅x₁ - δ⋅y₁ + γ⋅cos(ω⋅t)⎠⋅sin(t⋅w) - γ⋅cos(ω⋅t)⎦",
      "text/latex": "$\\displaystyle \\left[\\begin{matrix}a_{1} w x_{1} \\cos{\\left(t w \\right)}\\\\a_{1}^{3} \\alpha x_{1}^{3} \\sin^{3}{\\left(t w \\right)} + a_{1} \\beta x_{1} \\sin{\\left(t w \\right)} + a_{1} \\delta y_{1} \\sin{\\left(t w \\right)} + a_{1} w y_{1} \\cos{\\left(t w \\right)} + a_{1} \\left(- \\alpha x_{1}^{3} - \\beta x_{1} - \\delta y_{1} + \\gamma \\cos{\\left(\\omega t \\right)}\\right) \\sin{\\left(t w \\right)} - \\gamma \\cos{\\left(\\omega t \\right)}\\end{matrix}\\right]$"
     },
     "metadata": {},
     "execution_count": 101
    }
   ],
   "source": [
    "NZ=N*zeta\n",
    "NZ"
   ]
  },
  {
   "cell_type": "markdown",
   "metadata": {},
   "source": [
    "## Stability"
   ]
  },
  {
   "cell_type": "code",
   "execution_count": 215,
   "metadata": {
    "scrolled": true
   },
   "outputs": [
    {
     "output_type": "execute_result",
     "data": {
      "text/plain": "⎡         0         ⎤\n⎢                   ⎥\n⎢         0         ⎥\n⎢                   ⎥\n⎢a₁⋅x₁⋅sin(t⋅w) - x₂⎥\n⎢───────────────────⎥\n⎢   2    2          ⎥\n⎢ a₁ ⋅sin (t⋅w) + 1 ⎥\n⎢                   ⎥\n⎢a₁⋅y₁⋅sin(t⋅w) - y₂⎥\n⎢───────────────────⎥\n⎢   2    2          ⎥\n⎣ a₁ ⋅sin (t⋅w) + 1 ⎦",
      "text/latex": "$\\displaystyle \\left[\\begin{matrix}0\\\\0\\\\\\frac{a_{1} x_{1} \\sin{\\left(t w \\right)} - x_{2}}{a_{1}^{2} \\sin^{2}{\\left(t w \\right)} + 1}\\\\\\frac{a_{1} y_{1} \\sin{\\left(t w \\right)} - y_{2}}{a_{1}^{2} \\sin^{2}{\\left(t w \\right)} + 1}\\end{matrix}\\right]$"
     },
     "metadata": {},
     "execution_count": 215
    }
   ],
   "source": [
    "chi=Matrix([0,0,\n",
    "            -(x2-x1*a1*sin(w*t))/(a1**2*sin(w*t)**2+1),-(y2-y1*a1*sin(w*t))/(a1**2*sin(w*t)**2+1)])\n",
    "\n",
    "#chi=(epsilon1*sin(b*t)+epsilon2)*chi \n",
    "#chi=epsilon*chi\n",
    "#epsilon=1\n",
    "chi"
   ]
  },
  {
   "cell_type": "code",
   "execution_count": 216,
   "metadata": {},
   "outputs": [
    {
     "output_type": "execute_result",
     "data": {
      "text/plain": "⎡                                 0                                         0 \n⎢                                                                             \n⎢                                 0                                         0 \n⎢                                                                             \n⎢                           a₁⋅w⋅cos(t⋅w)                                   0 \n⎢                                                                             \n⎢    3     2    3                           ⎛        2    ⎞                   \n⎣3⋅a₁ ⋅α⋅x₁ ⋅sin (t⋅w) + a₁⋅β⋅sin(t⋅w) + a₁⋅⎝- 3⋅α⋅x₁  - β⎠⋅sin(t⋅w)  a₁⋅w⋅cos\n\n       0  0⎤\n           ⎥\n       0  0⎥\n           ⎥\n       0  0⎥\n           ⎥\n           ⎥\n(t⋅w)  0  0⎦",
      "text/latex": "$\\displaystyle \\left[\\begin{matrix}0 & 0 & 0 & 0\\\\0 & 0 & 0 & 0\\\\a_{1} w \\cos{\\left(t w \\right)} & 0 & 0 & 0\\\\3 a_{1}^{3} \\alpha x_{1}^{2} \\sin^{3}{\\left(t w \\right)} + a_{1} \\beta \\sin{\\left(t w \\right)} + a_{1} \\left(- 3 \\alpha x_{1}^{2} - \\beta\\right) \\sin{\\left(t w \\right)} & a_{1} w \\cos{\\left(t w \\right)} & 0 & 0\\end{matrix}\\right]$"
     },
     "metadata": {},
     "execution_count": 216
    }
   ],
   "source": [
    "del_zeta=simulation.VectorDivergence(zeta,Variables)\n",
    "del_zeta"
   ]
  },
  {
   "cell_type": "code",
   "execution_count": 217,
   "metadata": {},
   "outputs": [
    {
     "output_type": "execute_result",
     "data": {
      "text/plain": "⎡        0                  0                  0                  0        ⎤\n⎢                                                                          ⎥\n⎢        0                  0                  0                  0        ⎥\n⎢                                                                          ⎥\n⎢   a₁⋅sin(t⋅w)                               -1                           ⎥\n⎢─────────────────          0          ─────────────────          0        ⎥\n⎢  2    2                                2    2                            ⎥\n⎢a₁ ⋅sin (t⋅w) + 1                     a₁ ⋅sin (t⋅w) + 1                   ⎥\n⎢                                                                          ⎥\n⎢                      a₁⋅sin(t⋅w)                               -1        ⎥\n⎢        0          ─────────────────          0          ─────────────────⎥\n⎢                     2    2                                2    2         ⎥\n⎣                   a₁ ⋅sin (t⋅w) + 1                     a₁ ⋅sin (t⋅w) + 1⎦",
      "text/latex": "$\\displaystyle \\left[\\begin{matrix}0 & 0 & 0 & 0\\\\0 & 0 & 0 & 0\\\\\\frac{a_{1} \\sin{\\left(t w \\right)}}{a_{1}^{2} \\sin^{2}{\\left(t w \\right)} + 1} & 0 & - \\frac{1}{a_{1}^{2} \\sin^{2}{\\left(t w \\right)} + 1} & 0\\\\0 & \\frac{a_{1} \\sin{\\left(t w \\right)}}{a_{1}^{2} \\sin^{2}{\\left(t w \\right)} + 1} & 0 & - \\frac{1}{a_{1}^{2} \\sin^{2}{\\left(t w \\right)} + 1}\\end{matrix}\\right]$"
     },
     "metadata": {},
     "execution_count": 217
    }
   ],
   "source": [
    "del_chi=simulation.VectorDivergence(chi,Variables)\n",
    "del_chi"
   ]
  },
  {
   "cell_type": "code",
   "execution_count": 218,
   "metadata": {},
   "outputs": [
    {
     "output_type": "execute_result",
     "data": {
      "text/plain": "⎡      0        1         0        0 ⎤\n⎢                                    ⎥\n⎢        2                           ⎥\n⎢- 3⋅α⋅x₁  - β  -δ        0        0 ⎥\n⎢                                    ⎥\n⎢      0        0         0        1 ⎥\n⎢                                    ⎥\n⎢                           2        ⎥\n⎣      0        0   - 3⋅α⋅x₂  - β  -δ⎦",
      "text/latex": "$\\displaystyle \\left[\\begin{matrix}0 & 1 & 0 & 0\\\\- 3 \\alpha x_{1}^{2} - \\beta & - \\delta & 0 & 0\\\\0 & 0 & 0 & 1\\\\0 & 0 & - 3 \\alpha x_{2}^{2} - \\beta & - \\delta\\end{matrix}\\right]$"
     },
     "metadata": {},
     "execution_count": 218
    }
   ],
   "source": [
    "del_F=simulation.VectorDivergence(F,Variables)\n",
    "del_F"
   ]
  },
  {
   "cell_type": "code",
   "execution_count": 219,
   "metadata": {
    "scrolled": true
   },
   "outputs": [
    {
     "output_type": "execute_result",
     "data": {
      "text/plain": "⎡                                 0                                           \n⎢                                                                             \n⎢                                   2                                         \n⎢                           - 3⋅α⋅x₁  - β                                     \n⎢                                                                             \n⎢                                    a₁⋅sin(t⋅w)                              \n⎢                 a₁⋅w⋅cos(t⋅w) + ─────────────────                           \n⎢                                   2    2                                    \n⎢                                 a₁ ⋅sin (t⋅w) + 1                           \n⎢                                                                             \n⎢    3     2    3                           ⎛        2    ⎞                   \n⎢3⋅a₁ ⋅α⋅x₁ ⋅sin (t⋅w) + a₁⋅β⋅sin(t⋅w) + a₁⋅⎝- 3⋅α⋅x₁  - β⎠⋅sin(t⋅w)  a₁⋅w⋅cos\n⎢                                                                             \n⎣                                                                             \n\n        1                          0                    0           ⎤\n                                                                    ⎥\n                                                                    ⎥\n       -δ                          0                    0           ⎥\n                                                                    ⎥\n                                  -1                                ⎥\n        0                  ─────────────────            1           ⎥\n                             2    2                                 ⎥\n                           a₁ ⋅sin (t⋅w) + 1                        ⎥\n                                                                    ⎥\n           a₁⋅sin(t⋅w)               2                     1        ⎥\n(t⋅w) + ─────────────────    - 3⋅α⋅x₂  - β    -δ - ─────────────────⎥\n          2    2                                     2    2         ⎥\n        a₁ ⋅sin (t⋅w) + 1                          a₁ ⋅sin (t⋅w) + 1⎦",
      "text/latex": "$\\displaystyle \\left[\\begin{matrix}0 & 1 & 0 & 0\\\\- 3 \\alpha x_{1}^{2} - \\beta & - \\delta & 0 & 0\\\\a_{1} w \\cos{\\left(t w \\right)} + \\frac{a_{1} \\sin{\\left(t w \\right)}}{a_{1}^{2} \\sin^{2}{\\left(t w \\right)} + 1} & 0 & - \\frac{1}{a_{1}^{2} \\sin^{2}{\\left(t w \\right)} + 1} & 1\\\\3 a_{1}^{3} \\alpha x_{1}^{2} \\sin^{3}{\\left(t w \\right)} + a_{1} \\beta \\sin{\\left(t w \\right)} + a_{1} \\left(- 3 \\alpha x_{1}^{2} - \\beta\\right) \\sin{\\left(t w \\right)} & a_{1} w \\cos{\\left(t w \\right)} + \\frac{a_{1} \\sin{\\left(t w \\right)}}{a_{1}^{2} \\sin^{2}{\\left(t w \\right)} + 1} & - 3 \\alpha x_{2}^{2} - \\beta & - \\delta - \\frac{1}{a_{1}^{2} \\sin^{2}{\\left(t w \\right)} + 1}\\end{matrix}\\right]$"
     },
     "metadata": {},
     "execution_count": 219
    }
   ],
   "source": [
    "(del_F+del_zeta+del_chi)"
   ]
  },
  {
   "cell_type": "code",
   "execution_count": 220,
   "metadata": {},
   "outputs": [
    {
     "output_type": "execute_result",
     "data": {
      "text/plain": "⎡  2                                             ⎤\n⎢a₁ ⋅w⋅sin(t⋅w)⋅cos(t⋅w)             0           ⎥\n⎢                                                ⎥\n⎢                           2                    ⎥\n⎣           0             a₁ ⋅w⋅sin(t⋅w)⋅cos(t⋅w)⎦",
      "text/latex": "$\\displaystyle \\left[\\begin{matrix}a_{1}^{2} w \\sin{\\left(t w \\right)} \\cos{\\left(t w \\right)} & 0\\\\0 & a_{1}^{2} w \\sin{\\left(t w \\right)} \\cos{\\left(t w \\right)}\\end{matrix}\\right]$"
     },
     "metadata": {},
     "execution_count": 220
    }
   ],
   "source": [
    "diff(N,t)*N.transpose()"
   ]
  },
  {
   "cell_type": "code",
   "execution_count": 221,
   "metadata": {},
   "outputs": [
    {
     "output_type": "execute_result",
     "data": {
      "text/plain": "⎡                                                                             \n⎢                                 -1                                        a₁\n⎢                                                                             \n⎢      4     2    4            2     2    2          2      2               2 \n⎣- 3⋅a₁ ⋅α⋅x₁ ⋅sin (t⋅w) - 3⋅a₁ ⋅α⋅x₁ ⋅sin (t⋅w) - a₁ ⋅β⋅sin (t⋅w) - β  - a₁ ⋅\n\n2    2             ⎤\n ⋅sin (t⋅w) + 1    ⎥\n                   ⎥\n     2             ⎥\nδ⋅sin (t⋅w) - δ - 1⎦",
      "text/latex": "$\\displaystyle \\left[\\begin{matrix}-1 & a_{1}^{2} \\sin^{2}{\\left(t w \\right)} + 1\\\\- 3 a_{1}^{4} \\alpha x_{1}^{2} \\sin^{4}{\\left(t w \\right)} - 3 a_{1}^{2} \\alpha x_{1}^{2} \\sin^{2}{\\left(t w \\right)} - a_{1}^{2} \\beta \\sin^{2}{\\left(t w \\right)} - \\beta & - a_{1}^{2} \\delta \\sin^{2}{\\left(t w \\right)} - \\delta - 1\\end{matrix}\\right]$"
     },
     "metadata": {},
     "execution_count": 221
    }
   ],
   "source": [
    "Jac = N*(del_F+del_zeta+del_chi)*N.transpose() + diff(N,t)*N.transpose()\n",
    "Jac = simplify(Jac)\n",
    "Jac.subs(on_manifold)"
   ]
  },
  {
   "cell_type": "code",
   "execution_count": 214,
   "metadata": {},
   "outputs": [
    {
     "output_type": "execute_result",
     "data": {
      "text/plain": "⎧                                                         ____________________\n⎪                    2      2                            ╱  ⎛  2    2         \n⎨    3    3        a₁ ⋅δ⋅sin (t⋅w)                 δ   ╲╱  -⎝a₁ ⋅sin (t⋅w) + 1\n⎪- a₁ ⋅sin (t⋅w) - ─────────────── - a₁⋅sin(t⋅w) - ─ - ───────────────────────\n⎩                         2                        2                          \n\n______________________________________________________________________________\n⎞ ⎛     4     2    4            2      2          2  2    2               2   \n⎠⋅⎝12⋅a₁ ⋅α⋅x₁ ⋅sin (t⋅w) + 4⋅a₁ ⋅β⋅sin (t⋅w) - a₁ ⋅δ ⋅sin (t⋅w) + 12⋅α⋅x₂  + \n──────────────────────────────────────────────────────────────────────────────\n                                2                                             \n\n__________                                                                  __\n       2⎞                              2      2                            ╱  \n4⋅β - δ ⎠              3    3        a₁ ⋅δ⋅sin (t⋅w)                 δ   ╲╱  -\n────────── - 1: 1, - a₁ ⋅sin (t⋅w) - ─────────────── - a₁⋅sin(t⋅w) - ─ + ─────\n                                            2                        2        \n\n______________________________________________________________________________\n⎛  2    2         ⎞ ⎛     4     2    4            2      2          2  2    2 \n⎝a₁ ⋅sin (t⋅w) + 1⎠⋅⎝12⋅a₁ ⋅α⋅x₁ ⋅sin (t⋅w) + 4⋅a₁ ⋅β⋅sin (t⋅w) - a₁ ⋅δ ⋅sin (\n──────────────────────────────────────────────────────────────────────────────\n                                                  2                           \n\n____________________________       ⎫\n              2          2⎞        ⎪\nt⋅w) + 12⋅α⋅x₂  + 4⋅β - δ ⎠        ⎬\n──────────────────────────── - 1: 1⎪\n                                   ⎭",
      "image/png": "[encoded data removed]",
      "text/latex": "$\\displaystyle \\left\\{ - a_{1}^{3} \\sin^{3}{\\left(t w \\right)} - \\frac{a_{1}^{2} \\delta \\sin^{2}{\\left(t w \\right)}}{2} - a_{1} \\sin{\\left(t w \\right)} - \\frac{\\delta}{2} - \\frac{\\sqrt{- \\left(a_{1}^{2} \\sin^{2}{\\left(t w \\right)} + 1\\right) \\left(12 a_{1}^{4} \\alpha x_{1}^{2} \\sin^{4}{\\left(t w \\right)} + 4 a_{1}^{2} \\beta \\sin^{2}{\\left(t w \\right)} - a_{1}^{2} \\delta^{2} \\sin^{2}{\\left(t w \\right)} + 12 \\alpha x_{2}^{2} + 4 \\beta - \\delta^{2}\\right)}}{2} - 1 : 1, \\  - a_{1}^{3} \\sin^{3}{\\left(t w \\right)} - \\frac{a_{1}^{2} \\delta \\sin^{2}{\\left(t w \\right)}}{2} - a_{1} \\sin{\\left(t w \\right)} - \\frac{\\delta}{2} + \\frac{\\sqrt{- \\left(a_{1}^{2} \\sin^{2}{\\left(t w \\right)} + 1\\right) \\left(12 a_{1}^{4} \\alpha x_{1}^{2} \\sin^{4}{\\left(t w \\right)} + 4 a_{1}^{2} \\beta \\sin^{2}{\\left(t w \\right)} - a_{1}^{2} \\delta^{2} \\sin^{2}{\\left(t w \\right)} + 12 \\alpha x_{2}^{2} + 4 \\beta - \\delta^{2}\\right)}}{2} - 1 : 1\\right\\}$"
     },
     "metadata": {},
     "execution_count": 214
    }
   ],
   "source": [
    "Jac.eigenvals()"
   ]
  },
  {
   "cell_type": "markdown",
   "metadata": {},
   "source": [
    "### coupling"
   ]
  },
  {
   "cell_type": "code",
   "execution_count": 198,
   "metadata": {},
   "outputs": [
    {
     "output_type": "execute_result",
     "data": {
      "text/plain": "⎡a₁⋅x₁⋅sin(t⋅w) - x₂⎤\n⎢───────────────────⎥\n⎢   2    2          ⎥\n⎢ a₁ ⋅sin (t⋅w) + 1 ⎥\n⎢                   ⎥\n⎢a₁⋅y₁⋅sin(t⋅w) - y₂⎥\n⎢───────────────────⎥\n⎢   2    2          ⎥\n⎢ a₁ ⋅sin (t⋅w) + 1 ⎥\n⎢                   ⎥\n⎢a₁⋅x₁⋅sin(t⋅w) - x₂⎥\n⎢───────────────────⎥\n⎢   2    2          ⎥\n⎢ a₁ ⋅sin (t⋅w) + 1 ⎥\n⎢                   ⎥\n⎢a₁⋅y₁⋅sin(t⋅w) - y₂⎥\n⎢───────────────────⎥\n⎢   2    2          ⎥\n⎣ a₁ ⋅sin (t⋅w) + 1 ⎦",
      "text/latex": "$\\displaystyle \\left[\\begin{matrix}\\frac{a_{1} x_{1} \\sin{\\left(t w \\right)} - x_{2}}{a_{1}^{2} \\sin^{2}{\\left(t w \\right)} + 1}\\\\\\frac{a_{1} y_{1} \\sin{\\left(t w \\right)} - y_{2}}{a_{1}^{2} \\sin^{2}{\\left(t w \\right)} + 1}\\\\\\frac{a_{1} x_{1} \\sin{\\left(t w \\right)} - x_{2}}{a_{1}^{2} \\sin^{2}{\\left(t w \\right)} + 1}\\\\\\frac{a_{1} y_{1} \\sin{\\left(t w \\right)} - y_{2}}{a_{1}^{2} \\sin^{2}{\\left(t w \\right)} + 1}\\end{matrix}\\right]$"
     },
     "metadata": {},
     "execution_count": 198
    }
   ],
   "source": [
    "chi"
   ]
  },
  {
   "cell_type": "code",
   "execution_count": 23,
   "metadata": {},
   "outputs": [
    {
     "data": {
      "text/latex": [
       "$\\displaystyle \\left[\\begin{matrix}0\\\\0\\\\a_{1} w x_{1} \\cos{\\left(t w \\right)} - y_{1} \\left(- a_{0} - a_{1} \\sin{\\left(t w \\right)}\\right) - y_{2}\\\\a_{1} w y_{1} \\cos{\\left(t w \\right)} + \\alpha x_{2}^{3} + \\beta x_{2} + \\delta y_{2} - \\gamma \\cos{\\left(t w \\right)} - \\left(- a_{0} - a_{1} \\sin{\\left(t w \\right)}\\right) \\left(- \\alpha x_{1}^{3} - \\beta x_{1} - \\delta y_{1} + \\gamma \\cos{\\left(t w \\right)}\\right)\\end{matrix}\\right]$"
      ],
      "text/plain": [
       "⎡                                                      0                      \n",
       "⎢                                                                             \n",
       "⎢                                                      0                      \n",
       "⎢                                                                             \n",
       "⎢                                a₁⋅w⋅x₁⋅cos(t⋅w) - y₁⋅(-a₀ - a₁⋅sin(t⋅w)) - y\n",
       "⎢                                                                             \n",
       "⎢                       3                                                  ⎛  \n",
       "⎣a₁⋅w⋅y₁⋅cos(t⋅w) + α⋅x₂  + β⋅x₂ + δ⋅y₂ - γ⋅cos(t⋅w) - (-a₀ - a₁⋅sin(t⋅w))⋅⎝- \n",
       "\n",
       "                                 ⎤\n",
       "                                 ⎥\n",
       "                                 ⎥\n",
       "                                 ⎥\n",
       "₂                                ⎥\n",
       "                                 ⎥\n",
       "    3                           ⎞⎥\n",
       "α⋅x₁  - β⋅x₁ - δ⋅y₁ + γ⋅cos(t⋅w)⎠⎦"
      ]
     },
     "execution_count": 23,
     "metadata": {},
     "output_type": "execute_result"
    }
   ],
   "source": [
    "zeta"
   ]
  },
  {
   "cell_type": "code",
   "execution_count": 24,
   "metadata": {},
   "outputs": [
    {
     "data": {
      "text/latex": [
       "$\\displaystyle \\left[\\begin{matrix}0\\\\0\\\\a_{1} w x_{1} \\cos{\\left(t w \\right)} + x_{1} \\left(a_{0} + a_{1} \\sin{\\left(t w \\right)}\\right) - x_{2} + y_{1} \\left(a_{0} + a_{1} \\sin{\\left(t w \\right)}\\right) - y_{2}\\\\a_{1} w y_{1} \\cos{\\left(t w \\right)} + \\alpha x_{2}^{3} + \\beta x_{2} + \\delta y_{2} - \\gamma \\cos{\\left(t w \\right)} + y_{1} \\left(a_{0} + a_{1} \\sin{\\left(t w \\right)}\\right) - y_{2} - \\left(a_{0} + a_{1} \\sin{\\left(t w \\right)}\\right) \\left(\\alpha x_{1}^{3} + \\beta x_{1} + \\delta y_{1} - \\gamma \\cos{\\left(t w \\right)}\\right)\\end{matrix}\\right]$"
      ],
      "text/plain": [
       "⎡                                                                   0         \n",
       "⎢                                                                             \n",
       "⎢                                                                   0         \n",
       "⎢                                                                             \n",
       "⎢                               a₁⋅w⋅x₁⋅cos(t⋅w) + x₁⋅(a₀ + a₁⋅sin(t⋅w)) - x₂ \n",
       "⎢                                                                             \n",
       "⎢                       3                                                     \n",
       "⎣a₁⋅w⋅y₁⋅cos(t⋅w) + α⋅x₂  + β⋅x₂ + δ⋅y₂ - γ⋅cos(t⋅w) + y₁⋅(a₀ + a₁⋅sin(t⋅w)) -\n",
       "\n",
       "                                                           ⎤\n",
       "                                                           ⎥\n",
       "                                                           ⎥\n",
       "                                                           ⎥\n",
       "+ y₁⋅(a₀ + a₁⋅sin(t⋅w)) - y₂                               ⎥\n",
       "                                                           ⎥\n",
       "                         ⎛    3                           ⎞⎥\n",
       " y₂ - (a₀ + a₁⋅sin(t⋅w))⋅⎝α⋅x₁  + β⋅x₁ + δ⋅y₁ - γ⋅cos(t⋅w)⎠⎦"
      ]
     },
     "execution_count": 24,
     "metadata": {},
     "output_type": "execute_result"
    }
   ],
   "source": [
    "simplify((chi+zeta))"
   ]
  },
  {
   "cell_type": "code",
   "execution_count": 25,
   "metadata": {},
   "outputs": [
    {
     "data": {
      "text/latex": [
       "$\\displaystyle \\left[\\begin{matrix}0\\\\0\\\\a_{1} w x_{1} \\cos{\\left(t w \\right)}\\\\- a_{0} \\alpha x_{1}^{3} + a_{0} \\gamma \\cos{\\left(t w \\right)} - a_{1} \\alpha x_{1}^{3} \\sin{\\left(t w \\right)} + a_{1} \\gamma \\sin{\\left(t w \\right)} \\cos{\\left(t w \\right)} + a_{1} w y_{1} \\cos{\\left(t w \\right)} + \\alpha x_{1}^{3} \\left(a_{0} + a_{1} \\sin{\\left(t w \\right)}\\right)^{3} - \\gamma \\cos{\\left(t w \\right)}\\end{matrix}\\right]$"
      ],
      "text/plain": [
       "⎡                                                                 0           \n",
       "⎢                                                                             \n",
       "⎢                                                                 0           \n",
       "⎢                                                                             \n",
       "⎢                                                         a₁⋅w⋅x₁⋅cos(t⋅w)    \n",
       "⎢                                                                             \n",
       "⎢         3                          3                                        \n",
       "⎣- a₀⋅α⋅x₁  + a₀⋅γ⋅cos(t⋅w) - a₁⋅α⋅x₁ ⋅sin(t⋅w) + a₁⋅γ⋅sin(t⋅w)⋅cos(t⋅w) + a₁⋅\n",
       "\n",
       "                                                      ⎤\n",
       "                                                      ⎥\n",
       "                                                      ⎥\n",
       "                                                      ⎥\n",
       "                                                      ⎥\n",
       "                                                      ⎥\n",
       "                    3                   3             ⎥\n",
       "w⋅y₁⋅cos(t⋅w) + α⋅x₁ ⋅(a₀ + a₁⋅sin(t⋅w))  - γ⋅cos(t⋅w)⎦"
      ]
     },
     "execution_count": 25,
     "metadata": {},
     "output_type": "execute_result"
    }
   ],
   "source": [
    "simplify((chi+zeta).subs(on_manifold))#.subs([(x2,a*t*x1),(y2,b*t*y1),(z2,c*t*z1)])))"
   ]
  },
  {
   "cell_type": "code",
   "execution_count": null,
   "metadata": {},
   "outputs": [],
   "source": []
  }
 ],
 "metadata": {
  "kernelspec": {
   "display_name": "Python 3",
   "language": "python",
   "name": "python3"
  },
  "language_info": {
   "codemirror_mode": {
    "name": "ipython",
    "version": 3
   },
   "file_extension": ".py",
   "mimetype": "text/x-python",
   "name": "python",
   "nbconvert_exporter": "python",
   "pygments_lexer": "ipython3",
   "version": "3.8.3-final"
  }
 },
 "nbformat": 4,
 "nbformat_minor": 4
}