{
 "cells": [
  {
   "cell_type": "code",
   "execution_count": 1,
   "metadata": {},
   "outputs": [],
   "source": [
    "from sympy import *\n",
    "import numpy as np\n",
    "from sympy.plotting import plot3d,plot\n",
    "from sympy import init_printing\n",
    "#import plotly.plotly as py\n",
    "import plotly.graph_objs as go\n",
    "import matplotlib.pyplot as plt\n",
    "%matplotlib inline\n",
    "init_printing()"
   ]
  },
  {
   "cell_type": "code",
   "execution_count": 2,
   "metadata": {},
   "outputs": [],
   "source": [
    "Variables=symbols(\"x1 y1 x2 y2\")\n",
    "x1,y1,x2,y2 = Variables\n",
    "Time=symbols(\"t\")\n",
    "t=Time\n",
    "Parameters = symbols(\"alpha beta gamma delta w a0 a1\")\n",
    "alpha,beta,gamma,delta,w,a0,a1 = Parameters"
   ]
  },
  {
   "cell_type": "code",
   "execution_count": 3,
   "metadata": {},
   "outputs": [],
   "source": [
    "def VectorDivergence(vector,variables):\n",
    "    D = []\n",
    "    for vec in vector:\n",
    "        row = []\n",
    "        for var in variables:\n",
    "            row.append(diff(vec,var))\n",
    "        D.append(row)\n",
    "    return Matrix(D)"
   ]
  },
  {
   "cell_type": "code",
   "execution_count": 4,
   "metadata": {},
   "outputs": [
    {
     "data": {
      "text/latex": [
       "$\\displaystyle \\left[\\begin{matrix}y_{1}\\\\- \\alpha x_{1}^{3} - \\beta x_{1} - \\delta y_{1} + \\gamma \\cos{\\left(t w \\right)}\\\\y_{2}\\\\- \\alpha x_{2}^{3} - \\beta x_{2} - \\delta y_{2} + \\gamma \\cos{\\left(t w \\right)}\\end{matrix}\\right]$"
      ],
      "text/plain": [
       "⎡                y₁                ⎤\n",
       "⎢                                  ⎥\n",
       "⎢      3                           ⎥\n",
       "⎢- α⋅x₁  - β⋅x₁ - δ⋅y₁ + γ⋅cos(t⋅w)⎥\n",
       "⎢                                  ⎥\n",
       "⎢                y₂                ⎥\n",
       "⎢                                  ⎥\n",
       "⎢      3                           ⎥\n",
       "⎣- α⋅x₂  - β⋅x₂ - δ⋅y₂ + γ⋅cos(t⋅w)⎦"
      ]
     },
     "execution_count": 4,
     "metadata": {},
     "output_type": "execute_result"
    }
   ],
   "source": [
    "F=Matrix([y1, gamma*cos(w*t) - delta*y1 - beta*x1 - alpha*x1**3,\n",
    "          y2, gamma*cos(w*t) - delta*y2 - beta*x2 - alpha*x2**3])\n",
    "F"
   ]
  },
  {
   "cell_type": "code",
   "execution_count": 5,
   "metadata": {},
   "outputs": [
    {
     "data": {
      "text/latex": [
       "$\\displaystyle \\left[\\begin{matrix}0\\\\0\\\\0\\\\0\\end{matrix}\\right]$"
      ],
      "text/plain": [
       "⎡0⎤\n",
       "⎢ ⎥\n",
       "⎢0⎥\n",
       "⎢ ⎥\n",
       "⎢0⎥\n",
       "⎢ ⎥\n",
       "⎣0⎦"
      ]
     },
     "execution_count": 5,
     "metadata": {},
     "output_type": "execute_result"
    }
   ],
   "source": [
    "zeta=Matrix([0,0,\n",
    "             0,0])\n",
    "#zeta=eps*zeta\n",
    "zeta"
   ]
  },
  {
   "cell_type": "code",
   "execution_count": 6,
   "metadata": {
    "scrolled": true
   },
   "outputs": [
    {
     "data": {
      "text/latex": [
       "$\\displaystyle \\left[\\begin{matrix}0\\\\0\\\\x_{1} \\left(a_{0} + a_{1} \\sin{\\left(t w \\right)}\\right) - x_{2}\\\\y_{1} \\left(a_{0} + a_{1} \\sin{\\left(t w \\right)}\\right) - y_{2}\\end{matrix}\\right]$"
      ],
      "text/plain": [
       "⎡            0             ⎤\n",
       "⎢                          ⎥\n",
       "⎢            0             ⎥\n",
       "⎢                          ⎥\n",
       "⎢x₁⋅(a₀ + a₁⋅sin(t⋅w)) - x₂⎥\n",
       "⎢                          ⎥\n",
       "⎣y₁⋅(a₀ + a₁⋅sin(t⋅w)) - y₂⎦"
      ]
     },
     "execution_count": 6,
     "metadata": {},
     "output_type": "execute_result"
    }
   ],
   "source": [
    "chi=Matrix([0,0,\n",
    "            -(x2-x1*(a0+a1*sin(w*t))),-(y2-y1*(a0+a1*sin(w*t)))])\n",
    "\n",
    "#chi=(epsilon1*sin(b*t)+epsilon2)*chi \n",
    "#chi=epsilon*chi\n",
    "#epsilon=1\n",
    "chi"
   ]
  },
  {
   "cell_type": "code",
   "execution_count": 7,
   "metadata": {
    "scrolled": true
   },
   "outputs": [
    {
     "data": {
      "text/latex": [
       "$\\displaystyle \\left[\\begin{matrix}- x_{1} \\left(a_{0} + a_{1} \\sin{\\left(t w \\right)}\\right) + x_{2}\\\\- y_{1} \\left(a_{0} + a_{1} \\sin{\\left(t w \\right)}\\right) + y_{2}\\end{matrix}\\right]$"
      ],
      "text/plain": [
       "⎡-x₁⋅(a₀ + a₁⋅sin(t⋅w)) + x₂⎤\n",
       "⎢                           ⎥\n",
       "⎣-y₁⋅(a₀ + a₁⋅sin(t⋅w)) + y₂⎦"
      ]
     },
     "execution_count": 7,
     "metadata": {},
     "output_type": "execute_result"
    }
   ],
   "source": [
    "phi=Matrix([(x2-x1*(a0+a1*sin(w*t))),y2-y1*(a0+a1*sin(w*t))])\n",
    "phi"
   ]
  },
  {
   "cell_type": "code",
   "execution_count": 8,
   "metadata": {
    "scrolled": true
   },
   "outputs": [
    {
     "data": {
      "text/latex": [
       "$\\displaystyle \\left[\\begin{matrix}- a_{0} - a_{1} \\sin{\\left(t w \\right)} & 0 & 1 & 0\\\\0 & - a_{0} - a_{1} \\sin{\\left(t w \\right)} & 0 & 1\\end{matrix}\\right]$"
      ],
      "text/plain": [
       "⎡-a₀ - a₁⋅sin(t⋅w)          0          1  0⎤\n",
       "⎢                                          ⎥\n",
       "⎣        0          -a₀ - a₁⋅sin(t⋅w)  0  1⎦"
      ]
     },
     "execution_count": 8,
     "metadata": {},
     "output_type": "execute_result"
    }
   ],
   "source": [
    "N=VectorDivergence(phi,Variables)\n",
    "N"
   ]
  },
  {
   "cell_type": "code",
   "execution_count": 9,
   "metadata": {},
   "outputs": [
    {
     "data": {
      "text/latex": [
       "$\\displaystyle \\left[\\begin{matrix}y_{1} \\left(- a_{0} - a_{1} \\sin{\\left(t w \\right)}\\right) + y_{2}\\\\- \\alpha x_{2}^{3} - \\beta x_{2} - \\delta y_{2} + \\gamma \\cos{\\left(t w \\right)} + \\left(- a_{0} - a_{1} \\sin{\\left(t w \\right)}\\right) \\left(- \\alpha x_{1}^{3} - \\beta x_{1} - \\delta y_{1} + \\gamma \\cos{\\left(t w \\right)}\\right)\\end{matrix}\\right]$"
      ],
      "text/plain": [
       "⎡                                 y₁⋅(-a₀ - a₁⋅sin(t⋅w)) + y₂                 \n",
       "⎢                                                                             \n",
       "⎢      3                                                  ⎛      3            \n",
       "⎣- α⋅x₂  - β⋅x₂ - δ⋅y₂ + γ⋅cos(t⋅w) + (-a₀ - a₁⋅sin(t⋅w))⋅⎝- α⋅x₁  - β⋅x₁ - δ⋅\n",
       "\n",
       "                ⎤\n",
       "                ⎥\n",
       "               ⎞⎥\n",
       "y₁ + γ⋅cos(t⋅w)⎠⎦"
      ]
     },
     "execution_count": 9,
     "metadata": {},
     "output_type": "execute_result"
    }
   ],
   "source": [
    "# NF=(N*(F+zeta)).subs([(x2,x1*(a0+a1*sin(w*t))),(y2,y1*(a0+a1*sin(w*t))),(z2,z1*(a0+a1*sin(w*t)))])\n",
    "# simplify(NF)\n",
    "NF=N*(F+zeta)\n",
    "NF\n",
    "#simplify(NF)"
   ]
  },
  {
   "cell_type": "code",
   "execution_count": 10,
   "metadata": {},
   "outputs": [
    {
     "data": {
      "text/latex": [
       "$\\displaystyle \\left[\\begin{matrix}- a_{1} w x_{1} \\cos{\\left(t w \\right)}\\\\- a_{1} w y_{1} \\cos{\\left(t w \\right)}\\end{matrix}\\right]$"
      ],
      "text/plain": [
       "⎡-a₁⋅w⋅x₁⋅cos(t⋅w)⎤\n",
       "⎢                 ⎥\n",
       "⎣-a₁⋅w⋅y₁⋅cos(t⋅w)⎦"
      ]
     },
     "execution_count": 10,
     "metadata": {},
     "output_type": "execute_result"
    }
   ],
   "source": [
    "dPhi=diff(phi,Time)\n",
    "dPhi"
   ]
  },
  {
   "cell_type": "code",
   "execution_count": 11,
   "metadata": {},
   "outputs": [
    {
     "data": {
      "text/latex": [
       "$\\displaystyle \\left[\\begin{matrix}- a_{1} w x_{1} \\cos{\\left(t w \\right)} - y_{1} \\left(a_{0} + a_{1} \\sin{\\left(t w \\right)}\\right) + y_{2}\\\\- a_{1} w y_{1} \\cos{\\left(t w \\right)} - \\alpha x_{2}^{3} - \\beta x_{2} - \\delta y_{2} + \\gamma \\cos{\\left(t w \\right)} + \\left(a_{0} + a_{1} \\sin{\\left(t w \\right)}\\right) \\left(\\alpha x_{1}^{3} + \\beta x_{1} + \\delta y_{1} - \\gamma \\cos{\\left(t w \\right)}\\right)\\end{matrix}\\right]$"
      ],
      "text/plain": [
       "⎡                               -a₁⋅w⋅x₁⋅cos(t⋅w) - y₁⋅(a₀ + a₁⋅sin(t⋅w)) + y₂\n",
       "⎢                                                                             \n",
       "⎢                        3                                                 ⎛  \n",
       "⎣-a₁⋅w⋅y₁⋅cos(t⋅w) - α⋅x₂  - β⋅x₂ - δ⋅y₂ + γ⋅cos(t⋅w) + (a₀ + a₁⋅sin(t⋅w))⋅⎝α⋅\n",
       "\n",
       "                               ⎤\n",
       "                               ⎥\n",
       "  3                           ⎞⎥\n",
       "x₁  + β⋅x₁ + δ⋅y₁ - γ⋅cos(t⋅w)⎠⎦"
      ]
     },
     "execution_count": 11,
     "metadata": {},
     "output_type": "execute_result"
    }
   ],
   "source": [
    "eqn=(NF+dPhi)#.subs([(x2,x1*(a0+a1*sin(w*t))),(y2,y1*(a0+a1*sin(w*t))),(z2,z1*(a0+a1*sin(w*t)))])\n",
    "simplify(eqn)"
   ]
  },
  {
   "cell_type": "code",
   "execution_count": 12,
   "metadata": {},
   "outputs": [
    {
     "data": {
      "text/latex": [
       "$\\displaystyle \\left[\\begin{matrix}0\\\\0\\\\a_{1} w x_{1} \\cos{\\left(t w \\right)} + y_{1} \\left(a_{0} + a_{1} \\sin{\\left(t w \\right)}\\right) - y_{2}\\\\a_{1} w y_{1} \\cos{\\left(t w \\right)} + \\alpha x_{2}^{3} + \\beta x_{2} + \\delta y_{2} - \\gamma \\cos{\\left(t w \\right)} - \\left(a_{0} + a_{1} \\sin{\\left(t w \\right)}\\right) \\left(\\alpha x_{1}^{3} + \\beta x_{1} + \\delta y_{1} - \\gamma \\cos{\\left(t w \\right)}\\right)\\end{matrix}\\right]$"
      ],
      "text/plain": [
       "⎡                                                     0                       \n",
       "⎢                                                                             \n",
       "⎢                                                     0                       \n",
       "⎢                                                                             \n",
       "⎢                               a₁⋅w⋅x₁⋅cos(t⋅w) + y₁⋅(a₀ + a₁⋅sin(t⋅w)) - y₂ \n",
       "⎢                                                                             \n",
       "⎢                       3                                                 ⎛   \n",
       "⎣a₁⋅w⋅y₁⋅cos(t⋅w) + α⋅x₂  + β⋅x₂ + δ⋅y₂ - γ⋅cos(t⋅w) - (a₀ + a₁⋅sin(t⋅w))⋅⎝α⋅x\n",
       "\n",
       "                              ⎤\n",
       "                              ⎥\n",
       "                              ⎥\n",
       "                              ⎥\n",
       "                              ⎥\n",
       "                              ⎥\n",
       " 3                           ⎞⎥\n",
       "₁  + β⋅x₁ + δ⋅y₁ - γ⋅cos(t⋅w)⎠⎦"
      ]
     },
     "execution_count": 12,
     "metadata": {},
     "output_type": "execute_result"
    }
   ],
   "source": [
    "# This is working only because of the nature of the N matrix - be careful\n",
    "zeta[2]=-(eqn)[0]\n",
    "zeta[3]=-(eqn)[1]\n",
    "\n",
    "simplify(zeta)"
   ]
  },
  {
   "cell_type": "code",
   "execution_count": 13,
   "metadata": {},
   "outputs": [
    {
     "data": {
      "text/latex": [
       "$\\displaystyle \\left[\\begin{matrix}a_{1} w x_{1} \\cos{\\left(t w \\right)} - y_{1} \\left(- a_{0} - a_{1} \\sin{\\left(t w \\right)}\\right) - y_{2}\\\\a_{1} w y_{1} \\cos{\\left(t w \\right)} + \\alpha x_{2}^{3} + \\beta x_{2} + \\delta y_{2} - \\gamma \\cos{\\left(t w \\right)} - \\left(- a_{0} - a_{1} \\sin{\\left(t w \\right)}\\right) \\left(- \\alpha x_{1}^{3} - \\beta x_{1} - \\delta y_{1} + \\gamma \\cos{\\left(t w \\right)}\\right)\\end{matrix}\\right]$"
      ],
      "text/plain": [
       "⎡                                a₁⋅w⋅x₁⋅cos(t⋅w) - y₁⋅(-a₀ - a₁⋅sin(t⋅w)) - y\n",
       "⎢                                                                             \n",
       "⎢                       3                                                  ⎛  \n",
       "⎣a₁⋅w⋅y₁⋅cos(t⋅w) + α⋅x₂  + β⋅x₂ + δ⋅y₂ - γ⋅cos(t⋅w) - (-a₀ - a₁⋅sin(t⋅w))⋅⎝- \n",
       "\n",
       "₂                                ⎤\n",
       "                                 ⎥\n",
       "    3                           ⎞⎥\n",
       "α⋅x₁  - β⋅x₁ - δ⋅y₁ + γ⋅cos(t⋅w)⎠⎦"
      ]
     },
     "execution_count": 13,
     "metadata": {},
     "output_type": "execute_result"
    }
   ],
   "source": [
    "NZ=N*zeta\n",
    "NZ"
   ]
  },
  {
   "cell_type": "code",
   "execution_count": 14,
   "metadata": {},
   "outputs": [
    {
     "data": {
      "text/latex": [
       "$\\displaystyle \\left[\\begin{matrix}0\\\\0\\end{matrix}\\right]$"
      ],
      "text/plain": [
       "⎡0⎤\n",
       "⎢ ⎥\n",
       "⎣0⎦"
      ]
     },
     "execution_count": 14,
     "metadata": {},
     "output_type": "execute_result"
    }
   ],
   "source": [
    "NF=N*(F+zeta)#.subs([(x2,x1*(a0+a1*sin(w*t))),(y2,y1*(a0+a1*sin(w*t))),(z2,z1*(a0+a1*sin(w*t)))])\n",
    "simplify(NF)\n",
    "simplify(NF+dPhi)"
   ]
  },
  {
   "cell_type": "code",
   "execution_count": 15,
   "metadata": {},
   "outputs": [
    {
     "data": {
      "text/latex": [
       "$\\displaystyle \\left[\\begin{matrix}0 & 0 & 0 & 0\\\\0 & 0 & 0 & 0\\\\a_{1} w \\cos{\\left(t w \\right)} & a_{0} + a_{1} \\sin{\\left(t w \\right)} & 0 & -1\\\\\\left(a_{0} + a_{1} \\sin{\\left(t w \\right)}\\right) \\left(- 3 \\alpha x_{1}^{2} - \\beta\\right) & a_{1} w \\cos{\\left(t w \\right)} - \\delta \\left(a_{0} + a_{1} \\sin{\\left(t w \\right)}\\right) & 3 \\alpha x_{2}^{2} + \\beta & \\delta\\end{matrix}\\right]$"
      ],
      "text/plain": [
       "⎡                0                                    0                       \n",
       "⎢                                                                             \n",
       "⎢                0                                    0                       \n",
       "⎢                                                                             \n",
       "⎢          a₁⋅w⋅cos(t⋅w)                       a₀ + a₁⋅sin(t⋅w)               \n",
       "⎢                                                                             \n",
       "⎢                   ⎛        2    ⎞                                           \n",
       "⎣(a₀ + a₁⋅sin(t⋅w))⋅⎝- 3⋅α⋅x₁  - β⎠  a₁⋅w⋅cos(t⋅w) - δ⋅(a₀ + a₁⋅sin(t⋅w))  3⋅α\n",
       "\n",
       "  0       0 ⎤\n",
       "            ⎥\n",
       "  0       0 ⎥\n",
       "            ⎥\n",
       "  0       -1⎥\n",
       "            ⎥\n",
       "   2        ⎥\n",
       "⋅x₂  + β  δ ⎦"
      ]
     },
     "execution_count": 15,
     "metadata": {},
     "output_type": "execute_result"
    }
   ],
   "source": [
    "del_zeta=VectorDivergence(zeta,Variables)\n",
    "del_zeta"
   ]
  },
  {
   "cell_type": "code",
   "execution_count": 16,
   "metadata": {},
   "outputs": [
    {
     "data": {
      "text/latex": [
       "$\\displaystyle \\left[\\begin{matrix}0 & 0 & 0 & 0\\\\0 & 0 & 0 & 0\\\\a_{0} + a_{1} \\sin{\\left(t w \\right)} & 0 & -1 & 0\\\\0 & a_{0} + a_{1} \\sin{\\left(t w \\right)} & 0 & -1\\end{matrix}\\right]$"
      ],
      "text/plain": [
       "⎡       0                 0          0   0 ⎤\n",
       "⎢                                          ⎥\n",
       "⎢       0                 0          0   0 ⎥\n",
       "⎢                                          ⎥\n",
       "⎢a₀ + a₁⋅sin(t⋅w)         0          -1  0 ⎥\n",
       "⎢                                          ⎥\n",
       "⎣       0          a₀ + a₁⋅sin(t⋅w)  0   -1⎦"
      ]
     },
     "execution_count": 16,
     "metadata": {},
     "output_type": "execute_result"
    }
   ],
   "source": [
    "del_chi=VectorDivergence(chi,Variables)\n",
    "del_chi"
   ]
  },
  {
   "cell_type": "code",
   "execution_count": 17,
   "metadata": {},
   "outputs": [
    {
     "data": {
      "text/latex": [
       "$\\displaystyle \\left[\\begin{matrix}0 & 1 & 0 & 0\\\\- 3 \\alpha x_{1}^{2} - \\beta & - \\delta & 0 & 0\\\\0 & 0 & 0 & 1\\\\0 & 0 & - 3 \\alpha x_{2}^{2} - \\beta & - \\delta\\end{matrix}\\right]$"
      ],
      "text/plain": [
       "⎡      0        1         0        0 ⎤\n",
       "⎢                                    ⎥\n",
       "⎢        2                           ⎥\n",
       "⎢- 3⋅α⋅x₁  - β  -δ        0        0 ⎥\n",
       "⎢                                    ⎥\n",
       "⎢      0        0         0        1 ⎥\n",
       "⎢                                    ⎥\n",
       "⎢                           2        ⎥\n",
       "⎣      0        0   - 3⋅α⋅x₂  - β  -δ⎦"
      ]
     },
     "execution_count": 17,
     "metadata": {},
     "output_type": "execute_result"
    }
   ],
   "source": [
    "del_F=VectorDivergence(F,Variables)\n",
    "del_F"
   ]
  },
  {
   "cell_type": "code",
   "execution_count": 18,
   "metadata": {
    "scrolled": true
   },
   "outputs": [
    {
     "data": {
      "text/latex": [
       "$\\displaystyle \\left[\\begin{matrix}0 & 1 & 0 & 0\\\\- 3 \\alpha x_{1}^{2} - \\beta & - \\delta & 0 & 0\\\\a_{0} + a_{1} w \\cos{\\left(t w \\right)} + a_{1} \\sin{\\left(t w \\right)} & a_{0} + a_{1} \\sin{\\left(t w \\right)} & -1 & 0\\\\\\left(a_{0} + a_{1} \\sin{\\left(t w \\right)}\\right) \\left(- 3 \\alpha x_{1}^{2} - \\beta\\right) & a_{0} + a_{1} w \\cos{\\left(t w \\right)} + a_{1} \\sin{\\left(t w \\right)} - \\delta \\left(a_{0} + a_{1} \\sin{\\left(t w \\right)}\\right) & 0 & -1\\end{matrix}\\right]$"
      ],
      "text/plain": [
       "⎡                0                                              1             \n",
       "⎢                                                                             \n",
       "⎢                  2                                                          \n",
       "⎢          - 3⋅α⋅x₁  - β                                       -δ             \n",
       "⎢                                                                             \n",
       "⎢ a₀ + a₁⋅w⋅cos(t⋅w) + a₁⋅sin(t⋅w)                      a₀ + a₁⋅sin(t⋅w)      \n",
       "⎢                                                                             \n",
       "⎢                   ⎛        2    ⎞                                           \n",
       "⎣(a₀ + a₁⋅sin(t⋅w))⋅⎝- 3⋅α⋅x₁  - β⎠  a₀ + a₁⋅w⋅cos(t⋅w) + a₁⋅sin(t⋅w) - δ⋅(a₀ \n",
       "\n",
       "                0   0 ⎤\n",
       "                      ⎥\n",
       "                      ⎥\n",
       "                0   0 ⎥\n",
       "                      ⎥\n",
       "                -1  0 ⎥\n",
       "                      ⎥\n",
       "                      ⎥\n",
       "+ a₁⋅sin(t⋅w))  0   -1⎦"
      ]
     },
     "execution_count": 18,
     "metadata": {},
     "output_type": "execute_result"
    }
   ],
   "source": [
    "(del_F+del_zeta+del_chi)"
   ]
  },
  {
   "cell_type": "code",
   "execution_count": 19,
   "metadata": {},
   "outputs": [
    {
     "data": {
      "text/latex": [
       "$\\displaystyle \\left[\\begin{matrix}- \\left(a_{0} + a_{1} \\sin{\\left(t w \\right)}\\right) \\left(a_{0} + a_{1} w \\cos{\\left(t w \\right)} + a_{1} \\sin{\\left(t w \\right)}\\right) - 1 & 0\\\\0 & - \\left(a_{0} + a_{1} \\sin{\\left(t w \\right)}\\right) \\left(a_{0} + a_{1} w \\cos{\\left(t w \\right)} + a_{1} \\sin{\\left(t w \\right)}\\right) - 1\\end{matrix}\\right]$"
      ],
      "text/plain": [
       "⎡-(a₀ + a₁⋅sin(t⋅w))⋅(a₀ + a₁⋅w⋅cos(t⋅w) + a₁⋅sin(t⋅w)) - 1                   \n",
       "⎢                                                                             \n",
       "⎣                            0                               -(a₀ + a₁⋅sin(t⋅w\n",
       "\n",
       "           0                             ⎤\n",
       "                                         ⎥\n",
       "))⋅(a₀ + a₁⋅w⋅cos(t⋅w) + a₁⋅sin(t⋅w)) - 1⎦"
      ]
     },
     "execution_count": 19,
     "metadata": {},
     "output_type": "execute_result"
    }
   ],
   "source": [
    "Jac = N*(del_F+del_zeta+del_chi)*N.transpose()\n",
    "#Jac=Jac.subs([(x2,x1*(a0+a1*sin(w*t))),(y2,y1*(a0+a1*sin(w*t))),(z2,z1*(a0+a1*sin(w*t)))])\n",
    "Jac=simplify(Jac)\n",
    "Jac#.subs([(x2,x1*(a0+a1*sin(w*t))),(y2,y1*(a0+a1*sin(w*t))),(z2,z1*(a0+a1*sin(w*t)))])"
   ]
  },
  {
   "cell_type": "code",
   "execution_count": 20,
   "metadata": {},
   "outputs": [
    {
     "ename": "AttributeError",
     "evalue": "'list' object has no attribute 'replace'",
     "output_type": "error",
     "traceback": [
      "\u001b[0;31m---------------------------------------------------------------------------\u001b[0m",
      "\u001b[0;31mAttributeError\u001b[0m                            Traceback (most recent call last)",
      "\u001b[0;32m<ipython-input-20-dbdff3c0cfa7>\u001b[0m in \u001b[0;36m<module>\u001b[0;34m\u001b[0m\n\u001b[0;32m----> 1\u001b[0;31m \u001b[0msimplify\u001b[0m\u001b[0;34m(\u001b[0m\u001b[0mlist\u001b[0m\u001b[0;34m(\u001b[0m\u001b[0mJac\u001b[0m\u001b[0;34m.\u001b[0m\u001b[0meigenvals\u001b[0m\u001b[0;34m(\u001b[0m\u001b[0;34m)\u001b[0m\u001b[0;34m.\u001b[0m\u001b[0mkeys\u001b[0m\u001b[0;34m(\u001b[0m\u001b[0;34m)\u001b[0m\u001b[0;34m)\u001b[0m\u001b[0;34m)\u001b[0m\u001b[0;34m\u001b[0m\u001b[0;34m\u001b[0m\u001b[0m\n\u001b[0m",
      "\u001b[0;32m~/.local/lib/python3.8/site-packages/sympy/simplify/simplify.py\u001b[0m in \u001b[0;36msimplify\u001b[0;34m(expr, ratio, measure, rational, inverse, doit, **kwargs)\u001b[0m\n\u001b[1;32m    559\u001b[0m         \u001b[0;32mreturn\u001b[0m \u001b[0m_eval_simplify\u001b[0m\u001b[0;34m(\u001b[0m\u001b[0;34m**\u001b[0m\u001b[0mkwargs\u001b[0m\u001b[0;34m)\u001b[0m\u001b[0;34m\u001b[0m\u001b[0;34m\u001b[0m\u001b[0m\n\u001b[1;32m    560\u001b[0m \u001b[0;34m\u001b[0m\u001b[0m\n\u001b[0;32m--> 561\u001b[0;31m     \u001b[0moriginal_expr\u001b[0m \u001b[0;34m=\u001b[0m \u001b[0mexpr\u001b[0m \u001b[0;34m=\u001b[0m \u001b[0mcollect_abs\u001b[0m\u001b[0;34m(\u001b[0m\u001b[0msignsimp\u001b[0m\u001b[0;34m(\u001b[0m\u001b[0mexpr\u001b[0m\u001b[0;34m)\u001b[0m\u001b[0;34m)\u001b[0m\u001b[0;34m\u001b[0m\u001b[0;34m\u001b[0m\u001b[0m\n\u001b[0m\u001b[1;32m    562\u001b[0m \u001b[0;34m\u001b[0m\u001b[0m\n\u001b[1;32m    563\u001b[0m     \u001b[0;32mif\u001b[0m \u001b[0;32mnot\u001b[0m \u001b[0misinstance\u001b[0m\u001b[0;34m(\u001b[0m\u001b[0mexpr\u001b[0m\u001b[0;34m,\u001b[0m \u001b[0mBasic\u001b[0m\u001b[0;34m)\u001b[0m \u001b[0;32mor\u001b[0m \u001b[0;32mnot\u001b[0m \u001b[0mexpr\u001b[0m\u001b[0;34m.\u001b[0m\u001b[0margs\u001b[0m\u001b[0;34m:\u001b[0m  \u001b[0;31m# XXX: temporary hack\u001b[0m\u001b[0;34m\u001b[0m\u001b[0;34m\u001b[0m\u001b[0m\n",
      "\u001b[0;32m~/.local/lib/python3.8/site-packages/sympy/simplify/radsimp.py\u001b[0m in \u001b[0;36mcollect_abs\u001b[0;34m(expr)\u001b[0m\n\u001b[1;32m    595\u001b[0m       \u001b[0;32mreturn\u001b[0m \u001b[0mMul\u001b[0m\u001b[0;34m.\u001b[0m\u001b[0m_from_args\u001b[0m\u001b[0;34m(\u001b[0m\u001b[0margs\u001b[0m\u001b[0;34m,\u001b[0m \u001b[0mis_commutative\u001b[0m\u001b[0;34m=\u001b[0m\u001b[0;32mnot\u001b[0m \u001b[0mnc\u001b[0m\u001b[0;34m)\u001b[0m\u001b[0;34m\u001b[0m\u001b[0;34m\u001b[0m\u001b[0m\n\u001b[1;32m    596\u001b[0m \u001b[0;34m\u001b[0m\u001b[0m\n\u001b[0;32m--> 597\u001b[0;31m     return expr.replace(\n\u001b[0m\u001b[1;32m    598\u001b[0m         \u001b[0;32mlambda\u001b[0m \u001b[0mx\u001b[0m\u001b[0;34m:\u001b[0m \u001b[0misinstance\u001b[0m\u001b[0;34m(\u001b[0m\u001b[0mx\u001b[0m\u001b[0;34m,\u001b[0m \u001b[0mMul\u001b[0m\u001b[0;34m)\u001b[0m\u001b[0;34m,\u001b[0m\u001b[0;34m\u001b[0m\u001b[0;34m\u001b[0m\u001b[0m\n\u001b[1;32m    599\u001b[0m         \u001b[0;32mlambda\u001b[0m \u001b[0mx\u001b[0m\u001b[0;34m:\u001b[0m \u001b[0m_abs\u001b[0m\u001b[0;34m(\u001b[0m\u001b[0mx\u001b[0m\u001b[0;34m)\u001b[0m\u001b[0;34m)\u001b[0m\u001b[0;34m.\u001b[0m\u001b[0mreplace\u001b[0m\u001b[0;34m(\u001b[0m\u001b[0;34m\u001b[0m\u001b[0;34m\u001b[0m\u001b[0m\n",
      "\u001b[0;31mAttributeError\u001b[0m: 'list' object has no attribute 'replace'"
     ]
    }
   ],
   "source": [
    "simplify(list(Jac.eigenvals().keys()))"
   ]
  },
  {
   "cell_type": "code",
   "execution_count": null,
   "metadata": {
    "scrolled": true
   },
   "outputs": [],
   "source": [
    "Ndot = diff(N,t)\n",
    "Ndot"
   ]
  },
  {
   "cell_type": "code",
   "execution_count": null,
   "metadata": {},
   "outputs": [],
   "source": [
    "Ndot*N.transpose()"
   ]
  },
  {
   "cell_type": "code",
   "execution_count": null,
   "metadata": {},
   "outputs": [],
   "source": [
    "\n",
    "J = Jac+Ndot*N.transpose()\n",
    "J = simplify(J)\n",
    "J\n",
    "J#.subs([(x2,x1*(a0+a1*sin(w*t))),(y2,y1*(a0+a1*sin(w*t))),(z2,z1*(a0+a1*sin(w*t)))])"
   ]
  },
  {
   "cell_type": "code",
   "execution_count": null,
   "metadata": {},
   "outputs": [],
   "source": [
    "simplify(list(J.eigenvals().keys()))"
   ]
  },
  {
   "cell_type": "code",
   "execution_count": null,
   "metadata": {},
   "outputs": [],
   "source": []
  }
 ],
 "metadata": {
  "kernelspec": {
   "display_name": "Python 3",
   "language": "python",
   "name": "python3"
  },
  "language_info": {
   "codemirror_mode": {
    "name": "ipython",
    "version": 3
   },
   "file_extension": ".py",
   "mimetype": "text/x-python",
   "name": "python",
   "nbconvert_exporter": "python",
   "pygments_lexer": "ipython3",
   "version": "3.8.2"
  }
 },
 "nbformat": 4,
 "nbformat_minor": 4
}
