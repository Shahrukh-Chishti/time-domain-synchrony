{
 "metadata": {
  "language_info": {
   "codemirror_mode": {
    "name": "ipython",
    "version": 3
   },
   "file_extension": ".py",
   "mimetype": "text/x-python",
   "name": "python",
   "nbconvert_exporter": "python",
   "pygments_lexer": "ipython3",
   "version": "3.8.3-final"
  },
  "orig_nbformat": 2,
  "kernelspec": {
   "name": "python_defaultSpec_1598434943942",
   "display_name": "Python 3.8.3 64-bit ('base': conda)"
  }
 },
 "nbformat": 4,
 "nbformat_minor": 2,
 "cells": [
  {
   "cell_type": "code",
   "execution_count": 102,
   "metadata": {},
   "outputs": [],
   "source": [
    "import sys,importlib\n",
    "sys.path.append('../')\n",
    "import simulation\n",
    "from numpy import *\n",
    "from sympy import *\n",
    "import plotly.offline as py\n",
    "import plotly.graph_objs as go\n",
    "%matplotlib inline\n",
    "init_printing()"
   ]
  },
  {
   "cell_type": "code",
   "execution_count": 103,
   "metadata": {},
   "outputs": [],
   "source": [
    "Variables=symbols(\"x1 y1 z1 x2 y2 z2\")\n",
    "x1,y1,z1,x2,y2,z2 = Variables\n",
    "Time=symbols(\"t\")\n",
    "t=Time\n",
    "Parameters = symbols(\"alpha beta gamma delta w a0 a1 omega\")\n",
    "alpha,beta,gamma,delta,w,a0,a1,omega = Parameters"
   ]
  },
  {
   "cell_type": "markdown",
   "metadata": {},
   "source": [
    "### Rossler System"
   ]
  },
  {
   "cell_type": "code",
   "execution_count": 104,
   "metadata": {},
   "outputs": [
    {
     "output_type": "execute_result",
     "data": {
      "text/plain": "⎡    -y₁ - z₁    ⎤\n⎢                ⎥\n⎢   α⋅y₁ + x₁    ⎥\n⎢                ⎥\n⎢β + z₁⋅(-γ + x₁)⎥\n⎢                ⎥\n⎢    -y₂ - z₂    ⎥\n⎢                ⎥\n⎢   α⋅y₂ + x₂    ⎥\n⎢                ⎥\n⎣β + z₂⋅(-γ + x₂)⎦",
      "text/latex": "$\\displaystyle \\left[\\begin{matrix}- y_{1} - z_{1}\\\\\\alpha y_{1} + x_{1}\\\\\\beta + z_{1} \\left(- \\gamma + x_{1}\\right)\\\\- y_{2} - z_{2}\\\\\\alpha y_{2} + x_{2}\\\\\\beta + z_{2} \\left(- \\gamma + x_{2}\\right)\\end{matrix}\\right]$"
     },
     "metadata": {},
     "execution_count": 104
    }
   ],
   "source": [
    "F=Matrix([-y1-z1, x1+alpha*y1, beta + z1*(x1-gamma),\n",
    "          -y2-z2, x2+alpha*y2, beta + z2*(x2-gamma),])\n",
    "F"
   ]
  },
  {
   "cell_type": "code",
   "execution_count": 105,
   "metadata": {},
   "outputs": [
    {
     "output_type": "execute_result",
     "data": {
      "text/plain": "⎡0⎤\n⎢ ⎥\n⎢0⎥\n⎢ ⎥\n⎢0⎥\n⎢ ⎥\n⎢0⎥\n⎢ ⎥\n⎢0⎥\n⎢ ⎥\n⎣0⎦",
      "text/latex": "$\\displaystyle \\left[\\begin{matrix}0\\\\0\\\\0\\\\0\\\\0\\\\0\\end{matrix}\\right]$"
     },
     "metadata": {},
     "execution_count": 105
    }
   ],
   "source": [
    "zeta=Matrix([0,0,0,\n",
    "             0,0,0])\n",
    "\n",
    "zeta"
   ]
  },
  {
   "cell_type": "markdown",
   "metadata": {},
   "source": [
    "### Synchrony"
   ]
  },
  {
   "cell_type": "code",
   "execution_count": 106,
   "metadata": {},
   "outputs": [
    {
     "output_type": "execute_result",
     "data": {
      "text/plain": "⎡-a₀ - a₁⋅sin(t⋅w) - x₁ + x₂⎤\n⎢                           ⎥\n⎢         -y₁ + y₂          ⎥\n⎢                           ⎥\n⎣         -z₁ + z₂          ⎦",
      "text/latex": "$\\displaystyle \\left[\\begin{matrix}- a_{0} - a_{1} \\sin{\\left(t w \\right)} - x_{1} + x_{2}\\\\- y_{1} + y_{2}\\\\- z_{1} + z_{2}\\end{matrix}\\right]$"
     },
     "metadata": {},
     "execution_count": 106
    }
   ],
   "source": [
    "phi=Matrix([(x2-x1-(a0 + a1*sin(w*t))), y2-y1, z2-z1])\n",
    "phi"
   ]
  },
  {
   "cell_type": "code",
   "execution_count": 107,
   "metadata": {},
   "outputs": [
    {
     "output_type": "execute_result",
     "data": {
      "text/plain": "⎡-1  0   0   1  0  0⎤\n⎢                   ⎥\n⎢0   -1  0   0  1  0⎥\n⎢                   ⎥\n⎣0   0   -1  0  0  1⎦",
      "text/latex": "$\\displaystyle \\left[\\begin{matrix}-1 & 0 & 0 & 1 & 0 & 0\\\\0 & -1 & 0 & 0 & 1 & 0\\\\0 & 0 & -1 & 0 & 0 & 1\\end{matrix}\\right]$"
     },
     "metadata": {},
     "execution_count": 107
    }
   ],
   "source": [
    "N=simulation.VectorDivergence(phi,Variables)\n",
    "N"
   ]
  },
  {
   "cell_type": "code",
   "execution_count": 108,
   "metadata": {},
   "outputs": [],
   "source": [
    "on_manifold = [(x2,x1+(a0 + a1*sin(w*t))),(y2,y1),(z2,z1)]\n"
   ]
  },
  {
   "cell_type": "markdown",
   "metadata": {},
   "source": [
    "### Invariance"
   ]
  },
  {
   "cell_type": "code",
   "execution_count": 109,
   "metadata": {},
   "outputs": [
    {
     "output_type": "execute_result",
     "data": {
      "text/plain": "⎡     y₁ - y₂ + z₁ - z₂      ⎤\n⎢                            ⎥\n⎢   -α⋅y₁ + α⋅y₂ - x₁ + x₂   ⎥\n⎢                            ⎥\n⎣-z₁⋅(-γ + x₁) + z₂⋅(-γ + x₂)⎦",
      "text/latex": "$\\displaystyle \\left[\\begin{matrix}y_{1} - y_{2} + z_{1} - z_{2}\\\\- \\alpha y_{1} + \\alpha y_{2} - x_{1} + x_{2}\\\\- z_{1} \\left(- \\gamma + x_{1}\\right) + z_{2} \\left(- \\gamma + x_{2}\\right)\\end{matrix}\\right]$"
     },
     "metadata": {},
     "execution_count": 109
    }
   ],
   "source": [
    "NF=N*(F+zeta)\n",
    "NF"
   ]
  },
  {
   "cell_type": "code",
   "execution_count": 110,
   "metadata": {},
   "outputs": [
    {
     "output_type": "execute_result",
     "data": {
      "text/plain": "⎡-a₁⋅w⋅cos(t⋅w)⎤\n⎢              ⎥\n⎢      0       ⎥\n⎢              ⎥\n⎣      0       ⎦",
      "text/latex": "$\\displaystyle \\left[\\begin{matrix}- a_{1} w \\cos{\\left(t w \\right)}\\\\0\\\\0\\end{matrix}\\right]$"
     },
     "metadata": {},
     "execution_count": 110
    }
   ],
   "source": [
    "dPhi=diff(phi,Time)\n",
    "dPhi"
   ]
  },
  {
   "cell_type": "code",
   "execution_count": 111,
   "metadata": {},
   "outputs": [
    {
     "output_type": "execute_result",
     "data": {
      "text/plain": "⎡-a₁⋅w⋅cos(t⋅w) + y₁ - y₂ + z₁ - z₂⎤\n⎢                                  ⎥\n⎢      -α⋅y₁ + α⋅y₂ - x₁ + x₂      ⎥\n⎢                                  ⎥\n⎣    z₁⋅(γ - x₁) - z₂⋅(γ - x₂)     ⎦",
      "text/latex": "$\\displaystyle \\left[\\begin{matrix}- a_{1} w \\cos{\\left(t w \\right)} + y_{1} - y_{2} + z_{1} - z_{2}\\\\- \\alpha y_{1} + \\alpha y_{2} - x_{1} + x_{2}\\\\z_{1} \\left(\\gamma - x_{1}\\right) - z_{2} \\left(\\gamma - x_{2}\\right)\\end{matrix}\\right]$"
     },
     "metadata": {},
     "execution_count": 111
    }
   ],
   "source": [
    "eqn=(NF+dPhi)\n",
    "simplify(eqn)"
   ]
  },
  {
   "cell_type": "code",
   "execution_count": 112,
   "metadata": {},
   "outputs": [
    {
     "output_type": "execute_result",
     "data": {
      "text/plain": "⎡                0                ⎤\n⎢                                 ⎥\n⎢                0                ⎥\n⎢                                 ⎥\n⎢                0                ⎥\n⎢                                 ⎥\n⎢a₁⋅w⋅cos(t⋅w) - y₁ + y₂ - z₁ + z₂⎥\n⎢                                 ⎥\n⎢      α⋅y₁ - α⋅y₂ + x₁ - x₂      ⎥\n⎢                                 ⎥\n⎣   -z₁⋅(γ - x₁) + z₂⋅(γ - x₂)    ⎦",
      "text/latex": "$\\displaystyle \\left[\\begin{matrix}0\\\\0\\\\0\\\\a_{1} w \\cos{\\left(t w \\right)} - y_{1} + y_{2} - z_{1} + z_{2}\\\\\\alpha y_{1} - \\alpha y_{2} + x_{1} - x_{2}\\\\- z_{1} \\left(\\gamma - x_{1}\\right) + z_{2} \\left(\\gamma - x_{2}\\right)\\end{matrix}\\right]$"
     },
     "metadata": {},
     "execution_count": 112
    }
   ],
   "source": [
    "zeta[3]=-(eqn)[0]\n",
    "zeta[4]=-(eqn)[1]\n",
    "zeta[5]=-(eqn)[2]\n",
    "simplify(zeta)"
   ]
  },
  {
   "cell_type": "code",
   "execution_count": 113,
   "metadata": {},
   "outputs": [
    {
     "output_type": "execute_result",
     "data": {
      "text/plain": "⎡                      0                      ⎤\n⎢                                             ⎥\n⎢                      0                      ⎥\n⎢                                             ⎥\n⎢                      0                      ⎥\n⎢                                             ⎥\n⎢                a₁⋅w⋅cos(t⋅w)                ⎥\n⎢                                             ⎥\n⎢              -a₀ - a₁⋅sin(t⋅w)              ⎥\n⎢                                             ⎥\n⎣z₁⋅(-γ + x₁) - z₁⋅(a₀ + a₁⋅sin(t⋅w) - γ + x₁)⎦",
      "text/latex": "$\\displaystyle \\left[\\begin{matrix}0\\\\0\\\\0\\\\a_{1} w \\cos{\\left(t w \\right)}\\\\- a_{0} - a_{1} \\sin{\\left(t w \\right)}\\\\z_{1} \\left(- \\gamma + x_{1}\\right) - z_{1} \\left(a_{0} + a_{1} \\sin{\\left(t w \\right)} - \\gamma + x_{1}\\right)\\end{matrix}\\right]$"
     },
     "metadata": {},
     "execution_count": 113
    }
   ],
   "source": [
    "zeta=zeta.subs(on_manifold)\n",
    "#zeta = simplify(zeta)\n",
    "zeta"
   ]
  },
  {
   "cell_type": "code",
   "execution_count": 114,
   "metadata": {},
   "outputs": [
    {
     "output_type": "execute_result",
     "data": {
      "text/plain": "⎡                                0                                ⎤\n⎢                                                                 ⎥\n⎢                                0                                ⎥\n⎢                                                                 ⎥\n⎣-z₁⋅(-a₀ - a₁⋅sin(t⋅w) + γ - x₁) - z₁⋅(a₀ + a₁⋅sin(t⋅w) - γ + x₁)⎦",
      "text/latex": "$\\displaystyle \\left[\\begin{matrix}0\\\\0\\\\- z_{1} \\left(- a_{0} - a_{1} \\sin{\\left(t w \\right)} + \\gamma - x_{1}\\right) - z_{1} \\left(a_{0} + a_{1} \\sin{\\left(t w \\right)} - \\gamma + x_{1}\\right)\\end{matrix}\\right]$"
     },
     "metadata": {},
     "execution_count": 114
    }
   ],
   "source": [
    "NF=N*(F+zeta)\n",
    "simplify(NF)\n",
    "simplify(NF+dPhi).subs(on_manifold)"
   ]
  },
  {
   "cell_type": "code",
   "execution_count": 115,
   "metadata": {},
   "outputs": [
    {
     "output_type": "execute_result",
     "data": {
      "text/plain": "⎡                a₁⋅w⋅cos(t⋅w)                ⎤\n⎢                                             ⎥\n⎢              -a₀ - a₁⋅sin(t⋅w)              ⎥\n⎢                                             ⎥\n⎣z₁⋅(-γ + x₁) - z₁⋅(a₀ + a₁⋅sin(t⋅w) - γ + x₁)⎦",
      "text/latex": "$\\displaystyle \\left[\\begin{matrix}a_{1} w \\cos{\\left(t w \\right)}\\\\- a_{0} - a_{1} \\sin{\\left(t w \\right)}\\\\z_{1} \\left(- \\gamma + x_{1}\\right) - z_{1} \\left(a_{0} + a_{1} \\sin{\\left(t w \\right)} - \\gamma + x_{1}\\right)\\end{matrix}\\right]$"
     },
     "metadata": {},
     "execution_count": 115
    }
   ],
   "source": [
    "NZ=N*zeta\n",
    "NZ"
   ]
  },
  {
   "cell_type": "markdown",
   "metadata": {},
   "source": [
    "### Stability"
   ]
  },
  {
   "cell_type": "code",
   "execution_count": 116,
   "metadata": {},
   "outputs": [
    {
     "output_type": "execute_result",
     "data": {
      "text/plain": "⎡                  0                  ⎤\n⎢                                     ⎥\n⎢                  0                  ⎥\n⎢                                     ⎥\n⎢                  0                  ⎥\n⎢                                     ⎥\n⎢              -z₁ + z₂               ⎥\n⎢                                     ⎥\n⎢-a₀ - a₁⋅sin(t⋅w) - x₁ + x₂ + y₁ - y₂⎥\n⎢                                     ⎥\n⎣           -x₂⋅(-z₁ + z₂)            ⎦",
      "text/latex": "$\\displaystyle \\left[\\begin{matrix}0\\\\0\\\\0\\\\- z_{1} + z_{2}\\\\- a_{0} - a_{1} \\sin{\\left(t w \\right)} - x_{1} + x_{2} + y_{1} - y_{2}\\\\- x_{2} \\left(- z_{1} + z_{2}\\right)\\end{matrix}\\right]$"
     },
     "metadata": {},
     "execution_count": 116
    }
   ],
   "source": [
    "# chi=Matrix([(x2-x1-(a0+a1*sin(w*t))),0,0,\n",
    "#            0,-(y2-y1),-x2*(z2-z1)])\n",
    "#            #-(x2-x1-(a0+a1*sin(w*t))),-(y2-y1),-x2*(z2-z1)])\n",
    "chi=Matrix([0,0,0,\n",
    "            #-(z2-z1),-(y2-y1),-x2*(z2-z1)])\n",
    "            (z2-z1),-(y2-y1)+(x2-x1-(a0+a1*sin(w*t))),-x2*(z2-z1)])\n",
    "\n",
    "\n",
    "chi"
   ]
  },
  {
   "cell_type": "code",
   "execution_count": 117,
   "metadata": {},
   "outputs": [
    {
     "output_type": "execute_result",
     "data": {
      "text/plain": "⎡0  0          0          0  0  0⎤\n⎢                                ⎥\n⎢0  0          0          0  0  0⎥\n⎢                                ⎥\n⎢0  0          0          0  0  0⎥\n⎢                                ⎥\n⎢0  0          0          0  0  0⎥\n⎢                                ⎥\n⎢0  0          0          0  0  0⎥\n⎢                                ⎥\n⎣0  0  -a₀ - a₁⋅sin(t⋅w)  0  0  0⎦",
      "text/latex": "$\\displaystyle \\left[\\begin{matrix}0 & 0 & 0 & 0 & 0 & 0\\\\0 & 0 & 0 & 0 & 0 & 0\\\\0 & 0 & 0 & 0 & 0 & 0\\\\0 & 0 & 0 & 0 & 0 & 0\\\\0 & 0 & 0 & 0 & 0 & 0\\\\0 & 0 & - a_{0} - a_{1} \\sin{\\left(t w \\right)} & 0 & 0 & 0\\end{matrix}\\right]$"
     },
     "metadata": {},
     "execution_count": 117
    }
   ],
   "source": [
    "del_zeta=simulation.VectorDivergence(zeta,Variables)\n",
    "del_zeta"
   ]
  },
  {
   "cell_type": "code",
   "execution_count": 118,
   "metadata": {},
   "outputs": [
    {
     "output_type": "execute_result",
     "data": {
      "text/plain": "⎡0   0  0      0     0    0 ⎤\n⎢                           ⎥\n⎢0   0  0      0     0    0 ⎥\n⎢                           ⎥\n⎢0   0  0      0     0    0 ⎥\n⎢                           ⎥\n⎢0   0  -1     0     0    1 ⎥\n⎢                           ⎥\n⎢-1  1  0      1     -1   0 ⎥\n⎢                           ⎥\n⎣0   0  x₂  z₁ - z₂  0   -x₂⎦",
      "text/latex": "$\\displaystyle \\left[\\begin{matrix}0 & 0 & 0 & 0 & 0 & 0\\\\0 & 0 & 0 & 0 & 0 & 0\\\\0 & 0 & 0 & 0 & 0 & 0\\\\0 & 0 & -1 & 0 & 0 & 1\\\\-1 & 1 & 0 & 1 & -1 & 0\\\\0 & 0 & x_{2} & z_{1} - z_{2} & 0 & - x_{2}\\end{matrix}\\right]$"
     },
     "metadata": {},
     "execution_count": 118
    }
   ],
   "source": [
    "del_chi=simulation.VectorDivergence(chi,Variables)\n",
    "del_chi"
   ]
  },
  {
   "cell_type": "code",
   "execution_count": 119,
   "metadata": {},
   "outputs": [
    {
     "output_type": "execute_result",
     "data": {
      "text/plain": "⎡0   -1    -1     0   0      0   ⎤\n⎢                                ⎥\n⎢1   α      0     0   0      0   ⎥\n⎢                                ⎥\n⎢z₁  0   -γ + x₁  0   0      0   ⎥\n⎢                                ⎥\n⎢0   0      0     0   -1    -1   ⎥\n⎢                                ⎥\n⎢0   0      0     1   α      0   ⎥\n⎢                                ⎥\n⎣0   0      0     z₂  0   -γ + x₂⎦",
      "text/latex": "$\\displaystyle \\left[\\begin{matrix}0 & -1 & -1 & 0 & 0 & 0\\\\1 & \\alpha & 0 & 0 & 0 & 0\\\\z_{1} & 0 & - \\gamma + x_{1} & 0 & 0 & 0\\\\0 & 0 & 0 & 0 & -1 & -1\\\\0 & 0 & 0 & 1 & \\alpha & 0\\\\0 & 0 & 0 & z_{2} & 0 & - \\gamma + x_{2}\\end{matrix}\\right]$"
     },
     "metadata": {},
     "execution_count": 119
    }
   ],
   "source": [
    "del_F=simulation.VectorDivergence(F,Variables)\n",
    "del_F"
   ]
  },
  {
   "cell_type": "code",
   "execution_count": 120,
   "metadata": {},
   "outputs": [
    {
     "output_type": "execute_result",
     "data": {
      "text/plain": "⎡0   -1            -1            0     0    0 ⎤\n⎢                                             ⎥\n⎢1   α             0             0     0    0 ⎥\n⎢                                             ⎥\n⎢z₁  0          -γ + x₁          0     0    0 ⎥\n⎢                                             ⎥\n⎢0   0             -1            0    -1    0 ⎥\n⎢                                             ⎥\n⎢-1  1             0             2   α - 1  0 ⎥\n⎢                                             ⎥\n⎣0   0   -a₀ - a₁⋅sin(t⋅w) + x₂  z₁    0    -γ⎦",
      "text/latex": "$\\displaystyle \\left[\\begin{matrix}0 & -1 & -1 & 0 & 0 & 0\\\\1 & \\alpha & 0 & 0 & 0 & 0\\\\z_{1} & 0 & - \\gamma + x_{1} & 0 & 0 & 0\\\\0 & 0 & -1 & 0 & -1 & 0\\\\-1 & 1 & 0 & 2 & \\alpha - 1 & 0\\\\0 & 0 & - a_{0} - a_{1} \\sin{\\left(t w \\right)} + x_{2} & z_{1} & 0 & - \\gamma\\end{matrix}\\right]$"
     },
     "metadata": {},
     "execution_count": 120
    }
   ],
   "source": [
    "(del_F+del_zeta+del_chi)"
   ]
  },
  {
   "cell_type": "code",
   "execution_count": 121,
   "metadata": {},
   "outputs": [
    {
     "output_type": "execute_result",
     "data": {
      "text/plain": "⎡ 0     1                   0                 0    -1    0 ⎤\n⎢                                                          ⎥\n⎢-2   1 - α                 0                 2   α - 1  0 ⎥\n⎢                                                          ⎥\n⎣-z₁    0    -a₀ - a₁⋅sin(t⋅w) + γ - x₁ + x₂  z₁    0    -γ⎦",
      "text/latex": "$\\displaystyle \\left[\\begin{matrix}0 & 1 & 0 & 0 & -1 & 0\\\\-2 & 1 - \\alpha & 0 & 2 & \\alpha - 1 & 0\\\\- z_{1} & 0 & - a_{0} - a_{1} \\sin{\\left(t w \\right)} + \\gamma - x_{1} + x_{2} & z_{1} & 0 & - \\gamma\\end{matrix}\\right]$"
     },
     "metadata": {},
     "execution_count": 121
    }
   ],
   "source": [
    "N*(del_F+del_zeta+del_chi)"
   ]
  },
  {
   "cell_type": "code",
   "execution_count": 122,
   "metadata": {},
   "outputs": [
    {
     "output_type": "execute_result",
     "data": {
      "text/plain": "⎡0  0  0⎤\n⎢       ⎥\n⎢0  0  0⎥\n⎢       ⎥\n⎣0  0  0⎦",
      "text/latex": "$\\displaystyle \\left[\\begin{matrix}0 & 0 & 0\\\\0 & 0 & 0\\\\0 & 0 & 0\\end{matrix}\\right]$"
     },
     "metadata": {},
     "execution_count": 122
    }
   ],
   "source": [
    "diff(N,t)*N.transpose()"
   ]
  },
  {
   "cell_type": "code",
   "execution_count": 127,
   "metadata": {},
   "outputs": [
    {
     "output_type": "execute_result",
     "data": {
      "text/plain": "⎡ 0      -2      0  ⎤\n⎢                   ⎥\n⎢ 4    2⋅α - 2   0  ⎥\n⎢                   ⎥\n⎣2⋅z₁     0     -2⋅γ⎦",
      "text/latex": "$\\displaystyle \\left[\\begin{matrix}0 & -2 & 0\\\\4 & 2 \\alpha - 2 & 0\\\\2 z_{1} & 0 & - 2 \\gamma\\end{matrix}\\right]$"
     },
     "metadata": {},
     "execution_count": 127
    }
   ],
   "source": [
    "Jac = N*(del_F+del_zeta+del_chi)*N.transpose() + diff(N,t)*N.transpose()\n",
    "Jac = simplify(Jac)\n",
    "Jac=Jac.subs(on_manifold)\n",
    "Jac"
   ]
  },
  {
   "cell_type": "code",
   "execution_count": 128,
   "metadata": {},
   "outputs": [
    {
     "output_type": "execute_result",
     "data": {
      "text/plain": "⎧                ______________                ______________       ⎫\n⎨               ╱  2                          ╱  2                  ⎬\n⎩-2⋅γ: 1, α - ╲╱  α  - 2⋅α - 7  - 1: 1, α + ╲╱  α  - 2⋅α - 7  - 1: 1⎭",
      "image/png": "[encoded data removed]",
      "text/latex": "$\\displaystyle \\left\\{ - 2 \\gamma : 1, \\  \\alpha - \\sqrt{\\alpha^{2} - 2 \\alpha - 7} - 1 : 1, \\  \\alpha + \\sqrt{\\alpha^{2} - 2 \\alpha - 7} - 1 : 1\\right\\}$"
     },
     "metadata": {},
     "execution_count": 128
    }
   ],
   "source": [
    "Jac.eigenvals()"
   ]
  },
  {
   "cell_type": "code",
   "execution_count": 129,
   "metadata": {},
   "outputs": [
    {
     "output_type": "execute_result",
     "data": {
      "text/plain": "⎡ 0     -2    0 ⎤\n⎢               ⎥\n⎢ 4    -1.8   0 ⎥\n⎢               ⎥\n⎣2⋅z₁   0    -28⎦",
      "text/latex": "$\\displaystyle \\left[\\begin{matrix}0 & -2 & 0\\\\4 & -1.8 & 0\\\\2 z_{1} & 0 & -28\\end{matrix}\\right]$"
     },
     "metadata": {},
     "execution_count": 129
    }
   ],
   "source": [
    "J=Matrix([[0,-2,0,],\n",
    "          [ 4, -1.8, 0],\n",
    "           [2*z1,0,-28] ])\n",
    "J"
   ]
  },
  {
   "cell_type": "code",
   "execution_count": 130,
   "metadata": {},
   "outputs": [
    {
     "output_type": "execute_result",
     "data": {
      "text/plain": "⎧          9    √719⋅ⅈ       9    √719⋅ⅈ   ⎫\n⎨-28: 1, - ── - ──────: 1, - ── + ──────: 1⎬\n⎩          10     10         10     10     ⎭",
      "image/png": "[encoded data removed]",
      "text/latex": "$\\displaystyle \\left\\{ -28 : 1, \\  - \\frac{9}{10} - \\frac{\\sqrt{719} i}{10} : 1, \\  - \\frac{9}{10} + \\frac{\\sqrt{719} i}{10} : 1\\right\\}$"
     },
     "metadata": {},
     "execution_count": 130
    }
   ],
   "source": [
    "simplify(J.eigenvals())"
   ]
  },
  {
   "cell_type": "markdown",
   "metadata": {},
   "source": [
    "### Coupling"
   ]
  },
  {
   "cell_type": "code",
   "execution_count": null,
   "metadata": {},
   "outputs": [],
   "source": [
    "chi"
   ]
  },
  {
   "cell_type": "code",
   "execution_count": null,
   "metadata": {},
   "outputs": [],
   "source": [
    "zeta"
   ]
  },
  {
   "cell_type": "code",
   "execution_count": null,
   "metadata": {},
   "outputs": [],
   "source": [
    "simplify((chi+zeta))"
   ]
  },
  {
   "cell_type": "code",
   "execution_count": null,
   "metadata": {},
   "outputs": [],
   "source": []
  }
 ]
}