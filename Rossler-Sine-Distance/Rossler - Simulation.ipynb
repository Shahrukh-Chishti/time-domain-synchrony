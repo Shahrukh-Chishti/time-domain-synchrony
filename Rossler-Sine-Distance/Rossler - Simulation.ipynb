{
 "metadata": {
  "language_info": {
   "codemirror_mode": {
    "name": "ipython",
    "version": 3
   },
   "file_extension": ".py",
   "mimetype": "text/x-python",
   "name": "python",
   "nbconvert_exporter": "python",
   "pygments_lexer": "ipython3",
   "version": 3
  },
  "orig_nbformat": 2
 },
 "nbformat": 4,
 "nbformat_minor": 2,
 "cells": [
  {
   "cell_type": "code",
   "execution_count": null,
   "metadata": {},
   "outputs": [],
   "source": [
    "import sys,importlib\n",
    "sys.path.append('../')\n",
    "import simulation\n",
    "from numpy import *\n",
    "import plotly.offline as py\n",
    "import plotly.graph_objs as go"
   ]
  },
  {
   "cell_type": "code",
   "execution_count": null,
   "metadata": {},
   "outputs": [],
   "source": [
    "alpha = 1\n",
    "delta = .25\n",
    "gamma = .3\n",
    "beta = -1\n",
    "omega = 1\n",
    "def dufffingOscillator(state,t):\n",
    "    x,y = state[0],state[1]\n",
    "    xdot = y\n",
    "    ydot = -alpha*(x**3) - beta* x - delta*y + gamma*cos(omega*t)\n",
    "    return asarray((xdot,ydot))"
   ]
  },
  {
   "cell_type": "markdown",
   "metadata": {},
   "source": [
    "### Coupling"
   ]
  },
  {
   "cell_type": "code",
   "execution_count": null,
   "metadata": {},
   "outputs": [],
   "source": [
    "a0,a1 = 1.5,1.2\n",
    "w = 1.3"
   ]
  },
  {
   "cell_type": "code",
   "execution_count": null,
   "metadata": {},
   "outputs": [],
   "source": [
    "def coupling(stateA,stateB,t):\n",
    "    x1,y1 = stateA\n",
    "    x2,y2 = stateB\n",
    "    #xdot = a1*w*x1*cos(w*t)+ y1*(a0+a1*sin(w*t)) -y2 -(x2-x1*(a0+a1*sin(w*t)))\n",
    "    xdot = a1*w*x1*cos(w*t)# + (x2-x1*a1*sin(w*t))\n",
    "    #ydot = a1*w*y1*cos(w*t) + alpha*x2**3 + beta*x2 + delta*y2 - gamma*cos(omega*t)+(a0+a1*sin(w*t))*(gamma*cos(omega*t)-alpha*x1**3-beta*x1-delta*y1) -(y2-y1*(a0+a1*sin(w*t)))\n",
    "    ydot = (a1**3)*alpha*(x1**3)*(sin(w*t)**3) + a1*sin(w*t)*(beta*x1+delta*y1) + a1*w*y1*cos(w*t) + a1*sin(w*t)*(-alpha*x1**3-beta*x1-delta*y1+gamma*cos(omega*t)) - gamma*cos(omega*t) - (y2-y1*a1*sin(w*t))\n",
    "    return asarray((xdot,ydot))"
   ]
  },
  {
   "cell_type": "markdown",
   "metadata": {},
   "source": [
    "### Simulation"
   ]
  },
  {
   "cell_type": "code",
   "execution_count": null,
   "metadata": {},
   "outputs": [],
   "source": [
    "time = 50\n",
    "delTime = .01\n",
    "timeline = arange(0.0, time, delTime)"
   ]
  },
  {
   "cell_type": "code",
   "execution_count": null,
   "metadata": {},
   "outputs": [],
   "source": [
    "stateA0 = asarray([0,0])\n",
    "stateB0 = asarray([0,0])\n",
    "stateA,stateB = simulation.evolveAB(dufffingOscillator,dufffingOscillator,stateA0,stateB0,couplingB=coupling,time=time,delTime=delTime)"
   ]
  },
  {
   "cell_type": "markdown",
   "metadata": {},
   "source": [
    "### Synchronization - order parameter"
   ]
  },
  {
   "cell_type": "code",
   "execution_count": null,
   "metadata": {},
   "outputs": [],
   "source": [
    "py.iplot([go.Scatter(x=timeline,y=stateB[:,0]/stateA[:,0]),\n",
    "         go.Scatter(x=timeline,y=stateB[:,1]/stateA[:,1])])"
   ]
  },
  {
   "cell_type": "code",
   "execution_count": null,
   "metadata": {},
   "outputs": [],
   "source": [
    "def eigenvalue1(stateA,stateB,t):\n",
    "    return -0.5*sqrt(-((a1**2)*sin(w*t)**2+1)*(12*(a1**4)*alpha*(stateA[:,0]**2)*(sin(w*t)**4) + 4*(a1**2)*beta*(sin(w*t)**2) - (a1**2)*(delta**2)*(sin(w*t)**2) + 12*alpha*(stateB[:,0]**2) + 4*beta - (delta**2))) - (delta+2)*((a1**2)*(sin(w*t)**2))/2\n",
    "\n",
    "def eigenvalue2(stateA,stateB,t):\n",
    "    return 0.5*sqrt(-((a1**2)*sin(w*t)**2+1)*(12*(a1**4)*alpha*(stateA[:,0]**2)*(sin(w*t)**4) + 4*(a1**2)*beta*(sin(w*t)**2) - (a1**2)*(delta**2)*(sin(w*t)**2) + 12*alpha*(stateB[:,0]**2) + 4*beta - (delta**2))) - (delta+2)*((a1**2)*(sin(w*t)**2))/2"
   ]
  },
  {
   "cell_type": "code",
   "execution_count": null,
   "metadata": {},
   "outputs": [],
   "source": [
    "py.iplot([go.Scatter(x=timeline,y=eigenvalue1(stateA,stateB,timeline)),\n",
    "          go.Scatter(x=timeline,y=eigenvalue2(stateA,stateB,timeline))])"
   ]
  }
 ]
}