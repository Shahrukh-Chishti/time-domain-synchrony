{
 "metadata": {
  "language_info": {
   "codemirror_mode": {
    "name": "ipython",
    "version": 3
   },
   "file_extension": ".py",
   "mimetype": "text/x-python",
   "name": "python",
   "nbconvert_exporter": "python",
   "pygments_lexer": "ipython3",
   "version": "3.8.3-final"
  },
  "orig_nbformat": 2,
  "kernelspec": {
   "name": "python_defaultSpec_1598889738524",
   "display_name": "Python 3.8.3 64-bit ('base': conda)"
  }
 },
 "nbformat": 4,
 "nbformat_minor": 2,
 "cells": [
  {
   "cell_type": "code",
   "execution_count": 1,
   "metadata": {},
   "outputs": [
    {
     "output_type": "display_data",
     "data": {
      "text/html": "        <script type=\"text/javascript\">\n        window.PlotlyConfig = {MathJaxConfig: 'local'};\n        if (window.MathJax) {MathJax.Hub.Config({SVG: {font: \"STIX-Web\"}});}\n        if (typeof require !== 'undefined') {\n        require.undef(\"plotly\");\n        requirejs.config({\n            paths: {\n                'plotly': ['https://cdn.plot.ly/plotly-latest.min']\n            }\n        });\n        require(['plotly'], function(Plotly) {\n            window._Plotly = Plotly;\n        });\n        }\n        </script>\n        "
     },
     "metadata": {}
    }
   ],
   "source": [
    "import sys,importlib\n",
    "sys.path.append('../')\n",
    "import simulation\n",
    "from numpy import *\n",
    "from sympy import *\n",
    "import plotly.offline as py\n",
    "import plotly.graph_objs as go\n",
    "%matplotlib inline\n",
    "init_printing()"
   ]
  },
  {
   "cell_type": "code",
   "execution_count": 2,
   "metadata": {},
   "outputs": [],
   "source": [
    "Variables=symbols(\"x1 y1 x2 y2\")\n",
    "x1,y1,x2,y2 = Variables\n",
    "Time=symbols(\"t\")\n",
    "t=Time\n",
    "Parameters = symbols(\"alpha beta gamma delta w a0 a1 omega epsilon\")\n",
    "alpha,beta,gamma,delta,w,a0,a1,omega,epsilon = Parameters"
   ]
  },
  {
   "cell_type": "markdown",
   "metadata": {},
   "source": [
    "### duffing system"
   ]
  },
  {
   "cell_type": "code",
   "execution_count": 3,
   "metadata": {},
   "outputs": [
    {
     "output_type": "execute_result",
     "data": {
      "text/plain": "⎡                y₁                ⎤\n⎢                                  ⎥\n⎢      3                           ⎥\n⎢- α⋅x₁  - β⋅x₁ - δ⋅y₁ + γ⋅cos(ω⋅t)⎥\n⎢                                  ⎥\n⎢                y₂                ⎥\n⎢                                  ⎥\n⎢      3                           ⎥\n⎣- α⋅x₂  - β⋅x₂ - δ⋅y₂ + γ⋅cos(ω⋅t)⎦",
      "text/latex": "$\\displaystyle \\left[\\begin{matrix}y_{1}\\\\- \\alpha x_{1}^{3} - \\beta x_{1} - \\delta y_{1} + \\gamma \\cos{\\left(\\omega t \\right)}\\\\y_{2}\\\\- \\alpha x_{2}^{3} - \\beta x_{2} - \\delta y_{2} + \\gamma \\cos{\\left(\\omega t \\right)}\\end{matrix}\\right]$"
     },
     "metadata": {},
     "execution_count": 3
    }
   ],
   "source": [
    "F=Matrix([y1, gamma*cos(omega*t) - delta*y1 - beta*x1 - alpha*x1**3,\n",
    "          y2, gamma*cos(omega*t) - delta*y2 - beta*x2 - alpha*x2**3])\n",
    "F"
   ]
  },
  {
   "cell_type": "code",
   "execution_count": 4,
   "metadata": {},
   "outputs": [
    {
     "output_type": "execute_result",
     "data": {
      "text/plain": "⎡0⎤\n⎢ ⎥\n⎢0⎥\n⎢ ⎥\n⎢0⎥\n⎢ ⎥\n⎣0⎦",
      "text/latex": "$\\displaystyle \\left[\\begin{matrix}0\\\\0\\\\0\\\\0\\end{matrix}\\right]$"
     },
     "metadata": {},
     "execution_count": 4
    }
   ],
   "source": [
    "zeta=Matrix([0,0,\n",
    "             0,0])\n",
    "zeta"
   ]
  },
  {
   "cell_type": "markdown",
   "metadata": {},
   "source": [
    "### synchrony"
   ]
  },
  {
   "cell_type": "code",
   "execution_count": 5,
   "metadata": {},
   "outputs": [
    {
     "output_type": "execute_result",
     "data": {
      "text/plain": "[-x₁⋅(a₀ + a₁⋅sin(t⋅w)) + x₂]",
      "text/latex": "$\\displaystyle \\left[\\begin{matrix}- x_{1} \\left(a_{0} + a_{1} \\sin{\\left(t w \\right)}\\right) + x_{2}\\end{matrix}\\right]$"
     },
     "metadata": {},
     "execution_count": 5
    }
   ],
   "source": [
    "phi=Matrix([(x2-x1*(a0 + a1*sin(w*t)))])\n",
    "phi"
   ]
  },
  {
   "cell_type": "code",
   "execution_count": 6,
   "metadata": {},
   "outputs": [
    {
     "output_type": "execute_result",
     "data": {
      "text/plain": "[-a₀ - a₁⋅sin(t⋅w)  0  1  0]",
      "text/latex": "$\\displaystyle \\left[\\begin{matrix}- a_{0} - a_{1} \\sin{\\left(t w \\right)} & 0 & 1 & 0\\end{matrix}\\right]$"
     },
     "metadata": {},
     "execution_count": 6
    }
   ],
   "source": [
    "N=simulation.VectorDivergence(phi,Variables)\n",
    "N"
   ]
  },
  {
   "cell_type": "code",
   "execution_count": 7,
   "metadata": {},
   "outputs": [
    {
     "output_type": "execute_result",
     "data": {
      "text/plain": "[-a₁⋅w⋅cos(t⋅w)  0  0  0]",
      "text/latex": "$\\displaystyle \\left[\\begin{matrix}- a_{1} w \\cos{\\left(t w \\right)} & 0 & 0 & 0\\end{matrix}\\right]$"
     },
     "metadata": {},
     "execution_count": 7
    }
   ],
   "source": [
    "Ndot = diff(N,Time)\n",
    "Ndot"
   ]
  },
  {
   "cell_type": "code",
   "execution_count": 8,
   "metadata": {},
   "outputs": [],
   "source": [
    "on_manifold = [(x2,x1*(a0+a1*sin(w*t)))]"
   ]
  },
  {
   "cell_type": "markdown",
   "metadata": {},
   "source": [
    "### invariance"
   ]
  },
  {
   "cell_type": "code",
   "execution_count": 9,
   "metadata": {},
   "outputs": [
    {
     "output_type": "execute_result",
     "data": {
      "text/plain": "[y₁⋅(-a₀ - a₁⋅sin(t⋅w)) + y₂]",
      "text/latex": "$\\displaystyle \\left[\\begin{matrix}y_{1} \\left(- a_{0} - a_{1} \\sin{\\left(t w \\right)}\\right) + y_{2}\\end{matrix}\\right]$"
     },
     "metadata": {},
     "execution_count": 9
    }
   ],
   "source": [
    "NF=N*(F+zeta)\n",
    "NF"
   ]
  },
  {
   "cell_type": "code",
   "execution_count": 10,
   "metadata": {},
   "outputs": [
    {
     "output_type": "execute_result",
     "data": {
      "text/plain": "[-a₁⋅w⋅x₁⋅cos(t⋅w)]",
      "text/latex": "$\\displaystyle \\left[\\begin{matrix}- a_{1} w x_{1} \\cos{\\left(t w \\right)}\\end{matrix}\\right]$"
     },
     "metadata": {},
     "execution_count": 10
    }
   ],
   "source": [
    "dPhi=diff(phi,Time)\n",
    "dPhi"
   ]
  },
  {
   "cell_type": "code",
   "execution_count": 11,
   "metadata": {},
   "outputs": [
    {
     "output_type": "execute_result",
     "data": {
      "text/plain": "[-a₁⋅w⋅x₁⋅cos(t⋅w) - y₁⋅(a₀ + a₁⋅sin(t⋅w)) + y₂]",
      "text/latex": "$\\displaystyle \\left[\\begin{matrix}- a_{1} w x_{1} \\cos{\\left(t w \\right)} - y_{1} \\left(a_{0} + a_{1} \\sin{\\left(t w \\right)}\\right) + y_{2}\\end{matrix}\\right]$"
     },
     "metadata": {},
     "execution_count": 11
    }
   ],
   "source": [
    "eqn=(NF+dPhi)\n",
    "simplify(eqn)"
   ]
  },
  {
   "cell_type": "code",
   "execution_count": 12,
   "metadata": {},
   "outputs": [
    {
     "output_type": "execute_result",
     "data": {
      "text/plain": "⎡                      0                      ⎤\n⎢                                             ⎥\n⎢                      0                      ⎥\n⎢                                             ⎥\n⎢a₁⋅w⋅x₁⋅cos(t⋅w) + y₁⋅(a₀ + a₁⋅sin(t⋅w)) - y₂⎥\n⎢                                             ⎥\n⎣                      0                      ⎦",
      "text/latex": "$\\displaystyle \\left[\\begin{matrix}0\\\\0\\\\a_{1} w x_{1} \\cos{\\left(t w \\right)} + y_{1} \\left(a_{0} + a_{1} \\sin{\\left(t w \\right)}\\right) - y_{2}\\\\0\\end{matrix}\\right]$"
     },
     "metadata": {},
     "execution_count": 12
    }
   ],
   "source": [
    "zeta[2]=-(eqn)[0]\n",
    "simplify(zeta)"
   ]
  },
  {
   "cell_type": "code",
   "execution_count": 13,
   "metadata": {},
   "outputs": [
    {
     "output_type": "execute_result",
     "data": {
      "text/plain": "⎡                      0                       ⎤\n⎢                                              ⎥\n⎢                      0                       ⎥\n⎢                                              ⎥\n⎢a₁⋅w⋅x₁⋅cos(t⋅w) - y₁⋅(-a₀ - a₁⋅sin(t⋅w)) - y₂⎥\n⎢                                              ⎥\n⎣                      0                       ⎦",
      "text/latex": "$\\displaystyle \\left[\\begin{matrix}0\\\\0\\\\a_{1} w x_{1} \\cos{\\left(t w \\right)} - y_{1} \\left(- a_{0} - a_{1} \\sin{\\left(t w \\right)}\\right) - y_{2}\\\\0\\end{matrix}\\right]$"
     },
     "metadata": {},
     "execution_count": 13
    }
   ],
   "source": [
    "zeta=zeta.subs(on_manifold)\n",
    "zeta"
   ]
  },
  {
   "cell_type": "code",
   "execution_count": 36,
   "metadata": {},
   "outputs": [
    {
     "output_type": "execute_result",
     "data": {
      "text/plain": "⎡                   y₂                   ⎤\n⎢            ────────────────            ⎥\n⎢            a₀ + a₁⋅sin(t⋅w)            ⎥\n⎢                                        ⎥\n⎢                   0                    ⎥\n⎢                                        ⎥\n⎢a₁⋅w⋅x₁⋅cos(t⋅w) + y₁⋅(a₀ + a₁⋅sin(t⋅w))⎥\n⎢                                        ⎥\n⎣                   0                    ⎦",
      "text/latex": "$\\displaystyle \\left[\\begin{matrix}\\frac{y_{2}}{a_{0} + a_{1} \\sin{\\left(t w \\right)}}\\\\0\\\\a_{1} w x_{1} \\cos{\\left(t w \\right)} + y_{1} \\left(a_{0} + a_{1} \\sin{\\left(t w \\right)}\\right)\\\\0\\end{matrix}\\right]$"
     },
     "metadata": {},
     "execution_count": 36
    }
   ],
   "source": [
    "zeta_bidir=Matrix([y2/(a0+a1*sin(w*t)),0,y1*(a0+a1*sin(w*t))+a1*x1*w*cos(w*t),0])\n",
    "zeta_bidir"
   ]
  },
  {
   "cell_type": "code",
   "execution_count": 37,
   "metadata": {},
   "outputs": [
    {
     "output_type": "execute_result",
     "data": {
      "text/plain": "[a₁⋅w⋅x₁⋅cos(t⋅w)]",
      "text/latex": "$\\displaystyle \\left[\\begin{matrix}a_{1} w x_{1} \\cos{\\left(t w \\right)}\\end{matrix}\\right]$"
     },
     "metadata": {},
     "execution_count": 37
    }
   ],
   "source": [
    "NF=N*(F+zeta_bidir)\n",
    "simplify(NF)"
   ]
  },
  {
   "cell_type": "code",
   "execution_count": 43,
   "metadata": {},
   "outputs": [
    {
     "output_type": "execute_result",
     "data": {
      "text/plain": "[0]",
      "text/latex": "$\\displaystyle \\left[\\begin{matrix}0\\end{matrix}\\right]$"
     },
     "metadata": {},
     "execution_count": 43
    }
   ],
   "source": [
    "zeta=zeta_bidir\n",
    "NF=N*(F+zeta)\n",
    "simplify(NF)\n",
    "simplify(NF+dPhi).subs(on_manifold)"
   ]
  },
  {
   "cell_type": "code",
   "execution_count": 44,
   "metadata": {},
   "outputs": [
    {
     "output_type": "execute_result",
     "data": {
      "text/plain": "⎡                                           y₂⋅(-a₀ - a₁⋅sin(t⋅w))⎤\n⎢a₁⋅w⋅x₁⋅cos(t⋅w) + y₁⋅(a₀ + a₁⋅sin(t⋅w)) + ──────────────────────⎥\n⎣                                              a₀ + a₁⋅sin(t⋅w)   ⎦",
      "text/latex": "$\\displaystyle \\left[\\begin{matrix}a_{1} w x_{1} \\cos{\\left(t w \\right)} + y_{1} \\left(a_{0} + a_{1} \\sin{\\left(t w \\right)}\\right) + \\frac{y_{2} \\left(- a_{0} - a_{1} \\sin{\\left(t w \\right)}\\right)}{a_{0} + a_{1} \\sin{\\left(t w \\right)}}\\end{matrix}\\right]$"
     },
     "metadata": {},
     "execution_count": 44
    }
   ],
   "source": [
    "NZ=N*zeta\n",
    "NZ"
   ]
  },
  {
   "cell_type": "markdown",
   "metadata": {},
   "source": [
    "### stability"
   ]
  },
  {
   "cell_type": "code",
   "execution_count": 58,
   "metadata": {},
   "outputs": [
    {
     "output_type": "execute_result",
     "data": {
      "text/plain": "⎡            0             ⎤\n⎢                          ⎥\n⎢            0             ⎥\n⎢                          ⎥\n⎢x₁⋅(a₀ + a₁⋅sin(t⋅w)) - x₂⎥\n⎢                          ⎥\n⎣            0             ⎦",
      "text/latex": "$\\displaystyle \\left[\\begin{matrix}0\\\\0\\\\x_{1} \\left(a_{0} + a_{1} \\sin{\\left(t w \\right)}\\right) - x_{2}\\\\0\\end{matrix}\\right]$"
     },
     "metadata": {},
     "execution_count": 58
    }
   ],
   "source": [
    "chi=Matrix([0,0,-1,0])*phi\n",
    "chi"
   ]
  },
  {
   "cell_type": "code",
   "execution_count": 59,
   "metadata": {},
   "outputs": [
    {
     "output_type": "execute_result",
     "data": {
      "text/plain": "⎡                    2    ⎤\n⎣- (a₀ + a₁⋅sin(t⋅w))  - 1⎦",
      "text/latex": "$\\displaystyle \\left[\\begin{matrix}- \\left(a_{0} + a_{1} \\sin{\\left(t w \\right)}\\right)^{2} - 1\\end{matrix}\\right]$"
     },
     "metadata": {},
     "execution_count": 59
    }
   ],
   "source": [
    "J=simplify((Ndot+simulation.VectorDivergence(N*(F+zeta+chi),Variables))*N.transpose())\n",
    "J"
   ]
  },
  {
   "cell_type": "code",
   "execution_count": null,
   "metadata": {},
   "outputs": [],
   "source": []
  },
  {
   "cell_type": "code",
   "execution_count": null,
   "metadata": {},
   "outputs": [],
   "source": []
  },
  {
   "cell_type": "code",
   "execution_count": null,
   "metadata": {},
   "outputs": [],
   "source": []
  }
 ]
}